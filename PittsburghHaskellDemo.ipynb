{
 "cells": [
  {
   "cell_type": "markdown",
   "metadata": {},
   "source": [
    "# Interactive computing with live notebooks: IHaskell demo and workshop"
   ]
  },
  {
   "cell_type": "markdown",
   "metadata": {},
   "source": [
    "[Franklin Chen](http://franklinchen.com/)\n",
    "\n",
    "March 9, 2015"
   ]
  },
  {
   "cell_type": "markdown",
   "metadata": {},
   "source": [
    "## [Pittsburgh Haskell](http://PittsburghHaskell.org/)"
   ]
  },
  {
   "cell_type": "markdown",
   "metadata": {},
   "source": [
    "<img src=\"https://raw.githubusercontent.com/pittsburgh-haskell/pittsburgh-haskell-logo/master/pittsburgh-haskell-256.png\" width=\"180\" height=\"180\"/>"
   ]
  },
  {
   "cell_type": "markdown",
   "metadata": {},
   "source": [
    "## [Code and Supply](http://CodeAndSupply.co/)"
   ]
  },
  {
   "cell_type": "markdown",
   "metadata": {},
   "source": [
    "<img src=\"http://static1.squarespace.com/static/538f3cc8e4b00f52172b5560/t/53d83b54e4b02f0d5e5cf44f/1425582033325/?format=1500w\" width=\"256\" height=\"256\"/>"
   ]
  },
  {
   "cell_type": "markdown",
   "metadata": {},
   "source": [
    "(Those were examples of embedding [Markdown](http://daringfireball.net/projects/markdown/) in notebooks.)"
   ]
  },
  {
   "cell_type": "markdown",
   "metadata": {},
   "source": [
    "## Keyboard shortcuts!"
   ]
  },
  {
   "cell_type": "markdown",
   "metadata": {},
   "source": [
    "**Control-m h** brings up a helpful cheat sheet of keyboard shortcuts."
   ]
  },
  {
   "cell_type": "markdown",
   "metadata": {},
   "source": [
    "## First examples of usage"
   ]
  },
  {
   "cell_type": "markdown",
   "metadata": {},
   "source": [
    "### Expressions"
   ]
  },
  {
   "cell_type": "markdown",
   "metadata": {},
   "source": [
    "A single expression results in its\n",
    "- evaluation\n",
    "- display (which can be customized)"
   ]
  },
  {
   "cell_type": "code",
   "execution_count": 1,
   "metadata": {
    "collapsed": false
   },
   "outputs": [
    {
     "data": {
      "text/plain": [
       "14"
      ]
     },
     "metadata": {},
     "output_type": "display_data"
    }
   ],
   "source": [
    "5 + 9 "
   ]
  },
  {
   "cell_type": "markdown",
   "metadata": {},
   "source": [
    "A cell can have multiple expressions."
   ]
  },
  {
   "cell_type": "code",
   "execution_count": 2,
   "metadata": {
    "collapsed": false
   },
   "outputs": [
    {
     "data": {
      "text/plain": [
       "\"hello, world\""
      ]
     },
     "metadata": {},
     "output_type": "display_data"
    },
    {
     "data": {
      "text/plain": [
       "\"OK\""
      ]
     },
     "metadata": {},
     "output_type": "display_data"
    }
   ],
   "source": [
    "\"hello, \" ++ \"world\"\n",
    "\n",
    "if length \"silly\" > 100\n",
    "  then \"nonsense\"\n",
    "  else \"OK\""
   ]
  },
  {
   "cell_type": "markdown",
   "metadata": {},
   "source": [
    "### Bindings"
   ]
  },
  {
   "cell_type": "markdown",
   "metadata": {},
   "source": [
    "Bindings may be made, and interleaved with expressions."
   ]
  },
  {
   "cell_type": "code",
   "execution_count": 3,
   "metadata": {
    "collapsed": false
   },
   "outputs": [
    {
     "data": {
      "text/plain": [
       "\"hello, Lisa\""
      ]
     },
     "metadata": {},
     "output_type": "display_data"
    }
   ],
   "source": [
    "greet personName = \"hello, \" ++ personName\n",
    "\n",
    "lisaGreeting = greet \"Lisa\"\n",
    "\n",
    "lisaGreeting"
   ]
  },
  {
   "cell_type": "code",
   "execution_count": 4,
   "metadata": {
    "collapsed": false
   },
   "outputs": [
    {
     "data": {
      "text/plain": [
       "\"hello, John\""
      ]
     },
     "metadata": {},
     "output_type": "display_data"
    }
   ],
   "source": [
    "greet \"John\""
   ]
  },
  {
   "cell_type": "markdown",
   "metadata": {},
   "source": [
    "### IO"
   ]
  },
  {
   "cell_type": "markdown",
   "metadata": {},
   "source": [
    "IO can be performed just as in GHCi."
   ]
  },
  {
   "cell_type": "code",
   "execution_count": 5,
   "metadata": {
    "collapsed": false
   },
   "outputs": [
    {
     "data": {
      "text/plain": [
       "I am printing to standard output"
      ]
     },
     "metadata": {},
     "output_type": "display_data"
    }
   ],
   "source": [
    "putStrLn \"I am printing to standard output\""
   ]
  },
  {
   "cell_type": "markdown",
   "metadata": {},
   "source": [
    "Note that re-evaluating a stateful computation in the `IO` context will update the output accordingly.\n",
    "\n",
    "Below, we use an API from the [`time`](http://hackage.haskell.org/package/time-1.5.0.1/docs/Data-Time-Clock.html) package where\n",
    "\n",
    "```haskell\n",
    "getCurrentTime :: IO UTCTime\n",
    "```\n",
    "\n",
    "when evaluated in the `IO` context returns a `UTCTime`."
   ]
  },
  {
   "cell_type": "code",
   "execution_count": 6,
   "metadata": {
    "collapsed": false
   },
   "outputs": [
    {
     "data": {
      "text/plain": [
       "2015-03-08 06:54:44.707099 UTC"
      ]
     },
     "metadata": {},
     "output_type": "display_data"
    }
   ],
   "source": [
    "import Data.Time.Clock (getCurrentTime)\n",
    "\n",
    "now <- getCurrentTime\n",
    "print now"
   ]
  },
  {
   "cell_type": "markdown",
   "metadata": {},
   "source": [
    "Long-running computation with incremental output can be done."
   ]
  },
  {
   "cell_type": "code",
   "execution_count": 7,
   "metadata": {
    "collapsed": false
   },
   "outputs": [
    {
     "data": {
      "text/plain": [
       "1\n",
       "2\n",
       "3\n",
       "4\n",
       "5"
      ]
     },
     "metadata": {},
     "output_type": "display_data"
    }
   ],
   "source": [
    "import Control.Monad (forM_)\n",
    "import Control.Concurrent (threadDelay)\n",
    "\n",
    "forM_ [1..5] $ \\x -> do\n",
    "  print x\n",
    "  threadDelay $ 800 * 1000"
   ]
  },
  {
   "cell_type": "markdown",
   "metadata": {},
   "source": [
    "\n",
    "## Informational features"
   ]
  },
  {
   "cell_type": "markdown",
   "metadata": {},
   "source": [
    "You can ask for the type of something."
   ]
  },
  {
   "cell_type": "code",
   "execution_count": 8,
   "metadata": {
    "collapsed": false
   },
   "outputs": [
    {
     "data": {
      "text/html": [
       "<style>/*\n",
       "Custom IHaskell CSS.\n",
       "*/\n",
       "\n",
       "/* Styles used for the Hoogle display in the pager */\n",
       ".hoogle-doc {\n",
       "    display: block;\n",
       "    padding-bottom: 1.3em;\n",
       "    padding-left: 0.4em;\n",
       "}\n",
       ".hoogle-code {\n",
       "    display: block;\n",
       "    font-family: monospace;\n",
       "    white-space: pre;\n",
       "}\n",
       ".hoogle-text {\n",
       "    display: block;\n",
       "}\n",
       ".hoogle-name {\n",
       "    color: green;\n",
       "    font-weight: bold;\n",
       "}\n",
       ".hoogle-head {\n",
       "    font-weight: bold;\n",
       "}\n",
       ".hoogle-sub {\n",
       "    display: block;\n",
       "    margin-left: 0.4em;\n",
       "}\n",
       ".hoogle-package {\n",
       "    font-weight: bold;\n",
       "    font-style: italic;\n",
       "}\n",
       ".hoogle-module {\n",
       "    font-weight: bold;\n",
       "}\n",
       ".hoogle-class {\n",
       "    font-weight: bold;\n",
       "}\n",
       "\n",
       "/* Styles used for basic displays */\n",
       ".get-type {\n",
       "    color: green;\n",
       "    font-weight: bold;\n",
       "    font-family: monospace;\n",
       "    display: block;\n",
       "    white-space: pre;\n",
       "}\n",
       "\n",
       ".show-type {\n",
       "    color: green;\n",
       "    font-weight: bold;\n",
       "    font-family: monospace;\n",
       "    margin-left: 1em;\n",
       "}\n",
       "\n",
       ".mono {\n",
       "    font-family: monospace;\n",
       "    display: block;\n",
       "}\n",
       "\n",
       ".err-msg {\n",
       "    color: red;\n",
       "    font-style: italic;\n",
       "    font-family: monospace;\n",
       "    white-space: pre;\n",
       "    display: block;\n",
       "}\n",
       "\n",
       "#unshowable {\n",
       "    color: red;\n",
       "    font-weight: bold;\n",
       "}\n",
       "\n",
       ".err-msg.in.collapse {\n",
       "  padding-top: 0.7em;\n",
       "}\n",
       "\n",
       "/* Code that will get highlighted before it is highlighted */\n",
       ".highlight-code {\n",
       "    white-space: pre;\n",
       "    font-family: monospace;\n",
       "}\n",
       "\n",
       "/* Hlint styles */\n",
       ".suggestion-warning { \n",
       "    font-weight: bold;\n",
       "    color: rgb(200, 130, 0);\n",
       "}\n",
       ".suggestion-error { \n",
       "    font-weight: bold;\n",
       "    color: red;\n",
       "}\n",
       ".suggestion-name {\n",
       "    font-weight: bold;\n",
       "}\n",
       "</style><span class='get-type'>[(\"hello\", True), (\"world\", False)] :: [([Char], Bool)]</span>"
      ],
      "text/plain": [
       "[(\"hello\", True), (\"world\", False)] :: [([Char], Bool)]"
      ]
     },
     "metadata": {},
     "output_type": "display_data"
    }
   ],
   "source": [
    ":t [(\"hello\", True), (\"world\", False)]"
   ]
  },
  {
   "cell_type": "code",
   "execution_count": 9,
   "metadata": {
    "collapsed": false
   },
   "outputs": [
    {
     "data": {
      "text/html": [
       "<style>/*\n",
       "Custom IHaskell CSS.\n",
       "*/\n",
       "\n",
       "/* Styles used for the Hoogle display in the pager */\n",
       ".hoogle-doc {\n",
       "    display: block;\n",
       "    padding-bottom: 1.3em;\n",
       "    padding-left: 0.4em;\n",
       "}\n",
       ".hoogle-code {\n",
       "    display: block;\n",
       "    font-family: monospace;\n",
       "    white-space: pre;\n",
       "}\n",
       ".hoogle-text {\n",
       "    display: block;\n",
       "}\n",
       ".hoogle-name {\n",
       "    color: green;\n",
       "    font-weight: bold;\n",
       "}\n",
       ".hoogle-head {\n",
       "    font-weight: bold;\n",
       "}\n",
       ".hoogle-sub {\n",
       "    display: block;\n",
       "    margin-left: 0.4em;\n",
       "}\n",
       ".hoogle-package {\n",
       "    font-weight: bold;\n",
       "    font-style: italic;\n",
       "}\n",
       ".hoogle-module {\n",
       "    font-weight: bold;\n",
       "}\n",
       ".hoogle-class {\n",
       "    font-weight: bold;\n",
       "}\n",
       "\n",
       "/* Styles used for basic displays */\n",
       ".get-type {\n",
       "    color: green;\n",
       "    font-weight: bold;\n",
       "    font-family: monospace;\n",
       "    display: block;\n",
       "    white-space: pre;\n",
       "}\n",
       "\n",
       ".show-type {\n",
       "    color: green;\n",
       "    font-weight: bold;\n",
       "    font-family: monospace;\n",
       "    margin-left: 1em;\n",
       "}\n",
       "\n",
       ".mono {\n",
       "    font-family: monospace;\n",
       "    display: block;\n",
       "}\n",
       "\n",
       ".err-msg {\n",
       "    color: red;\n",
       "    font-style: italic;\n",
       "    font-family: monospace;\n",
       "    white-space: pre;\n",
       "    display: block;\n",
       "}\n",
       "\n",
       "#unshowable {\n",
       "    color: red;\n",
       "    font-weight: bold;\n",
       "}\n",
       "\n",
       ".err-msg.in.collapse {\n",
       "  padding-top: 0.7em;\n",
       "}\n",
       "\n",
       "/* Code that will get highlighted before it is highlighted */\n",
       ".highlight-code {\n",
       "    white-space: pre;\n",
       "    font-family: monospace;\n",
       "}\n",
       "\n",
       "/* Hlint styles */\n",
       ".suggestion-warning { \n",
       "    font-weight: bold;\n",
       "    color: rgb(200, 130, 0);\n",
       "}\n",
       ".suggestion-error { \n",
       "    font-weight: bold;\n",
       "    color: red;\n",
       "}\n",
       ".suggestion-name {\n",
       "    font-weight: bold;\n",
       "}\n",
       "</style><span class='get-type'>map :: forall a b. (a -> b) -> [a] -> [b]</span>"
      ],
      "text/plain": [
       "map :: forall a b. (a -> b) -> [a] -> [b]"
      ]
     },
     "metadata": {},
     "output_type": "display_data"
    }
   ],
   "source": [
    ":t map"
   ]
  },
  {
   "cell_type": "markdown",
   "metadata": {},
   "source": [
    "You can look up documentation.\n",
    "\n",
    "Normally, this goes into a nice pager pane that you can dismiss, but for now, let's turn off the pager."
   ]
  },
  {
   "cell_type": "code",
   "execution_count": 10,
   "metadata": {
    "collapsed": true
   },
   "outputs": [],
   "source": [
    ":opt no-pager"
   ]
  },
  {
   "cell_type": "code",
   "execution_count": 11,
   "metadata": {
    "collapsed": false
   },
   "outputs": [
    {
     "data": {},
     "metadata": {},
     "output_type": "display_data"
    },
    {
     "data": {
      "text/html": [
       "<style>/*\n",
       "Custom IHaskell CSS.\n",
       "*/\n",
       "\n",
       "/* Styles used for the Hoogle display in the pager */\n",
       ".hoogle-doc {\n",
       "    display: block;\n",
       "    padding-bottom: 1.3em;\n",
       "    padding-left: 0.4em;\n",
       "}\n",
       ".hoogle-code {\n",
       "    display: block;\n",
       "    font-family: monospace;\n",
       "    white-space: pre;\n",
       "}\n",
       ".hoogle-text {\n",
       "    display: block;\n",
       "}\n",
       ".hoogle-name {\n",
       "    color: green;\n",
       "    font-weight: bold;\n",
       "}\n",
       ".hoogle-head {\n",
       "    font-weight: bold;\n",
       "}\n",
       ".hoogle-sub {\n",
       "    display: block;\n",
       "    margin-left: 0.4em;\n",
       "}\n",
       ".hoogle-package {\n",
       "    font-weight: bold;\n",
       "    font-style: italic;\n",
       "}\n",
       ".hoogle-module {\n",
       "    font-weight: bold;\n",
       "}\n",
       ".hoogle-class {\n",
       "    font-weight: bold;\n",
       "}\n",
       "\n",
       "/* Styles used for basic displays */\n",
       ".get-type {\n",
       "    color: green;\n",
       "    font-weight: bold;\n",
       "    font-family: monospace;\n",
       "    display: block;\n",
       "    white-space: pre;\n",
       "}\n",
       "\n",
       ".show-type {\n",
       "    color: green;\n",
       "    font-weight: bold;\n",
       "    font-family: monospace;\n",
       "    margin-left: 1em;\n",
       "}\n",
       "\n",
       ".mono {\n",
       "    font-family: monospace;\n",
       "    display: block;\n",
       "}\n",
       "\n",
       ".err-msg {\n",
       "    color: red;\n",
       "    font-style: italic;\n",
       "    font-family: monospace;\n",
       "    white-space: pre;\n",
       "    display: block;\n",
       "}\n",
       "\n",
       "#unshowable {\n",
       "    color: red;\n",
       "    font-weight: bold;\n",
       "}\n",
       "\n",
       ".err-msg.in.collapse {\n",
       "  padding-top: 0.7em;\n",
       "}\n",
       "\n",
       "/* Code that will get highlighted before it is highlighted */\n",
       ".highlight-code {\n",
       "    white-space: pre;\n",
       "    font-family: monospace;\n",
       "}\n",
       "\n",
       "/* Hlint styles */\n",
       ".suggestion-warning { \n",
       "    font-weight: bold;\n",
       "    color: rgb(200, 130, 0);\n",
       "}\n",
       ".suggestion-error { \n",
       "    font-weight: bold;\n",
       "    color: red;\n",
       "}\n",
       ".suggestion-name {\n",
       "    font-weight: bold;\n",
       "}\n",
       "</style><span class='hoogle-name'><a target='_blank' href='http://hackage.haskell.org/packages/archive/base/latest/doc/html/Prelude.html#v:concat'>concat</a> &#x2237; [[a]] &#x2192; [a]</span><span class='hoogle-sub'>(<span class='hoogle-head'>package</span> <span class='hoogle-package'>base</span>, <span class='hoogle-head'>module</span> <span class='hoogle-module'>Prelude</span>)</span><div class='hoogle-doc'><div class='hoogle-text'>Concatenate a list of lists. \n",
       "</div>\n",
       "</div>\n",
       "<span class='hoogle-name'><a target='_blank' href='http://hackage.haskell.org/packages/archive/base/latest/doc/html/Data-Foldable.html#v:concat'>concat</a> &#x2237; Foldable t &#x21D2; t [a] &#x2192; [a]</span><span class='hoogle-sub'>(<span class='hoogle-head'>package</span> <span class='hoogle-package'>base</span>, <span class='hoogle-head'>module</span> <span class='hoogle-module'>Data.Foldable</span>)</span><div class='hoogle-doc'><div class='hoogle-text'>The concatenation of all the elements of a container of lists. \n",
       "</div>\n",
       "</div>\n",
       "<span class='hoogle-name'><a target='_blank' href='http://hackage.haskell.org/packages/archive/bytestring/latest/doc/html/Data-ByteString.html#v:concat'>concat</a> &#x2237; [ByteString] &#x2192; ByteString</span><span class='hoogle-sub'>(<span class='hoogle-head'>package</span> <span class='hoogle-package'>bytestring</span>, <span class='hoogle-head'>module</span> <span class='hoogle-module'>Data.ByteString</span>)</span><div class='hoogle-doc'><div class='hoogle-text'>O(n) Concatenate a list of ByteStrings. \n",
       "</div>\n",
       "</div>\n",
       "<span class='hoogle-name'><a target='_blank' href='http://hackage.haskell.org/packages/archive/text/latest/doc/html/Data-Text.html#v:concat'>concat</a> &#x2237; [Text] &#x2192; Text</span><span class='hoogle-sub'>(<span class='hoogle-head'>package</span> <span class='hoogle-package'>text</span>, <span class='hoogle-head'>module</span> <span class='hoogle-module'>Data.Text</span>)</span><div class='hoogle-doc'><div class='hoogle-text'>O(n) Concatenate a list of Texts. \n",
       "</div>\n",
       "</div>\n"
      ]
     },
     "metadata": {},
     "output_type": "display_data"
    }
   ],
   "source": [
    ":doc concat"
   ]
  },
  {
   "cell_type": "markdown",
   "metadata": {},
   "source": [
    "Use Hoogle to search for something by type signature."
   ]
  },
  {
   "cell_type": "code",
   "execution_count": 12,
   "metadata": {
    "collapsed": false
   },
   "outputs": [
    {
     "data": {},
     "metadata": {},
     "output_type": "display_data"
    },
    {
     "data": {
      "text/html": [
       "<style>/*\n",
       "Custom IHaskell CSS.\n",
       "*/\n",
       "\n",
       "/* Styles used for the Hoogle display in the pager */\n",
       ".hoogle-doc {\n",
       "    display: block;\n",
       "    padding-bottom: 1.3em;\n",
       "    padding-left: 0.4em;\n",
       "}\n",
       ".hoogle-code {\n",
       "    display: block;\n",
       "    font-family: monospace;\n",
       "    white-space: pre;\n",
       "}\n",
       ".hoogle-text {\n",
       "    display: block;\n",
       "}\n",
       ".hoogle-name {\n",
       "    color: green;\n",
       "    font-weight: bold;\n",
       "}\n",
       ".hoogle-head {\n",
       "    font-weight: bold;\n",
       "}\n",
       ".hoogle-sub {\n",
       "    display: block;\n",
       "    margin-left: 0.4em;\n",
       "}\n",
       ".hoogle-package {\n",
       "    font-weight: bold;\n",
       "    font-style: italic;\n",
       "}\n",
       ".hoogle-module {\n",
       "    font-weight: bold;\n",
       "}\n",
       ".hoogle-class {\n",
       "    font-weight: bold;\n",
       "}\n",
       "\n",
       "/* Styles used for basic displays */\n",
       ".get-type {\n",
       "    color: green;\n",
       "    font-weight: bold;\n",
       "    font-family: monospace;\n",
       "    display: block;\n",
       "    white-space: pre;\n",
       "}\n",
       "\n",
       ".show-type {\n",
       "    color: green;\n",
       "    font-weight: bold;\n",
       "    font-family: monospace;\n",
       "    margin-left: 1em;\n",
       "}\n",
       "\n",
       ".mono {\n",
       "    font-family: monospace;\n",
       "    display: block;\n",
       "}\n",
       "\n",
       ".err-msg {\n",
       "    color: red;\n",
       "    font-style: italic;\n",
       "    font-family: monospace;\n",
       "    white-space: pre;\n",
       "    display: block;\n",
       "}\n",
       "\n",
       "#unshowable {\n",
       "    color: red;\n",
       "    font-weight: bold;\n",
       "}\n",
       "\n",
       ".err-msg.in.collapse {\n",
       "  padding-top: 0.7em;\n",
       "}\n",
       "\n",
       "/* Code that will get highlighted before it is highlighted */\n",
       ".highlight-code {\n",
       "    white-space: pre;\n",
       "    font-family: monospace;\n",
       "}\n",
       "\n",
       "/* Hlint styles */\n",
       ".suggestion-warning { \n",
       "    font-weight: bold;\n",
       "    color: rgb(200, 130, 0);\n",
       "}\n",
       ".suggestion-error { \n",
       "    font-weight: bold;\n",
       "    color: red;\n",
       "}\n",
       ".suggestion-name {\n",
       "    font-weight: bold;\n",
       "}\n",
       "</style><span class='hoogle-name'><a target='_blank' href='http://hackage.haskell.org/packages/archive/base/latest/doc/html/Prelude.html#v:map'>map</a> &#x2237; (a &#x2192; b) &#x2192; [a] &#x2192; [b]</span><span class='hoogle-sub'>(<span class='hoogle-head'>package</span> <span class='hoogle-package'>base</span>, <span class='hoogle-head'>module</span> <span class='hoogle-module'>Prelude</span>)</span><div class='hoogle-doc'><div class='hoogle-text'>map f xs is the list obtained by applying f to each element of xs, i.e.,\n",
       "</div>\n",
       "<div class='hoogle-text'></div>\n",
       "<div class='hoogle-code'>> map f [x1, x2, ..., xn] == [f x1, f x2, ..., f xn]\n",
       "> map f [x1, x2, ...] == [f x1, f x2, ...] \n",
       "</div>\n",
       "</div>\n",
       "<span class='hoogle-name'><a target='_blank' href='http://hackage.haskell.org/packages/archive/parallel/latest/doc/html/Control-Parallel-Strategies.html#v:parMap'>parMap</a> &#x2237; Strategy b &#x2192; (a &#x2192; b) &#x2192; [a] &#x2192; [b]</span><span class='hoogle-sub'>(<span class='hoogle-head'>package</span> <span class='hoogle-package'>parallel</span>, <span class='hoogle-head'>module</span> <span class='hoogle-module'>Control.Parallel.Strategies</span>)</span><div class='hoogle-doc'><div class='hoogle-text'>A combination of parList and map, encapsulating a common pattern:\n",
       "</div>\n",
       "<div class='hoogle-text'></div>\n",
       "<div class='hoogle-code'>> parMap strat f = withStrategy (parList strat) . map f \n",
       "</div>\n",
       "</div>\n",
       "<span class='hoogle-name'><a target='_blank' href='http://hackage.haskell.org/packages/archive/base/latest/doc/html/Control-Applicative.html#v:liftA'>liftA</a> &#x2237; Applicative f &#x21D2; (a &#x2192; b) &#x2192; f a &#x2192; f b</span><span class='hoogle-sub'>(<span class='hoogle-head'>package</span> <span class='hoogle-package'>base</span>, <span class='hoogle-head'>module</span> <span class='hoogle-module'>Control.Applicative</span>)</span><div class='hoogle-doc'><div class='hoogle-text'>Lift a function to actions. This function may be used as a value for fmap in a Functor instance. \n",
       "</div>\n",
       "</div>\n",
       "<span class='hoogle-name'><a target='_blank' href='http://hackage.haskell.org/packages/archive/base/latest/doc/html/Data-Traversable.html#v:fmapDefault'>fmapDefault</a> &#x2237; Traversable t &#x21D2; (a &#x2192; b) &#x2192; t a &#x2192; t b</span><span class='hoogle-sub'>(<span class='hoogle-head'>package</span> <span class='hoogle-package'>base</span>, <span class='hoogle-head'>module</span> <span class='hoogle-module'>Data.Traversable</span>)</span><div class='hoogle-doc'><div class='hoogle-text'>This function may be used as a value for fmap in a Functor instance. \n",
       "</div>\n",
       "</div>\n",
       "<span class='hoogle-name'><a target='_blank' href='http://hackage.haskell.org/packages/archive/base/latest/doc/html/Prelude.html#v:fmap'>fmap</a> &#x2237; Functor f &#x21D2; (a &#x2192; b) &#x2192; f a &#x2192; f b</span><span class='hoogle-sub'>(<span class='hoogle-head'>package</span> <span class='hoogle-package'>base</span>, <span class='hoogle-head'>module</span> <span class='hoogle-module'>Prelude</span>)</span><div class='hoogle-doc'></div>\n",
       "<span class='hoogle-name'><a target='_blank' href='http://hackage.haskell.org/packages/archive/base/latest/doc/html/Data-Functor.html#v:-60--36--62-'>(<$>)</a> &#x2237; Functor f &#x21D2; (a &#x2192; b) &#x2192; f a &#x2192; f b</span><span class='hoogle-sub'>(<span class='hoogle-head'>package</span> <span class='hoogle-package'>base</span>, <span class='hoogle-head'>module</span> <span class='hoogle-module'>Data.Functor</span>)</span><div class='hoogle-doc'><div class='hoogle-text'>An infix synonym for fmap. \n",
       "</div>\n",
       "</div>\n",
       "<span class='hoogle-name'><a target='_blank' href='http://hackage.haskell.org/packages/archive/base/latest/doc/html/Control-Monad.html#v:liftM'>liftM</a> &#x2237; Monad m &#x21D2; (a1 &#x2192; r) &#x2192; m a1 &#x2192; m r</span><span class='hoogle-sub'>(<span class='hoogle-head'>package</span> <span class='hoogle-package'>base</span>, <span class='hoogle-head'>module</span> <span class='hoogle-module'>Control.Monad</span>)</span><div class='hoogle-doc'><div class='hoogle-text'>Promote a function to a monad. \n",
       "</div>\n",
       "</div>\n",
       "<span class='hoogle-name'><a target='_blank' href='http://hackage.haskell.org/packages/archive/base/latest/doc/html/Control-Applicative.html#v:-60--42--62-'>(<*>)</a> &#x2237; Applicative f &#x21D2; f (a &#x2192; b) &#x2192; f a &#x2192; f b</span><span class='hoogle-sub'>(<span class='hoogle-head'>package</span> <span class='hoogle-package'>base</span>, <span class='hoogle-head'>module</span> <span class='hoogle-module'>Control.Applicative</span>)</span><div class='hoogle-doc'></div>\n",
       "<span class='hoogle-name'><a target='_blank' href='http://hackage.haskell.org/packages/archive/base/latest/doc/html/Control-Applicative.html#v:-60--42--42--62-'>(<**>)</a> &#x2237; Applicative f &#x21D2; f a &#x2192; f (a &#x2192; b) &#x2192; f b</span><span class='hoogle-sub'>(<span class='hoogle-head'>package</span> <span class='hoogle-package'>base</span>, <span class='hoogle-head'>module</span> <span class='hoogle-module'>Control.Applicative</span>)</span><div class='hoogle-doc'><div class='hoogle-text'>A variant of <*> with the arguments reversed. \n",
       "</div>\n",
       "</div>\n",
       "<span class='hoogle-name'><a target='_blank' href='http://hackage.haskell.org/packages/archive/base/latest/doc/html/Prelude.html#v:iterate'>iterate</a> &#x2237; (a &#x2192; a) &#x2192; a &#x2192; [a]</span><span class='hoogle-sub'>(<span class='hoogle-head'>package</span> <span class='hoogle-package'>base</span>, <span class='hoogle-head'>module</span> <span class='hoogle-module'>Prelude</span>)</span><div class='hoogle-doc'><div class='hoogle-text'>iterate f x returns an infinite list of repeated applications of f to x:\n",
       "</div>\n",
       "<div class='hoogle-text'></div>\n",
       "<div class='hoogle-code'>> iterate f x == [x, f x, f (f x), ...] \n",
       "</div>\n",
       "</div>\n",
       "<span class='hoogle-name'><a target='_blank' href='http://hackage.haskell.org/packages/archive/base/latest/doc/html/Prelude.html#v:dropWhile'>dropWhile</a> &#x2237; (a &#x2192; Bool) &#x2192; [a] &#x2192; [a]</span><span class='hoogle-sub'>(<span class='hoogle-head'>package</span> <span class='hoogle-package'>base</span>, <span class='hoogle-head'>module</span> <span class='hoogle-module'>Prelude</span>)</span><div class='hoogle-doc'><div class='hoogle-text'>dropWhile p xs returns the suffix remaining after takeWhile p xs:\n",
       "</div>\n",
       "<div class='hoogle-text'></div>\n",
       "<div class='hoogle-code'>> dropWhile (< 3) [1,2,3,4,5,1,2,3] == [3,4,5,1,2,3]\n",
       "> dropWhile (< 9) [1,2,3] == []\n",
       "> dropWhile (< 0) [1,2,3] == [1,2,3] \n",
       "</div>\n",
       "</div>\n",
       "<span class='hoogle-name'><a target='_blank' href='http://hackage.haskell.org/packages/archive/base/latest/doc/html/Prelude.html#v:filter'>filter</a> &#x2237; (a &#x2192; Bool) &#x2192; [a] &#x2192; [a]</span><span class='hoogle-sub'>(<span class='hoogle-head'>package</span> <span class='hoogle-package'>base</span>, <span class='hoogle-head'>module</span> <span class='hoogle-module'>Prelude</span>)</span><div class='hoogle-doc'><div class='hoogle-text'>filter, applied to a predicate and a list, returns the list of those elements that satisfy the predicate; i.e.,\n",
       "</div>\n",
       "<div class='hoogle-text'></div>\n",
       "<div class='hoogle-code'>> filter p xs = [ x | x <- xs, p x] \n",
       "</div>\n",
       "</div>\n",
       "<span class='hoogle-name'><a target='_blank' href='http://hackage.haskell.org/packages/archive/base/latest/doc/html/Prelude.html#v:takeWhile'>takeWhile</a> &#x2237; (a &#x2192; Bool) &#x2192; [a] &#x2192; [a]</span><span class='hoogle-sub'>(<span class='hoogle-head'>package</span> <span class='hoogle-package'>base</span>, <span class='hoogle-head'>module</span> <span class='hoogle-module'>Prelude</span>)</span><div class='hoogle-doc'><div class='hoogle-text'>takeWhile, applied to a predicate p and a list xs, returns the longest prefix (possibly empty) of xs of elements that satisfy p:\n",
       "</div>\n",
       "<div class='hoogle-text'></div>\n",
       "<div class='hoogle-code'>> takeWhile (< 3) [1,2,3,4,1,2,3,4] == [1,2]\n",
       "> takeWhile (< 9) [1,2,3] == [1,2,3]\n",
       "> takeWhile (< 0) [1,2,3] == [] \n",
       "</div>\n",
       "</div>\n",
       "<span class='hoogle-name'><a target='_blank' href='http://hackage.haskell.org/packages/archive/base/latest/doc/html/Prelude.html#v:-36-'>($)</a> &#x2237; (a &#x2192; b) &#x2192; a &#x2192; b</span><span class='hoogle-sub'>(<span class='hoogle-head'>package</span> <span class='hoogle-package'>base</span>, <span class='hoogle-head'>module</span> <span class='hoogle-module'>Prelude</span>)</span><div class='hoogle-doc'><div class='hoogle-text'>Application operator. This operator is redundant, since ordinary application (f x) means the same as (f $ x). However, $ has low, right-associative binding precedence, so it sometimes allows parentheses to be omitted; for example:\n",
       "</div>\n",
       "<div class='hoogle-text'></div>\n",
       "<div class='hoogle-code'>> f $ g $ h x = f (g (h x))\n",
       "</div>\n",
       "<div class='hoogle-text'></div>\n",
       "<div class='hoogle-text'>It is also useful in higher-order situations, such as map ($ 0) xs, or Data.List.zipWith ($) fs xs. \n",
       "</div>\n",
       "</div>\n",
       "<span class='hoogle-name'><a target='_blank' href='http://hackage.haskell.org/packages/archive/base/latest/doc/html/Prelude.html#v:-36--33-'>($!)</a> &#x2237; (a &#x2192; b) &#x2192; a &#x2192; b</span><span class='hoogle-sub'>(<span class='hoogle-head'>package</span> <span class='hoogle-package'>base</span>, <span class='hoogle-head'>module</span> <span class='hoogle-module'>Prelude</span>)</span><div class='hoogle-doc'><div class='hoogle-text'>Strict (call-by-value) application, defined in terms of seq. \n",
       "</div>\n",
       "</div>\n",
       "<span class='hoogle-name'><a target='_blank' href='http://hackage.haskell.org/packages/archive/base/latest/doc/html/Prelude.html#v:all'>all</a> &#x2237; (a &#x2192; Bool) &#x2192; [a] &#x2192; Bool</span><span class='hoogle-sub'>(<span class='hoogle-head'>package</span> <span class='hoogle-package'>base</span>, <span class='hoogle-head'>module</span> <span class='hoogle-module'>Prelude</span>)</span><div class='hoogle-doc'><div class='hoogle-text'>Applied to a predicate and a list, all determines if all elements of the list satisfy the predicate. For the result to be True, the list must be finite; False, however, results from a False value for the predicate applied to an element at a finite index of a finite or infinite list. \n",
       "</div>\n",
       "</div>\n",
       "<span class='hoogle-name'><a target='_blank' href='http://hackage.haskell.org/packages/archive/base/latest/doc/html/Prelude.html#v:any'>any</a> &#x2237; (a &#x2192; Bool) &#x2192; [a] &#x2192; Bool</span><span class='hoogle-sub'>(<span class='hoogle-head'>package</span> <span class='hoogle-package'>base</span>, <span class='hoogle-head'>module</span> <span class='hoogle-module'>Prelude</span>)</span><div class='hoogle-doc'><div class='hoogle-text'>Applied to a predicate and a list, any determines if any element of the list satisfies the predicate. For the result to be False, the list must be finite; True, however, results from a True value for the predicate applied to an element at a finite index of a finite or infinite list. \n",
       "</div>\n",
       "</div>\n",
       "<span class='hoogle-name'><a target='_blank' href='http://hackage.haskell.org/packages/archive/base/latest/doc/html/Control-Monad.html#v:ap'>ap</a> &#x2237; Monad m &#x21D2; m (a &#x2192; b) &#x2192; m a &#x2192; m b</span><span class='hoogle-sub'>(<span class='hoogle-head'>package</span> <span class='hoogle-package'>base</span>, <span class='hoogle-head'>module</span> <span class='hoogle-module'>Control.Monad</span>)</span><div class='hoogle-doc'><div class='hoogle-text'>In many situations, the liftM operations can be replaced by uses of ap, which promotes function application.\n",
       "</div>\n",
       "<div class='hoogle-text'></div>\n",
       "<div class='hoogle-code'>> return f `ap` x1 `ap` ... `ap` xn\n",
       "</div>\n",
       "<div class='hoogle-text'></div>\n",
       "<div class='hoogle-text'>is equivalent to\n",
       "</div>\n",
       "<div class='hoogle-text'></div>\n",
       "<div class='hoogle-code'>> liftMn f x1 x2 ... xn \n",
       "</div>\n",
       "</div>\n",
       "<span class='hoogle-name'><a target='_blank' href='http://hackage.haskell.org/packages/archive/base/latest/doc/html/GHC-Exts.html#v:sortWith'>sortWith</a> &#x2237; Ord b &#x21D2; (a &#x2192; b) &#x2192; [a] &#x2192; [a]</span><span class='hoogle-sub'>(<span class='hoogle-head'>package</span> <span class='hoogle-package'>base</span>, <span class='hoogle-head'>module</span> <span class='hoogle-module'>GHC.Exts</span>)</span><div class='hoogle-doc'><div class='hoogle-text'>The sortWith function sorts a list of elements using the user supplied function to project something out of each element \n",
       "</div>\n",
       "</div>\n",
       "<span class='hoogle-name'><a target='_blank' href='http://hackage.haskell.org/packages/archive/base/latest/doc/html/Data-Traversable.html#v:foldMapDefault'>foldMapDefault</a> &#x2237; (Traversable t, Monoid m) &#x21D2; (a &#x2192; m) &#x2192; t a &#x2192; m</span><span class='hoogle-sub'>(<span class='hoogle-head'>package</span> <span class='hoogle-package'>base</span>, <span class='hoogle-head'>module</span> <span class='hoogle-module'>Data.Traversable</span>)</span><div class='hoogle-doc'><div class='hoogle-text'>This function may be used as a value for Data.Foldable.foldMap in a Foldable instance. \n",
       "</div>\n",
       "</div>\n"
      ]
     },
     "metadata": {},
     "output_type": "display_data"
    }
   ],
   "source": [
    ":hoogle (a -> b) -> [a] -> [b]"
   ]
  },
  {
   "cell_type": "markdown",
   "metadata": {},
   "source": [
    "## Custom displays of data types"
   ]
  },
  {
   "cell_type": "markdown",
   "metadata": {},
   "source": [
    "Now, for the fun part of IHaskell, improving visualization!"
   ]
  },
  {
   "cell_type": "markdown",
   "metadata": {},
   "source": [
    "### Defining data types"
   ]
  },
  {
   "cell_type": "markdown",
   "metadata": {},
   "source": [
    "[Example code](https://github.com/pittsburgh-haskell/haskell-intro-session/blob/master/src/Tutorial.hs) from the [first Pittsburgh Haskell session in February](http://www.meetup.com/Pittsburgh-Code-Supply/events/219254888)."
   ]
  },
  {
   "cell_type": "code",
   "execution_count": 13,
   "metadata": {
    "collapsed": true
   },
   "outputs": [],
   "source": [
    "-- | Type synonym: just syntactic alias\n",
    "type AccountNumber = Int\n",
    "\n",
    "-- | Type synonym: just syntactic alias\n",
    "type Why = String\n",
    "\n",
    "-- | 'Yes' variant has 2 fields, 'No' has 1 field,\n",
    "-- 'Ignore' has 0 fields\n",
    "data OptIn =\n",
    "    Yes AccountNumber -- ^ user submitted account number\n",
    "  | No Why            -- ^ user submitted a reason not to opt in\n",
    "  | Ignore            -- ^ user filled in nothing\n",
    "    deriving (Show)"
   ]
  },
  {
   "cell_type": "code",
   "execution_count": 14,
   "metadata": {
    "collapsed": true
   },
   "outputs": [],
   "source": [
    "-- | Did the user respond?\n",
    "userResponded :: OptIn -> Bool\n",
    "userResponded response =\n",
    "  case response of\n",
    "    Yes _  -> True\n",
    "    No _   -> True\n",
    "    Ignore -> False"
   ]
  },
  {
   "cell_type": "code",
   "execution_count": 15,
   "metadata": {
    "collapsed": false
   },
   "outputs": [],
   "source": [
    "-- | I love getting spam.\n",
    "violateMyPrivacy :: OptIn\n",
    "violateMyPrivacy = Yes 1234\n",
    "\n",
    "-- | Take me off your list.\n",
    "refuseIt :: OptIn\n",
    "refuseIt = No \"no thanks\"\n",
    "\n",
    "userActions :: [OptIn]\n",
    "userActions = [Ignore, violateMyPrivacy, refuseIt, Ignore]\n",
    "\n",
    "userResponses = filter userResponded userActions"
   ]
  },
  {
   "cell_type": "markdown",
   "metadata": {
    "collapsed": false
   },
   "source": [
    "The default display, uses the `Show` instance we derived, which is what `print` uses, is a little boring, perhaps?"
   ]
  },
  {
   "cell_type": "code",
   "execution_count": 16,
   "metadata": {
    "collapsed": false
   },
   "outputs": [
    {
     "data": {
      "text/plain": [
       "Yes 1234"
      ]
     },
     "metadata": {},
     "output_type": "display_data"
    },
    {
     "data": {
      "text/plain": [
       "No \"no thanks\""
      ]
     },
     "metadata": {},
     "output_type": "display_data"
    },
    {
     "data": {
      "text/plain": [
       "[Ignore,Yes 1234,No \"no thanks\",Ignore]"
      ]
     },
     "metadata": {},
     "output_type": "display_data"
    },
    {
     "data": {
      "text/plain": [
       "[Yes 1234,No \"no thanks\"]"
      ]
     },
     "metadata": {},
     "output_type": "display_data"
    }
   ],
   "source": [
    "print violateMyPrivacy\n",
    "print refuseIt\n",
    "print userActions\n",
    "print userResponses"
   ]
  },
  {
   "cell_type": "markdown",
   "metadata": {},
   "source": [
    "### How to define your own display"
   ]
  },
  {
   "cell_type": "markdown",
   "metadata": {},
   "source": [
    "IHaskell allows you to define a custom display of any of your data types. You simply have to implement the type class `IHaskellDisplay`, which is [defined as](https://github.com/gibiansky/IHaskell/blob/master/src/IHaskell/Types.hs)\n",
    "\n",
    "```haskell\n",
    "class IHaskellDisplay a where\n",
    "  display :: a -> IO Display\n",
    "```\n",
    "\n",
    "where `Display` is composed of pieces of [`DisplayData`](https://github.com/gibiansky/IHaskell/blob/master/ipython-kernel/src/IHaskell/IPython/Types.hs):\n",
    "\n",
    "```haskell\n",
    "data Display = Display [DisplayData]\n",
    "             | ManyDisplay [Display]\n",
    "             \n",
    "data DisplayData = DisplayData MimeType Text\n",
    "\n",
    "data MimeType = PlainText\n",
    "              | MimeHtml\n",
    "              | MimePng Width Height\n",
    "              | MimeJpg Width Height\n",
    "              | MimeSvg\n",
    "              | MimeLatex\n",
    "              | MimeJavascript\n",
    "```"
   ]
  },
  {
   "cell_type": "markdown",
   "metadata": {},
   "source": [
    "#### Defining a custom display for `OptIn`"
   ]
  },
  {
   "cell_type": "markdown",
   "metadata": {},
   "source": [
    "Instead of displaying the data constructor name (such as `Yes`), let's color the data that it wraps, by generating HTML.\n",
    "\n",
    "And since we love collecting people's personal data, let's color a `Yes` as <span style='color: green'>green</span>, and a `No` as <span style='color: red'>red</span>.\n",
    "\n",
    "For `Ignore`, we display a frowny face Unicode character ☹ here because we can. We could also insert an image or an animation or some such thing."
   ]
  },
  {
   "cell_type": "code",
   "execution_count": 17,
   "metadata": {
    "collapsed": false
   },
   "outputs": [],
   "source": [
    "import IHaskell.Display\n",
    "\n",
    "instance IHaskellDisplay OptIn where\n",
    "  display action = return $ Display [plain $ show action, html $ code action]\n",
    "    where\n",
    "      code action = concat [\"<span style='font-weight: bold; color:\"\n",
    "                           , colorIt action\n",
    "                           , \"'>\"\n",
    "                           , showString action\n",
    "                           , \"</span>\"]\n",
    "                           \n",
    "      colorIt (Yes _) = \"green\"\n",
    "      colorIt (No _)  = \"red\"\n",
    "      colorIt Ignore  = \"blue\"\n",
    "      \n",
    "      showString (Yes y) = show y\n",
    "      showString (No n)  = show n\n",
    "      showString Ignore  = \"☹\""
   ]
  },
  {
   "cell_type": "code",
   "execution_count": 18,
   "metadata": {
    "collapsed": false
   },
   "outputs": [
    {
     "data": {
      "text/html": [
       "<style>/*\n",
       "Custom IHaskell CSS.\n",
       "*/\n",
       "\n",
       "/* Styles used for the Hoogle display in the pager */\n",
       ".hoogle-doc {\n",
       "    display: block;\n",
       "    padding-bottom: 1.3em;\n",
       "    padding-left: 0.4em;\n",
       "}\n",
       ".hoogle-code {\n",
       "    display: block;\n",
       "    font-family: monospace;\n",
       "    white-space: pre;\n",
       "}\n",
       ".hoogle-text {\n",
       "    display: block;\n",
       "}\n",
       ".hoogle-name {\n",
       "    color: green;\n",
       "    font-weight: bold;\n",
       "}\n",
       ".hoogle-head {\n",
       "    font-weight: bold;\n",
       "}\n",
       ".hoogle-sub {\n",
       "    display: block;\n",
       "    margin-left: 0.4em;\n",
       "}\n",
       ".hoogle-package {\n",
       "    font-weight: bold;\n",
       "    font-style: italic;\n",
       "}\n",
       ".hoogle-module {\n",
       "    font-weight: bold;\n",
       "}\n",
       ".hoogle-class {\n",
       "    font-weight: bold;\n",
       "}\n",
       "\n",
       "/* Styles used for basic displays */\n",
       ".get-type {\n",
       "    color: green;\n",
       "    font-weight: bold;\n",
       "    font-family: monospace;\n",
       "    display: block;\n",
       "    white-space: pre;\n",
       "}\n",
       "\n",
       ".show-type {\n",
       "    color: green;\n",
       "    font-weight: bold;\n",
       "    font-family: monospace;\n",
       "    margin-left: 1em;\n",
       "}\n",
       "\n",
       ".mono {\n",
       "    font-family: monospace;\n",
       "    display: block;\n",
       "}\n",
       "\n",
       ".err-msg {\n",
       "    color: red;\n",
       "    font-style: italic;\n",
       "    font-family: monospace;\n",
       "    white-space: pre;\n",
       "    display: block;\n",
       "}\n",
       "\n",
       "#unshowable {\n",
       "    color: red;\n",
       "    font-weight: bold;\n",
       "}\n",
       "\n",
       ".err-msg.in.collapse {\n",
       "  padding-top: 0.7em;\n",
       "}\n",
       "\n",
       "/* Code that will get highlighted before it is highlighted */\n",
       ".highlight-code {\n",
       "    white-space: pre;\n",
       "    font-family: monospace;\n",
       "}\n",
       "\n",
       "/* Hlint styles */\n",
       ".suggestion-warning { \n",
       "    font-weight: bold;\n",
       "    color: rgb(200, 130, 0);\n",
       "}\n",
       ".suggestion-error { \n",
       "    font-weight: bold;\n",
       "    color: red;\n",
       "}\n",
       ".suggestion-name {\n",
       "    font-weight: bold;\n",
       "}\n",
       "</style><span style='font-weight: bold; color:green'>1234</span>"
      ],
      "text/plain": [
       "Yes 1234"
      ]
     },
     "metadata": {},
     "output_type": "display_data"
    }
   ],
   "source": [
    "violateMyPrivacy"
   ]
  },
  {
   "cell_type": "code",
   "execution_count": 19,
   "metadata": {
    "collapsed": false
   },
   "outputs": [
    {
     "data": {
      "text/html": [
       "<style>/*\n",
       "Custom IHaskell CSS.\n",
       "*/\n",
       "\n",
       "/* Styles used for the Hoogle display in the pager */\n",
       ".hoogle-doc {\n",
       "    display: block;\n",
       "    padding-bottom: 1.3em;\n",
       "    padding-left: 0.4em;\n",
       "}\n",
       ".hoogle-code {\n",
       "    display: block;\n",
       "    font-family: monospace;\n",
       "    white-space: pre;\n",
       "}\n",
       ".hoogle-text {\n",
       "    display: block;\n",
       "}\n",
       ".hoogle-name {\n",
       "    color: green;\n",
       "    font-weight: bold;\n",
       "}\n",
       ".hoogle-head {\n",
       "    font-weight: bold;\n",
       "}\n",
       ".hoogle-sub {\n",
       "    display: block;\n",
       "    margin-left: 0.4em;\n",
       "}\n",
       ".hoogle-package {\n",
       "    font-weight: bold;\n",
       "    font-style: italic;\n",
       "}\n",
       ".hoogle-module {\n",
       "    font-weight: bold;\n",
       "}\n",
       ".hoogle-class {\n",
       "    font-weight: bold;\n",
       "}\n",
       "\n",
       "/* Styles used for basic displays */\n",
       ".get-type {\n",
       "    color: green;\n",
       "    font-weight: bold;\n",
       "    font-family: monospace;\n",
       "    display: block;\n",
       "    white-space: pre;\n",
       "}\n",
       "\n",
       ".show-type {\n",
       "    color: green;\n",
       "    font-weight: bold;\n",
       "    font-family: monospace;\n",
       "    margin-left: 1em;\n",
       "}\n",
       "\n",
       ".mono {\n",
       "    font-family: monospace;\n",
       "    display: block;\n",
       "}\n",
       "\n",
       ".err-msg {\n",
       "    color: red;\n",
       "    font-style: italic;\n",
       "    font-family: monospace;\n",
       "    white-space: pre;\n",
       "    display: block;\n",
       "}\n",
       "\n",
       "#unshowable {\n",
       "    color: red;\n",
       "    font-weight: bold;\n",
       "}\n",
       "\n",
       ".err-msg.in.collapse {\n",
       "  padding-top: 0.7em;\n",
       "}\n",
       "\n",
       "/* Code that will get highlighted before it is highlighted */\n",
       ".highlight-code {\n",
       "    white-space: pre;\n",
       "    font-family: monospace;\n",
       "}\n",
       "\n",
       "/* Hlint styles */\n",
       ".suggestion-warning { \n",
       "    font-weight: bold;\n",
       "    color: rgb(200, 130, 0);\n",
       "}\n",
       ".suggestion-error { \n",
       "    font-weight: bold;\n",
       "    color: red;\n",
       "}\n",
       ".suggestion-name {\n",
       "    font-weight: bold;\n",
       "}\n",
       "</style><span style='font-weight: bold; color:red'>\"no thanks\"</span>"
      ],
      "text/plain": [
       "No \"no thanks\""
      ]
     },
     "metadata": {},
     "output_type": "display_data"
    }
   ],
   "source": [
    "refuseIt"
   ]
  },
  {
   "cell_type": "code",
   "execution_count": 20,
   "metadata": {
    "collapsed": false
   },
   "outputs": [
    {
     "data": {
      "text/html": [
       "<style>/*\n",
       "Custom IHaskell CSS.\n",
       "*/\n",
       "\n",
       "/* Styles used for the Hoogle display in the pager */\n",
       ".hoogle-doc {\n",
       "    display: block;\n",
       "    padding-bottom: 1.3em;\n",
       "    padding-left: 0.4em;\n",
       "}\n",
       ".hoogle-code {\n",
       "    display: block;\n",
       "    font-family: monospace;\n",
       "    white-space: pre;\n",
       "}\n",
       ".hoogle-text {\n",
       "    display: block;\n",
       "}\n",
       ".hoogle-name {\n",
       "    color: green;\n",
       "    font-weight: bold;\n",
       "}\n",
       ".hoogle-head {\n",
       "    font-weight: bold;\n",
       "}\n",
       ".hoogle-sub {\n",
       "    display: block;\n",
       "    margin-left: 0.4em;\n",
       "}\n",
       ".hoogle-package {\n",
       "    font-weight: bold;\n",
       "    font-style: italic;\n",
       "}\n",
       ".hoogle-module {\n",
       "    font-weight: bold;\n",
       "}\n",
       ".hoogle-class {\n",
       "    font-weight: bold;\n",
       "}\n",
       "\n",
       "/* Styles used for basic displays */\n",
       ".get-type {\n",
       "    color: green;\n",
       "    font-weight: bold;\n",
       "    font-family: monospace;\n",
       "    display: block;\n",
       "    white-space: pre;\n",
       "}\n",
       "\n",
       ".show-type {\n",
       "    color: green;\n",
       "    font-weight: bold;\n",
       "    font-family: monospace;\n",
       "    margin-left: 1em;\n",
       "}\n",
       "\n",
       ".mono {\n",
       "    font-family: monospace;\n",
       "    display: block;\n",
       "}\n",
       "\n",
       ".err-msg {\n",
       "    color: red;\n",
       "    font-style: italic;\n",
       "    font-family: monospace;\n",
       "    white-space: pre;\n",
       "    display: block;\n",
       "}\n",
       "\n",
       "#unshowable {\n",
       "    color: red;\n",
       "    font-weight: bold;\n",
       "}\n",
       "\n",
       ".err-msg.in.collapse {\n",
       "  padding-top: 0.7em;\n",
       "}\n",
       "\n",
       "/* Code that will get highlighted before it is highlighted */\n",
       ".highlight-code {\n",
       "    white-space: pre;\n",
       "    font-family: monospace;\n",
       "}\n",
       "\n",
       "/* Hlint styles */\n",
       ".suggestion-warning { \n",
       "    font-weight: bold;\n",
       "    color: rgb(200, 130, 0);\n",
       "}\n",
       ".suggestion-error { \n",
       "    font-weight: bold;\n",
       "    color: red;\n",
       "}\n",
       ".suggestion-name {\n",
       "    font-weight: bold;\n",
       "}\n",
       "</style><span style='font-weight: bold; color:blue'>☹</span>"
      ],
      "text/plain": [
       "Ignore"
      ]
     },
     "metadata": {},
     "output_type": "display_data"
    },
    {
     "data": {
      "text/html": [
       "<style>/*\n",
       "Custom IHaskell CSS.\n",
       "*/\n",
       "\n",
       "/* Styles used for the Hoogle display in the pager */\n",
       ".hoogle-doc {\n",
       "    display: block;\n",
       "    padding-bottom: 1.3em;\n",
       "    padding-left: 0.4em;\n",
       "}\n",
       ".hoogle-code {\n",
       "    display: block;\n",
       "    font-family: monospace;\n",
       "    white-space: pre;\n",
       "}\n",
       ".hoogle-text {\n",
       "    display: block;\n",
       "}\n",
       ".hoogle-name {\n",
       "    color: green;\n",
       "    font-weight: bold;\n",
       "}\n",
       ".hoogle-head {\n",
       "    font-weight: bold;\n",
       "}\n",
       ".hoogle-sub {\n",
       "    display: block;\n",
       "    margin-left: 0.4em;\n",
       "}\n",
       ".hoogle-package {\n",
       "    font-weight: bold;\n",
       "    font-style: italic;\n",
       "}\n",
       ".hoogle-module {\n",
       "    font-weight: bold;\n",
       "}\n",
       ".hoogle-class {\n",
       "    font-weight: bold;\n",
       "}\n",
       "\n",
       "/* Styles used for basic displays */\n",
       ".get-type {\n",
       "    color: green;\n",
       "    font-weight: bold;\n",
       "    font-family: monospace;\n",
       "    display: block;\n",
       "    white-space: pre;\n",
       "}\n",
       "\n",
       ".show-type {\n",
       "    color: green;\n",
       "    font-weight: bold;\n",
       "    font-family: monospace;\n",
       "    margin-left: 1em;\n",
       "}\n",
       "\n",
       ".mono {\n",
       "    font-family: monospace;\n",
       "    display: block;\n",
       "}\n",
       "\n",
       ".err-msg {\n",
       "    color: red;\n",
       "    font-style: italic;\n",
       "    font-family: monospace;\n",
       "    white-space: pre;\n",
       "    display: block;\n",
       "}\n",
       "\n",
       "#unshowable {\n",
       "    color: red;\n",
       "    font-weight: bold;\n",
       "}\n",
       "\n",
       ".err-msg.in.collapse {\n",
       "  padding-top: 0.7em;\n",
       "}\n",
       "\n",
       "/* Code that will get highlighted before it is highlighted */\n",
       ".highlight-code {\n",
       "    white-space: pre;\n",
       "    font-family: monospace;\n",
       "}\n",
       "\n",
       "/* Hlint styles */\n",
       ".suggestion-warning { \n",
       "    font-weight: bold;\n",
       "    color: rgb(200, 130, 0);\n",
       "}\n",
       ".suggestion-error { \n",
       "    font-weight: bold;\n",
       "    color: red;\n",
       "}\n",
       ".suggestion-name {\n",
       "    font-weight: bold;\n",
       "}\n",
       "</style><span style='font-weight: bold; color:green'>1234</span>"
      ],
      "text/plain": [
       "Yes 1234"
      ]
     },
     "metadata": {},
     "output_type": "display_data"
    },
    {
     "data": {
      "text/html": [
       "<style>/*\n",
       "Custom IHaskell CSS.\n",
       "*/\n",
       "\n",
       "/* Styles used for the Hoogle display in the pager */\n",
       ".hoogle-doc {\n",
       "    display: block;\n",
       "    padding-bottom: 1.3em;\n",
       "    padding-left: 0.4em;\n",
       "}\n",
       ".hoogle-code {\n",
       "    display: block;\n",
       "    font-family: monospace;\n",
       "    white-space: pre;\n",
       "}\n",
       ".hoogle-text {\n",
       "    display: block;\n",
       "}\n",
       ".hoogle-name {\n",
       "    color: green;\n",
       "    font-weight: bold;\n",
       "}\n",
       ".hoogle-head {\n",
       "    font-weight: bold;\n",
       "}\n",
       ".hoogle-sub {\n",
       "    display: block;\n",
       "    margin-left: 0.4em;\n",
       "}\n",
       ".hoogle-package {\n",
       "    font-weight: bold;\n",
       "    font-style: italic;\n",
       "}\n",
       ".hoogle-module {\n",
       "    font-weight: bold;\n",
       "}\n",
       ".hoogle-class {\n",
       "    font-weight: bold;\n",
       "}\n",
       "\n",
       "/* Styles used for basic displays */\n",
       ".get-type {\n",
       "    color: green;\n",
       "    font-weight: bold;\n",
       "    font-family: monospace;\n",
       "    display: block;\n",
       "    white-space: pre;\n",
       "}\n",
       "\n",
       ".show-type {\n",
       "    color: green;\n",
       "    font-weight: bold;\n",
       "    font-family: monospace;\n",
       "    margin-left: 1em;\n",
       "}\n",
       "\n",
       ".mono {\n",
       "    font-family: monospace;\n",
       "    display: block;\n",
       "}\n",
       "\n",
       ".err-msg {\n",
       "    color: red;\n",
       "    font-style: italic;\n",
       "    font-family: monospace;\n",
       "    white-space: pre;\n",
       "    display: block;\n",
       "}\n",
       "\n",
       "#unshowable {\n",
       "    color: red;\n",
       "    font-weight: bold;\n",
       "}\n",
       "\n",
       ".err-msg.in.collapse {\n",
       "  padding-top: 0.7em;\n",
       "}\n",
       "\n",
       "/* Code that will get highlighted before it is highlighted */\n",
       ".highlight-code {\n",
       "    white-space: pre;\n",
       "    font-family: monospace;\n",
       "}\n",
       "\n",
       "/* Hlint styles */\n",
       ".suggestion-warning { \n",
       "    font-weight: bold;\n",
       "    color: rgb(200, 130, 0);\n",
       "}\n",
       ".suggestion-error { \n",
       "    font-weight: bold;\n",
       "    color: red;\n",
       "}\n",
       ".suggestion-name {\n",
       "    font-weight: bold;\n",
       "}\n",
       "</style><span style='font-weight: bold; color:red'>\"no thanks\"</span>"
      ],
      "text/plain": [
       "No \"no thanks\""
      ]
     },
     "metadata": {},
     "output_type": "display_data"
    },
    {
     "data": {
      "text/html": [
       "<style>/*\n",
       "Custom IHaskell CSS.\n",
       "*/\n",
       "\n",
       "/* Styles used for the Hoogle display in the pager */\n",
       ".hoogle-doc {\n",
       "    display: block;\n",
       "    padding-bottom: 1.3em;\n",
       "    padding-left: 0.4em;\n",
       "}\n",
       ".hoogle-code {\n",
       "    display: block;\n",
       "    font-family: monospace;\n",
       "    white-space: pre;\n",
       "}\n",
       ".hoogle-text {\n",
       "    display: block;\n",
       "}\n",
       ".hoogle-name {\n",
       "    color: green;\n",
       "    font-weight: bold;\n",
       "}\n",
       ".hoogle-head {\n",
       "    font-weight: bold;\n",
       "}\n",
       ".hoogle-sub {\n",
       "    display: block;\n",
       "    margin-left: 0.4em;\n",
       "}\n",
       ".hoogle-package {\n",
       "    font-weight: bold;\n",
       "    font-style: italic;\n",
       "}\n",
       ".hoogle-module {\n",
       "    font-weight: bold;\n",
       "}\n",
       ".hoogle-class {\n",
       "    font-weight: bold;\n",
       "}\n",
       "\n",
       "/* Styles used for basic displays */\n",
       ".get-type {\n",
       "    color: green;\n",
       "    font-weight: bold;\n",
       "    font-family: monospace;\n",
       "    display: block;\n",
       "    white-space: pre;\n",
       "}\n",
       "\n",
       ".show-type {\n",
       "    color: green;\n",
       "    font-weight: bold;\n",
       "    font-family: monospace;\n",
       "    margin-left: 1em;\n",
       "}\n",
       "\n",
       ".mono {\n",
       "    font-family: monospace;\n",
       "    display: block;\n",
       "}\n",
       "\n",
       ".err-msg {\n",
       "    color: red;\n",
       "    font-style: italic;\n",
       "    font-family: monospace;\n",
       "    white-space: pre;\n",
       "    display: block;\n",
       "}\n",
       "\n",
       "#unshowable {\n",
       "    color: red;\n",
       "    font-weight: bold;\n",
       "}\n",
       "\n",
       ".err-msg.in.collapse {\n",
       "  padding-top: 0.7em;\n",
       "}\n",
       "\n",
       "/* Code that will get highlighted before it is highlighted */\n",
       ".highlight-code {\n",
       "    white-space: pre;\n",
       "    font-family: monospace;\n",
       "}\n",
       "\n",
       "/* Hlint styles */\n",
       ".suggestion-warning { \n",
       "    font-weight: bold;\n",
       "    color: rgb(200, 130, 0);\n",
       "}\n",
       ".suggestion-error { \n",
       "    font-weight: bold;\n",
       "    color: red;\n",
       "}\n",
       ".suggestion-name {\n",
       "    font-weight: bold;\n",
       "}\n",
       "</style><span style='font-weight: bold; color:blue'>☹</span>"
      ],
      "text/plain": [
       "Ignore"
      ]
     },
     "metadata": {},
     "output_type": "display_data"
    }
   ],
   "source": [
    "userActions"
   ]
  },
  {
   "cell_type": "markdown",
   "metadata": {},
   "source": [
    "Note that the display is still a bit primitive, because the list of displayed items is just by default one element after another.\n",
    "\n",
    "As an exercise, you may wish to implement `instance IHaskellDisplay [OptIn]` to specially display a list of `OptIn`."
   ]
  },
  {
   "cell_type": "markdown",
   "metadata": {},
   "source": [
    "### Community-contributed display plugins"
   ]
  },
  {
   "cell_type": "markdown",
   "metadata": {},
   "source": [
    "More and more implementations of [displays are being contributed to IHaskell](https://github.com/gibiansky/IHaskell/tree/master/ihaskell-display) by the community."
   ]
  },
  {
   "cell_type": "markdown",
   "metadata": {},
   "source": [
    "For example, the `Maybe` type already has a display. Note that you need to take care when mixing and matching displays, because, for example, we already used coloring for our `OptIn` display."
   ]
  },
  {
   "cell_type": "code",
   "execution_count": 21,
   "metadata": {
    "collapsed": false
   },
   "outputs": [
    {
     "data": {
      "text/html": [
       "<style>/*\n",
       "Custom IHaskell CSS.\n",
       "*/\n",
       "\n",
       "/* Styles used for the Hoogle display in the pager */\n",
       ".hoogle-doc {\n",
       "    display: block;\n",
       "    padding-bottom: 1.3em;\n",
       "    padding-left: 0.4em;\n",
       "}\n",
       ".hoogle-code {\n",
       "    display: block;\n",
       "    font-family: monospace;\n",
       "    white-space: pre;\n",
       "}\n",
       ".hoogle-text {\n",
       "    display: block;\n",
       "}\n",
       ".hoogle-name {\n",
       "    color: green;\n",
       "    font-weight: bold;\n",
       "}\n",
       ".hoogle-head {\n",
       "    font-weight: bold;\n",
       "}\n",
       ".hoogle-sub {\n",
       "    display: block;\n",
       "    margin-left: 0.4em;\n",
       "}\n",
       ".hoogle-package {\n",
       "    font-weight: bold;\n",
       "    font-style: italic;\n",
       "}\n",
       ".hoogle-module {\n",
       "    font-weight: bold;\n",
       "}\n",
       ".hoogle-class {\n",
       "    font-weight: bold;\n",
       "}\n",
       "\n",
       "/* Styles used for basic displays */\n",
       ".get-type {\n",
       "    color: green;\n",
       "    font-weight: bold;\n",
       "    font-family: monospace;\n",
       "    display: block;\n",
       "    white-space: pre;\n",
       "}\n",
       "\n",
       ".show-type {\n",
       "    color: green;\n",
       "    font-weight: bold;\n",
       "    font-family: monospace;\n",
       "    margin-left: 1em;\n",
       "}\n",
       "\n",
       ".mono {\n",
       "    font-family: monospace;\n",
       "    display: block;\n",
       "}\n",
       "\n",
       ".err-msg {\n",
       "    color: red;\n",
       "    font-style: italic;\n",
       "    font-family: monospace;\n",
       "    white-space: pre;\n",
       "    display: block;\n",
       "}\n",
       "\n",
       "#unshowable {\n",
       "    color: red;\n",
       "    font-weight: bold;\n",
       "}\n",
       "\n",
       ".err-msg.in.collapse {\n",
       "  padding-top: 0.7em;\n",
       "}\n",
       "\n",
       "/* Code that will get highlighted before it is highlighted */\n",
       ".highlight-code {\n",
       "    white-space: pre;\n",
       "    font-family: monospace;\n",
       "}\n",
       "\n",
       "/* Hlint styles */\n",
       ".suggestion-warning { \n",
       "    font-weight: bold;\n",
       "    color: rgb(200, 130, 0);\n",
       "}\n",
       ".suggestion-error { \n",
       "    font-weight: bold;\n",
       "    color: red;\n",
       "}\n",
       ".suggestion-name {\n",
       "    font-weight: bold;\n",
       "}\n",
       "</style><span style='color: green; font-weight: bold;'>Just</span><span style='font-family: monospace;'>4</span>"
      ],
      "text/plain": [
       "Just 4"
      ]
     },
     "metadata": {},
     "output_type": "display_data"
    },
    {
     "data": {
      "text/html": [
       "<style>/*\n",
       "Custom IHaskell CSS.\n",
       "*/\n",
       "\n",
       "/* Styles used for the Hoogle display in the pager */\n",
       ".hoogle-doc {\n",
       "    display: block;\n",
       "    padding-bottom: 1.3em;\n",
       "    padding-left: 0.4em;\n",
       "}\n",
       ".hoogle-code {\n",
       "    display: block;\n",
       "    font-family: monospace;\n",
       "    white-space: pre;\n",
       "}\n",
       ".hoogle-text {\n",
       "    display: block;\n",
       "}\n",
       ".hoogle-name {\n",
       "    color: green;\n",
       "    font-weight: bold;\n",
       "}\n",
       ".hoogle-head {\n",
       "    font-weight: bold;\n",
       "}\n",
       ".hoogle-sub {\n",
       "    display: block;\n",
       "    margin-left: 0.4em;\n",
       "}\n",
       ".hoogle-package {\n",
       "    font-weight: bold;\n",
       "    font-style: italic;\n",
       "}\n",
       ".hoogle-module {\n",
       "    font-weight: bold;\n",
       "}\n",
       ".hoogle-class {\n",
       "    font-weight: bold;\n",
       "}\n",
       "\n",
       "/* Styles used for basic displays */\n",
       ".get-type {\n",
       "    color: green;\n",
       "    font-weight: bold;\n",
       "    font-family: monospace;\n",
       "    display: block;\n",
       "    white-space: pre;\n",
       "}\n",
       "\n",
       ".show-type {\n",
       "    color: green;\n",
       "    font-weight: bold;\n",
       "    font-family: monospace;\n",
       "    margin-left: 1em;\n",
       "}\n",
       "\n",
       ".mono {\n",
       "    font-family: monospace;\n",
       "    display: block;\n",
       "}\n",
       "\n",
       ".err-msg {\n",
       "    color: red;\n",
       "    font-style: italic;\n",
       "    font-family: monospace;\n",
       "    white-space: pre;\n",
       "    display: block;\n",
       "}\n",
       "\n",
       "#unshowable {\n",
       "    color: red;\n",
       "    font-weight: bold;\n",
       "}\n",
       "\n",
       ".err-msg.in.collapse {\n",
       "  padding-top: 0.7em;\n",
       "}\n",
       "\n",
       "/* Code that will get highlighted before it is highlighted */\n",
       ".highlight-code {\n",
       "    white-space: pre;\n",
       "    font-family: monospace;\n",
       "}\n",
       "\n",
       "/* Hlint styles */\n",
       ".suggestion-warning { \n",
       "    font-weight: bold;\n",
       "    color: rgb(200, 130, 0);\n",
       "}\n",
       ".suggestion-error { \n",
       "    font-weight: bold;\n",
       "    color: red;\n",
       "}\n",
       ".suggestion-name {\n",
       "    font-weight: bold;\n",
       "}\n",
       "</style><span style='color: red; font-weight: bold;'>Nothing</span>"
      ],
      "text/plain": [
       "Nothing"
      ]
     },
     "metadata": {},
     "output_type": "display_data"
    }
   ],
   "source": [
    "fruitCounts = [(\"banana\", 3), (\"apple\", 4), (\"pear\", 1)]\n",
    "\n",
    "lookup \"apple\" fruitCounts\n",
    "lookup \"orange\" fruitCounts"
   ]
  },
  {
   "cell_type": "markdown",
   "metadata": {},
   "source": [
    "#### `diagrams` display is cool"
   ]
  },
  {
   "cell_type": "markdown",
   "metadata": {},
   "source": [
    "[`diagrams`](http://projects.haskell.org/diagrams/) is a nice library for programmatically creating vector graphics."
   ]
  },
  {
   "cell_type": "code",
   "execution_count": 22,
   "metadata": {
    "collapsed": false
   },
   "outputs": [
    {
     "data": {
      "image/png": "[encoded data removed]",
      "text/html": [
       "<img src=\"data:image/svg+xml;base64,PD94bWwgdmVyc2lvbj0iMS4wIiBlbmNvZGluZz0iVVRGLTgiPz4KPHN2ZyB4bWxucz0iaHR0cDovL3d3dy53My5vcmcvMjAwMC9zdmciIHhtbG5zOnhsaW5rPSJodHRwOi8vd3d3LnczLm9yZy8xOTk5L3hsaW5rIiB3aWR0aD0iMzAwcHQiIGhlaWdodD0iMzAwcHQiIHZpZXdCb3g9IjAgMCAzMDAgMzAwIiB2ZXJzaW9uPSIxLjEiPgo8ZyBpZD0ic3VyZmFjZTIiPgo8cGF0aCBzdHlsZT0iZmlsbC1ydWxlOm5vbnplcm87ZmlsbDpyZ2IoMTguNDMxMzczJSwzMC45ODAzOTIlLDMwLjk4MDM5MiUpO2ZpbGwtb3BhY2l0eToxO3N0cm9rZS13aWR0aDoxLjI7c3Ryb2tlLWxpbmVjYXA6YnV0dDtzdHJva2UtbGluZWpvaW46bWl0ZXI7c3Ryb2tlOnJnYigwJSwwJSwwJSk7c3Ryb2tlLW9wYWNpdHk6MTtzdHJva2UtbWl0ZXJsaW1pdDoxMDsiIGQ9Ik0gMzAwIDMwMCBMIDMwMCAwIEwgMCAwIEwgMCAzMDAgWiBNIDMwMCAzMDAgIi8+CjxwYXRoIHN0eWxlPSIgc3Ryb2tlOm5vbmU7ZmlsbC1ydWxlOm5vbnplcm87ZmlsbDpyZ2IoMTAwJSwxMDAlLDEwMCUpO2ZpbGwtb3BhY2l0eToxOyIgZD0iTSAyODcuMTQ0NTMxIDI2OC43Njk1MzEgTCAyODUgMjY1LjA1ODU5NCBMIDI4Mi44NTU0NjkgMjY4Ljc2OTUzMSBaIE0gMjg3LjE0NDUzMSAyNjguNzY5NTMxICIvPgo8cGF0aCBzdHlsZT0iIHN0cm9rZTpub25lO2ZpbGwtcnVsZTpub256ZXJvO2ZpbGw6cmdiKDEwMCUsMTAwJSwxMDAlKTtmaWxsLW9wYWNpdHk6MTsiIGQ9Ik0gMjgyLjg1NTQ2OSAyNjguNzY5NTMxIEwgMjgwLjcxMDkzOCAyNjUuMDU4NTk0IEwgMjc4LjU2NjQwNiAyNjguNzY5NTMxIFogTSAyODIuODU1NDY5IDI2OC43Njk1MzEgIi8+CjxwYXRoIHN0eWxlPSIgc3Ryb2tlOm5vbmU7ZmlsbC1ydWxlOm5vbnplcm87ZmlsbDpyZ2IoMTAwJSwxMDAlLDEwMCUpO2ZpbGwtb3BhY2l0eToxOyIgZD0iTSAyODUgMjY1LjA1ODU5NCBMIDI4Mi44NTU0NjkgMjYxLjM0NzY1NiBMIDI4MC43MTA5MzggMjY1LjA1ODU5NCBaIE0gMjg1IDI2NS4wNTg1OTQgIi8+CjxwYXRoIHN0eWxlPSIgc3Ryb2tlOm5vbmU7ZmlsbC1ydWxlOm5vbnplcm87ZmlsbDpyZ2IoMTAwJSwxMDAlLDEwMCUpO2ZpbGwtb3BhY2l0eToxOyIgZD0iTSAyNzguNTcwMzEyIDI2OC43Njk1MzEgTCAyNzYuNDI1NzgxIDI2NS4wNTg1OTQgTCAyNzQuMjgxMjUgMjY4Ljc2OTUzMSBaIE0gMjc4LjU3MDMxMiAyNjguNzY5NTMxICIvPgo8cGF0aCBzdHlsZT0iIHN0cm9rZTpub25lO2ZpbGwtcnVsZTpub256ZXJvO2ZpbGw6cmdiKDEwMCUsMTAwJSwxMDAlKTtmaWxsLW9wYWNpdHk6MTsiIGQ9Ik0gMjc0LjI4NTE1NiAyNjguNzY5NTMxIEwgMjcyLjE0MDYyNSAyNjUuMDU4NTk0IEwgMjY5Ljk5NjA5NCAyNjguNzY5NTMxIFogTSAyNzQuMjg1MTU2IDI2OC43Njk1MzEgIi8+CjxwYXRoIHN0eWxlPSIgc3Ryb2tlOm5vbmU7ZmlsbC1ydWxlOm5vbnplcm87ZmlsbDpyZ2IoMTAwJSwxMDAlLDEwMCUpO2ZpbGwtb3BhY2l0eToxOyIgZD0iTSAyNzYuNDI5Njg4IDI2NS4wNTg1OTQgTCAyNzQuMjg1MTU2IDI2MS4zNDc2NTYgTCAyNzIuMTQwNjI1IDI2NS4wNTg1OTQgWiBNIDI3Ni40Mjk2ODggMjY1LjA1ODU5NCAiLz4KPHBhdGggc3R5bGU9IiBzdHJva2U6bm9uZTtmaWxsLXJ1bGU6bm9uemVybztmaWxsOnJnYigxMDAlLDEwMCUsMTAwJSk7ZmlsbC1vcGFjaXR5OjE7IiBkPSJNIDI4Mi44NTU0NjkgMjYxLjM0NzY1NiBMIDI4MC43MTA5MzggMjU3LjYzNjcxOSBMIDI3OC41NjY0MDYgMjYxLjM0NzY1NiBaIE0gMjgyLjg1NTQ2OSAyNjEuMzQ3NjU2ICIvPgo8cGF0aCBzdHlsZT0iIHN0cm9rZTpub25lO2ZpbGwtcnVsZTpub256ZXJvO2ZpbGw6cmdiKDEwMCUsMTAwJSwxMDAlKTtmaWxsLW9wYWNpdHk6MTsiIGQ9Ik0gMjc4LjU3MDMxMiAyNjEuMzQ3NjU2IEwgMjc2LjQyNTc4MSAyNTcuNjM2NzE5IEwgMjc0LjI4MTI1IDI2MS4zNDc2NTYgWiBNIDI3OC41NzAzMTIgMjYxLjM0NzY1NiAiLz4KPHBhdGggc3R5bGU9IiBzdHJva2U6bm9uZTtmaWxsLXJ1bGU6bm9uemVybztmaWxsOnJnYigxMDAlLDEwMCUsMTAwJSk7ZmlsbC1vcGFjaXR5OjE7IiBkPSJNIDI4MC43MTQ4NDQgMjU3LjYzMjgxMiBMIDI3OC41NzAzMTIgMjUzLjkyMTg3NSBMIDI3Ni40MjU3ODEgMjU3LjYzMjgxMiBaIE0gMjgwLjcxNDg0NCAyNTcuNjMyODEyICIvPgo8cGF0aCBzdHlsZT0iIHN0cm9rZTpub25lO2ZpbGwtcnVsZTpub256ZXJvO2ZpbGw6cmdiKDEwMCUsMTAwJSwxMDAlKTtmaWxsLW9wYWNpdHk6MTsiIGQ9Ik0gMjcwIDI2OC43Njk1MzEgTCAyNjcuODU1NDY5IDI2NS4wNTg1OTQgTCAyNjUuNzEwOTM4IDI2OC43Njk1MzEgWiBNIDI3MCAyNjguNzY5NTMxICIvPgo8cGF0aCBzdHlsZT0iIHN0cm9rZTpub25lO2ZpbGwtcnVsZTpub256ZXJvO2ZpbGw6cmdiKDEwMCUsMTAwJSwxMDAlKTtmaWxsLW9wYWNpdHk6MTsiIGQ9Ik0gMjY1LjcxNDg0NCAyNjguNzY5NTMxIEwgMjYzLjU3MDMxMiAyNjUuMDU4NTk0IEwgMjYxLjQyNTc4MSAyNjguNzY5NTMxIFogTSAyNjUuNzE0ODQ0IDI2OC43Njk1MzEgIi8+CjxwYXRoIHN0eWxlPSIgc3Ryb2tlOm5vbmU7ZmlsbC1ydWxlOm5vbnplcm87ZmlsbDpyZ2IoMTAwJSwxMDAlLDEwMCUpO2ZpbGwtb3BhY2l0eToxOyIgZD0iTSAyNjcuODU1NDY5IDI2NS4wNTg1OTQgTCAyNjUuNzEwOTM4IDI2MS4zNDc2NTYgTCAyNjMuNTY2NDA2IDI2NS4wNTg1OTQgWiBNIDI2Ny44NTU0NjkgMjY1LjA1ODU5NCAiLz4KPHBhdGggc3R5bGU9IiBzdHJva2U6bm9uZTtmaWxsLXJ1bGU6bm9uemVybztmaWxsOnJnYigxMDAlLDEwMCUsMTAwJSk7ZmlsbC1vcGFjaXR5OjE7IiBkPSJNIDI2MS40Mjk2ODggMjY4Ljc2OTUzMSBMIDI1OS4yODUxNTYgMjY1LjA1ODU5NCBMIDI1Ny4xNDA2MjUgMjY4Ljc2OTUzMSBaIE0gMjYxLjQyOTY4OCAyNjguNzY5NTMxICIvPgo8cGF0aCBzdHlsZT0iIHN0cm9rZTpub25lO2ZpbGwtcnVsZTpub256ZXJvO2ZpbGw6cmdiKDEwMCUsMTAwJSwxMDAlKTtmaWxsLW9wYWNpdHk6MTsiIGQ9Ik0gMjU3LjE0NDUzMSAyNjguNzY5NTMxIEwgMjU1IDI2NS4wNTg1OTQgTCAyNTIuODU1NDY5IDI2OC43Njk1MzEgWiBNIDI1Ny4xNDQ1MzEgMjY4Ljc2OTUzMSAiLz4KPHBhdGggc3R5bGU9IiBzdHJva2U6bm9uZTtmaWxsLXJ1bGU6bm9uemVybztmaWxsOnJnYigxMDAlLDEwMCUsMTAwJSk7ZmlsbC1vcGFjaXR5OjE7IiBkPSJNIDI1OS4yODUxNTYgMjY1LjA1ODU5NCBMIDI1Ny4xNDA2MjUgMjYxLjM0NzY1NiBMIDI1NC45OTYwOTQgMjY1LjA1ODU5NCBaIE0gMjU5LjI4NTE1NiAyNjUuMDU4NTk0ICIvPgo8cGF0aCBzdHlsZT0iIHN0cm9rZTpub25lO2ZpbGwtcnVsZTpub256ZXJvO2ZpbGw6cmdiKDEwMCUsMTAwJSwxMDAlKTtmaWxsLW9wYWNpdHk6MTsiIGQ9Ik0gMjY1LjcxNDg0NCAyNjEuMzQ3NjU2IEwgMjYzLjU3MDMxMiAyNTcuNjM2NzE5IEwgMjYxLjQyNTc4MSAyNjEuMzQ3NjU2IFogTSAyNjUuNzE0ODQ0IDI2MS4zNDc2NTYgIi8+CjxwYXRoIHN0eWxlPSIgc3Ryb2tlOm5vbmU7ZmlsbC1ydWxlOm5vbnplcm87ZmlsbDpyZ2IoMTAwJSwxMDAlLDEwMCUpO2ZpbGwtb3BhY2l0eToxOyIgZD0iTSAyNjEuNDI5Njg4IDI2MS4zNDc2NTYgTCAyNTkuMjg1MTU2IDI1Ny42MzY3MTkgTCAyNTcuMTQwNjI1IDI2MS4zNDc2NTYgWiBNIDI2MS40Mjk2ODggMjYxLjM0NzY1NiAiLz4KPHBhdGggc3R5bGU9IiBzdHJva2U6bm9uZTtmaWxsLXJ1bGU6bm9uemVybztmaWxsOnJnYigxMDAlLDEwMCUsMTAwJSk7ZmlsbC1vcGFjaXR5OjE7IiBkPSJNIDI2My41NzAzMTIgMjU3LjYzMjgxMiBMIDI2MS40MjU3ODEgMjUzLjkyMTg3NSBMIDI1OS4yODEyNSAyNTcuNjMyODEyIFogTSAyNjMuNTcwMzEyIDI1Ny42MzI4MTIgIi8+CjxwYXRoIHN0eWxlPSIgc3Ryb2tlOm5vbmU7ZmlsbC1ydWxlOm5vbnplcm87ZmlsbDpyZ2IoMTAwJSwxMDAlLDEwMCUpO2ZpbGwtb3BhY2l0eToxOyIgZD0iTSAyNzguNTcwMzEyIDI1My45MjE4NzUgTCAyNzYuNDI1NzgxIDI1MC4yMTA5MzggTCAyNzQuMjgxMjUgMjUzLjkyMTg3NSBaIE0gMjc4LjU3MDMxMiAyNTMuOTIxODc1ICIvPgo8cGF0aCBzdHlsZT0iIHN0cm9rZTpub25lO2ZpbGwtcnVsZTpub256ZXJvO2ZpbGw6cmdiKDEwMCUsMTAwJSwxMDAlKTtmaWxsLW9wYWNpdHk6MTsiIGQ9Ik0gMjc0LjI4NTE1NiAyNTMuOTIxODc1IEwgMjcyLjE0MDYyNSAyNTAuMjEwOTM4IEwgMjY5Ljk5NjA5NCAyNTMuOTIxODc1IFogTSAyNzQuMjg1MTU2IDI1My45MjE4NzUgIi8+CjxwYXRoIHN0eWxlPSIgc3Ryb2tlOm5vbmU7ZmlsbC1ydWxlOm5vbnplcm87ZmlsbDpyZ2IoMTAwJSwxMDAlLDEwMCUpO2ZpbGwtb3BhY2l0eToxOyIgZD0iTSAyNzYuNDI5Njg4IDI1MC4yMTA5MzggTCAyNzQuMjg1MTU2IDI0Ni41IEwgMjcyLjE0MDYyNSAyNTAuMjEwOTM4IFogTSAyNzYuNDI5Njg4IDI1MC4yMTA5MzggIi8+CjxwYXRoIHN0eWxlPSIgc3Ryb2tlOm5vbmU7ZmlsbC1ydWxlOm5vbnplcm87ZmlsbDpyZ2IoMTAwJSwxMDAlLDEwMCUpO2ZpbGwtb3BhY2l0eToxOyIgZD0iTSAyNzAgMjUzLjkyMTg3NSBMIDI2Ny44NTU0NjkgMjUwLjIxMDkzOCBMIDI2NS43MTA5MzggMjUzLjkyMTg3NSBaIE0gMjcwIDI1My45MjE4NzUgIi8+CjxwYXRoIHN0eWxlPSIgc3Ryb2tlOm5vbmU7ZmlsbC1ydWxlOm5vbnplcm87ZmlsbDpyZ2IoMTAwJSwxMDAlLDEwMCUpO2ZpbGwtb3BhY2l0eToxOyIgZD0iTSAyNjUuNzE0ODQ0IDI1My45MjE4NzUgTCAyNjMuNTcwMzEyIDI1MC4yMTA5MzggTCAyNjEuNDI1NzgxIDI1My45MjE4NzUgWiBNIDI2NS43MTQ4NDQgMjUzLjkyMTg3NSAiLz4KPHBhdGggc3R5bGU9IiBzdHJva2U6bm9uZTtmaWxsLXJ1bGU6bm9uemVybztmaWxsOnJnYigxMDAlLDEwMCUsMTAwJSk7ZmlsbC1vcGFjaXR5OjE7IiBkPSJNIDI2Ny44NTU0NjkgMjUwLjIxMDkzOCBMIDI2NS43MTA5MzggMjQ2LjUgTCAyNjMuNTY2NDA2IDI1MC4yMTA5MzggWiBNIDI2Ny44NTU0NjkgMjUwLjIxMDkzOCAiLz4KPHBhdGggc3R5bGU9IiBzdHJva2U6bm9uZTtmaWxsLXJ1bGU6bm9uemVybztmaWxsOnJnYigxMDAlLDEwMCUsMTAwJSk7ZmlsbC1vcGFjaXR5OjE7IiBkPSJNIDI3NC4yODUxNTYgMjQ2LjUgTCAyNzIuMTQwNjI1IDI0Mi43ODkwNjIgTCAyNjkuOTk2MDk0IDI0Ni41IFogTSAyNzQuMjg1MTU2IDI0Ni41ICIvPgo8cGF0aCBzdHlsZT0iIHN0cm9rZTpub25lO2ZpbGwtcnVsZTpub256ZXJvO2ZpbGw6cmdiKDEwMCUsMTAwJSwxMDAlKTtmaWxsLW9wYWNpdHk6MTsiIGQ9Ik0gMjcwIDI0Ni41IEwgMjY3Ljg1NTQ2OSAyNDIuNzg5MDYyIEwgMjY1LjcxMDkzOCAyNDYuNSBaIE0gMjcwIDI0Ni41ICIvPgo8cGF0aCBzdHlsZT0iIHN0cm9rZTpub25lO2ZpbGwtcnVsZTpub256ZXJvO2ZpbGw6cmdiKDEwMCUsMTAwJSwxMDAlKTtmaWxsLW9wYWNpdHk6MTsiIGQ9Ik0gMjcyLjE0NDUzMSAyNDIuNzg5MDYyIEwgMjcwIDIzOS4wNzgxMjUgTCAyNjcuODU1NDY5IDI0Mi43ODkwNjIgWiBNIDI3Mi4xNDQ1MzEgMjQyLjc4OTA2MiAiLz4KPHBhdGggc3R5bGU9IiBzdHJva2U6bm9uZTtmaWxsLXJ1bGU6bm9uemVybztmaWxsOnJnYigxMDAlLDEwMCUsMTAwJSk7ZmlsbC1vcGFjaXR5OjE7IiBkPSJNIDI1Mi44NTU0NjkgMjY4Ljc2OTUzMSBMIDI1MC43MTA5MzggMjY1LjA1ODU5NCBMIDI0OC41NjY0MDYgMjY4Ljc2OTUzMSBaIE0gMjUyLjg1NTQ2OSAyNjguNzY5NTMxICIvPgo8cGF0aCBzdHlsZT0iIHN0cm9rZTpub25lO2ZpbGwtcnVsZTpub256ZXJvO2ZpbGw6cmdiKDEwMCUsMTAwJSwxMDAlKTtmaWxsLW9wYWNpdHk6MTsiIGQ9Ik0gMjQ4LjU3MDMxMiAyNjguNzY5NTMxIEwgMjQ2LjQyNTc4MSAyNjUuMDU4NTk0IEwgMjQ0LjI4MTI1IDI2OC43Njk1MzEgWiBNIDI0OC41NzAzMTIgMjY4Ljc2OTUzMSAiLz4KPHBhdGggc3R5bGU9IiBzdHJva2U6bm9uZTtmaWxsLXJ1bGU6bm9uemVybztmaWxsOnJnYigxMDAlLDEwMCUsMTAwJSk7ZmlsbC1vcGFjaXR5OjE7IiBkPSJNIDI1MC43MTQ4NDQgMjY1LjA1ODU5NCBMIDI0OC41NzAzMTIgMjYxLjM0NzY1NiBMIDI0Ni40MjU3ODEgMjY1LjA1ODU5NCBaIE0gMjUwLjcxNDg0NCAyNjUuMDU4NTk0ICIvPgo8cGF0aCBzdHlsZT0iIHN0cm9rZTpub25lO2ZpbGwtcnVsZTpub256ZXJvO2ZpbGw6cmdiKDEwMCUsMTAwJSwxMDAlKTtmaWxsLW9wYWNpdHk6MTsiIGQ9Ik0gMjQ0LjI4NTE1NiAyNjguNzY5NTMxIEwgMjQyLjE0MDYyNSAyNjUuMDU4NTk0IEwgMjM5Ljk5NjA5NCAyNjguNzY5NTMxIFogTSAyNDQuMjg1MTU2IDI2OC43Njk1MzEgIi8+CjxwYXRoIHN0eWxlPSIgc3Ryb2tlOm5vbmU7ZmlsbC1ydWxlOm5vbnplcm87ZmlsbDpyZ2IoMTAwJSwxMDAlLDEwMCUpO2ZpbGwtb3BhY2l0eToxOyIgZD0iTSAyNDAgMjY4Ljc2OTUzMSBMIDIzNy44NTU0NjkgMjY1LjA1ODU5NCBMIDIzNS43MTA5MzggMjY4Ljc2OTUzMSBaIE0gMjQwIDI2OC43Njk1MzEgIi8+CjxwYXRoIHN0eWxlPSIgc3Ryb2tlOm5vbmU7ZmlsbC1ydWxlOm5vbnplcm87ZmlsbDpyZ2IoMTAwJSwxMDAlLDEwMCUpO2ZpbGwtb3BhY2l0eToxOyIgZD0iTSAyNDIuMTQ0NTMxIDI2NS4wNTg1OTQgTCAyNDAgMjYxLjM0NzY1NiBMIDIzNy44NTU0NjkgMjY1LjA1ODU5NCBaIE0gMjQyLjE0NDUzMSAyNjUuMDU4NTk0ICIvPgo8cGF0aCBzdHlsZT0iIHN0cm9rZTpub25lO2ZpbGwtcnVsZTpub256ZXJvO2ZpbGw6cmdiKDEwMCUsMTAwJSwxMDAlKTtmaWxsLW9wYWNpdHk6MTsiIGQ9Ik0gMjQ4LjU3MDMxMiAyNjEuMzQ3NjU2IEwgMjQ2LjQyNTc4MSAyNTcuNjM2NzE5IEwgMjQ0LjI4MTI1IDI2MS4zNDc2NTYgWiBNIDI0OC41NzAzMTIgMjYxLjM0NzY1NiAiLz4KPHBhdGggc3R5bGU9IiBzdHJva2U6bm9uZTtmaWxsLXJ1bGU6bm9uemVybztmaWxsOnJnYigxMDAlLDEwMCUsMTAwJSk7ZmlsbC1vcGFjaXR5OjE7IiBkPSJNIDI0NC4yODUxNTYgMjYxLjM0NzY1NiBMIDI0Mi4xNDA2MjUgMjU3LjYzNjcxOSBMIDIzOS45OTYwOTQgMjYxLjM0NzY1NiBaIE0gMjQ0LjI4NTE1NiAyNjEuMzQ3NjU2ICIvPgo8cGF0aCBzdHlsZT0iIHN0cm9rZTpub25lO2ZpbGwtcnVsZTpub256ZXJvO2ZpbGw6cmdiKDEwMCUsMTAwJSwxMDAlKTtmaWxsLW9wYWNpdHk6MTsiIGQ9Ik0gMjQ2LjQyOTY4OCAyNTcuNjMyODEyIEwgMjQ0LjI4NTE1NiAyNTMuOTIxODc1IEwgMjQyLjE0MDYyNSAyNTcuNjMyODEyIFogTSAyNDYuNDI5Njg4IDI1Ny42MzI4MTIgIi8+CjxwYXRoIHN0eWxlPSIgc3Ryb2tlOm5vbmU7ZmlsbC1ydWxlOm5vbnplcm87ZmlsbDpyZ2IoMTAwJSwxMDAlLDEwMCUpO2ZpbGwtb3BhY2l0eToxOyIgZD0iTSAyMzUuNzE0ODQ0IDI2OC43Njk1MzEgTCAyMzMuNTcwMzEyIDI2NS4wNTg1OTQgTCAyMzEuNDI1NzgxIDI2OC43Njk1MzEgWiBNIDIzNS43MTQ4NDQgMjY4Ljc2OTUzMSAiLz4KPHBhdGggc3R5bGU9IiBzdHJva2U6bm9uZTtmaWxsLXJ1bGU6bm9uemVybztmaWxsOnJnYigxMDAlLDEwMCUsMTAwJSk7ZmlsbC1vcGFjaXR5OjE7IiBkPSJNIDIzMS40Mjk2ODggMjY4Ljc2OTUzMSBMIDIyOS4yODUxNTYgMjY1LjA1ODU5NCBMIDIyNy4xNDA2MjUgMjY4Ljc2OTUzMSBaIE0gMjMxLjQyOTY4OCAyNjguNzY5NTMxICIvPgo8cGF0aCBzdHlsZT0iIHN0cm9rZTpub25lO2ZpbGwtcnVsZTpub256ZXJvO2ZpbGw6cmdiKDEwMCUsMTAwJSwxMDAlKTtmaWxsLW9wYWNpdHk6MTsiIGQ9Ik0gMjMzLjU3MDMxMiAyNjUuMDU4NTk0IEwgMjMxLjQyNTc4MSAyNjEuMzQ3NjU2IEwgMjI5LjI4MTI1IDI2NS4wNTg1OTQgWiBNIDIzMy41NzAzMTIgMjY1LjA1ODU5NCAiLz4KPHBhdGggc3R5bGU9IiBzdHJva2U6bm9uZTtmaWxsLXJ1bGU6bm9uemVybztmaWxsOnJnYigxMDAlLDEwMCUsMTAwJSk7ZmlsbC1vcGFjaXR5OjE7IiBkPSJNIDIyNy4xNDQ1MzEgMjY4Ljc2OTUzMSBMIDIyNSAyNjUuMDU4NTk0IEwgMjIyLjg1NTQ2OSAyNjguNzY5NTMxIFogTSAyMjcuMTQ0NTMxIDI2OC43Njk1MzEgIi8+CjxwYXRoIHN0eWxlPSIgc3Ryb2tlOm5vbmU7ZmlsbC1ydWxlOm5vbnplcm87ZmlsbDpyZ2IoMTAwJSwxMDAlLDEwMCUpO2ZpbGwtb3BhY2l0eToxOyIgZD0iTSAyMjIuODU1NDY5IDI2OC43Njk1MzEgTCAyMjAuNzEwOTM4IDI2NS4wNTg1OTQgTCAyMTguNTY2NDA2IDI2OC43Njk1MzEgWiBNIDIyMi44NTU0NjkgMjY4Ljc2OTUzMSAiLz4KPHBhdGggc3R5bGU9IiBzdHJva2U6bm9uZTtmaWxsLXJ1bGU6bm9uemVybztmaWxsOnJnYigxMDAlLDEwMCUsMTAwJSk7ZmlsbC1vcGFjaXR5OjE7IiBkPSJNIDIyNSAyNjUuMDU4NTk0IEwgMjIyLjg1NTQ2OSAyNjEuMzQ3NjU2IEwgMjIwLjcxMDkzOCAyNjUuMDU4NTk0IFogTSAyMjUgMjY1LjA1ODU5NCAiLz4KPHBhdGggc3R5bGU9IiBzdHJva2U6bm9uZTtmaWxsLXJ1bGU6bm9uemVybztmaWxsOnJnYigxMDAlLDEwMCUsMTAwJSk7ZmlsbC1vcGFjaXR5OjE7IiBkPSJNIDIzMS40Mjk2ODggMjYxLjM0NzY1NiBMIDIyOS4yODUxNTYgMjU3LjYzNjcxOSBMIDIyNy4xNDA2MjUgMjYxLjM0NzY1NiBaIE0gMjMxLjQyOTY4OCAyNjEuMzQ3NjU2ICIvPgo8cGF0aCBzdHlsZT0iIHN0cm9rZTpub25lO2ZpbGwtcnVsZTpub256ZXJvO2ZpbGw6cmdiKDEwMCUsMTAwJSwxMDAlKTtmaWxsLW9wYWNpdHk6MTsiIGQ9Ik0gMjI3LjE0NDUzMSAyNjEuMzQ3NjU2IEwgMjI1IDI1Ny42MzY3MTkgTCAyMjIuODU1NDY5IDI2MS4zNDc2NTYgWiBNIDIyNy4xNDQ1MzEgMjYxLjM0NzY1NiAiLz4KPHBhdGggc3R5bGU9IiBzdHJva2U6bm9uZTtmaWxsLXJ1bGU6bm9uemVybztmaWxsOnJnYigxMDAlLDEwMCUsMTAwJSk7ZmlsbC1vcGFjaXR5OjE7IiBkPSJNIDIyOS4yODUxNTYgMjU3LjYzMjgxMiBMIDIyNy4xNDA2MjUgMjUzLjkyMTg3NSBMIDIyNC45OTYwOTQgMjU3LjYzMjgxMiBaIE0gMjI5LjI4NTE1NiAyNTcuNjMyODEyICIvPgo8cGF0aCBzdHlsZT0iIHN0cm9rZTpub25lO2ZpbGwtcnVsZTpub256ZXJvO2ZpbGw6cmdiKDEwMCUsMTAwJSwxMDAlKTtmaWxsLW9wYWNpdHk6MTsiIGQ9Ik0gMjQ0LjI4NTE1NiAyNTMuOTIxODc1IEwgMjQyLjE0MDYyNSAyNTAuMjEwOTM4IEwgMjM5Ljk5NjA5NCAyNTMuOTIxODc1IFogTSAyNDQuMjg1MTU2IDI1My45MjE4NzUgIi8+CjxwYXRoIHN0eWxlPSIgc3Ryb2tlOm5vbmU7ZmlsbC1ydWxlOm5vbnplcm87ZmlsbDpyZ2IoMTAwJSwxMDAlLDEwMCUpO2ZpbGwtb3BhY2l0eToxOyIgZD0iTSAyNDAgMjUzLjkyMTg3NSBMIDIzNy44NTU0NjkgMjUwLjIxMDkzOCBMIDIzNS43MTA5MzggMjUzLjkyMTg3NSBaIE0gMjQwIDI1My45MjE4NzUgIi8+CjxwYXRoIHN0eWxlPSIgc3Ryb2tlOm5vbmU7ZmlsbC1ydWxlOm5vbnplcm87ZmlsbDpyZ2IoMTAwJSwxMDAlLDEwMCUpO2ZpbGwtb3BhY2l0eToxOyIgZD0iTSAyNDIuMTQ0NTMxIDI1MC4yMTA5MzggTCAyNDAgMjQ2LjUgTCAyMzcuODU1NDY5IDI1MC4yMTA5MzggWiBNIDI0Mi4xNDQ1MzEgMjUwLjIxMDkzOCAiLz4KPHBhdGggc3R5bGU9IiBzdHJva2U6bm9uZTtmaWxsLXJ1bGU6bm9uemVybztmaWxsOnJnYigxMDAlLDEwMCUsMTAwJSk7ZmlsbC1vcGFjaXR5OjE7IiBkPSJNIDIzNS43MTQ4NDQgMjUzLjkyMTg3NSBMIDIzMy41NzAzMTIgMjUwLjIxMDkzOCBMIDIzMS40MjU3ODEgMjUzLjkyMTg3NSBaIE0gMjM1LjcxNDg0NCAyNTMuOTIxODc1ICIvPgo8cGF0aCBzdHlsZT0iIHN0cm9rZTpub25lO2ZpbGwtcnVsZTpub256ZXJvO2ZpbGw6cmdiKDEwMCUsMTAwJSwxMDAlKTtmaWxsLW9wYWNpdHk6MTsiIGQ9Ik0gMjMxLjQyOTY4OCAyNTMuOTIxODc1IEwgMjI5LjI4NTE1NiAyNTAuMjEwOTM4IEwgMjI3LjE0MDYyNSAyNTMuOTIxODc1IFogTSAyMzEuNDI5Njg4IDI1My45MjE4NzUgIi8+CjxwYXRoIHN0eWxlPSIgc3Ryb2tlOm5vbmU7ZmlsbC1ydWxlOm5vbnplcm87ZmlsbDpyZ2IoMTAwJSwxMDAlLDEwMCUpO2ZpbGwtb3BhY2l0eToxOyIgZD0iTSAyMzMuNTcwMzEyIDI1MC4yMTA5MzggTCAyMzEuNDI1NzgxIDI0Ni41IEwgMjI5LjI4MTI1IDI1MC4yMTA5MzggWiBNIDIzMy41NzAzMTIgMjUwLjIxMDkzOCAiLz4KPHBhdGggc3R5bGU9IiBzdHJva2U6bm9uZTtmaWxsLXJ1bGU6bm9uemVybztmaWxsOnJnYigxMDAlLDEwMCUsMTAwJSk7ZmlsbC1vcGFjaXR5OjE7IiBkPSJNIDI0MCAyNDYuNSBMIDIzNy44NTU0NjkgMjQyLjc4OTA2MiBMIDIzNS43MTA5MzggMjQ2LjUgWiBNIDI0MCAyNDYuNSAiLz4KPHBhdGggc3R5bGU9IiBzdHJva2U6bm9uZTtmaWxsLXJ1bGU6bm9uemVybztmaWxsOnJnYigxMDAlLDEwMCUsMTAwJSk7ZmlsbC1vcGFjaXR5OjE7IiBkPSJNIDIzNS43MTQ4NDQgMjQ2LjUgTCAyMzMuNTcwMzEyIDI0Mi43ODkwNjIgTCAyMzEuNDI1NzgxIDI0Ni41IFogTSAyMzUuNzE0ODQ0IDI0Ni41ICIvPgo8cGF0aCBzdHlsZT0iIHN0cm9rZTpub25lO2ZpbGwtcnVsZTpub256ZXJvO2ZpbGw6cmdiKDEwMCUsMTAwJSwxMDAlKTtmaWxsLW9wYWNpdHk6MTsiIGQ9Ik0gMjM3Ljg1NTQ2OSAyNDIuNzg5MDYyIEwgMjM1LjcxMDkzOCAyMzkuMDc4MTI1IEwgMjMzLjU2NjQwNiAyNDIuNzg5MDYyIFogTSAyMzcuODU1NDY5IDI0Mi43ODkwNjIgIi8+CjxwYXRoIHN0eWxlPSIgc3Ryb2tlOm5vbmU7ZmlsbC1ydWxlOm5vbnplcm87ZmlsbDpyZ2IoMTAwJSwxMDAlLDEwMCUpO2ZpbGwtb3BhY2l0eToxOyIgZD0iTSAyNzAgMjM5LjA3ODEyNSBMIDI2Ny44NTU0NjkgMjM1LjM2NzE4OCBMIDI2NS43MTA5MzggMjM5LjA3ODEyNSBaIE0gMjcwIDIzOS4wNzgxMjUgIi8+CjxwYXRoIHN0eWxlPSIgc3Ryb2tlOm5vbmU7ZmlsbC1ydWxlOm5vbnplcm87ZmlsbDpyZ2IoMTAwJSwxMDAlLDEwMCUpO2ZpbGwtb3BhY2l0eToxOyIgZD0iTSAyNjUuNzE0ODQ0IDIzOS4wNzgxMjUgTCAyNjMuNTcwMzEyIDIzNS4zNjcxODggTCAyNjEuNDI1NzgxIDIzOS4wNzgxMjUgWiBNIDI2NS43MTQ4NDQgMjM5LjA3ODEyNSAiLz4KPHBhdGggc3R5bGU9IiBzdHJva2U6bm9uZTtmaWxsLXJ1bGU6bm9uemVybztmaWxsOnJnYigxMDAlLDEwMCUsMTAwJSk7ZmlsbC1vcGFjaXR5OjE7IiBkPSJNIDI2Ny44NTU0NjkgMjM1LjM2NzE4OCBMIDI2NS43MTA5MzggMjMxLjY1NjI1IEwgMjYzLjU2NjQwNiAyMzUuMzY3MTg4IFogTSAyNjcuODU1NDY5IDIzNS4zNjcxODggIi8+CjxwYXRoIHN0eWxlPSIgc3Ryb2tlOm5vbmU7ZmlsbC1ydWxlOm5vbnplcm87ZmlsbDpyZ2IoMTAwJSwxMDAlLDEwMCUpO2ZpbGwtb3BhY2l0eToxOyIgZD0iTSAyNjEuNDI5Njg4IDIzOS4wNzgxMjUgTCAyNTkuMjg1MTU2IDIzNS4zNjcxODggTCAyNTcuMTQwNjI1IDIzOS4wNzgxMjUgWiBNIDI2MS40Mjk2ODggMjM5LjA3ODEyNSAiLz4KPHBhdGggc3R5bGU9IiBzdHJva2U6bm9uZTtmaWxsLXJ1bGU6bm9uemVybztmaWxsOnJnYigxMDAlLDEwMCUsMTAwJSk7ZmlsbC1vcGFjaXR5OjE7IiBkPSJNIDI1Ny4xNDQ1MzEgMjM5LjA3ODEyNSBMIDI1NSAyMzUuMzY3MTg4IEwgMjUyLjg1NTQ2OSAyMzkuMDc4MTI1IFogTSAyNTcuMTQ0NTMxIDIzOS4wNzgxMjUgIi8+CjxwYXRoIHN0eWxlPSIgc3Ryb2tlOm5vbmU7ZmlsbC1ydWxlOm5vbnplcm87ZmlsbDpyZ2IoMTAwJSwxMDAlLDEwMCUpO2ZpbGwtb3BhY2l0eToxOyIgZD0iTSAyNTkuMjg1MTU2IDIzNS4zNjcxODggTCAyNTcuMTQwNjI1IDIzMS42NTYyNSBMIDI1NC45OTYwOTQgMjM1LjM2NzE4OCBaIE0gMjU5LjI4NTE1NiAyMzUuMzY3MTg4ICIvPgo8cGF0aCBzdHlsZT0iIHN0cm9rZTpub25lO2ZpbGwtcnVsZTpub256ZXJvO2ZpbGw6cmdiKDEwMCUsMTAwJSwxMDAlKTtmaWxsLW9wYWNpdHk6MTsiIGQ9Ik0gMjY1LjcxNDg0NCAyMzEuNjUyMzQ0IEwgMjYzLjU3MDMxMiAyMjcuOTQxNDA2IEwgMjYxLjQyNTc4MSAyMzEuNjUyMzQ0IFogTSAyNjUuNzE0ODQ0IDIzMS42NTIzNDQgIi8+CjxwYXRoIHN0eWxlPSIgc3Ryb2tlOm5vbmU7ZmlsbC1ydWxlOm5vbnplcm87ZmlsbDpyZ2IoMTAwJSwxMDAlLDEwMCUpO2ZpbGwtb3BhY2l0eToxOyIgZD0iTSAyNjEuNDI5Njg4IDIzMS42NTIzNDQgTCAyNTkuMjg1MTU2IDIyNy45NDE0MDYgTCAyNTcuMTQwNjI1IDIzMS42NTIzNDQgWiBNIDI2MS40Mjk2ODggMjMxLjY1MjM0NCAiLz4KPHBhdGggc3R5bGU9IiBzdHJva2U6bm9uZTtmaWxsLXJ1bGU6bm9uemVybztmaWxsOnJnYigxMDAlLDEwMCUsMTAwJSk7ZmlsbC1vcGFjaXR5OjE7IiBkPSJNIDI2My41NzAzMTIgMjI3Ljk0MTQwNiBMIDI2MS40MjU3ODEgMjI0LjIzMDQ2OSBMIDI1OS4yODEyNSAyMjcuOTQxNDA2IFogTSAyNjMuNTcwMzEyIDIyNy45NDE0MDYgIi8+CjxwYXRoIHN0eWxlPSIgc3Ryb2tlOm5vbmU7ZmlsbC1ydWxlOm5vbnplcm87ZmlsbDpyZ2IoMTAwJSwxMDAlLDEwMCUpO2ZpbGwtb3BhY2l0eToxOyIgZD0iTSAyNTIuODU1NDY5IDIzOS4wNzgxMjUgTCAyNTAuNzEwOTM4IDIzNS4zNjcxODggTCAyNDguNTY2NDA2IDIzOS4wNzgxMjUgWiBNIDI1Mi44NTU0NjkgMjM5LjA3ODEyNSAiLz4KPHBhdGggc3R5bGU9IiBzdHJva2U6bm9uZTtmaWxsLXJ1bGU6bm9uemVybztmaWxsOnJnYigxMDAlLDEwMCUsMTAwJSk7ZmlsbC1vcGFjaXR5OjE7IiBkPSJNIDI0OC41NzAzMTIgMjM5LjA3ODEyNSBMIDI0Ni40MjU3ODEgMjM1LjM2NzE4OCBMIDI0NC4yODEyNSAyMzkuMDc4MTI1IFogTSAyNDguNTcwMzEyIDIzOS4wNzgxMjUgIi8+CjxwYXRoIHN0eWxlPSIgc3Ryb2tlOm5vbmU7ZmlsbC1ydWxlOm5vbnplcm87ZmlsbDpyZ2IoMTAwJSwxMDAlLDEwMCUpO2ZpbGwtb3BhY2l0eToxOyIgZD0iTSAyNTAuNzE0ODQ0IDIzNS4zNjcxODggTCAyNDguNTcwMzEyIDIzMS42NTYyNSBMIDI0Ni40MjU3ODEgMjM1LjM2NzE4OCBaIE0gMjUwLjcxNDg0NCAyMzUuMzY3MTg4ICIvPgo8cGF0aCBzdHlsZT0iIHN0cm9rZTpub25lO2ZpbGwtcnVsZTpub256ZXJvO2ZpbGw6cmdiKDEwMCUsMTAwJSwxMDAlKTtmaWxsLW9wYWNpdHk6MTsiIGQ9Ik0gMjQ0LjI4NTE1NiAyMzkuMDc4MTI1IEwgMjQyLjE0MDYyNSAyMzUuMzY3MTg4IEwgMjM5Ljk5NjA5NCAyMzkuMDc4MTI1IFogTSAyNDQuMjg1MTU2IDIzOS4wNzgxMjUgIi8+CjxwYXRoIHN0eWxlPSIgc3Ryb2tlOm5vbmU7ZmlsbC1ydWxlOm5vbnplcm87ZmlsbDpyZ2IoMTAwJSwxMDAlLDEwMCUpO2ZpbGwtb3BhY2l0eToxOyIgZD0iTSAyNDAgMjM5LjA3ODEyNSBMIDIzNy44NTU0NjkgMjM1LjM2NzE4OCBMIDIzNS43MTA5MzggMjM5LjA3ODEyNSBaIE0gMjQwIDIzOS4wNzgxMjUgIi8+CjxwYXRoIHN0eWxlPSIgc3Ryb2tlOm5vbmU7ZmlsbC1ydWxlOm5vbnplcm87ZmlsbDpyZ2IoMTAwJSwxMDAlLDEwMCUpO2ZpbGwtb3BhY2l0eToxOyIgZD0iTSAyNDIuMTQ0NTMxIDIzNS4zNjcxODggTCAyNDAgMjMxLjY1NjI1IEwgMjM3Ljg1NTQ2OSAyMzUuMzY3MTg4IFogTSAyNDIuMTQ0NTMxIDIzNS4zNjcxODggIi8+CjxwYXRoIHN0eWxlPSIgc3Ryb2tlOm5vbmU7ZmlsbC1ydWxlOm5vbnplcm87ZmlsbDpyZ2IoMTAwJSwxMDAlLDEwMCUpO2ZpbGwtb3BhY2l0eToxOyIgZD0iTSAyNDguNTcwMzEyIDIzMS42NTIzNDQgTCAyNDYuNDI1NzgxIDIyNy45NDE0MDYgTCAyNDQuMjgxMjUgMjMxLjY1MjM0NCBaIE0gMjQ4LjU3MDMxMiAyMzEuNjUyMzQ0ICIvPgo8cGF0aCBzdHlsZT0iIHN0cm9rZTpub25lO2ZpbGwtcnVsZTpub256ZXJvO2ZpbGw6cmdiKDEwMCUsMTAwJSwxMDAlKTtmaWxsLW9wYWNpdHk6MTsiIGQ9Ik0gMjQ0LjI4NTE1NiAyMzEuNjUyMzQ0IEwgMjQyLjE0MDYyNSAyMjcuOTQxNDA2IEwgMjM5Ljk5NjA5NCAyMzEuNjUyMzQ0IFogTSAyNDQuMjg1MTU2IDIzMS42NTIzNDQgIi8+CjxwYXRoIHN0eWxlPSIgc3Ryb2tlOm5vbmU7ZmlsbC1ydWxlOm5vbnplcm87ZmlsbDpyZ2IoMTAwJSwxMDAlLDEwMCUpO2ZpbGwtb3BhY2l0eToxOyIgZD0iTSAyNDYuNDI5Njg4IDIyNy45NDE0MDYgTCAyNDQuMjg1MTU2IDIyNC4yMzA0NjkgTCAyNDIuMTQwNjI1IDIyNy45NDE0MDYgWiBNIDI0Ni40Mjk2ODggMjI3Ljk0MTQwNiAiLz4KPHBhdGggc3R5bGU9IiBzdHJva2U6bm9uZTtmaWxsLXJ1bGU6bm9uemVybztmaWxsOnJnYigxMDAlLDEwMCUsMTAwJSk7ZmlsbC1vcGFjaXR5OjE7IiBkPSJNIDI2MS40Mjk2ODggMjI0LjIzMDQ2OSBMIDI1OS4yODUxNTYgMjIwLjUxOTUzMSBMIDI1Ny4xNDA2MjUgMjI0LjIzMDQ2OSBaIE0gMjYxLjQyOTY4OCAyMjQuMjMwNDY5ICIvPgo8cGF0aCBzdHlsZT0iIHN0cm9rZTpub25lO2ZpbGwtcnVsZTpub256ZXJvO2ZpbGw6cmdiKDEwMCUsMTAwJSwxMDAlKTtmaWxsLW9wYWNpdHk6MTsiIGQ9Ik0gMjU3LjE0NDUzMSAyMjQuMjMwNDY5IEwgMjU1IDIyMC41MTk1MzEgTCAyNTIuODU1NDY5IDIyNC4yMzA0NjkgWiBNIDI1Ny4xNDQ1MzEgMjI0LjIzMDQ2OSAiLz4KPHBhdGggc3R5bGU9IiBzdHJva2U6bm9uZTtmaWxsLXJ1bGU6bm9uemVybztmaWxsOnJnYigxMDAlLDEwMCUsMTAwJSk7ZmlsbC1vcGFjaXR5OjE7IiBkPSJNIDI1OS4yODUxNTYgMjIwLjUxOTUzMSBMIDI1Ny4xNDA2MjUgMjE2LjgwODU5NCBMIDI1NC45OTYwOTQgMjIwLjUxOTUzMSBaIE0gMjU5LjI4NTE1NiAyMjAuNTE5NTMxICIvPgo8cGF0aCBzdHlsZT0iIHN0cm9rZTpub25lO2ZpbGwtcnVsZTpub256ZXJvO2ZpbGw6cmdiKDEwMCUsMTAwJSwxMDAlKTtmaWxsLW9wYWNpdHk6MTsiIGQ9Ik0gMjUyLjg1NTQ2OSAyMjQuMjMwNDY5IEwgMjUwLjcxMDkzOCAyMjAuNTE5NTMxIEwgMjQ4LjU2NjQwNiAyMjQuMjMwNDY5IFogTSAyNTIuODU1NDY5IDIyNC4yMzA0NjkgIi8+CjxwYXRoIHN0eWxlPSIgc3Ryb2tlOm5vbmU7ZmlsbC1ydWxlOm5vbnplcm87ZmlsbDpyZ2IoMTAwJSwxMDAlLDEwMCUpO2ZpbGwtb3BhY2l0eToxOyIgZD0iTSAyNDguNTcwMzEyIDIyNC4yMzA0NjkgTCAyNDYuNDI1NzgxIDIyMC41MTk1MzEgTCAyNDQuMjgxMjUgMjI0LjIzMDQ2OSBaIE0gMjQ4LjU3MDMxMiAyMjQuMjMwNDY5ICIvPgo8cGF0aCBzdHlsZT0iIHN0cm9rZTpub25lO2ZpbGwtcnVsZTpub256ZXJvO2ZpbGw6cmdiKDEwMCUsMTAwJSwxMDAlKTtmaWxsLW9wYWNpdHk6MTsiIGQ9Ik0gMjUwLjcxNDg0NCAyMjAuNTE5NTMxIEwgMjQ4LjU3MDMxMiAyMTYuODA4NTk0IEwgMjQ2LjQyNTc4MSAyMjAuNTE5NTMxIFogTSAyNTAuNzE0ODQ0IDIyMC41MTk1MzEgIi8+CjxwYXRoIHN0eWxlPSIgc3Ryb2tlOm5vbmU7ZmlsbC1ydWxlOm5vbnplcm87ZmlsbDpyZ2IoMTAwJSwxMDAlLDEwMCUpO2ZpbGwtb3BhY2l0eToxOyIgZD0iTSAyNTcuMTQ0NTMxIDIxNi44MDg1OTQgTCAyNTUgMjEzLjA5NzY1NiBMIDI1Mi44NTU0NjkgMjE2LjgwODU5NCBaIE0gMjU3LjE0NDUzMSAyMTYuODA4NTk0ICIvPgo8cGF0aCBzdHlsZT0iIHN0cm9rZTpub25lO2ZpbGwtcnVsZTpub256ZXJvO2ZpbGw6cmdiKDEwMCUsMTAwJSwxMDAlKTtmaWxsLW9wYWNpdHk6MTsiIGQ9Ik0gMjUyLjg1NTQ2OSAyMTYuODA4NTk0IEwgMjUwLjcxMDkzOCAyMTMuMDk3NjU2IEwgMjQ4LjU2NjQwNiAyMTYuODA4NTk0IFogTSAyNTIuODU1NDY5IDIxNi44MDg1OTQgIi8+CjxwYXRoIHN0eWxlPSIgc3Ryb2tlOm5vbmU7ZmlsbC1ydWxlOm5vbnplcm87ZmlsbDpyZ2IoMTAwJSwxMDAlLDEwMCUpO2ZpbGwtb3BhY2l0eToxOyIgZD0iTSAyNTUgMjEzLjA5NzY1NiBMIDI1Mi44NTU0NjkgMjA5LjM4NjcxOSBMIDI1MC43MTA5MzggMjEzLjA5NzY1NiBaIE0gMjU1IDIxMy4wOTc2NTYgIi8+CjxwYXRoIHN0eWxlPSIgc3Ryb2tlOm5vbmU7ZmlsbC1ydWxlOm5vbnplcm87ZmlsbDpyZ2IoMTAwJSwxMDAlLDEwMCUpO2ZpbGwtb3BhY2l0eToxOyIgZD0iTSAyMTguNTcwMzEyIDI2OC43Njk1MzEgTCAyMTYuNDI1NzgxIDI2NS4wNTg1OTQgTCAyMTQuMjgxMjUgMjY4Ljc2OTUzMSBaIE0gMjE4LjU3MDMxMiAyNjguNzY5NTMxICIvPgo8cGF0aCBzdHlsZT0iIHN0cm9rZTpub25lO2ZpbGwtcnVsZTpub256ZXJvO2ZpbGw6cmdiKDEwMCUsMTAwJSwxMDAlKTtmaWxsLW9wYWNpdHk6MTsiIGQ9Ik0gMjE0LjI4NTE1NiAyNjguNzY5NTMxIEwgMjEyLjE0MDYyNSAyNjUuMDU4NTk0IEwgMjA5Ljk5NjA5NCAyNjguNzY5NTMxIFogTSAyMTQuMjg1MTU2IDI2OC43Njk1MzEgIi8+CjxwYXRoIHN0eWxlPSIgc3Ryb2tlOm5vbmU7ZmlsbC1ydWxlOm5vbnplcm87ZmlsbDpyZ2IoMTAwJSwxMDAlLDEwMCUpO2ZpbGwtb3BhY2l0eToxOyIgZD0iTSAyMTYuNDI5Njg4IDI2NS4wNTg1OTQgTCAyMTQuMjg1MTU2IDI2MS4zNDc2NTYgTCAyMTIuMTQwNjI1IDI2NS4wNTg1OTQgWiBNIDIxNi40Mjk2ODggMjY1LjA1ODU5NCAiLz4KPHBhdGggc3R5bGU9IiBzdHJva2U6bm9uZTtmaWxsLXJ1bGU6bm9uemVybztmaWxsOnJnYigxMDAlLDEwMCUsMTAwJSk7ZmlsbC1vcGFjaXR5OjE7IiBkPSJNIDIxMCAyNjguNzY5NTMxIEwgMjA3Ljg1NTQ2OSAyNjUuMDU4NTk0IEwgMjA1LjcxMDkzOCAyNjguNzY5NTMxIFogTSAyMTAgMjY4Ljc2OTUzMSAiLz4KPHBhdGggc3R5bGU9IiBzdHJva2U6bm9uZTtmaWxsLXJ1bGU6bm9uemVybztmaWxsOnJnYigxMDAlLDEwMCUsMTAwJSk7ZmlsbC1vcGFjaXR5OjE7IiBkPSJNIDIwNS43MTQ4NDQgMjY4Ljc2OTUzMSBMIDIwMy41NzAzMTIgMjY1LjA1ODU5NCBMIDIwMS40MjU3ODEgMjY4Ljc2OTUzMSBaIE0gMjA1LjcxNDg0NCAyNjguNzY5NTMxICIvPgo8cGF0aCBzdHlsZT0iIHN0cm9rZTpub25lO2ZpbGwtcnVsZTpub256ZXJvO2ZpbGw6cmdiKDEwMCUsMTAwJSwxMDAlKTtmaWxsLW9wYWNpdHk6MTsiIGQ9Ik0gMjA3Ljg1NTQ2OSAyNjUuMDU4NTk0IEwgMjA1LjcxMDkzOCAyNjEuMzQ3NjU2IEwgMjAzLjU2NjQwNiAyNjUuMDU4NTk0IFogTSAyMDcuODU1NDY5IDI2NS4wNTg1OTQgIi8+CjxwYXRoIHN0eWxlPSIgc3Ryb2tlOm5vbmU7ZmlsbC1ydWxlOm5vbnplcm87ZmlsbDpyZ2IoMTAwJSwxMDAlLDEwMCUpO2ZpbGwtb3BhY2l0eToxOyIgZD0iTSAyMTQuMjg1MTU2IDI2MS4zNDc2NTYgTCAyMTIuMTQwNjI1IDI1Ny42MzY3MTkgTCAyMDkuOTk2MDk0IDI2MS4zNDc2NTYgWiBNIDIxNC4yODUxNTYgMjYxLjM0NzY1NiAiLz4KPHBhdGggc3R5bGU9IiBzdHJva2U6bm9uZTtmaWxsLXJ1bGU6bm9uemVybztmaWxsOnJnYigxMDAlLDEwMCUsMTAwJSk7ZmlsbC1vcGFjaXR5OjE7IiBkPSJNIDIxMCAyNjEuMzQ3NjU2IEwgMjA3Ljg1NTQ2OSAyNTcuNjM2NzE5IEwgMjA1LjcxMDkzOCAyNjEuMzQ3NjU2IFogTSAyMTAgMjYxLjM0NzY1NiAiLz4KPHBhdGggc3R5bGU9IiBzdHJva2U6bm9uZTtmaWxsLXJ1bGU6bm9uemVybztmaWxsOnJnYigxMDAlLDEwMCUsMTAwJSk7ZmlsbC1vcGFjaXR5OjE7IiBkPSJNIDIxMi4xNDQ1MzEgMjU3LjYzMjgxMiBMIDIxMCAyNTMuOTIxODc1IEwgMjA3Ljg1NTQ2OSAyNTcuNjMyODEyIFogTSAyMTIuMTQ0NTMxIDI1Ny42MzI4MTIgIi8+CjxwYXRoIHN0eWxlPSIgc3Ryb2tlOm5vbmU7ZmlsbC1ydWxlOm5vbnplcm87ZmlsbDpyZ2IoMTAwJSwxMDAlLDEwMCUpO2ZpbGwtb3BhY2l0eToxOyIgZD0iTSAyMDEuNDI5Njg4IDI2OC43Njk1MzEgTCAxOTkuMjg1MTU2IDI2NS4wNTg1OTQgTCAxOTcuMTQwNjI1IDI2OC43Njk1MzEgWiBNIDIwMS40Mjk2ODggMjY4Ljc2OTUzMSAiLz4KPHBhdGggc3R5bGU9IiBzdHJva2U6bm9uZTtmaWxsLXJ1bGU6bm9uemVybztmaWxsOnJnYigxMDAlLDEwMCUsMTAwJSk7ZmlsbC1vcGFjaXR5OjE7IiBkPSJNIDE5Ny4xNDQ1MzEgMjY4Ljc2OTUzMSBMIDE5NSAyNjUuMDU4NTk0IEwgMTkyLjg1NTQ2OSAyNjguNzY5NTMxIFogTSAxOTcuMTQ0NTMxIDI2OC43Njk1MzEgIi8+CjxwYXRoIHN0eWxlPSIgc3Ryb2tlOm5vbmU7ZmlsbC1ydWxlOm5vbnplcm87ZmlsbDpyZ2IoMTAwJSwxMDAlLDEwMCUpO2ZpbGwtb3BhY2l0eToxOyIgZD0iTSAxOTkuMjg1MTU2IDI2NS4wNTg1OTQgTCAxOTcuMTQwNjI1IDI2MS4zNDc2NTYgTCAxOTQuOTk2MDk0IDI2NS4wNTg1OTQgWiBNIDE5OS4yODUxNTYgMjY1LjA1ODU5NCAiLz4KPHBhdGggc3R5bGU9IiBzdHJva2U6bm9uZTtmaWxsLXJ1bGU6bm9uemVybztmaWxsOnJnYigxMDAlLDEwMCUsMTAwJSk7ZmlsbC1vcGFjaXR5OjE7IiBkPSJNIDE5Mi44NTU0NjkgMjY4Ljc2OTUzMSBMIDE5MC43MTA5MzggMjY1LjA1ODU5NCBMIDE4OC41NjY0MDYgMjY4Ljc2OTUzMSBaIE0gMTkyLjg1NTQ2OSAyNjguNzY5NTMxICIvPgo8cGF0aCBzdHlsZT0iIHN0cm9rZTpub25lO2ZpbGwtcnVsZTpub256ZXJvO2ZpbGw6cmdiKDEwMCUsMTAwJSwxMDAlKTtmaWxsLW9wYWNpdHk6MTsiIGQ9Ik0gMTg4LjU3MDMxMiAyNjguNzY5NTMxIEwgMTg2LjQyNTc4MSAyNjUuMDU4NTk0IEwgMTg0LjI4MTI1IDI2OC43Njk1MzEgWiBNIDE4OC41NzAzMTIgMjY4Ljc2OTUzMSAiLz4KPHBhdGggc3R5bGU9IiBzdHJva2U6bm9uZTtmaWxsLXJ1bGU6bm9uemVybztmaWxsOnJnYigxMDAlLDEwMCUsMTAwJSk7ZmlsbC1vcGFjaXR5OjE7IiBkPSJNIDE5MC43MTQ4NDQgMjY1LjA1ODU5NCBMIDE4OC41NzAzMTIgMjYxLjM0NzY1NiBMIDE4Ni40MjU3ODEgMjY1LjA1ODU5NCBaIE0gMTkwLjcxNDg0NCAyNjUuMDU4NTk0ICIvPgo8cGF0aCBzdHlsZT0iIHN0cm9rZTpub25lO2ZpbGwtcnVsZTpub256ZXJvO2ZpbGw6cmdiKDEwMCUsMTAwJSwxMDAlKTtmaWxsLW9wYWNpdHk6MTsiIGQ9Ik0gMTk3LjE0NDUzMSAyNjEuMzQ3NjU2IEwgMTk1IDI1Ny42MzY3MTkgTCAxOTIuODU1NDY5IDI2MS4zNDc2NTYgWiBNIDE5Ny4xNDQ1MzEgMjYxLjM0NzY1NiAiLz4KPHBhdGggc3R5bGU9IiBzdHJva2U6bm9uZTtmaWxsLXJ1bGU6bm9uemVybztmaWxsOnJnYigxMDAlLDEwMCUsMTAwJSk7ZmlsbC1vcGFjaXR5OjE7IiBkPSJNIDE5Mi44NTU0NjkgMjYxLjM0NzY1NiBMIDE5MC43MTA5MzggMjU3LjYzNjcxOSBMIDE4OC41NjY0MDYgMjYxLjM0NzY1NiBaIE0gMTkyLjg1NTQ2OSAyNjEuMzQ3NjU2ICIvPgo8cGF0aCBzdHlsZT0iIHN0cm9rZTpub25lO2ZpbGwtcnVsZTpub256ZXJvO2ZpbGw6cmdiKDEwMCUsMTAwJSwxMDAlKTtmaWxsLW9wYWNpdHk6MTsiIGQ9Ik0gMTk1IDI1Ny42MzI4MTIgTCAxOTIuODU1NDY5IDI1My45MjE4NzUgTCAxOTAuNzEwOTM4IDI1Ny42MzI4MTIgWiBNIDE5NSAyNTcuNjMyODEyICIvPgo8cGF0aCBzdHlsZT0iIHN0cm9rZTpub25lO2ZpbGwtcnVsZTpub256ZXJvO2ZpbGw6cmdiKDEwMCUsMTAwJSwxMDAlKTtmaWxsLW9wYWNpdHk6MTsiIGQ9Ik0gMjEwIDI1My45MjE4NzUgTCAyMDcuODU1NDY5IDI1MC4yMTA5MzggTCAyMDUuNzEwOTM4IDI1My45MjE4NzUgWiBNIDIxMCAyNTMuOTIxODc1ICIvPgo8cGF0aCBzdHlsZT0iIHN0cm9rZTpub25lO2ZpbGwtcnVsZTpub256ZXJvO2ZpbGw6cmdiKDEwMCUsMTAwJSwxMDAlKTtmaWxsLW9wYWNpdHk6MTsiIGQ9Ik0gMjA1LjcxNDg0NCAyNTMuOTIxODc1IEwgMjAzLjU3MDMxMiAyNTAuMjEwOTM4IEwgMjAxLjQyNTc4MSAyNTMuOTIxODc1IFogTSAyMDUuNzE0ODQ0IDI1My45MjE4NzUgIi8+CjxwYXRoIHN0eWxlPSIgc3Ryb2tlOm5vbmU7ZmlsbC1ydWxlOm5vbnplcm87ZmlsbDpyZ2IoMTAwJSwxMDAlLDEwMCUpO2ZpbGwtb3BhY2l0eToxOyIgZD0iTSAyMDcuODU1NDY5IDI1MC4yMTA5MzggTCAyMDUuNzEwOTM4IDI0Ni41IEwgMjAzLjU2NjQwNiAyNTAuMjEwOTM4IFogTSAyMDcuODU1NDY5IDI1MC4yMTA5MzggIi8+CjxwYXRoIHN0eWxlPSIgc3Ryb2tlOm5vbmU7ZmlsbC1ydWxlOm5vbnplcm87ZmlsbDpyZ2IoMTAwJSwxMDAlLDEwMCUpO2ZpbGwtb3BhY2l0eToxOyIgZD0iTSAyMDEuNDI5Njg4IDI1My45MjE4NzUgTCAxOTkuMjg1MTU2IDI1MC4yMTA5MzggTCAxOTcuMTQwNjI1IDI1My45MjE4NzUgWiBNIDIwMS40Mjk2ODggMjUzLjkyMTg3NSAiLz4KPHBhdGggc3R5bGU9IiBzdHJva2U6bm9uZTtmaWxsLXJ1bGU6bm9uemVybztmaWxsOnJnYigxMDAlLDEwMCUsMTAwJSk7ZmlsbC1vcGFjaXR5OjE7IiBkPSJNIDE5Ny4xNDQ1MzEgMjUzLjkyMTg3NSBMIDE5NSAyNTAuMjEwOTM4IEwgMTkyLjg1NTQ2OSAyNTMuOTIxODc1IFogTSAxOTcuMTQ0NTMxIDI1My45MjE4NzUgIi8+CjxwYXRoIHN0eWxlPSIgc3Ryb2tlOm5vbmU7ZmlsbC1ydWxlOm5vbnplcm87ZmlsbDpyZ2IoMTAwJSwxMDAlLDEwMCUpO2ZpbGwtb3BhY2l0eToxOyIgZD0iTSAxOTkuMjg1MTU2IDI1MC4yMTA5MzggTCAxOTcuMTQwNjI1IDI0Ni41IEwgMTk0Ljk5NjA5NCAyNTAuMjEwOTM4IFogTSAxOTkuMjg1MTU2IDI1MC4yMTA5MzggIi8+CjxwYXRoIHN0eWxlPSIgc3Ryb2tlOm5vbmU7ZmlsbC1ydWxlOm5vbnplcm87ZmlsbDpyZ2IoMTAwJSwxMDAlLDEwMCUpO2ZpbGwtb3BhY2l0eToxOyIgZD0iTSAyMDUuNzE0ODQ0IDI0Ni41IEwgMjAzLjU3MDMxMiAyNDIuNzg5MDYyIEwgMjAxLjQyNTc4MSAyNDYuNSBaIE0gMjA1LjcxNDg0NCAyNDYuNSAiLz4KPHBhdGggc3R5bGU9IiBzdHJva2U6bm9uZTtmaWxsLXJ1bGU6bm9uemVybztmaWxsOnJnYigxMDAlLDEwMCUsMTAwJSk7ZmlsbC1vcGFjaXR5OjE7IiBkPSJNIDIwMS40Mjk2ODggMjQ2LjUgTCAxOTkuMjg1MTU2IDI0Mi43ODkwNjIgTCAxOTcuMTQwNjI1IDI0Ni41IFogTSAyMDEuNDI5Njg4IDI0Ni41ICIvPgo8cGF0aCBzdHlsZT0iIHN0cm9rZTpub25lO2ZpbGwtcnVsZTpub256ZXJvO2ZpbGw6cmdiKDEwMCUsMTAwJSwxMDAlKTtmaWxsLW9wYWNpdHk6MTsiIGQ9Ik0gMjAzLjU3MDMxMiAyNDIuNzg5MDYyIEwgMjAxLjQyNTc4MSAyMzkuMDc4MTI1IEwgMTk5LjI4MTI1IDI0Mi43ODkwNjIgWiBNIDIwMy41NzAzMTIgMjQyLjc4OTA2MiAiLz4KPHBhdGggc3R5bGU9IiBzdHJva2U6bm9uZTtmaWxsLXJ1bGU6bm9uemVybztmaWxsOnJnYigxMDAlLDEwMCUsMTAwJSk7ZmlsbC1vcGFjaXR5OjE7IiBkPSJNIDE4NC4yODUxNTYgMjY4Ljc2OTUzMSBMIDE4Mi4xNDA2MjUgMjY1LjA1ODU5NCBMIDE3OS45OTYwOTQgMjY4Ljc2OTUzMSBaIE0gMTg0LjI4NTE1NiAyNjguNzY5NTMxICIvPgo8cGF0aCBzdHlsZT0iIHN0cm9rZTpub25lO2ZpbGwtcnVsZTpub256ZXJvO2ZpbGw6cmdiKDEwMCUsMTAwJSwxMDAlKTtmaWxsLW9wYWNpdHk6MTsiIGQ9Ik0gMTgwIDI2OC43Njk1MzEgTCAxNzcuODU1NDY5IDI2NS4wNTg1OTQgTCAxNzUuNzEwOTM4IDI2OC43Njk1MzEgWiBNIDE4MCAyNjguNzY5NTMxICIvPgo8cGF0aCBzdHlsZT0iIHN0cm9rZTpub25lO2ZpbGwtcnVsZTpub256ZXJvO2ZpbGw6cmdiKDEwMCUsMTAwJSwxMDAlKTtmaWxsLW9wYWNpdHk6MTsiIGQ9Ik0gMTgyLjE0NDUzMSAyNjUuMDU4NTk0IEwgMTgwIDI2MS4zNDc2NTYgTCAxNzcuODU1NDY5IDI2NS4wNTg1OTQgWiBNIDE4Mi4xNDQ1MzEgMjY1LjA1ODU5NCAiLz4KPHBhdGggc3R5bGU9IiBzdHJva2U6bm9uZTtmaWxsLXJ1bGU6bm9uemVybztmaWxsOnJnYigxMDAlLDEwMCUsMTAwJSk7ZmlsbC1vcGFjaXR5OjE7IiBkPSJNIDE3NS43MTQ4NDQgMjY4Ljc2OTUzMSBMIDE3My41NzAzMTIgMjY1LjA1ODU5NCBMIDE3MS40MjU3ODEgMjY4Ljc2OTUzMSBaIE0gMTc1LjcxNDg0NCAyNjguNzY5NTMxICIvPgo8cGF0aCBzdHlsZT0iIHN0cm9rZTpub25lO2ZpbGwtcnVsZTpub256ZXJvO2ZpbGw6cmdiKDEwMCUsMTAwJSwxMDAlKTtmaWxsLW9wYWNpdHk6MTsiIGQ9Ik0gMTcxLjQyOTY4OCAyNjguNzY5NTMxIEwgMTY5LjI4NTE1NiAyNjUuMDU4NTk0IEwgMTY3LjE0MDYyNSAyNjguNzY5NTMxIFogTSAxNzEuNDI5Njg4IDI2OC43Njk1MzEgIi8+CjxwYXRoIHN0eWxlPSIgc3Ryb2tlOm5vbmU7ZmlsbC1ydWxlOm5vbnplcm87ZmlsbDpyZ2IoMTAwJSwxMDAlLDEwMCUpO2ZpbGwtb3BhY2l0eToxOyIgZD0iTSAxNzMuNTcwMzEyIDI2NS4wNTg1OTQgTCAxNzEuNDI1NzgxIDI2MS4zNDc2NTYgTCAxNjkuMjgxMjUgMjY1LjA1ODU5NCBaIE0gMTczLjU3MDMxMiAyNjUuMDU4NTk0ICIvPgo8cGF0aCBzdHlsZT0iIHN0cm9rZTpub25lO2ZpbGwtcnVsZTpub256ZXJvO2ZpbGw6cmdiKDEwMCUsMTAwJSwxMDAlKTtmaWxsLW9wYWNpdHk6MTsiIGQ9Ik0gMTgwIDI2MS4zNDc2NTYgTCAxNzcuODU1NDY5IDI1Ny42MzY3MTkgTCAxNzUuNzEwOTM4IDI2MS4zNDc2NTYgWiBNIDE4MCAyNjEuMzQ3NjU2ICIvPgo8cGF0aCBzdHlsZT0iIHN0cm9rZTpub25lO2ZpbGwtcnVsZTpub256ZXJvO2ZpbGw6cmdiKDEwMCUsMTAwJSwxMDAlKTtmaWxsLW9wYWNpdHk6MTsiIGQ9Ik0gMTc1LjcxNDg0NCAyNjEuMzQ3NjU2IEwgMTczLjU3MDMxMiAyNTcuNjM2NzE5IEwgMTcxLjQyNTc4MSAyNjEuMzQ3NjU2IFogTSAxNzUuNzE0ODQ0IDI2MS4zNDc2NTYgIi8+CjxwYXRoIHN0eWxlPSIgc3Ryb2tlOm5vbmU7ZmlsbC1ydWxlOm5vbnplcm87ZmlsbDpyZ2IoMTAwJSwxMDAlLDEwMCUpO2ZpbGwtb3BhY2l0eToxOyIgZD0iTSAxNzcuODU1NDY5IDI1Ny42MzI4MTIgTCAxNzUuNzEwOTM4IDI1My45MjE4NzUgTCAxNzMuNTY2NDA2IDI1Ny42MzI4MTIgWiBNIDE3Ny44NTU0NjkgMjU3LjYzMjgxMiAiLz4KPHBhdGggc3R5bGU9IiBzdHJva2U6bm9uZTtmaWxsLXJ1bGU6bm9uemVybztmaWxsOnJnYigxMDAlLDEwMCUsMTAwJSk7ZmlsbC1vcGFjaXR5OjE7IiBkPSJNIDE2Ny4xNDQ1MzEgMjY4Ljc2OTUzMSBMIDE2NSAyNjUuMDU4NTk0IEwgMTYyLjg1NTQ2OSAyNjguNzY5NTMxIFogTSAxNjcuMTQ0NTMxIDI2OC43Njk1MzEgIi8+CjxwYXRoIHN0eWxlPSIgc3Ryb2tlOm5vbmU7ZmlsbC1ydWxlOm5vbnplcm87ZmlsbDpyZ2IoMTAwJSwxMDAlLDEwMCUpO2ZpbGwtb3BhY2l0eToxOyIgZD0iTSAxNjIuODU1NDY5IDI2OC43Njk1MzEgTCAxNjAuNzEwOTM4IDI2NS4wNTg1OTQgTCAxNTguNTY2NDA2IDI2OC43Njk1MzEgWiBNIDE2Mi44NTU0NjkgMjY4Ljc2OTUzMSAiLz4KPHBhdGggc3R5bGU9IiBzdHJva2U6bm9uZTtmaWxsLXJ1bGU6bm9uemVybztmaWxsOnJnYigxMDAlLDEwMCUsMTAwJSk7ZmlsbC1vcGFjaXR5OjE7IiBkPSJNIDE2NSAyNjUuMDU4NTk0IEwgMTYyLjg1NTQ2OSAyNjEuMzQ3NjU2IEwgMTYwLjcxMDkzOCAyNjUuMDU4NTk0IFogTSAxNjUgMjY1LjA1ODU5NCAiLz4KPHBhdGggc3R5bGU9IiBzdHJva2U6bm9uZTtmaWxsLXJ1bGU6bm9uemVybztmaWxsOnJnYigxMDAlLDEwMCUsMTAwJSk7ZmlsbC1vcGFjaXR5OjE7IiBkPSJNIDE1OC41NzAzMTIgMjY4Ljc2OTUzMSBMIDE1Ni40MjU3ODEgMjY1LjA1ODU5NCBMIDE1NC4yODEyNSAyNjguNzY5NTMxIFogTSAxNTguNTcwMzEyIDI2OC43Njk1MzEgIi8+CjxwYXRoIHN0eWxlPSIgc3Ryb2tlOm5vbmU7ZmlsbC1ydWxlOm5vbnplcm87ZmlsbDpyZ2IoMTAwJSwxMDAlLDEwMCUpO2ZpbGwtb3BhY2l0eToxOyIgZD0iTSAxNTQuMjg1MTU2IDI2OC43Njk1MzEgTCAxNTIuMTQwNjI1IDI2NS4wNTg1OTQgTCAxNDkuOTk2MDk0IDI2OC43Njk1MzEgWiBNIDE1NC4yODUxNTYgMjY4Ljc2OTUzMSAiLz4KPHBhdGggc3R5bGU9IiBzdHJva2U6bm9uZTtmaWxsLXJ1bGU6bm9uemVybztmaWxsOnJnYigxMDAlLDEwMCUsMTAwJSk7ZmlsbC1vcGFjaXR5OjE7IiBkPSJNIDE1Ni40Mjk2ODggMjY1LjA1ODU5NCBMIDE1NC4yODUxNTYgMjYxLjM0NzY1NiBMIDE1Mi4xNDA2MjUgMjY1LjA1ODU5NCBaIE0gMTU2LjQyOTY4OCAyNjUuMDU4NTk0ICIvPgo8cGF0aCBzdHlsZT0iIHN0cm9rZTpub25lO2ZpbGwtcnVsZTpub256ZXJvO2ZpbGw6cmdiKDEwMCUsMTAwJSwxMDAlKTtmaWxsLW9wYWNpdHk6MTsiIGQ9Ik0gMTYyLjg1NTQ2OSAyNjEuMzQ3NjU2IEwgMTYwLjcxMDkzOCAyNTcuNjM2NzE5IEwgMTU4LjU2NjQwNiAyNjEuMzQ3NjU2IFogTSAxNjIuODU1NDY5IDI2MS4zNDc2NTYgIi8+CjxwYXRoIHN0eWxlPSIgc3Ryb2tlOm5vbmU7ZmlsbC1ydWxlOm5vbnplcm87ZmlsbDpyZ2IoMTAwJSwxMDAlLDEwMCUpO2ZpbGwtb3BhY2l0eToxOyIgZD0iTSAxNTguNTcwMzEyIDI2MS4zNDc2NTYgTCAxNTYuNDI1NzgxIDI1Ny42MzY3MTkgTCAxNTQuMjgxMjUgMjYxLjM0NzY1NiBaIE0gMTU4LjU3MDMxMiAyNjEuMzQ3NjU2ICIvPgo8cGF0aCBzdHlsZT0iIHN0cm9rZTpub25lO2ZpbGwtcnVsZTpub256ZXJvO2ZpbGw6cmdiKDEwMCUsMTAwJSwxMDAlKTtmaWxsLW9wYWNpdHk6MTsiIGQ9Ik0gMTYwLjcxNDg0NCAyNTcuNjMyODEyIEwgMTU4LjU3MDMxMiAyNTMuOTIxODc1IEwgMTU2LjQyNTc4MSAyNTcuNjMyODEyIFogTSAxNjAuNzE0ODQ0IDI1Ny42MzI4MTIgIi8+CjxwYXRoIHN0eWxlPSIgc3Ryb2tlOm5vbmU7ZmlsbC1ydWxlOm5vbnplcm87ZmlsbDpyZ2IoMTAwJSwxMDAlLDEwMCUpO2ZpbGwtb3BhY2l0eToxOyIgZD0iTSAxNzUuNzE0ODQ0IDI1My45MjE4NzUgTCAxNzMuNTcwMzEyIDI1MC4yMTA5MzggTCAxNzEuNDI1NzgxIDI1My45MjE4NzUgWiBNIDE3NS43MTQ4NDQgMjUzLjkyMTg3NSAiLz4KPHBhdGggc3R5bGU9IiBzdHJva2U6bm9uZTtmaWxsLXJ1bGU6bm9uemVybztmaWxsOnJnYigxMDAlLDEwMCUsMTAwJSk7ZmlsbC1vcGFjaXR5OjE7IiBkPSJNIDE3MS40Mjk2ODggMjUzLjkyMTg3NSBMIDE2OS4yODUxNTYgMjUwLjIxMDkzOCBMIDE2Ny4xNDA2MjUgMjUzLjkyMTg3NSBaIE0gMTcxLjQyOTY4OCAyNTMuOTIxODc1ICIvPgo8cGF0aCBzdHlsZT0iIHN0cm9rZTpub25lO2ZpbGwtcnVsZTpub256ZXJvO2ZpbGw6cmdiKDEwMCUsMTAwJSwxMDAlKTtmaWxsLW9wYWNpdHk6MTsiIGQ9Ik0gMTczLjU3MDMxMiAyNTAuMjEwOTM4IEwgMTcxLjQyNTc4MSAyNDYuNSBMIDE2OS4yODEyNSAyNTAuMjEwOTM4IFogTSAxNzMuNTcwMzEyIDI1MC4yMTA5MzggIi8+CjxwYXRoIHN0eWxlPSIgc3Ryb2tlOm5vbmU7ZmlsbC1ydWxlOm5vbnplcm87ZmlsbDpyZ2IoMTAwJSwxMDAlLDEwMCUpO2ZpbGwtb3BhY2l0eToxOyIgZD0iTSAxNjcuMTQ0NTMxIDI1My45MjE4NzUgTCAxNjUgMjUwLjIxMDkzOCBMIDE2Mi44NTU0NjkgMjUzLjkyMTg3NSBaIE0gMTY3LjE0NDUzMSAyNTMuOTIxODc1ICIvPgo8cGF0aCBzdHlsZT0iIHN0cm9rZTpub25lO2ZpbGwtcnVsZTpub256ZXJvO2ZpbGw6cmdiKDEwMCUsMTAwJSwxMDAlKTtmaWxsLW9wYWNpdHk6MTsiIGQ9Ik0gMTYyLjg1NTQ2OSAyNTMuOTIxODc1IEwgMTYwLjcxMDkzOCAyNTAuMjEwOTM4IEwgMTU4LjU2NjQwNiAyNTMuOTIxODc1IFogTSAxNjIuODU1NDY5IDI1My45MjE4NzUgIi8+CjxwYXRoIHN0eWxlPSIgc3Ryb2tlOm5vbmU7ZmlsbC1ydWxlOm5vbnplcm87ZmlsbDpyZ2IoMTAwJSwxMDAlLDEwMCUpO2ZpbGwtb3BhY2l0eToxOyIgZD0iTSAxNjUgMjUwLjIxMDkzOCBMIDE2Mi44NTU0NjkgMjQ2LjUgTCAxNjAuNzEwOTM4IDI1MC4yMTA5MzggWiBNIDE2NSAyNTAuMjEwOTM4ICIvPgo8cGF0aCBzdHlsZT0iIHN0cm9rZTpub25lO2ZpbGwtcnVsZTpub256ZXJvO2ZpbGw6cmdiKDEwMCUsMTAwJSwxMDAlKTtmaWxsLW9wYWNpdHk6MTsiIGQ9Ik0gMTcxLjQyOTY4OCAyNDYuNSBMIDE2OS4yODUxNTYgMjQyLjc4OTA2MiBMIDE2Ny4xNDA2MjUgMjQ2LjUgWiBNIDE3MS40Mjk2ODggMjQ2LjUgIi8+CjxwYXRoIHN0eWxlPSIgc3Ryb2tlOm5vbmU7ZmlsbC1ydWxlOm5vbnplcm87ZmlsbDpyZ2IoMTAwJSwxMDAlLDEwMCUpO2ZpbGwtb3BhY2l0eToxOyIgZD0iTSAxNjcuMTQ0NTMxIDI0Ni41IEwgMTY1IDI0Mi43ODkwNjIgTCAxNjIuODU1NDY5IDI0Ni41IFogTSAxNjcuMTQ0NTMxIDI0Ni41ICIvPgo8cGF0aCBzdHlsZT0iIHN0cm9rZTpub25lO2ZpbGwtcnVsZTpub256ZXJvO2ZpbGw6cmdiKDEwMCUsMTAwJSwxMDAlKTtmaWxsLW9wYWNpdHk6MTsiIGQ9Ik0gMTY5LjI4NTE1NiAyNDIuNzg5MDYyIEwgMTY3LjE0MDYyNSAyMzkuMDc4MTI1IEwgMTY0Ljk5NjA5NCAyNDIuNzg5MDYyIFogTSAxNjkuMjg1MTU2IDI0Mi43ODkwNjIgIi8+CjxwYXRoIHN0eWxlPSIgc3Ryb2tlOm5vbmU7ZmlsbC1ydWxlOm5vbnplcm87ZmlsbDpyZ2IoMTAwJSwxMDAlLDEwMCUpO2ZpbGwtb3BhY2l0eToxOyIgZD0iTSAyMDEuNDI5Njg4IDIzOS4wNzgxMjUgTCAxOTkuMjg1MTU2IDIzNS4zNjcxODggTCAxOTcuMTQwNjI1IDIzOS4wNzgxMjUgWiBNIDIwMS40Mjk2ODggMjM5LjA3ODEyNSAiLz4KPHBhdGggc3R5bGU9IiBzdHJva2U6bm9uZTtmaWxsLXJ1bGU6bm9uemVybztmaWxsOnJnYigxMDAlLDEwMCUsMTAwJSk7ZmlsbC1vcGFjaXR5OjE7IiBkPSJNIDE5Ny4xNDQ1MzEgMjM5LjA3ODEyNSBMIDE5NSAyMzUuMzY3MTg4IEwgMTkyLjg1NTQ2OSAyMzkuMDc4MTI1IFogTSAxOTcuMTQ0NTMxIDIzOS4wNzgxMjUgIi8+CjxwYXRoIHN0eWxlPSIgc3Ryb2tlOm5vbmU7ZmlsbC1ydWxlOm5vbnplcm87ZmlsbDpyZ2IoMTAwJSwxMDAlLDEwMCUpO2ZpbGwtb3BhY2l0eToxOyIgZD0iTSAxOTkuMjg1MTU2IDIzNS4zNjcxODggTCAxOTcuMTQwNjI1IDIzMS42NTYyNSBMIDE5NC45OTYwOTQgMjM1LjM2NzE4OCBaIE0gMTk5LjI4NTE1NiAyMzUuMzY3MTg4ICIvPgo8cGF0aCBzdHlsZT0iIHN0cm9rZTpub25lO2ZpbGwtcnVsZTpub256ZXJvO2ZpbGw6cmdiKDEwMCUsMTAwJSwxMDAlKTtmaWxsLW9wYWNpdHk6MTsiIGQ9Ik0gMTkyLjg1NTQ2OSAyMzkuMDc4MTI1IEwgMTkwLjcxMDkzOCAyMzUuMzY3MTg4IEwgMTg4LjU2NjQwNiAyMzkuMDc4MTI1IFogTSAxOTIuODU1NDY5IDIzOS4wNzgxMjUgIi8+CjxwYXRoIHN0eWxlPSIgc3Ryb2tlOm5vbmU7ZmlsbC1ydWxlOm5vbnplcm87ZmlsbDpyZ2IoMTAwJSwxMDAlLDEwMCUpO2ZpbGwtb3BhY2l0eToxOyIgZD0iTSAxODguNTcwMzEyIDIzOS4wNzgxMjUgTCAxODYuNDI1NzgxIDIzNS4zNjcxODggTCAxODQuMjgxMjUgMjM5LjA3ODEyNSBaIE0gMTg4LjU3MDMxMiAyMzkuMDc4MTI1ICIvPgo8cGF0aCBzdHlsZT0iIHN0cm9rZTpub25lO2ZpbGwtcnVsZTpub256ZXJvO2ZpbGw6cmdiKDEwMCUsMTAwJSwxMDAlKTtmaWxsLW9wYWNpdHk6MTsiIGQ9Ik0gMTkwLjcxNDg0NCAyMzUuMzY3MTg4IEwgMTg4LjU3MDMxMiAyMzEuNjU2MjUgTCAxODYuNDI1NzgxIDIzNS4zNjcxODggWiBNIDE5MC43MTQ4NDQgMjM1LjM2NzE4OCAiLz4KPHBhdGggc3R5bGU9IiBzdHJva2U6bm9uZTtmaWxsLXJ1bGU6bm9uemVybztmaWxsOnJnYigxMDAlLDEwMCUsMTAwJSk7ZmlsbC1vcGFjaXR5OjE7IiBkPSJNIDE5Ny4xNDQ1MzEgMjMxLjY1MjM0NCBMIDE5NSAyMjcuOTQxNDA2IEwgMTkyLjg1NTQ2OSAyMzEuNjUyMzQ0IFogTSAxOTcuMTQ0NTMxIDIzMS42NTIzNDQgIi8+CjxwYXRoIHN0eWxlPSIgc3Ryb2tlOm5vbmU7ZmlsbC1ydWxlOm5vbnplcm87ZmlsbDpyZ2IoMTAwJSwxMDAlLDEwMCUpO2ZpbGwtb3BhY2l0eToxOyIgZD0iTSAxOTIuODU1NDY5IDIzMS42NTIzNDQgTCAxOTAuNzEwOTM4IDIyNy45NDE0MDYgTCAxODguNTY2NDA2IDIzMS42NTIzNDQgWiBNIDE5Mi44NTU0NjkgMjMxLjY1MjM0NCAiLz4KPHBhdGggc3R5bGU9IiBzdHJva2U6bm9uZTtmaWxsLXJ1bGU6bm9uemVybztmaWxsOnJnYigxMDAlLDEwMCUsMTAwJSk7ZmlsbC1vcGFjaXR5OjE7IiBkPSJNIDE5NSAyMjcuOTQxNDA2IEwgMTkyLjg1NTQ2OSAyMjQuMjMwNDY5IEwgMTkwLjcxMDkzOCAyMjcuOTQxNDA2IFogTSAxOTUgMjI3Ljk0MTQwNiAiLz4KPHBhdGggc3R5bGU9IiBzdHJva2U6bm9uZTtmaWxsLXJ1bGU6bm9uemVybztmaWxsOnJnYigxMDAlLDEwMCUsMTAwJSk7ZmlsbC1vcGFjaXR5OjE7IiBkPSJNIDE4NC4yODUxNTYgMjM5LjA3ODEyNSBMIDE4Mi4xNDA2MjUgMjM1LjM2NzE4OCBMIDE3OS45OTYwOTQgMjM5LjA3ODEyNSBaIE0gMTg0LjI4NTE1NiAyMzkuMDc4MTI1ICIvPgo8cGF0aCBzdHlsZT0iIHN0cm9rZTpub25lO2ZpbGwtcnVsZTpub256ZXJvO2ZpbGw6cmdiKDEwMCUsMTAwJSwxMDAlKTtmaWxsLW9wYWNpdHk6MTsiIGQ9Ik0gMTgwIDIzOS4wNzgxMjUgTCAxNzcuODU1NDY5IDIzNS4zNjcxODggTCAxNzUuNzEwOTM4IDIzOS4wNzgxMjUgWiBNIDE4MCAyMzkuMDc4MTI1ICIvPgo8cGF0aCBzdHlsZT0iIHN0cm9rZTpub25lO2ZpbGwtcnVsZTpub256ZXJvO2ZpbGw6cmdiKDEwMCUsMTAwJSwxMDAlKTtmaWxsLW9wYWNpdHk6MTsiIGQ9Ik0gMTgyLjE0NDUzMSAyMzUuMzY3MTg4IEwgMTgwIDIzMS42NTYyNSBMIDE3Ny44NTU0NjkgMjM1LjM2NzE4OCBaIE0gMTgyLjE0NDUzMSAyMzUuMzY3MTg4ICIvPgo8cGF0aCBzdHlsZT0iIHN0cm9rZTpub25lO2ZpbGwtcnVsZTpub256ZXJvO2ZpbGw6cmdiKDEwMCUsMTAwJSwxMDAlKTtmaWxsLW9wYWNpdHk6MTsiIGQ9Ik0gMTc1LjcxNDg0NCAyMzkuMDc4MTI1IEwgMTczLjU3MDMxMiAyMzUuMzY3MTg4IEwgMTcxLjQyNTc4MSAyMzkuMDc4MTI1IFogTSAxNzUuNzE0ODQ0IDIzOS4wNzgxMjUgIi8+CjxwYXRoIHN0eWxlPSIgc3Ryb2tlOm5vbmU7ZmlsbC1ydWxlOm5vbnplcm87ZmlsbDpyZ2IoMTAwJSwxMDAlLDEwMCUpO2ZpbGwtb3BhY2l0eToxOyIgZD0iTSAxNzEuNDI5Njg4IDIzOS4wNzgxMjUgTCAxNjkuMjg1MTU2IDIzNS4zNjcxODggTCAxNjcuMTQwNjI1IDIzOS4wNzgxMjUgWiBNIDE3MS40Mjk2ODggMjM5LjA3ODEyNSAiLz4KPHBhdGggc3R5bGU9IiBzdHJva2U6bm9uZTtmaWxsLXJ1bGU6bm9uemVybztmaWxsOnJnYigxMDAlLDEwMCUsMTAwJSk7ZmlsbC1vcGFjaXR5OjE7IiBkPSJNIDE3My41NzAzMTIgMjM1LjM2NzE4OCBMIDE3MS40MjU3ODEgMjMxLjY1NjI1IEwgMTY5LjI4MTI1IDIzNS4zNjcxODggWiBNIDE3My41NzAzMTIgMjM1LjM2NzE4OCAiLz4KPHBhdGggc3R5bGU9IiBzdHJva2U6bm9uZTtmaWxsLXJ1bGU6bm9uemVybztmaWxsOnJnYigxMDAlLDEwMCUsMTAwJSk7ZmlsbC1vcGFjaXR5OjE7IiBkPSJNIDE4MCAyMzEuNjUyMzQ0IEwgMTc3Ljg1NTQ2OSAyMjcuOTQxNDA2IEwgMTc1LjcxMDkzOCAyMzEuNjUyMzQ0IFogTSAxODAgMjMxLjY1MjM0NCAiLz4KPHBhdGggc3R5bGU9IiBzdHJva2U6bm9uZTtmaWxsLXJ1bGU6bm9uemVybztmaWxsOnJnYigxMDAlLDEwMCUsMTAwJSk7ZmlsbC1vcGFjaXR5OjE7IiBkPSJNIDE3NS43MTQ4NDQgMjMxLjY1MjM0NCBMIDE3My41NzAzMTIgMjI3Ljk0MTQwNiBMIDE3MS40MjU3ODEgMjMxLjY1MjM0NCBaIE0gMTc1LjcxNDg0NCAyMzEuNjUyMzQ0ICIvPgo8cGF0aCBzdHlsZT0iIHN0cm9rZTpub25lO2ZpbGwtcnVsZTpub256ZXJvO2ZpbGw6cmdiKDEwMCUsMTAwJSwxMDAlKTtmaWxsLW9wYWNpdHk6MTsiIGQ9Ik0gMTc3Ljg1NTQ2OSAyMjcuOTQxNDA2IEwgMTc1LjcxMDkzOCAyMjQuMjMwNDY5IEwgMTczLjU2NjQwNiAyMjcuOTQxNDA2IFogTSAxNzcuODU1NDY5IDIyNy45NDE0MDYgIi8+CjxwYXRoIHN0eWxlPSIgc3Ryb2tlOm5vbmU7ZmlsbC1ydWxlOm5vbnplcm87ZmlsbDpyZ2IoMTAwJSwxMDAlLDEwMCUpO2ZpbGwtb3BhY2l0eToxOyIgZD0iTSAxOTIuODU1NDY5IDIyNC4yMzA0NjkgTCAxOTAuNzEwOTM4IDIyMC41MTk1MzEgTCAxODguNTY2NDA2IDIyNC4yMzA0NjkgWiBNIDE5Mi44NTU0NjkgMjI0LjIzMDQ2OSAiLz4KPHBhdGggc3R5bGU9IiBzdHJva2U6bm9uZTtmaWxsLXJ1bGU6bm9uemVybztmaWxsOnJnYigxMDAlLDEwMCUsMTAwJSk7ZmlsbC1vcGFjaXR5OjE7IiBkPSJNIDE4OC41NzAzMTIgMjI0LjIzMDQ2OSBMIDE4Ni40MjU3ODEgMjIwLjUxOTUzMSBMIDE4NC4yODEyNSAyMjQuMjMwNDY5IFogTSAxODguNTcwMzEyIDIyNC4yMzA0NjkgIi8+CjxwYXRoIHN0eWxlPSIgc3Ryb2tlOm5vbmU7ZmlsbC1ydWxlOm5vbnplcm87ZmlsbDpyZ2IoMTAwJSwxMDAlLDEwMCUpO2ZpbGwtb3BhY2l0eToxOyIgZD0iTSAxOTAuNzE0ODQ0IDIyMC41MTk1MzEgTCAxODguNTcwMzEyIDIxNi44MDg1OTQgTCAxODYuNDI1NzgxIDIyMC41MTk1MzEgWiBNIDE5MC43MTQ4NDQgMjIwLjUxOTUzMSAiLz4KPHBhdGggc3R5bGU9IiBzdHJva2U6bm9uZTtmaWxsLXJ1bGU6bm9uemVybztmaWxsOnJnYigxMDAlLDEwMCUsMTAwJSk7ZmlsbC1vcGFjaXR5OjE7IiBkPSJNIDE4NC4yODUxNTYgMjI0LjIzMDQ2OSBMIDE4Mi4xNDA2MjUgMjIwLjUxOTUzMSBMIDE3OS45OTYwOTQgMjI0LjIzMDQ2OSBaIE0gMTg0LjI4NTE1NiAyMjQuMjMwNDY5ICIvPgo8cGF0aCBzdHlsZT0iIHN0cm9rZTpub25lO2ZpbGwtcnVsZTpub256ZXJvO2ZpbGw6cmdiKDEwMCUsMTAwJSwxMDAlKTtmaWxsLW9wYWNpdHk6MTsiIGQ9Ik0gMTgwIDIyNC4yMzA0NjkgTCAxNzcuODU1NDY5IDIyMC41MTk1MzEgTCAxNzUuNzEwOTM4IDIyNC4yMzA0NjkgWiBNIDE4MCAyMjQuMjMwNDY5ICIvPgo8cGF0aCBzdHlsZT0iIHN0cm9rZTpub25lO2ZpbGwtcnVsZTpub256ZXJvO2ZpbGw6cmdiKDEwMCUsMTAwJSwxMDAlKTtmaWxsLW9wYWNpdHk6MTsiIGQ9Ik0gMTgyLjE0NDUzMSAyMjAuNTE5NTMxIEwgMTgwIDIxNi44MDg1OTQgTCAxNzcuODU1NDY5IDIyMC41MTk1MzEgWiBNIDE4Mi4xNDQ1MzEgMjIwLjUxOTUzMSAiLz4KPHBhdGggc3R5bGU9IiBzdHJva2U6bm9uZTtmaWxsLXJ1bGU6bm9uemVybztmaWxsOnJnYigxMDAlLDEwMCUsMTAwJSk7ZmlsbC1vcGFjaXR5OjE7IiBkPSJNIDE4OC41NzAzMTIgMjE2LjgwODU5NCBMIDE4Ni40MjU3ODEgMjEzLjA5NzY1NiBMIDE4NC4yODEyNSAyMTYuODA4NTk0IFogTSAxODguNTcwMzEyIDIxNi44MDg1OTQgIi8+CjxwYXRoIHN0eWxlPSIgc3Ryb2tlOm5vbmU7ZmlsbC1ydWxlOm5vbnplcm87ZmlsbDpyZ2IoMTAwJSwxMDAlLDEwMCUpO2ZpbGwtb3BhY2l0eToxOyIgZD0iTSAxODQuMjg1MTU2IDIxNi44MDg1OTQgTCAxODIuMTQwNjI1IDIxMy4wOTc2NTYgTCAxNzkuOTk2MDk0IDIxNi44MDg1OTQgWiBNIDE4NC4yODUxNTYgMjE2LjgwODU5NCAiLz4KPHBhdGggc3R5bGU9IiBzdHJva2U6bm9uZTtmaWxsLXJ1bGU6bm9uemVybztmaWxsOnJnYigxMDAlLDEwMCUsMTAwJSk7ZmlsbC1vcGFjaXR5OjE7IiBkPSJNIDE4Ni40Mjk2ODggMjEzLjA5NzY1NiBMIDE4NC4yODUxNTYgMjA5LjM4NjcxOSBMIDE4Mi4xNDA2MjUgMjEzLjA5NzY1NiBaIE0gMTg2LjQyOTY4OCAyMTMuMDk3NjU2ICIvPgo8cGF0aCBzdHlsZT0iIHN0cm9rZTpub25lO2ZpbGwtcnVsZTpub256ZXJvO2ZpbGw6cmdiKDEwMCUsMTAwJSwxMDAlKTtmaWxsLW9wYWNpdHk6MTsiIGQ9Ik0gMjUyLjg1NTQ2OSAyMDkuMzgyODEyIEwgMjUwLjcxMDkzOCAyMDUuNjcxODc1IEwgMjQ4LjU2NjQwNiAyMDkuMzgyODEyIFogTSAyNTIuODU1NDY5IDIwOS4zODI4MTIgIi8+CjxwYXRoIHN0eWxlPSIgc3Ryb2tlOm5vbmU7ZmlsbC1ydWxlOm5vbnplcm87ZmlsbDpyZ2IoMTAwJSwxMDAlLDEwMCUpO2ZpbGwtb3BhY2l0eToxOyIgZD0iTSAyNDguNTcwMzEyIDIwOS4zODI4MTIgTCAyNDYuNDI1NzgxIDIwNS42NzE4NzUgTCAyNDQuMjgxMjUgMjA5LjM4MjgxMiBaIE0gMjQ4LjU3MDMxMiAyMDkuMzgyODEyICIvPgo8cGF0aCBzdHlsZT0iIHN0cm9rZTpub25lO2ZpbGwtcnVsZTpub256ZXJvO2ZpbGw6cmdiKDEwMCUsMTAwJSwxMDAlKTtmaWxsLW9wYWNpdHk6MTsiIGQ9Ik0gMjUwLjcxNDg0NCAyMDUuNjcxODc1IEwgMjQ4LjU3MDMxMiAyMDEuOTYwOTM4IEwgMjQ2LjQyNTc4MSAyMDUuNjcxODc1IFogTSAyNTAuNzE0ODQ0IDIwNS42NzE4NzUgIi8+CjxwYXRoIHN0eWxlPSIgc3Ryb2tlOm5vbmU7ZmlsbC1ydWxlOm5vbnplcm87ZmlsbDpyZ2IoMTAwJSwxMDAlLDEwMCUpO2ZpbGwtb3BhY2l0eToxOyIgZD0iTSAyNDQuMjg1MTU2IDIwOS4zODI4MTIgTCAyNDIuMTQwNjI1IDIwNS42NzE4NzUgTCAyMzkuOTk2MDk0IDIwOS4zODI4MTIgWiBNIDI0NC4yODUxNTYgMjA5LjM4MjgxMiAiLz4KPHBhdGggc3R5bGU9IiBzdHJva2U6bm9uZTtmaWxsLXJ1bGU6bm9uemVybztmaWxsOnJnYigxMDAlLDEwMCUsMTAwJSk7ZmlsbC1vcGFjaXR5OjE7IiBkPSJNIDI0MCAyMDkuMzgyODEyIEwgMjM3Ljg1NTQ2OSAyMDUuNjcxODc1IEwgMjM1LjcxMDkzOCAyMDkuMzgyODEyIFogTSAyNDAgMjA5LjM4MjgxMiAiLz4KPHBhdGggc3R5bGU9IiBzdHJva2U6bm9uZTtmaWxsLXJ1bGU6bm9uemVybztmaWxsOnJnYigxMDAlLDEwMCUsMTAwJSk7ZmlsbC1vcGFjaXR5OjE7IiBkPSJNIDI0Mi4xNDQ1MzEgMjA1LjY3MTg3NSBMIDI0MCAyMDEuOTYwOTM4IEwgMjM3Ljg1NTQ2OSAyMDUuNjcxODc1IFogTSAyNDIuMTQ0NTMxIDIwNS42NzE4NzUgIi8+CjxwYXRoIHN0eWxlPSIgc3Ryb2tlOm5vbmU7ZmlsbC1ydWxlOm5vbnplcm87ZmlsbDpyZ2IoMTAwJSwxMDAlLDEwMCUpO2ZpbGwtb3BhY2l0eToxOyIgZD0iTSAyNDguNTcwMzEyIDIwMS45NjA5MzggTCAyNDYuNDI1NzgxIDE5OC4yNSBMIDI0NC4yODEyNSAyMDEuOTYwOTM4IFogTSAyNDguNTcwMzEyIDIwMS45NjA5MzggIi8+CjxwYXRoIHN0eWxlPSIgc3Ryb2tlOm5vbmU7ZmlsbC1ydWxlOm5vbnplcm87ZmlsbDpyZ2IoMTAwJSwxMDAlLDEwMCUpO2ZpbGwtb3BhY2l0eToxOyIgZD0iTSAyNDQuMjg1MTU2IDIwMS45NjA5MzggTCAyNDIuMTQwNjI1IDE5OC4yNSBMIDIzOS45OTYwOTQgMjAxLjk2MDkzOCBaIE0gMjQ0LjI4NTE1NiAyMDEuOTYwOTM4ICIvPgo8cGF0aCBzdHlsZT0iIHN0cm9rZTpub25lO2ZpbGwtcnVsZTpub256ZXJvO2ZpbGw6cmdiKDEwMCUsMTAwJSwxMDAlKTtmaWxsLW9wYWNpdHk6MTsiIGQ9Ik0gMjQ2LjQyOTY4OCAxOTguMjUgTCAyNDQuMjg1MTU2IDE5NC41MzkwNjIgTCAyNDIuMTQwNjI1IDE5OC4yNSBaIE0gMjQ2LjQyOTY4OCAxOTguMjUgIi8+CjxwYXRoIHN0eWxlPSIgc3Ryb2tlOm5vbmU7ZmlsbC1ydWxlOm5vbnplcm87ZmlsbDpyZ2IoMTAwJSwxMDAlLDEwMCUpO2ZpbGwtb3BhY2l0eToxOyIgZD0iTSAyMzUuNzE0ODQ0IDIwOS4zODI4MTIgTCAyMzMuNTcwMzEyIDIwNS42NzE4NzUgTCAyMzEuNDI1NzgxIDIwOS4zODI4MTIgWiBNIDIzNS43MTQ4NDQgMjA5LjM4MjgxMiAiLz4KPHBhdGggc3R5bGU9IiBzdHJva2U6bm9uZTtmaWxsLXJ1bGU6bm9uemVybztmaWxsOnJnYigxMDAlLDEwMCUsMTAwJSk7ZmlsbC1vcGFjaXR5OjE7IiBkPSJNIDIzMS40Mjk2ODggMjA5LjM4MjgxMiBMIDIyOS4yODUxNTYgMjA1LjY3MTg3NSBMIDIyNy4xNDA2MjUgMjA5LjM4MjgxMiBaIE0gMjMxLjQyOTY4OCAyMDkuMzgyODEyICIvPgo8cGF0aCBzdHlsZT0iIHN0cm9rZTpub25lO2ZpbGwtcnVsZTpub256ZXJvO2ZpbGw6cmdiKDEwMCUsMTAwJSwxMDAlKTtmaWxsLW9wYWNpdHk6MTsiIGQ9Ik0gMjMzLjU3MDMxMiAyMDUuNjcxODc1IEwgMjMxLjQyNTc4MSAyMDEuOTYwOTM4IEwgMjI5LjI4MTI1IDIwNS42NzE4NzUgWiBNIDIzMy41NzAzMTIgMjA1LjY3MTg3NSAiLz4KPHBhdGggc3R5bGU9IiBzdHJva2U6bm9uZTtmaWxsLXJ1bGU6bm9uemVybztmaWxsOnJnYigxMDAlLDEwMCUsMTAwJSk7ZmlsbC1vcGFjaXR5OjE7IiBkPSJNIDIyNy4xNDQ1MzEgMjA5LjM4MjgxMiBMIDIyNSAyMDUuNjcxODc1IEwgMjIyLjg1NTQ2OSAyMDkuMzgyODEyIFogTSAyMjcuMTQ0NTMxIDIwOS4zODI4MTIgIi8+CjxwYXRoIHN0eWxlPSIgc3Ryb2tlOm5vbmU7ZmlsbC1ydWxlOm5vbnplcm87ZmlsbDpyZ2IoMTAwJSwxMDAlLDEwMCUpO2ZpbGwtb3BhY2l0eToxOyIgZD0iTSAyMjIuODU1NDY5IDIwOS4zODI4MTIgTCAyMjAuNzEwOTM4IDIwNS42NzE4NzUgTCAyMTguNTY2NDA2IDIwOS4zODI4MTIgWiBNIDIyMi44NTU0NjkgMjA5LjM4MjgxMiAiLz4KPHBhdGggc3R5bGU9IiBzdHJva2U6bm9uZTtmaWxsLXJ1bGU6bm9uemVybztmaWxsOnJnYigxMDAlLDEwMCUsMTAwJSk7ZmlsbC1vcGFjaXR5OjE7IiBkPSJNIDIyNSAyMDUuNjcxODc1IEwgMjIyLjg1NTQ2OSAyMDEuOTYwOTM4IEwgMjIwLjcxMDkzOCAyMDUuNjcxODc1IFogTSAyMjUgMjA1LjY3MTg3NSAiLz4KPHBhdGggc3R5bGU9IiBzdHJva2U6bm9uZTtmaWxsLXJ1bGU6bm9uemVybztmaWxsOnJnYigxMDAlLDEwMCUsMTAwJSk7ZmlsbC1vcGFjaXR5OjE7IiBkPSJNIDIzMS40Mjk2ODggMjAxLjk2MDkzOCBMIDIyOS4yODUxNTYgMTk4LjI1IEwgMjI3LjE0MDYyNSAyMDEuOTYwOTM4IFogTSAyMzEuNDI5Njg4IDIwMS45NjA5MzggIi8+CjxwYXRoIHN0eWxlPSIgc3Ryb2tlOm5vbmU7ZmlsbC1ydWxlOm5vbnplcm87ZmlsbDpyZ2IoMTAwJSwxMDAlLDEwMCUpO2ZpbGwtb3BhY2l0eToxOyIgZD0iTSAyMjcuMTQ0NTMxIDIwMS45NjA5MzggTCAyMjUgMTk4LjI1IEwgMjIyLjg1NTQ2OSAyMDEuOTYwOTM4IFogTSAyMjcuMTQ0NTMxIDIwMS45NjA5MzggIi8+CjxwYXRoIHN0eWxlPSIgc3Ryb2tlOm5vbmU7ZmlsbC1ydWxlOm5vbnplcm87ZmlsbDpyZ2IoMTAwJSwxMDAlLDEwMCUpO2ZpbGwtb3BhY2l0eToxOyIgZD0iTSAyMjkuMjg1MTU2IDE5OC4yNSBMIDIyNy4xNDA2MjUgMTk0LjUzOTA2MiBMIDIyNC45OTYwOTQgMTk4LjI1IFogTSAyMjkuMjg1MTU2IDE5OC4yNSAiLz4KPHBhdGggc3R5bGU9IiBzdHJva2U6bm9uZTtmaWxsLXJ1bGU6bm9uemVybztmaWxsOnJnYigxMDAlLDEwMCUsMTAwJSk7ZmlsbC1vcGFjaXR5OjE7IiBkPSJNIDI0NC4yODUxNTYgMTk0LjUzOTA2MiBMIDI0Mi4xNDA2MjUgMTkwLjgyODEyNSBMIDIzOS45OTYwOTQgMTk0LjUzOTA2MiBaIE0gMjQ0LjI4NTE1NiAxOTQuNTM5MDYyICIvPgo8cGF0aCBzdHlsZT0iIHN0cm9rZTpub25lO2ZpbGwtcnVsZTpub256ZXJvO2ZpbGw6cmdiKDEwMCUsMTAwJSwxMDAlKTtmaWxsLW9wYWNpdHk6MTsiIGQ9Ik0gMjQwIDE5NC41MzkwNjIgTCAyMzcuODU1NDY5IDE5MC44MjgxMjUgTCAyMzUuNzEwOTM4IDE5NC41MzkwNjIgWiBNIDI0MCAxOTQuNTM5MDYyICIvPgo8cGF0aCBzdHlsZT0iIHN0cm9rZTpub25lO2ZpbGwtcnVsZTpub256ZXJvO2ZpbGw6cmdiKDEwMCUsMTAwJSwxMDAlKTtmaWxsLW9wYWNpdHk6MTsiIGQ9Ik0gMjQyLjE0NDUzMSAxOTAuODI4MTI1IEwgMjQwIDE4Ny4xMTcxODggTCAyMzcuODU1NDY5IDE5MC44MjgxMjUgWiBNIDI0Mi4xNDQ1MzEgMTkwLjgyODEyNSAiLz4KPHBhdGggc3R5bGU9IiBzdHJva2U6bm9uZTtmaWxsLXJ1bGU6bm9uemVybztmaWxsOnJnYigxMDAlLDEwMCUsMTAwJSk7ZmlsbC1vcGFjaXR5OjE7IiBkPSJNIDIzNS43MTQ4NDQgMTk0LjUzOTA2MiBMIDIzMy41NzAzMTIgMTkwLjgyODEyNSBMIDIzMS40MjU3ODEgMTk0LjUzOTA2MiBaIE0gMjM1LjcxNDg0NCAxOTQuNTM5MDYyICIvPgo8cGF0aCBzdHlsZT0iIHN0cm9rZTpub25lO2ZpbGwtcnVsZTpub256ZXJvO2ZpbGw6cmdiKDEwMCUsMTAwJSwxMDAlKTtmaWxsLW9wYWNpdHk6MTsiIGQ9Ik0gMjMxLjQyOTY4OCAxOTQuNTM5MDYyIEwgMjI5LjI4NTE1NiAxOTAuODI4MTI1IEwgMjI3LjE0MDYyNSAxOTQuNTM5MDYyIFogTSAyMzEuNDI5Njg4IDE5NC41MzkwNjIgIi8+CjxwYXRoIHN0eWxlPSIgc3Ryb2tlOm5vbmU7ZmlsbC1ydWxlOm5vbnplcm87ZmlsbDpyZ2IoMTAwJSwxMDAlLDEwMCUpO2ZpbGwtb3BhY2l0eToxOyIgZD0iTSAyMzMuNTcwMzEyIDE5MC44MjgxMjUgTCAyMzEuNDI1NzgxIDE4Ny4xMTcxODggTCAyMjkuMjgxMjUgMTkwLjgyODEyNSBaIE0gMjMzLjU3MDMxMiAxOTAuODI4MTI1ICIvPgo8cGF0aCBzdHlsZT0iIHN0cm9rZTpub25lO2ZpbGwtcnVsZTpub256ZXJvO2ZpbGw6cmdiKDEwMCUsMTAwJSwxMDAlKTtmaWxsLW9wYWNpdHk6MTsiIGQ9Ik0gMjQwIDE4Ny4xMTcxODggTCAyMzcuODU1NDY5IDE4My40MDYyNSBMIDIzNS43MTA5MzggMTg3LjExNzE4OCBaIE0gMjQwIDE4Ny4xMTcxODggIi8+CjxwYXRoIHN0eWxlPSIgc3Ryb2tlOm5vbmU7ZmlsbC1ydWxlOm5vbnplcm87ZmlsbDpyZ2IoMTAwJSwxMDAlLDEwMCUpO2ZpbGwtb3BhY2l0eToxOyIgZD0iTSAyMzUuNzE0ODQ0IDE4Ny4xMTcxODggTCAyMzMuNTcwMzEyIDE4My40MDYyNSBMIDIzMS40MjU3ODEgMTg3LjExNzE4OCBaIE0gMjM1LjcxNDg0NCAxODcuMTE3MTg4ICIvPgo8cGF0aCBzdHlsZT0iIHN0cm9rZTpub25lO2ZpbGwtcnVsZTpub256ZXJvO2ZpbGw6cmdiKDEwMCUsMTAwJSwxMDAlKTtmaWxsLW9wYWNpdHk6MTsiIGQ9Ik0gMjM3Ljg1NTQ2OSAxODMuNDAyMzQ0IEwgMjM1LjcxMDkzOCAxNzkuNjkxNDA2IEwgMjMzLjU2NjQwNiAxODMuNDAyMzQ0IFogTSAyMzcuODU1NDY5IDE4My40MDIzNDQgIi8+CjxwYXRoIHN0eWxlPSIgc3Ryb2tlOm5vbmU7ZmlsbC1ydWxlOm5vbnplcm87ZmlsbDpyZ2IoMTAwJSwxMDAlLDEwMCUpO2ZpbGwtb3BhY2l0eToxOyIgZD0iTSAyMTguNTcwMzEyIDIwOS4zODI4MTIgTCAyMTYuNDI1NzgxIDIwNS42NzE4NzUgTCAyMTQuMjgxMjUgMjA5LjM4MjgxMiBaIE0gMjE4LjU3MDMxMiAyMDkuMzgyODEyICIvPgo8cGF0aCBzdHlsZT0iIHN0cm9rZTpub25lO2ZpbGwtcnVsZTpub256ZXJvO2ZpbGw6cmdiKDEwMCUsMTAwJSwxMDAlKTtmaWxsLW9wYWNpdHk6MTsiIGQ9Ik0gMjE0LjI4NTE1NiAyMDkuMzgyODEyIEwgMjEyLjE0MDYyNSAyMDUuNjcxODc1IEwgMjA5Ljk5NjA5NCAyMDkuMzgyODEyIFogTSAyMTQuMjg1MTU2IDIwOS4zODI4MTIgIi8+CjxwYXRoIHN0eWxlPSIgc3Ryb2tlOm5vbmU7ZmlsbC1ydWxlOm5vbnplcm87ZmlsbDpyZ2IoMTAwJSwxMDAlLDEwMCUpO2ZpbGwtb3BhY2l0eToxOyIgZD0iTSAyMTYuNDI5Njg4IDIwNS42NzE4NzUgTCAyMTQuMjg1MTU2IDIwMS45NjA5MzggTCAyMTIuMTQwNjI1IDIwNS42NzE4NzUgWiBNIDIxNi40Mjk2ODggMjA1LjY3MTg3NSAiLz4KPHBhdGggc3R5bGU9IiBzdHJva2U6bm9uZTtmaWxsLXJ1bGU6bm9uemVybztmaWxsOnJnYigxMDAlLDEwMCUsMTAwJSk7ZmlsbC1vcGFjaXR5OjE7IiBkPSJNIDIxMCAyMDkuMzgyODEyIEwgMjA3Ljg1NTQ2OSAyMDUuNjcxODc1IEwgMjA1LjcxMDkzOCAyMDkuMzgyODEyIFogTSAyMTAgMjA5LjM4MjgxMiAiLz4KPHBhdGggc3R5bGU9IiBzdHJva2U6bm9uZTtmaWxsLXJ1bGU6bm9uemVybztmaWxsOnJnYigxMDAlLDEwMCUsMTAwJSk7ZmlsbC1vcGFjaXR5OjE7IiBkPSJNIDIwNS43MTQ4NDQgMjA5LjM4MjgxMiBMIDIwMy41NzAzMTIgMjA1LjY3MTg3NSBMIDIwMS40MjU3ODEgMjA5LjM4MjgxMiBaIE0gMjA1LjcxNDg0NCAyMDkuMzgyODEyICIvPgo8cGF0aCBzdHlsZT0iIHN0cm9rZTpub25lO2ZpbGwtcnVsZTpub256ZXJvO2ZpbGw6cmdiKDEwMCUsMTAwJSwxMDAlKTtmaWxsLW9wYWNpdHk6MTsiIGQ9Ik0gMjA3Ljg1NTQ2OSAyMDUuNjcxODc1IEwgMjA1LjcxMDkzOCAyMDEuOTYwOTM4IEwgMjAzLjU2NjQwNiAyMDUuNjcxODc1IFogTSAyMDcuODU1NDY5IDIwNS42NzE4NzUgIi8+CjxwYXRoIHN0eWxlPSIgc3Ryb2tlOm5vbmU7ZmlsbC1ydWxlOm5vbnplcm87ZmlsbDpyZ2IoMTAwJSwxMDAlLDEwMCUpO2ZpbGwtb3BhY2l0eToxOyIgZD0iTSAyMTQuMjg1MTU2IDIwMS45NjA5MzggTCAyMTIuMTQwNjI1IDE5OC4yNSBMIDIwOS45OTYwOTQgMjAxLjk2MDkzOCBaIE0gMjE0LjI4NTE1NiAyMDEuOTYwOTM4ICIvPgo8cGF0aCBzdHlsZT0iIHN0cm9rZTpub25lO2ZpbGwtcnVsZTpub256ZXJvO2ZpbGw6cmdiKDEwMCUsMTAwJSwxMDAlKTtmaWxsLW9wYWNpdHk6MTsiIGQ9Ik0gMjEwIDIwMS45NjA5MzggTCAyMDcuODU1NDY5IDE5OC4yNSBMIDIwNS43MTA5MzggMjAxLjk2MDkzOCBaIE0gMjEwIDIwMS45NjA5MzggIi8+CjxwYXRoIHN0eWxlPSIgc3Ryb2tlOm5vbmU7ZmlsbC1ydWxlOm5vbnplcm87ZmlsbDpyZ2IoMTAwJSwxMDAlLDEwMCUpO2ZpbGwtb3BhY2l0eToxOyIgZD0iTSAyMTIuMTQ0NTMxIDE5OC4yNSBMIDIxMCAxOTQuNTM5MDYyIEwgMjA3Ljg1NTQ2OSAxOTguMjUgWiBNIDIxMi4xNDQ1MzEgMTk4LjI1ICIvPgo8cGF0aCBzdHlsZT0iIHN0cm9rZTpub25lO2ZpbGwtcnVsZTpub256ZXJvO2ZpbGw6cmdiKDEwMCUsMTAwJSwxMDAlKTtmaWxsLW9wYWNpdHk6MTsiIGQ9Ik0gMjAxLjQyOTY4OCAyMDkuMzgyODEyIEwgMTk5LjI4NTE1NiAyMDUuNjcxODc1IEwgMTk3LjE0MDYyNSAyMDkuMzgyODEyIFogTSAyMDEuNDI5Njg4IDIwOS4zODI4MTIgIi8+CjxwYXRoIHN0eWxlPSIgc3Ryb2tlOm5vbmU7ZmlsbC1ydWxlOm5vbnplcm87ZmlsbDpyZ2IoMTAwJSwxMDAlLDEwMCUpO2ZpbGwtb3BhY2l0eToxOyIgZD0iTSAxOTcuMTQ0NTMxIDIwOS4zODI4MTIgTCAxOTUgMjA1LjY3MTg3NSBMIDE5Mi44NTU0NjkgMjA5LjM4MjgxMiBaIE0gMTk3LjE0NDUzMSAyMDkuMzgyODEyICIvPgo8cGF0aCBzdHlsZT0iIHN0cm9rZTpub25lO2ZpbGwtcnVsZTpub256ZXJvO2ZpbGw6cmdiKDEwMCUsMTAwJSwxMDAlKTtmaWxsLW9wYWNpdHk6MTsiIGQ9Ik0gMTk5LjI4NTE1NiAyMDUuNjcxODc1IEwgMTk3LjE0MDYyNSAyMDEuOTYwOTM4IEwgMTk0Ljk5NjA5NCAyMDUuNjcxODc1IFogTSAxOTkuMjg1MTU2IDIwNS42NzE4NzUgIi8+CjxwYXRoIHN0eWxlPSIgc3Ryb2tlOm5vbmU7ZmlsbC1ydWxlOm5vbnplcm87ZmlsbDpyZ2IoMTAwJSwxMDAlLDEwMCUpO2ZpbGwtb3BhY2l0eToxOyIgZD0iTSAxOTIuODU1NDY5IDIwOS4zODI4MTIgTCAxOTAuNzEwOTM4IDIwNS42NzE4NzUgTCAxODguNTY2NDA2IDIwOS4zODI4MTIgWiBNIDE5Mi44NTU0NjkgMjA5LjM4MjgxMiAiLz4KPHBhdGggc3R5bGU9IiBzdHJva2U6bm9uZTtmaWxsLXJ1bGU6bm9uemVybztmaWxsOnJnYigxMDAlLDEwMCUsMTAwJSk7ZmlsbC1vcGFjaXR5OjE7IiBkPSJNIDE4OC41NzAzMTIgMjA5LjM4MjgxMiBMIDE4Ni40MjU3ODEgMjA1LjY3MTg3NSBMIDE4NC4yODEyNSAyMDkuMzgyODEyIFogTSAxODguNTcwMzEyIDIwOS4zODI4MTIgIi8+CjxwYXRoIHN0eWxlPSIgc3Ryb2tlOm5vbmU7ZmlsbC1ydWxlOm5vbnplcm87ZmlsbDpyZ2IoMTAwJSwxMDAlLDEwMCUpO2ZpbGwtb3BhY2l0eToxOyIgZD0iTSAxOTAuNzE0ODQ0IDIwNS42NzE4NzUgTCAxODguNTcwMzEyIDIwMS45NjA5MzggTCAxODYuNDI1NzgxIDIwNS42NzE4NzUgWiBNIDE5MC43MTQ4NDQgMjA1LjY3MTg3NSAiLz4KPHBhdGggc3R5bGU9IiBzdHJva2U6bm9uZTtmaWxsLXJ1bGU6bm9uemVybztmaWxsOnJnYigxMDAlLDEwMCUsMTAwJSk7ZmlsbC1vcGFjaXR5OjE7IiBkPSJNIDE5Ny4xNDQ1MzEgMjAxLjk2MDkzOCBMIDE5NSAxOTguMjUgTCAxOTIuODU1NDY5IDIwMS45NjA5MzggWiBNIDE5Ny4xNDQ1MzEgMjAxLjk2MDkzOCAiLz4KPHBhdGggc3R5bGU9IiBzdHJva2U6bm9uZTtmaWxsLXJ1bGU6bm9uemVybztmaWxsOnJnYigxMDAlLDEwMCUsMTAwJSk7ZmlsbC1vcGFjaXR5OjE7IiBkPSJNIDE5Mi44NTU0NjkgMjAxLjk2MDkzOCBMIDE5MC43MTA5MzggMTk4LjI1IEwgMTg4LjU2NjQwNiAyMDEuOTYwOTM4IFogTSAxOTIuODU1NDY5IDIwMS45NjA5MzggIi8+CjxwYXRoIHN0eWxlPSIgc3Ryb2tlOm5vbmU7ZmlsbC1ydWxlOm5vbnplcm87ZmlsbDpyZ2IoMTAwJSwxMDAlLDEwMCUpO2ZpbGwtb3BhY2l0eToxOyIgZD0iTSAxOTUgMTk4LjI1IEwgMTkyLjg1NTQ2OSAxOTQuNTM5MDYyIEwgMTkwLjcxMDkzOCAxOTguMjUgWiBNIDE5NSAxOTguMjUgIi8+CjxwYXRoIHN0eWxlPSIgc3Ryb2tlOm5vbmU7ZmlsbC1ydWxlOm5vbnplcm87ZmlsbDpyZ2IoMTAwJSwxMDAlLDEwMCUpO2ZpbGwtb3BhY2l0eToxOyIgZD0iTSAyMTAgMTk0LjUzOTA2MiBMIDIwNy44NTU0NjkgMTkwLjgyODEyNSBMIDIwNS43MTA5MzggMTk0LjUzOTA2MiBaIE0gMjEwIDE5NC41MzkwNjIgIi8+CjxwYXRoIHN0eWxlPSIgc3Ryb2tlOm5vbmU7ZmlsbC1ydWxlOm5vbnplcm87ZmlsbDpyZ2IoMTAwJSwxMDAlLDEwMCUpO2ZpbGwtb3BhY2l0eToxOyIgZD0iTSAyMDUuNzE0ODQ0IDE5NC41MzkwNjIgTCAyMDMuNTcwMzEyIDE5MC44MjgxMjUgTCAyMDEuNDI1NzgxIDE5NC41MzkwNjIgWiBNIDIwNS43MTQ4NDQgMTk0LjUzOTA2MiAiLz4KPHBhdGggc3R5bGU9IiBzdHJva2U6bm9uZTtmaWxsLXJ1bGU6bm9uemVybztmaWxsOnJnYigxMDAlLDEwMCUsMTAwJSk7ZmlsbC1vcGFjaXR5OjE7IiBkPSJNIDIwNy44NTU0NjkgMTkwLjgyODEyNSBMIDIwNS43MTA5MzggMTg3LjExNzE4OCBMIDIwMy41NjY0MDYgMTkwLjgyODEyNSBaIE0gMjA3Ljg1NTQ2OSAxOTAuODI4MTI1ICIvPgo8cGF0aCBzdHlsZT0iIHN0cm9rZTpub25lO2ZpbGwtcnVsZTpub256ZXJvO2ZpbGw6cmdiKDEwMCUsMTAwJSwxMDAlKTtmaWxsLW9wYWNpdHk6MTsiIGQ9Ik0gMjAxLjQyOTY4OCAxOTQuNTM5MDYyIEwgMTk5LjI4NTE1NiAxOTAuODI4MTI1IEwgMTk3LjE0MDYyNSAxOTQuNTM5MDYyIFogTSAyMDEuNDI5Njg4IDE5NC41MzkwNjIgIi8+CjxwYXRoIHN0eWxlPSIgc3Ryb2tlOm5vbmU7ZmlsbC1ydWxlOm5vbnplcm87ZmlsbDpyZ2IoMTAwJSwxMDAlLDEwMCUpO2ZpbGwtb3BhY2l0eToxOyIgZD0iTSAxOTcuMTQ0NTMxIDE5NC41MzkwNjIgTCAxOTUgMTkwLjgyODEyNSBMIDE5Mi44NTU0NjkgMTk0LjUzOTA2MiBaIE0gMTk3LjE0NDUzMSAxOTQuNTM5MDYyICIvPgo8cGF0aCBzdHlsZT0iIHN0cm9rZTpub25lO2ZpbGwtcnVsZTpub256ZXJvO2ZpbGw6cmdiKDEwMCUsMTAwJSwxMDAlKTtmaWxsLW9wYWNpdHk6MTsiIGQ9Ik0gMTk5LjI4NTE1NiAxOTAuODI4MTI1IEwgMTk3LjE0MDYyNSAxODcuMTE3MTg4IEwgMTk0Ljk5NjA5NCAxOTAuODI4MTI1IFogTSAxOTkuMjg1MTU2IDE5MC44MjgxMjUgIi8+CjxwYXRoIHN0eWxlPSIgc3Ryb2tlOm5vbmU7ZmlsbC1ydWxlOm5vbnplcm87ZmlsbDpyZ2IoMTAwJSwxMDAlLDEwMCUpO2ZpbGwtb3BhY2l0eToxOyIgZD0iTSAyMDUuNzE0ODQ0IDE4Ny4xMTcxODggTCAyMDMuNTcwMzEyIDE4My40MDYyNSBMIDIwMS40MjU3ODEgMTg3LjExNzE4OCBaIE0gMjA1LjcxNDg0NCAxODcuMTE3MTg4ICIvPgo8cGF0aCBzdHlsZT0iIHN0cm9rZTpub25lO2ZpbGwtcnVsZTpub256ZXJvO2ZpbGw6cmdiKDEwMCUsMTAwJSwxMDAlKTtmaWxsLW9wYWNpdHk6MTsiIGQ9Ik0gMjAxLjQyOTY4OCAxODcuMTE3MTg4IEwgMTk5LjI4NTE1NiAxODMuNDA2MjUgTCAxOTcuMTQwNjI1IDE4Ny4xMTcxODggWiBNIDIwMS40Mjk2ODggMTg3LjExNzE4OCAiLz4KPHBhdGggc3R5bGU9IiBzdHJva2U6bm9uZTtmaWxsLXJ1bGU6bm9uemVybztmaWxsOnJnYigxMDAlLDEwMCUsMTAwJSk7ZmlsbC1vcGFjaXR5OjE7IiBkPSJNIDIwMy41NzAzMTIgMTgzLjQwMjM0NCBMIDIwMS40MjU3ODEgMTc5LjY5MTQwNiBMIDE5OS4yODEyNSAxODMuNDAyMzQ0IFogTSAyMDMuNTcwMzEyIDE4My40MDIzNDQgIi8+CjxwYXRoIHN0eWxlPSIgc3Ryb2tlOm5vbmU7ZmlsbC1ydWxlOm5vbnplcm87ZmlsbDpyZ2IoMTAwJSwxMDAlLDEwMCUpO2ZpbGwtb3BhY2l0eToxOyIgZD0iTSAyMzUuNzE0ODQ0IDE3OS42OTE0MDYgTCAyMzMuNTcwMzEyIDE3NS45ODA0NjkgTCAyMzEuNDI1NzgxIDE3OS42OTE0MDYgWiBNIDIzNS43MTQ4NDQgMTc5LjY5MTQwNiAiLz4KPHBhdGggc3R5bGU9IiBzdHJva2U6bm9uZTtmaWxsLXJ1bGU6bm9uemVybztmaWxsOnJnYigxMDAlLDEwMCUsMTAwJSk7ZmlsbC1vcGFjaXR5OjE7IiBkPSJNIDIzMS40Mjk2ODggMTc5LjY5MTQwNiBMIDIyOS4yODUxNTYgMTc1Ljk4MDQ2OSBMIDIyNy4xNDA2MjUgMTc5LjY5MTQwNiBaIE0gMjMxLjQyOTY4OCAxNzkuNjkxNDA2ICIvPgo8cGF0aCBzdHlsZT0iIHN0cm9rZTpub25lO2ZpbGwtcnVsZTpub256ZXJvO2ZpbGw6cmdiKDEwMCUsMTAwJSwxMDAlKTtmaWxsLW9wYWNpdHk6MTsiIGQ9Ik0gMjMzLjU3MDMxMiAxNzUuOTgwNDY5IEwgMjMxLjQyNTc4MSAxNzIuMjY5NTMxIEwgMjI5LjI4MTI1IDE3NS45ODA0NjkgWiBNIDIzMy41NzAzMTIgMTc1Ljk4MDQ2OSAiLz4KPHBhdGggc3R5bGU9IiBzdHJva2U6bm9uZTtmaWxsLXJ1bGU6bm9uemVybztmaWxsOnJnYigxMDAlLDEwMCUsMTAwJSk7ZmlsbC1vcGFjaXR5OjE7IiBkPSJNIDIyNy4xNDQ1MzEgMTc5LjY5MTQwNiBMIDIyNSAxNzUuOTgwNDY5IEwgMjIyLjg1NTQ2OSAxNzkuNjkxNDA2IFogTSAyMjcuMTQ0NTMxIDE3OS42OTE0MDYgIi8+CjxwYXRoIHN0eWxlPSIgc3Ryb2tlOm5vbmU7ZmlsbC1ydWxlOm5vbnplcm87ZmlsbDpyZ2IoMTAwJSwxMDAlLDEwMCUpO2ZpbGwtb3BhY2l0eToxOyIgZD0iTSAyMjIuODU1NDY5IDE3OS42OTE0MDYgTCAyMjAuNzEwOTM4IDE3NS45ODA0NjkgTCAyMTguNTY2NDA2IDE3OS42OTE0MDYgWiBNIDIyMi44NTU0NjkgMTc5LjY5MTQwNiAiLz4KPHBhdGggc3R5bGU9IiBzdHJva2U6bm9uZTtmaWxsLXJ1bGU6bm9uemVybztmaWxsOnJnYigxMDAlLDEwMCUsMTAwJSk7ZmlsbC1vcGFjaXR5OjE7IiBkPSJNIDIyNSAxNzUuOTgwNDY5IEwgMjIyLjg1NTQ2OSAxNzIuMjY5NTMxIEwgMjIwLjcxMDkzOCAxNzUuOTgwNDY5IFogTSAyMjUgMTc1Ljk4MDQ2OSAiLz4KPHBhdGggc3R5bGU9IiBzdHJva2U6bm9uZTtmaWxsLXJ1bGU6bm9uemVybztmaWxsOnJnYigxMDAlLDEwMCUsMTAwJSk7ZmlsbC1vcGFjaXR5OjE7IiBkPSJNIDIzMS40Mjk2ODggMTcyLjI2OTUzMSBMIDIyOS4yODUxNTYgMTY4LjU1ODU5NCBMIDIyNy4xNDA2MjUgMTcyLjI2OTUzMSBaIE0gMjMxLjQyOTY4OCAxNzIuMjY5NTMxICIvPgo8cGF0aCBzdHlsZT0iIHN0cm9rZTpub25lO2ZpbGwtcnVsZTpub256ZXJvO2ZpbGw6cmdiKDEwMCUsMTAwJSwxMDAlKTtmaWxsLW9wYWNpdHk6MTsiIGQ9Ik0gMjI3LjE0NDUzMSAxNzIuMjY5NTMxIEwgMjI1IDE2OC41NTg1OTQgTCAyMjIuODU1NDY5IDE3Mi4yNjk1MzEgWiBNIDIyNy4xNDQ1MzEgMTcyLjI2OTUzMSAiLz4KPHBhdGggc3R5bGU9IiBzdHJva2U6bm9uZTtmaWxsLXJ1bGU6bm9uemVybztmaWxsOnJnYigxMDAlLDEwMCUsMTAwJSk7ZmlsbC1vcGFjaXR5OjE7IiBkPSJNIDIyOS4yODUxNTYgMTY4LjU1ODU5NCBMIDIyNy4xNDA2MjUgMTY0Ljg0NzY1NiBMIDIyNC45OTYwOTQgMTY4LjU1ODU5NCBaIE0gMjI5LjI4NTE1NiAxNjguNTU4NTk0ICIvPgo8cGF0aCBzdHlsZT0iIHN0cm9rZTpub25lO2ZpbGwtcnVsZTpub256ZXJvO2ZpbGw6cmdiKDEwMCUsMTAwJSwxMDAlKTtmaWxsLW9wYWNpdHk6MTsiIGQ9Ik0gMjE4LjU3MDMxMiAxNzkuNjkxNDA2IEwgMjE2LjQyNTc4MSAxNzUuOTgwNDY5IEwgMjE0LjI4MTI1IDE3OS42OTE0MDYgWiBNIDIxOC41NzAzMTIgMTc5LjY5MTQwNiAiLz4KPHBhdGggc3R5bGU9IiBzdHJva2U6bm9uZTtmaWxsLXJ1bGU6bm9uemVybztmaWxsOnJnYigxMDAlLDEwMCUsMTAwJSk7ZmlsbC1vcGFjaXR5OjE7IiBkPSJNIDIxNC4yODUxNTYgMTc5LjY5MTQwNiBMIDIxMi4xNDA2MjUgMTc1Ljk4MDQ2OSBMIDIwOS45OTYwOTQgMTc5LjY5MTQwNiBaIE0gMjE0LjI4NTE1NiAxNzkuNjkxNDA2ICIvPgo8cGF0aCBzdHlsZT0iIHN0cm9rZTpub25lO2ZpbGwtcnVsZTpub256ZXJvO2ZpbGw6cmdiKDEwMCUsMTAwJSwxMDAlKTtmaWxsLW9wYWNpdHk6MTsiIGQ9Ik0gMjE2LjQyOTY4OCAxNzUuOTgwNDY5IEwgMjE0LjI4NTE1NiAxNzIuMjY5NTMxIEwgMjEyLjE0MDYyNSAxNzUuOTgwNDY5IFogTSAyMTYuNDI5Njg4IDE3NS45ODA0NjkgIi8+CjxwYXRoIHN0eWxlPSIgc3Ryb2tlOm5vbmU7ZmlsbC1ydWxlOm5vbnplcm87ZmlsbDpyZ2IoMTAwJSwxMDAlLDEwMCUpO2ZpbGwtb3BhY2l0eToxOyIgZD0iTSAyMTAgMTc5LjY5MTQwNiBMIDIwNy44NTU0NjkgMTc1Ljk4MDQ2OSBMIDIwNS43MTA5MzggMTc5LjY5MTQwNiBaIE0gMjEwIDE3OS42OTE0MDYgIi8+CjxwYXRoIHN0eWxlPSIgc3Ryb2tlOm5vbmU7ZmlsbC1ydWxlOm5vbnplcm87ZmlsbDpyZ2IoMTAwJSwxMDAlLDEwMCUpO2ZpbGwtb3BhY2l0eToxOyIgZD0iTSAyMDUuNzE0ODQ0IDE3OS42OTE0MDYgTCAyMDMuNTcwMzEyIDE3NS45ODA0NjkgTCAyMDEuNDI1NzgxIDE3OS42OTE0MDYgWiBNIDIwNS43MTQ4NDQgMTc5LjY5MTQwNiAiLz4KPHBhdGggc3R5bGU9IiBzdHJva2U6bm9uZTtmaWxsLXJ1bGU6bm9uemVybztmaWxsOnJnYigxMDAlLDEwMCUsMTAwJSk7ZmlsbC1vcGFjaXR5OjE7IiBkPSJNIDIwNy44NTU0NjkgMTc1Ljk4MDQ2OSBMIDIwNS43MTA5MzggMTcyLjI2OTUzMSBMIDIwMy41NjY0MDYgMTc1Ljk4MDQ2OSBaIE0gMjA3Ljg1NTQ2OSAxNzUuOTgwNDY5ICIvPgo8cGF0aCBzdHlsZT0iIHN0cm9rZTpub25lO2ZpbGwtcnVsZTpub256ZXJvO2ZpbGw6cmdiKDEwMCUsMTAwJSwxMDAlKTtmaWxsLW9wYWNpdHk6MTsiIGQ9Ik0gMjE0LjI4NTE1NiAxNzIuMjY5NTMxIEwgMjEyLjE0MDYyNSAxNjguNTU4NTk0IEwgMjA5Ljk5NjA5NCAxNzIuMjY5NTMxIFogTSAyMTQuMjg1MTU2IDE3Mi4yNjk1MzEgIi8+CjxwYXRoIHN0eWxlPSIgc3Ryb2tlOm5vbmU7ZmlsbC1ydWxlOm5vbnplcm87ZmlsbDpyZ2IoMTAwJSwxMDAlLDEwMCUpO2ZpbGwtb3BhY2l0eToxOyIgZD0iTSAyMTAgMTcyLjI2OTUzMSBMIDIwNy44NTU0NjkgMTY4LjU1ODU5NCBMIDIwNS43MTA5MzggMTcyLjI2OTUzMSBaIE0gMjEwIDE3Mi4yNjk1MzEgIi8+CjxwYXRoIHN0eWxlPSIgc3Ryb2tlOm5vbmU7ZmlsbC1ydWxlOm5vbnplcm87ZmlsbDpyZ2IoMTAwJSwxMDAlLDEwMCUpO2ZpbGwtb3BhY2l0eToxOyIgZD0iTSAyMTIuMTQ0NTMxIDE2OC41NTg1OTQgTCAyMTAgMTY0Ljg0NzY1NiBMIDIwNy44NTU0NjkgMTY4LjU1ODU5NCBaIE0gMjEyLjE0NDUzMSAxNjguNTU4NTk0ICIvPgo8cGF0aCBzdHlsZT0iIHN0cm9rZTpub25lO2ZpbGwtcnVsZTpub256ZXJvO2ZpbGw6cmdiKDEwMCUsMTAwJSwxMDAlKTtmaWxsLW9wYWNpdHk6MTsiIGQ9Ik0gMjI3LjE0NDUzMSAxNjQuODQ3NjU2IEwgMjI1IDE2MS4xMzY3MTkgTCAyMjIuODU1NDY5IDE2NC44NDc2NTYgWiBNIDIyNy4xNDQ1MzEgMTY0Ljg0NzY1NiAiLz4KPHBhdGggc3R5bGU9IiBzdHJva2U6bm9uZTtmaWxsLXJ1bGU6bm9uemVybztmaWxsOnJnYigxMDAlLDEwMCUsMTAwJSk7ZmlsbC1vcGFjaXR5OjE7IiBkPSJNIDIyMi44NTU0NjkgMTY0Ljg0NzY1NiBMIDIyMC43MTA5MzggMTYxLjEzNjcxOSBMIDIxOC41NjY0MDYgMTY0Ljg0NzY1NiBaIE0gMjIyLjg1NTQ2OSAxNjQuODQ3NjU2ICIvPgo8cGF0aCBzdHlsZT0iIHN0cm9rZTpub25lO2ZpbGwtcnVsZTpub256ZXJvO2ZpbGw6cmdiKDEwMCUsMTAwJSwxMDAlKTtmaWxsLW9wYWNpdHk6MTsiIGQ9Ik0gMjI1IDE2MS4xMzI4MTIgTCAyMjIuODU1NDY5IDE1Ny40MjE4NzUgTCAyMjAuNzEwOTM4IDE2MS4xMzI4MTIgWiBNIDIyNSAxNjEuMTMyODEyICIvPgo8cGF0aCBzdHlsZT0iIHN0cm9rZTpub25lO2ZpbGwtcnVsZTpub256ZXJvO2ZpbGw6cmdiKDEwMCUsMTAwJSwxMDAlKTtmaWxsLW9wYWNpdHk6MTsiIGQ9Ik0gMjE4LjU3MDMxMiAxNjQuODQ3NjU2IEwgMjE2LjQyNTc4MSAxNjEuMTM2NzE5IEwgMjE0LjI4MTI1IDE2NC44NDc2NTYgWiBNIDIxOC41NzAzMTIgMTY0Ljg0NzY1NiAiLz4KPHBhdGggc3R5bGU9IiBzdHJva2U6bm9uZTtmaWxsLXJ1bGU6bm9uemVybztmaWxsOnJnYigxMDAlLDEwMCUsMTAwJSk7ZmlsbC1vcGFjaXR5OjE7IiBkPSJNIDIxNC4yODUxNTYgMTY0Ljg0NzY1NiBMIDIxMi4xNDA2MjUgMTYxLjEzNjcxOSBMIDIwOS45OTYwOTQgMTY0Ljg0NzY1NiBaIE0gMjE0LjI4NTE1NiAxNjQuODQ3NjU2ICIvPgo8cGF0aCBzdHlsZT0iIHN0cm9rZTpub25lO2ZpbGwtcnVsZTpub256ZXJvO2ZpbGw6cmdiKDEwMCUsMTAwJSwxMDAlKTtmaWxsLW9wYWNpdHk6MTsiIGQ9Ik0gMjE2LjQyOTY4OCAxNjEuMTMyODEyIEwgMjE0LjI4NTE1NiAxNTcuNDIxODc1IEwgMjEyLjE0MDYyNSAxNjEuMTMyODEyIFogTSAyMTYuNDI5Njg4IDE2MS4xMzI4MTIgIi8+CjxwYXRoIHN0eWxlPSIgc3Ryb2tlOm5vbmU7ZmlsbC1ydWxlOm5vbnplcm87ZmlsbDpyZ2IoMTAwJSwxMDAlLDEwMCUpO2ZpbGwtb3BhY2l0eToxOyIgZD0iTSAyMjIuODU1NDY5IDE1Ny40MjE4NzUgTCAyMjAuNzEwOTM4IDE1My43MTA5MzggTCAyMTguNTY2NDA2IDE1Ny40MjE4NzUgWiBNIDIyMi44NTU0NjkgMTU3LjQyMTg3NSAiLz4KPHBhdGggc3R5bGU9IiBzdHJva2U6bm9uZTtmaWxsLXJ1bGU6bm9uemVybztmaWxsOnJnYigxMDAlLDEwMCUsMTAwJSk7ZmlsbC1vcGFjaXR5OjE7IiBkPSJNIDIxOC41NzAzMTIgMTU3LjQyMTg3NSBMIDIxNi40MjU3ODEgMTUzLjcxMDkzOCBMIDIxNC4yODEyNSAxNTcuNDIxODc1IFogTSAyMTguNTcwMzEyIDE1Ny40MjE4NzUgIi8+CjxwYXRoIHN0eWxlPSIgc3Ryb2tlOm5vbmU7ZmlsbC1ydWxlOm5vbnplcm87ZmlsbDpyZ2IoMTAwJSwxMDAlLDEwMCUpO2ZpbGwtb3BhY2l0eToxOyIgZD0iTSAyMjAuNzE0ODQ0IDE1My43MTA5MzggTCAyMTguNTcwMzEyIDE1MCBMIDIxNi40MjU3ODEgMTUzLjcxMDkzOCBaIE0gMjIwLjcxNDg0NCAxNTMuNzEwOTM4ICIvPgo8cGF0aCBzdHlsZT0iIHN0cm9rZTpub25lO2ZpbGwtcnVsZTpub256ZXJvO2ZpbGw6cmdiKDEwMCUsMTAwJSwxMDAlKTtmaWxsLW9wYWNpdHk6MTsiIGQ9Ik0gMTUwIDI2OC43Njk1MzEgTCAxNDcuODU1NDY5IDI2NS4wNTg1OTQgTCAxNDUuNzEwOTM4IDI2OC43Njk1MzEgWiBNIDE1MCAyNjguNzY5NTMxICIvPgo8cGF0aCBzdHlsZT0iIHN0cm9rZTpub25lO2ZpbGwtcnVsZTpub256ZXJvO2ZpbGw6cmdiKDEwMCUsMTAwJSwxMDAlKTtmaWxsLW9wYWNpdHk6MTsiIGQ9Ik0gMTQ1LjcxNDg0NCAyNjguNzY5NTMxIEwgMTQzLjU3MDMxMiAyNjUuMDU4NTk0IEwgMTQxLjQyNTc4MSAyNjguNzY5NTMxIFogTSAxNDUuNzE0ODQ0IDI2OC43Njk1MzEgIi8+CjxwYXRoIHN0eWxlPSIgc3Ryb2tlOm5vbmU7ZmlsbC1ydWxlOm5vbnplcm87ZmlsbDpyZ2IoMTAwJSwxMDAlLDEwMCUpO2ZpbGwtb3BhY2l0eToxOyIgZD0iTSAxNDcuODU1NDY5IDI2NS4wNTg1OTQgTCAxNDUuNzEwOTM4IDI2MS4zNDc2NTYgTCAxNDMuNTY2NDA2IDI2NS4wNTg1OTQgWiBNIDE0Ny44NTU0NjkgMjY1LjA1ODU5NCAiLz4KPHBhdGggc3R5bGU9IiBzdHJva2U6bm9uZTtmaWxsLXJ1bGU6bm9uemVybztmaWxsOnJnYigxMDAlLDEwMCUsMTAwJSk7ZmlsbC1vcGFjaXR5OjE7IiBkPSJNIDE0MS40Mjk2ODggMjY4Ljc2OTUzMSBMIDEzOS4yODUxNTYgMjY1LjA1ODU5NCBMIDEzNy4xNDA2MjUgMjY4Ljc2OTUzMSBaIE0gMTQxLjQyOTY4OCAyNjguNzY5NTMxICIvPgo8cGF0aCBzdHlsZT0iIHN0cm9rZTpub25lO2ZpbGwtcnVsZTpub256ZXJvO2ZpbGw6cmdiKDEwMCUsMTAwJSwxMDAlKTtmaWxsLW9wYWNpdHk6MTsiIGQ9Ik0gMTM3LjE0NDUzMSAyNjguNzY5NTMxIEwgMTM1IDI2NS4wNTg1OTQgTCAxMzIuODU1NDY5IDI2OC43Njk1MzEgWiBNIDEzNy4xNDQ1MzEgMjY4Ljc2OTUzMSAiLz4KPHBhdGggc3R5bGU9IiBzdHJva2U6bm9uZTtmaWxsLXJ1bGU6bm9uemVybztmaWxsOnJnYigxMDAlLDEwMCUsMTAwJSk7ZmlsbC1vcGFjaXR5OjE7IiBkPSJNIDEzOS4yODUxNTYgMjY1LjA1ODU5NCBMIDEzNy4xNDA2MjUgMjYxLjM0NzY1NiBMIDEzNC45OTYwOTQgMjY1LjA1ODU5NCBaIE0gMTM5LjI4NTE1NiAyNjUuMDU4NTk0ICIvPgo8cGF0aCBzdHlsZT0iIHN0cm9rZTpub25lO2ZpbGwtcnVsZTpub256ZXJvO2ZpbGw6cmdiKDEwMCUsMTAwJSwxMDAlKTtmaWxsLW9wYWNpdHk6MTsiIGQ9Ik0gMTQ1LjcxNDg0NCAyNjEuMzQ3NjU2IEwgMTQzLjU3MDMxMiAyNTcuNjM2NzE5IEwgMTQxLjQyNTc4MSAyNjEuMzQ3NjU2IFogTSAxNDUuNzE0ODQ0IDI2MS4zNDc2NTYgIi8+CjxwYXRoIHN0eWxlPSIgc3Ryb2tlOm5vbmU7ZmlsbC1ydWxlOm5vbnplcm87ZmlsbDpyZ2IoMTAwJSwxMDAlLDEwMCUpO2ZpbGwtb3BhY2l0eToxOyIgZD0iTSAxNDEuNDI5Njg4IDI2MS4zNDc2NTYgTCAxMzkuMjg1MTU2IDI1Ny42MzY3MTkgTCAxMzcuMTQwNjI1IDI2MS4zNDc2NTYgWiBNIDE0MS40Mjk2ODggMjYxLjM0NzY1NiAiLz4KPHBhdGggc3R5bGU9IiBzdHJva2U6bm9uZTtmaWxsLXJ1bGU6bm9uemVybztmaWxsOnJnYigxMDAlLDEwMCUsMTAwJSk7ZmlsbC1vcGFjaXR5OjE7IiBkPSJNIDE0My41NzAzMTIgMjU3LjYzMjgxMiBMIDE0MS40MjU3ODEgMjUzLjkyMTg3NSBMIDEzOS4yODEyNSAyNTcuNjMyODEyIFogTSAxNDMuNTcwMzEyIDI1Ny42MzI4MTIgIi8+CjxwYXRoIHN0eWxlPSIgc3Ryb2tlOm5vbmU7ZmlsbC1ydWxlOm5vbnplcm87ZmlsbDpyZ2IoMTAwJSwxMDAlLDEwMCUpO2ZpbGwtb3BhY2l0eToxOyIgZD0iTSAxMzIuODU1NDY5IDI2OC43Njk1MzEgTCAxMzAuNzEwOTM4IDI2NS4wNTg1OTQgTCAxMjguNTY2NDA2IDI2OC43Njk1MzEgWiBNIDEzMi44NTU0NjkgMjY4Ljc2OTUzMSAiLz4KPHBhdGggc3R5bGU9IiBzdHJva2U6bm9uZTtmaWxsLXJ1bGU6bm9uemVybztmaWxsOnJnYigxMDAlLDEwMCUsMTAwJSk7ZmlsbC1vcGFjaXR5OjE7IiBkPSJNIDEyOC41NzAzMTIgMjY4Ljc2OTUzMSBMIDEyNi40MjU3ODEgMjY1LjA1ODU5NCBMIDEyNC4yODEyNSAyNjguNzY5NTMxIFogTSAxMjguNTcwMzEyIDI2OC43Njk1MzEgIi8+CjxwYXRoIHN0eWxlPSIgc3Ryb2tlOm5vbmU7ZmlsbC1ydWxlOm5vbnplcm87ZmlsbDpyZ2IoMTAwJSwxMDAlLDEwMCUpO2ZpbGwtb3BhY2l0eToxOyIgZD0iTSAxMzAuNzE0ODQ0IDI2NS4wNTg1OTQgTCAxMjguNTcwMzEyIDI2MS4zNDc2NTYgTCAxMjYuNDI1NzgxIDI2NS4wNTg1OTQgWiBNIDEzMC43MTQ4NDQgMjY1LjA1ODU5NCAiLz4KPHBhdGggc3R5bGU9IiBzdHJva2U6bm9uZTtmaWxsLXJ1bGU6bm9uemVybztmaWxsOnJnYigxMDAlLDEwMCUsMTAwJSk7ZmlsbC1vcGFjaXR5OjE7IiBkPSJNIDEyNC4yODUxNTYgMjY4Ljc2OTUzMSBMIDEyMi4xNDA2MjUgMjY1LjA1ODU5NCBMIDExOS45OTYwOTQgMjY4Ljc2OTUzMSBaIE0gMTI0LjI4NTE1NiAyNjguNzY5NTMxICIvPgo8cGF0aCBzdHlsZT0iIHN0cm9rZTpub25lO2ZpbGwtcnVsZTpub256ZXJvO2ZpbGw6cmdiKDEwMCUsMTAwJSwxMDAlKTtmaWxsLW9wYWNpdHk6MTsiIGQ9Ik0gMTIwIDI2OC43Njk1MzEgTCAxMTcuODU1NDY5IDI2NS4wNTg1OTQgTCAxMTUuNzEwOTM4IDI2OC43Njk1MzEgWiBNIDEyMCAyNjguNzY5NTMxICIvPgo8cGF0aCBzdHlsZT0iIHN0cm9rZTpub25lO2ZpbGwtcnVsZTpub256ZXJvO2ZpbGw6cmdiKDEwMCUsMTAwJSwxMDAlKTtmaWxsLW9wYWNpdHk6MTsiIGQ9Ik0gMTIyLjE0NDUzMSAyNjUuMDU4NTk0IEwgMTIwIDI2MS4zNDc2NTYgTCAxMTcuODU1NDY5IDI2NS4wNTg1OTQgWiBNIDEyMi4xNDQ1MzEgMjY1LjA1ODU5NCAiLz4KPHBhdGggc3R5bGU9IiBzdHJva2U6bm9uZTtmaWxsLXJ1bGU6bm9uemVybztmaWxsOnJnYigxMDAlLDEwMCUsMTAwJSk7ZmlsbC1vcGFjaXR5OjE7IiBkPSJNIDEyOC41NzAzMTIgMjYxLjM0NzY1NiBMIDEyNi40MjU3ODEgMjU3LjYzNjcxOSBMIDEyNC4yODEyNSAyNjEuMzQ3NjU2IFogTSAxMjguNTcwMzEyIDI2MS4zNDc2NTYgIi8+CjxwYXRoIHN0eWxlPSIgc3Ryb2tlOm5vbmU7ZmlsbC1ydWxlOm5vbnplcm87ZmlsbDpyZ2IoMTAwJSwxMDAlLDEwMCUpO2ZpbGwtb3BhY2l0eToxOyIgZD0iTSAxMjQuMjg1MTU2IDI2MS4zNDc2NTYgTCAxMjIuMTQwNjI1IDI1Ny42MzY3MTkgTCAxMTkuOTk2MDk0IDI2MS4zNDc2NTYgWiBNIDEyNC4yODUxNTYgMjYxLjM0NzY1NiAiLz4KPHBhdGggc3R5bGU9IiBzdHJva2U6bm9uZTtmaWxsLXJ1bGU6bm9uemVybztmaWxsOnJnYigxMDAlLDEwMCUsMTAwJSk7ZmlsbC1vcGFjaXR5OjE7IiBkPSJNIDEyNi40Mjk2ODggMjU3LjYzMjgxMiBMIDEyNC4yODUxNTYgMjUzLjkyMTg3NSBMIDEyMi4xNDA2MjUgMjU3LjYzMjgxMiBaIE0gMTI2LjQyOTY4OCAyNTcuNjMyODEyICIvPgo8cGF0aCBzdHlsZT0iIHN0cm9rZTpub25lO2ZpbGwtcnVsZTpub256ZXJvO2ZpbGw6cmdiKDEwMCUsMTAwJSwxMDAlKTtmaWxsLW9wYWNpdHk6MTsiIGQ9Ik0gMTQxLjQyOTY4OCAyNTMuOTIxODc1IEwgMTM5LjI4NTE1NiAyNTAuMjEwOTM4IEwgMTM3LjE0MDYyNSAyNTMuOTIxODc1IFogTSAxNDEuNDI5Njg4IDI1My45MjE4NzUgIi8+CjxwYXRoIHN0eWxlPSIgc3Ryb2tlOm5vbmU7ZmlsbC1ydWxlOm5vbnplcm87ZmlsbDpyZ2IoMTAwJSwxMDAlLDEwMCUpO2ZpbGwtb3BhY2l0eToxOyIgZD0iTSAxMzcuMTQ0NTMxIDI1My45MjE4NzUgTCAxMzUgMjUwLjIxMDkzOCBMIDEzMi44NTU0NjkgMjUzLjkyMTg3NSBaIE0gMTM3LjE0NDUzMSAyNTMuOTIxODc1ICIvPgo8cGF0aCBzdHlsZT0iIHN0cm9rZTpub25lO2ZpbGwtcnVsZTpub256ZXJvO2ZpbGw6cmdiKDEwMCUsMTAwJSwxMDAlKTtmaWxsLW9wYWNpdHk6MTsiIGQ9Ik0gMTM5LjI4NTE1NiAyNTAuMjEwOTM4IEwgMTM3LjE0MDYyNSAyNDYuNSBMIDEzNC45OTYwOTQgMjUwLjIxMDkzOCBaIE0gMTM5LjI4NTE1NiAyNTAuMjEwOTM4ICIvPgo8cGF0aCBzdHlsZT0iIHN0cm9rZTpub25lO2ZpbGwtcnVsZTpub256ZXJvO2ZpbGw6cmdiKDEwMCUsMTAwJSwxMDAlKTtmaWxsLW9wYWNpdHk6MTsiIGQ9Ik0gMTMyLjg1NTQ2OSAyNTMuOTIxODc1IEwgMTMwLjcxMDkzOCAyNTAuMjEwOTM4IEwgMTI4LjU2NjQwNiAyNTMuOTIxODc1IFogTSAxMzIuODU1NDY5IDI1My45MjE4NzUgIi8+CjxwYXRoIHN0eWxlPSIgc3Ryb2tlOm5vbmU7ZmlsbC1ydWxlOm5vbnplcm87ZmlsbDpyZ2IoMTAwJSwxMDAlLDEwMCUpO2ZpbGwtb3BhY2l0eToxOyIgZD0iTSAxMjguNTcwMzEyIDI1My45MjE4NzUgTCAxMjYuNDI1NzgxIDI1MC4yMTA5MzggTCAxMjQuMjgxMjUgMjUzLjkyMTg3NSBaIE0gMTI4LjU3MDMxMiAyNTMuOTIxODc1ICIvPgo8cGF0aCBzdHlsZT0iIHN0cm9rZTpub25lO2ZpbGwtcnVsZTpub256ZXJvO2ZpbGw6cmdiKDEwMCUsMTAwJSwxMDAlKTtmaWxsLW9wYWNpdHk6MTsiIGQ9Ik0gMTMwLjcxNDg0NCAyNTAuMjEwOTM4IEwgMTI4LjU3MDMxMiAyNDYuNSBMIDEyNi40MjU3ODEgMjUwLjIxMDkzOCBaIE0gMTMwLjcxNDg0NCAyNTAuMjEwOTM4ICIvPgo8cGF0aCBzdHlsZT0iIHN0cm9rZTpub25lO2ZpbGwtcnVsZTpub256ZXJvO2ZpbGw6cmdiKDEwMCUsMTAwJSwxMDAlKTtmaWxsLW9wYWNpdHk6MTsiIGQ9Ik0gMTM3LjE0NDUzMSAyNDYuNSBMIDEzNSAyNDIuNzg5MDYyIEwgMTMyLjg1NTQ2OSAyNDYuNSBaIE0gMTM3LjE0NDUzMSAyNDYuNSAiLz4KPHBhdGggc3R5bGU9IiBzdHJva2U6bm9uZTtmaWxsLXJ1bGU6bm9uemVybztmaWxsOnJnYigxMDAlLDEwMCUsMTAwJSk7ZmlsbC1vcGFjaXR5OjE7IiBkPSJNIDEzMi44NTU0NjkgMjQ2LjUgTCAxMzAuNzEwOTM4IDI0Mi43ODkwNjIgTCAxMjguNTY2NDA2IDI0Ni41IFogTSAxMzIuODU1NDY5IDI0Ni41ICIvPgo8cGF0aCBzdHlsZT0iIHN0cm9rZTpub25lO2ZpbGwtcnVsZTpub256ZXJvO2ZpbGw6cmdiKDEwMCUsMTAwJSwxMDAlKTtmaWxsLW9wYWNpdHk6MTsiIGQ9Ik0gMTM1IDI0Mi43ODkwNjIgTCAxMzIuODU1NDY5IDIzOS4wNzgxMjUgTCAxMzAuNzEwOTM4IDI0Mi43ODkwNjIgWiBNIDEzNSAyNDIuNzg5MDYyICIvPgo8cGF0aCBzdHlsZT0iIHN0cm9rZTpub25lO2ZpbGwtcnVsZTpub256ZXJvO2ZpbGw6cmdiKDEwMCUsMTAwJSwxMDAlKTtmaWxsLW9wYWNpdHk6MTsiIGQ9Ik0gMTE1LjcxNDg0NCAyNjguNzY5NTMxIEwgMTEzLjU3MDMxMiAyNjUuMDU4NTk0IEwgMTExLjQyNTc4MSAyNjguNzY5NTMxIFogTSAxMTUuNzE0ODQ0IDI2OC43Njk1MzEgIi8+CjxwYXRoIHN0eWxlPSIgc3Ryb2tlOm5vbmU7ZmlsbC1ydWxlOm5vbnplcm87ZmlsbDpyZ2IoMTAwJSwxMDAlLDEwMCUpO2ZpbGwtb3BhY2l0eToxOyIgZD0iTSAxMTEuNDI5Njg4IDI2OC43Njk1MzEgTCAxMDkuMjg1MTU2IDI2NS4wNTg1OTQgTCAxMDcuMTQwNjI1IDI2OC43Njk1MzEgWiBNIDExMS40Mjk2ODggMjY4Ljc2OTUzMSAiLz4KPHBhdGggc3R5bGU9IiBzdHJva2U6bm9uZTtmaWxsLXJ1bGU6bm9uemVybztmaWxsOnJnYigxMDAlLDEwMCUsMTAwJSk7ZmlsbC1vcGFjaXR5OjE7IiBkPSJNIDExMy41NzAzMTIgMjY1LjA1ODU5NCBMIDExMS40MjU3ODEgMjYxLjM0NzY1NiBMIDEwOS4yODEyNSAyNjUuMDU4NTk0IFogTSAxMTMuNTcwMzEyIDI2NS4wNTg1OTQgIi8+CjxwYXRoIHN0eWxlPSIgc3Ryb2tlOm5vbmU7ZmlsbC1ydWxlOm5vbnplcm87ZmlsbDpyZ2IoMTAwJSwxMDAlLDEwMCUpO2ZpbGwtb3BhY2l0eToxOyIgZD0iTSAxMDcuMTQ0NTMxIDI2OC43Njk1MzEgTCAxMDUgMjY1LjA1ODU5NCBMIDEwMi44NTU0NjkgMjY4Ljc2OTUzMSBaIE0gMTA3LjE0NDUzMSAyNjguNzY5NTMxICIvPgo8cGF0aCBzdHlsZT0iIHN0cm9rZTpub25lO2ZpbGwtcnVsZTpub256ZXJvO2ZpbGw6cmdiKDEwMCUsMTAwJSwxMDAlKTtmaWxsLW9wYWNpdHk6MTsiIGQ9Ik0gMTAyLjg1NTQ2OSAyNjguNzY5NTMxIEwgMTAwLjcxMDkzOCAyNjUuMDU4NTk0IEwgOTguNTY2NDA2IDI2OC43Njk1MzEgWiBNIDEwMi44NTU0NjkgMjY4Ljc2OTUzMSAiLz4KPHBhdGggc3R5bGU9IiBzdHJva2U6bm9uZTtmaWxsLXJ1bGU6bm9uemVybztmaWxsOnJnYigxMDAlLDEwMCUsMTAwJSk7ZmlsbC1vcGFjaXR5OjE7IiBkPSJNIDEwNSAyNjUuMDU4NTk0IEwgMTAyLjg1NTQ2OSAyNjEuMzQ3NjU2IEwgMTAwLjcxMDkzOCAyNjUuMDU4NTk0IFogTSAxMDUgMjY1LjA1ODU5NCAiLz4KPHBhdGggc3R5bGU9IiBzdHJva2U6bm9uZTtmaWxsLXJ1bGU6bm9uemVybztmaWxsOnJnYigxMDAlLDEwMCUsMTAwJSk7ZmlsbC1vcGFjaXR5OjE7IiBkPSJNIDExMS40Mjk2ODggMjYxLjM0NzY1NiBMIDEwOS4yODUxNTYgMjU3LjYzNjcxOSBMIDEwNy4xNDA2MjUgMjYxLjM0NzY1NiBaIE0gMTExLjQyOTY4OCAyNjEuMzQ3NjU2ICIvPgo8cGF0aCBzdHlsZT0iIHN0cm9rZTpub25lO2ZpbGwtcnVsZTpub256ZXJvO2ZpbGw6cmdiKDEwMCUsMTAwJSwxMDAlKTtmaWxsLW9wYWNpdHk6MTsiIGQ9Ik0gMTA3LjE0NDUzMSAyNjEuMzQ3NjU2IEwgMTA1IDI1Ny42MzY3MTkgTCAxMDIuODU1NDY5IDI2MS4zNDc2NTYgWiBNIDEwNy4xNDQ1MzEgMjYxLjM0NzY1NiAiLz4KPHBhdGggc3R5bGU9IiBzdHJva2U6bm9uZTtmaWxsLXJ1bGU6bm9uemVybztmaWxsOnJnYigxMDAlLDEwMCUsMTAwJSk7ZmlsbC1vcGFjaXR5OjE7IiBkPSJNIDEwOS4yODUxNTYgMjU3LjYzMjgxMiBMIDEwNy4xNDA2MjUgMjUzLjkyMTg3NSBMIDEwNC45OTYwOTQgMjU3LjYzMjgxMiBaIE0gMTA5LjI4NTE1NiAyNTcuNjMyODEyICIvPgo8cGF0aCBzdHlsZT0iIHN0cm9rZTpub25lO2ZpbGwtcnVsZTpub256ZXJvO2ZpbGw6cmdiKDEwMCUsMTAwJSwxMDAlKTtmaWxsLW9wYWNpdHk6MTsiIGQ9Ik0gOTguNTcwMzEyIDI2OC43Njk1MzEgTCA5Ni40MjU3ODEgMjY1LjA1ODU5NCBMIDk0LjI4MTI1IDI2OC43Njk1MzEgWiBNIDk4LjU3MDMxMiAyNjguNzY5NTMxICIvPgo8cGF0aCBzdHlsZT0iIHN0cm9rZTpub25lO2ZpbGwtcnVsZTpub256ZXJvO2ZpbGw6cmdiKDEwMCUsMTAwJSwxMDAlKTtmaWxsLW9wYWNpdHk6MTsiIGQ9Ik0gOTQuMjg1MTU2IDI2OC43Njk1MzEgTCA5Mi4xNDA2MjUgMjY1LjA1ODU5NCBMIDg5Ljk5NjA5NCAyNjguNzY5NTMxIFogTSA5NC4yODUxNTYgMjY4Ljc2OTUzMSAiLz4KPHBhdGggc3R5bGU9IiBzdHJva2U6bm9uZTtmaWxsLXJ1bGU6bm9uemVybztmaWxsOnJnYigxMDAlLDEwMCUsMTAwJSk7ZmlsbC1vcGFjaXR5OjE7IiBkPSJNIDk2LjQyOTY4OCAyNjUuMDU4NTk0IEwgOTQuMjg1MTU2IDI2MS4zNDc2NTYgTCA5Mi4xNDA2MjUgMjY1LjA1ODU5NCBaIE0gOTYuNDI5Njg4IDI2NS4wNTg1OTQgIi8+CjxwYXRoIHN0eWxlPSIgc3Ryb2tlOm5vbmU7ZmlsbC1ydWxlOm5vbnplcm87ZmlsbDpyZ2IoMTAwJSwxMDAlLDEwMCUpO2ZpbGwtb3BhY2l0eToxOyIgZD0iTSA5MCAyNjguNzY5NTMxIEwgODcuODU1NDY5IDI2NS4wNTg1OTQgTCA4NS43MTA5MzggMjY4Ljc2OTUzMSBaIE0gOTAgMjY4Ljc2OTUzMSAiLz4KPHBhdGggc3R5bGU9IiBzdHJva2U6bm9uZTtmaWxsLXJ1bGU6bm9uemVybztmaWxsOnJnYigxMDAlLDEwMCUsMTAwJSk7ZmlsbC1vcGFjaXR5OjE7IiBkPSJNIDg1LjcxNDg0NCAyNjguNzY5NTMxIEwgODMuNTcwMzEyIDI2NS4wNTg1OTQgTCA4MS40MjU3ODEgMjY4Ljc2OTUzMSBaIE0gODUuNzE0ODQ0IDI2OC43Njk1MzEgIi8+CjxwYXRoIHN0eWxlPSIgc3Ryb2tlOm5vbmU7ZmlsbC1ydWxlOm5vbnplcm87ZmlsbDpyZ2IoMTAwJSwxMDAlLDEwMCUpO2ZpbGwtb3BhY2l0eToxOyIgZD0iTSA4Ny44NTU0NjkgMjY1LjA1ODU5NCBMIDg1LjcxMDkzOCAyNjEuMzQ3NjU2IEwgODMuNTY2NDA2IDI2NS4wNTg1OTQgWiBNIDg3Ljg1NTQ2OSAyNjUuMDU4NTk0ICIvPgo8cGF0aCBzdHlsZT0iIHN0cm9rZTpub25lO2ZpbGwtcnVsZTpub256ZXJvO2ZpbGw6cmdiKDEwMCUsMTAwJSwxMDAlKTtmaWxsLW9wYWNpdHk6MTsiIGQ9Ik0gOTQuMjg1MTU2IDI2MS4zNDc2NTYgTCA5Mi4xNDA2MjUgMjU3LjYzNjcxOSBMIDg5Ljk5NjA5NCAyNjEuMzQ3NjU2IFogTSA5NC4yODUxNTYgMjYxLjM0NzY1NiAiLz4KPHBhdGggc3R5bGU9IiBzdHJva2U6bm9uZTtmaWxsLXJ1bGU6bm9uemVybztmaWxsOnJnYigxMDAlLDEwMCUsMTAwJSk7ZmlsbC1vcGFjaXR5OjE7IiBkPSJNIDkwIDI2MS4zNDc2NTYgTCA4Ny44NTU0NjkgMjU3LjYzNjcxOSBMIDg1LjcxMDkzOCAyNjEuMzQ3NjU2IFogTSA5MCAyNjEuMzQ3NjU2ICIvPgo8cGF0aCBzdHlsZT0iIHN0cm9rZTpub25lO2ZpbGwtcnVsZTpub256ZXJvO2ZpbGw6cmdiKDEwMCUsMTAwJSwxMDAlKTtmaWxsLW9wYWNpdHk6MTsiIGQ9Ik0gOTIuMTQ0NTMxIDI1Ny42MzI4MTIgTCA5MCAyNTMuOTIxODc1IEwgODcuODU1NDY5IDI1Ny42MzI4MTIgWiBNIDkyLjE0NDUzMSAyNTcuNjMyODEyICIvPgo8cGF0aCBzdHlsZT0iIHN0cm9rZTpub25lO2ZpbGwtcnVsZTpub256ZXJvO2ZpbGw6cmdiKDEwMCUsMTAwJSwxMDAlKTtmaWxsLW9wYWNpdHk6MTsiIGQ9Ik0gMTA3LjE0NDUzMSAyNTMuOTIxODc1IEwgMTA1IDI1MC4yMTA5MzggTCAxMDIuODU1NDY5IDI1My45MjE4NzUgWiBNIDEwNy4xNDQ1MzEgMjUzLjkyMTg3NSAiLz4KPHBhdGggc3R5bGU9IiBzdHJva2U6bm9uZTtmaWxsLXJ1bGU6bm9uemVybztmaWxsOnJnYigxMDAlLDEwMCUsMTAwJSk7ZmlsbC1vcGFjaXR5OjE7IiBkPSJNIDEwMi44NTU0NjkgMjUzLjkyMTg3NSBMIDEwMC43MTA5MzggMjUwLjIxMDkzOCBMIDk4LjU2NjQwNiAyNTMuOTIxODc1IFogTSAxMDIuODU1NDY5IDI1My45MjE4NzUgIi8+CjxwYXRoIHN0eWxlPSIgc3Ryb2tlOm5vbmU7ZmlsbC1ydWxlOm5vbnplcm87ZmlsbDpyZ2IoMTAwJSwxMDAlLDEwMCUpO2ZpbGwtb3BhY2l0eToxOyIgZD0iTSAxMDUgMjUwLjIxMDkzOCBMIDEwMi44NTU0NjkgMjQ2LjUgTCAxMDAuNzEwOTM4IDI1MC4yMTA5MzggWiBNIDEwNSAyNTAuMjEwOTM4ICIvPgo8cGF0aCBzdHlsZT0iIHN0cm9rZTpub25lO2ZpbGwtcnVsZTpub256ZXJvO2ZpbGw6cmdiKDEwMCUsMTAwJSwxMDAlKTtmaWxsLW9wYWNpdHk6MTsiIGQ9Ik0gOTguNTcwMzEyIDI1My45MjE4NzUgTCA5Ni40MjU3ODEgMjUwLjIxMDkzOCBMIDk0LjI4MTI1IDI1My45MjE4NzUgWiBNIDk4LjU3MDMxMiAyNTMuOTIxODc1ICIvPgo8cGF0aCBzdHlsZT0iIHN0cm9rZTpub25lO2ZpbGwtcnVsZTpub256ZXJvO2ZpbGw6cmdiKDEwMCUsMTAwJSwxMDAlKTtmaWxsLW9wYWNpdHk6MTsiIGQ9Ik0gOTQuMjg1MTU2IDI1My45MjE4NzUgTCA5Mi4xNDA2MjUgMjUwLjIxMDkzOCBMIDg5Ljk5NjA5NCAyNTMuOTIxODc1IFogTSA5NC4yODUxNTYgMjUzLjkyMTg3NSAiLz4KPHBhdGggc3R5bGU9IiBzdHJva2U6bm9uZTtmaWxsLXJ1bGU6bm9uemVybztmaWxsOnJnYigxMDAlLDEwMCUsMTAwJSk7ZmlsbC1vcGFjaXR5OjE7IiBkPSJNIDk2LjQyOTY4OCAyNTAuMjEwOTM4IEwgOTQuMjg1MTU2IDI0Ni41IEwgOTIuMTQwNjI1IDI1MC4yMTA5MzggWiBNIDk2LjQyOTY4OCAyNTAuMjEwOTM4ICIvPgo8cGF0aCBzdHlsZT0iIHN0cm9rZTpub25lO2ZpbGwtcnVsZTpub256ZXJvO2ZpbGw6cmdiKDEwMCUsMTAwJSwxMDAlKTtmaWxsLW9wYWNpdHk6MTsiIGQ9Ik0gMTAyLjg1NTQ2OSAyNDYuNSBMIDEwMC43MTA5MzggMjQyLjc4OTA2MiBMIDk4LjU2NjQwNiAyNDYuNSBaIE0gMTAyLjg1NTQ2OSAyNDYuNSAiLz4KPHBhdGggc3R5bGU9IiBzdHJva2U6bm9uZTtmaWxsLXJ1bGU6bm9uemVybztmaWxsOnJnYigxMDAlLDEwMCUsMTAwJSk7ZmlsbC1vcGFjaXR5OjE7IiBkPSJNIDk4LjU3MDMxMiAyNDYuNSBMIDk2LjQyNTc4MSAyNDIuNzg5MDYyIEwgOTQuMjgxMjUgMjQ2LjUgWiBNIDk4LjU3MDMxMiAyNDYuNSAiLz4KPHBhdGggc3R5bGU9IiBzdHJva2U6bm9uZTtmaWxsLXJ1bGU6bm9uemVybztmaWxsOnJnYigxMDAlLDEwMCUsMTAwJSk7ZmlsbC1vcGFjaXR5OjE7IiBkPSJNIDEwMC43MTQ4NDQgMjQyLjc4OTA2MiBMIDk4LjU3MDMxMiAyMzkuMDc4MTI1IEwgOTYuNDI1NzgxIDI0Mi43ODkwNjIgWiBNIDEwMC43MTQ4NDQgMjQyLjc4OTA2MiAiLz4KPHBhdGggc3R5bGU9IiBzdHJva2U6bm9uZTtmaWxsLXJ1bGU6bm9uemVybztmaWxsOnJnYigxMDAlLDEwMCUsMTAwJSk7ZmlsbC1vcGFjaXR5OjE7IiBkPSJNIDEzMi44NTU0NjkgMjM5LjA3ODEyNSBMIDEzMC43MTA5MzggMjM1LjM2NzE4OCBMIDEyOC41NjY0MDYgMjM5LjA3ODEyNSBaIE0gMTMyLjg1NTQ2OSAyMzkuMDc4MTI1ICIvPgo8cGF0aCBzdHlsZT0iIHN0cm9rZTpub25lO2ZpbGwtcnVsZTpub256ZXJvO2ZpbGw6cmdiKDEwMCUsMTAwJSwxMDAlKTtmaWxsLW9wYWNpdHk6MTsiIGQ9Ik0gMTI4LjU3MDMxMiAyMzkuMDc4MTI1IEwgMTI2LjQyNTc4MSAyMzUuMzY3MTg4IEwgMTI0LjI4MTI1IDIzOS4wNzgxMjUgWiBNIDEyOC41NzAzMTIgMjM5LjA3ODEyNSAiLz4KPHBhdGggc3R5bGU9IiBzdHJva2U6bm9uZTtmaWxsLXJ1bGU6bm9uemVybztmaWxsOnJnYigxMDAlLDEwMCUsMTAwJSk7ZmlsbC1vcGFjaXR5OjE7IiBkPSJNIDEzMC43MTQ4NDQgMjM1LjM2NzE4OCBMIDEyOC41NzAzMTIgMjMxLjY1NjI1IEwgMTI2LjQyNTc4MSAyMzUuMzY3MTg4IFogTSAxMzAuNzE0ODQ0IDIzNS4zNjcxODggIi8+CjxwYXRoIHN0eWxlPSIgc3Ryb2tlOm5vbmU7ZmlsbC1ydWxlOm5vbnplcm87ZmlsbDpyZ2IoMTAwJSwxMDAlLDEwMCUpO2ZpbGwtb3BhY2l0eToxOyIgZD0iTSAxMjQuMjg1MTU2IDIzOS4wNzgxMjUgTCAxMjIuMTQwNjI1IDIzNS4zNjcxODggTCAxMTkuOTk2MDk0IDIzOS4wNzgxMjUgWiBNIDEyNC4yODUxNTYgMjM5LjA3ODEyNSAiLz4KPHBhdGggc3R5bGU9IiBzdHJva2U6bm9uZTtmaWxsLXJ1bGU6bm9uemVybztmaWxsOnJnYigxMDAlLDEwMCUsMTAwJSk7ZmlsbC1vcGFjaXR5OjE7IiBkPSJNIDEyMCAyMzkuMDc4MTI1IEwgMTE3Ljg1NTQ2OSAyMzUuMzY3MTg4IEwgMTE1LjcxMDkzOCAyMzkuMDc4MTI1IFogTSAxMjAgMjM5LjA3ODEyNSAiLz4KPHBhdGggc3R5bGU9IiBzdHJva2U6bm9uZTtmaWxsLXJ1bGU6bm9uemVybztmaWxsOnJnYigxMDAlLDEwMCUsMTAwJSk7ZmlsbC1vcGFjaXR5OjE7IiBkPSJNIDEyMi4xNDQ1MzEgMjM1LjM2NzE4OCBMIDEyMCAyMzEuNjU2MjUgTCAxMTcuODU1NDY5IDIzNS4zNjcxODggWiBNIDEyMi4xNDQ1MzEgMjM1LjM2NzE4OCAiLz4KPHBhdGggc3R5bGU9IiBzdHJva2U6bm9uZTtmaWxsLXJ1bGU6bm9uemVybztmaWxsOnJnYigxMDAlLDEwMCUsMTAwJSk7ZmlsbC1vcGFjaXR5OjE7IiBkPSJNIDEyOC41NzAzMTIgMjMxLjY1MjM0NCBMIDEyNi40MjU3ODEgMjI3Ljk0MTQwNiBMIDEyNC4yODEyNSAyMzEuNjUyMzQ0IFogTSAxMjguNTcwMzEyIDIzMS42NTIzNDQgIi8+CjxwYXRoIHN0eWxlPSIgc3Ryb2tlOm5vbmU7ZmlsbC1ydWxlOm5vbnplcm87ZmlsbDpyZ2IoMTAwJSwxMDAlLDEwMCUpO2ZpbGwtb3BhY2l0eToxOyIgZD0iTSAxMjQuMjg1MTU2IDIzMS42NTIzNDQgTCAxMjIuMTQwNjI1IDIyNy45NDE0MDYgTCAxMTkuOTk2MDk0IDIzMS42NTIzNDQgWiBNIDEyNC4yODUxNTYgMjMxLjY1MjM0NCAiLz4KPHBhdGggc3R5bGU9IiBzdHJva2U6bm9uZTtmaWxsLXJ1bGU6bm9uemVybztmaWxsOnJnYigxMDAlLDEwMCUsMTAwJSk7ZmlsbC1vcGFjaXR5OjE7IiBkPSJNIDEyNi40Mjk2ODggMjI3Ljk0MTQwNiBMIDEyNC4yODUxNTYgMjI0LjIzMDQ2OSBMIDEyMi4xNDA2MjUgMjI3Ljk0MTQwNiBaIE0gMTI2LjQyOTY4OCAyMjcuOTQxNDA2ICIvPgo8cGF0aCBzdHlsZT0iIHN0cm9rZTpub25lO2ZpbGwtcnVsZTpub256ZXJvO2ZpbGw6cmdiKDEwMCUsMTAwJSwxMDAlKTtmaWxsLW9wYWNpdHk6MTsiIGQ9Ik0gMTE1LjcxNDg0NCAyMzkuMDc4MTI1IEwgMTEzLjU3MDMxMiAyMzUuMzY3MTg4IEwgMTExLjQyNTc4MSAyMzkuMDc4MTI1IFogTSAxMTUuNzE0ODQ0IDIzOS4wNzgxMjUgIi8+CjxwYXRoIHN0eWxlPSIgc3Ryb2tlOm5vbmU7ZmlsbC1ydWxlOm5vbnplcm87ZmlsbDpyZ2IoMTAwJSwxMDAlLDEwMCUpO2ZpbGwtb3BhY2l0eToxOyIgZD0iTSAxMTEuNDI5Njg4IDIzOS4wNzgxMjUgTCAxMDkuMjg1MTU2IDIzNS4zNjcxODggTCAxMDcuMTQwNjI1IDIzOS4wNzgxMjUgWiBNIDExMS40Mjk2ODggMjM5LjA3ODEyNSAiLz4KPHBhdGggc3R5bGU9IiBzdHJva2U6bm9uZTtmaWxsLXJ1bGU6bm9uemVybztmaWxsOnJnYigxMDAlLDEwMCUsMTAwJSk7ZmlsbC1vcGFjaXR5OjE7IiBkPSJNIDExMy41NzAzMTIgMjM1LjM2NzE4OCBMIDExMS40MjU3ODEgMjMxLjY1NjI1IEwgMTA5LjI4MTI1IDIzNS4zNjcxODggWiBNIDExMy41NzAzMTIgMjM1LjM2NzE4OCAiLz4KPHBhdGggc3R5bGU9IiBzdHJva2U6bm9uZTtmaWxsLXJ1bGU6bm9uemVybztmaWxsOnJnYigxMDAlLDEwMCUsMTAwJSk7ZmlsbC1vcGFjaXR5OjE7IiBkPSJNIDEwNy4xNDQ1MzEgMjM5LjA3ODEyNSBMIDEwNSAyMzUuMzY3MTg4IEwgMTAyLjg1NTQ2OSAyMzkuMDc4MTI1IFogTSAxMDcuMTQ0NTMxIDIzOS4wNzgxMjUgIi8+CjxwYXRoIHN0eWxlPSIgc3Ryb2tlOm5vbmU7ZmlsbC1ydWxlOm5vbnplcm87ZmlsbDpyZ2IoMTAwJSwxMDAlLDEwMCUpO2ZpbGwtb3BhY2l0eToxOyIgZD0iTSAxMDIuODU1NDY5IDIzOS4wNzgxMjUgTCAxMDAuNzEwOTM4IDIzNS4zNjcxODggTCA5OC41NjY0MDYgMjM5LjA3ODEyNSBaIE0gMTAyLjg1NTQ2OSAyMzkuMDc4MTI1ICIvPgo8cGF0aCBzdHlsZT0iIHN0cm9rZTpub25lO2ZpbGwtcnVsZTpub256ZXJvO2ZpbGw6cmdiKDEwMCUsMTAwJSwxMDAlKTtmaWxsLW9wYWNpdHk6MTsiIGQ9Ik0gMTA1IDIzNS4zNjcxODggTCAxMDIuODU1NDY5IDIzMS42NTYyNSBMIDEwMC43MTA5MzggMjM1LjM2NzE4OCBaIE0gMTA1IDIzNS4zNjcxODggIi8+CjxwYXRoIHN0eWxlPSIgc3Ryb2tlOm5vbmU7ZmlsbC1ydWxlOm5vbnplcm87ZmlsbDpyZ2IoMTAwJSwxMDAlLDEwMCUpO2ZpbGwtb3BhY2l0eToxOyIgZD0iTSAxMTEuNDI5Njg4IDIzMS42NTIzNDQgTCAxMDkuMjg1MTU2IDIyNy45NDE0MDYgTCAxMDcuMTQwNjI1IDIzMS42NTIzNDQgWiBNIDExMS40Mjk2ODggMjMxLjY1MjM0NCAiLz4KPHBhdGggc3R5bGU9IiBzdHJva2U6bm9uZTtmaWxsLXJ1bGU6bm9uemVybztmaWxsOnJnYigxMDAlLDEwMCUsMTAwJSk7ZmlsbC1vcGFjaXR5OjE7IiBkPSJNIDEwNy4xNDQ1MzEgMjMxLjY1MjM0NCBMIDEwNSAyMjcuOTQxNDA2IEwgMTAyLjg1NTQ2OSAyMzEuNjUyMzQ0IFogTSAxMDcuMTQ0NTMxIDIzMS42NTIzNDQgIi8+CjxwYXRoIHN0eWxlPSIgc3Ryb2tlOm5vbmU7ZmlsbC1ydWxlOm5vbnplcm87ZmlsbDpyZ2IoMTAwJSwxMDAlLDEwMCUpO2ZpbGwtb3BhY2l0eToxOyIgZD0iTSAxMDkuMjg1MTU2IDIyNy45NDE0MDYgTCAxMDcuMTQwNjI1IDIyNC4yMzA0NjkgTCAxMDQuOTk2MDk0IDIyNy45NDE0MDYgWiBNIDEwOS4yODUxNTYgMjI3Ljk0MTQwNiAiLz4KPHBhdGggc3R5bGU9IiBzdHJva2U6bm9uZTtmaWxsLXJ1bGU6bm9uemVybztmaWxsOnJnYigxMDAlLDEwMCUsMTAwJSk7ZmlsbC1vcGFjaXR5OjE7IiBkPSJNIDEyNC4yODUxNTYgMjI0LjIzMDQ2OSBMIDEyMi4xNDA2MjUgMjIwLjUxOTUzMSBMIDExOS45OTYwOTQgMjI0LjIzMDQ2OSBaIE0gMTI0LjI4NTE1NiAyMjQuMjMwNDY5ICIvPgo8cGF0aCBzdHlsZT0iIHN0cm9rZTpub25lO2ZpbGwtcnVsZTpub256ZXJvO2ZpbGw6cmdiKDEwMCUsMTAwJSwxMDAlKTtmaWxsLW9wYWNpdHk6MTsiIGQ9Ik0gMTIwIDIyNC4yMzA0NjkgTCAxMTcuODU1NDY5IDIyMC41MTk1MzEgTCAxMTUuNzEwOTM4IDIyNC4yMzA0NjkgWiBNIDEyMCAyMjQuMjMwNDY5ICIvPgo8cGF0aCBzdHlsZT0iIHN0cm9rZTpub25lO2ZpbGwtcnVsZTpub256ZXJvO2ZpbGw6cmdiKDEwMCUsMTAwJSwxMDAlKTtmaWxsLW9wYWNpdHk6MTsiIGQ9Ik0gMTIyLjE0NDUzMSAyMjAuNTE5NTMxIEwgMTIwIDIxNi44MDg1OTQgTCAxMTcuODU1NDY5IDIyMC41MTk1MzEgWiBNIDEyMi4xNDQ1MzEgMjIwLjUxOTUzMSAiLz4KPHBhdGggc3R5bGU9IiBzdHJva2U6bm9uZTtmaWxsLXJ1bGU6bm9uemVybztmaWxsOnJnYigxMDAlLDEwMCUsMTAwJSk7ZmlsbC1vcGFjaXR5OjE7IiBkPSJNIDExNS43MTQ4NDQgMjI0LjIzMDQ2OSBMIDExMy41NzAzMTIgMjIwLjUxOTUzMSBMIDExMS40MjU3ODEgMjI0LjIzMDQ2OSBaIE0gMTE1LjcxNDg0NCAyMjQuMjMwNDY5ICIvPgo8cGF0aCBzdHlsZT0iIHN0cm9rZTpub25lO2ZpbGwtcnVsZTpub256ZXJvO2ZpbGw6cmdiKDEwMCUsMTAwJSwxMDAlKTtmaWxsLW9wYWNpdHk6MTsiIGQ9Ik0gMTExLjQyOTY4OCAyMjQuMjMwNDY5IEwgMTA5LjI4NTE1NiAyMjAuNTE5NTMxIEwgMTA3LjE0MDYyNSAyMjQuMjMwNDY5IFogTSAxMTEuNDI5Njg4IDIyNC4yMzA0NjkgIi8+CjxwYXRoIHN0eWxlPSIgc3Ryb2tlOm5vbmU7ZmlsbC1ydWxlOm5vbnplcm87ZmlsbDpyZ2IoMTAwJSwxMDAlLDEwMCUpO2ZpbGwtb3BhY2l0eToxOyIgZD0iTSAxMTMuNTcwMzEyIDIyMC41MTk1MzEgTCAxMTEuNDI1NzgxIDIxNi44MDg1OTQgTCAxMDkuMjgxMjUgMjIwLjUxOTUzMSBaIE0gMTEzLjU3MDMxMiAyMjAuNTE5NTMxICIvPgo8cGF0aCBzdHlsZT0iIHN0cm9rZTpub25lO2ZpbGwtcnVsZTpub256ZXJvO2ZpbGw6cmdiKDEwMCUsMTAwJSwxMDAlKTtmaWxsLW9wYWNpdHk6MTsiIGQ9Ik0gMTIwIDIxNi44MDg1OTQgTCAxMTcuODU1NDY5IDIxMy4wOTc2NTYgTCAxMTUuNzEwOTM4IDIxNi44MDg1OTQgWiBNIDEyMCAyMTYuODA4NTk0ICIvPgo8cGF0aCBzdHlsZT0iIHN0cm9rZTpub25lO2ZpbGwtcnVsZTpub256ZXJvO2ZpbGw6cmdiKDEwMCUsMTAwJSwxMDAlKTtmaWxsLW9wYWNpdHk6MTsiIGQ9Ik0gMTE1LjcxNDg0NCAyMTYuODA4NTk0IEwgMTEzLjU3MDMxMiAyMTMuMDk3NjU2IEwgMTExLjQyNTc4MSAyMTYuODA4NTk0IFogTSAxMTUuNzE0ODQ0IDIxNi44MDg1OTQgIi8+CjxwYXRoIHN0eWxlPSIgc3Ryb2tlOm5vbmU7ZmlsbC1ydWxlOm5vbnplcm87ZmlsbDpyZ2IoMTAwJSwxMDAlLDEwMCUpO2ZpbGwtb3BhY2l0eToxOyIgZD0iTSAxMTcuODU1NDY5IDIxMy4wOTc2NTYgTCAxMTUuNzEwOTM4IDIwOS4zODY3MTkgTCAxMTMuNTY2NDA2IDIxMy4wOTc2NTYgWiBNIDExNy44NTU0NjkgMjEzLjA5NzY1NiAiLz4KPHBhdGggc3R5bGU9IiBzdHJva2U6bm9uZTtmaWxsLXJ1bGU6bm9uemVybztmaWxsOnJnYigxMDAlLDEwMCUsMTAwJSk7ZmlsbC1vcGFjaXR5OjE7IiBkPSJNIDgxLjQyOTY4OCAyNjguNzY5NTMxIEwgNzkuMjg1MTU2IDI2NS4wNTg1OTQgTCA3Ny4xNDA2MjUgMjY4Ljc2OTUzMSBaIE0gODEuNDI5Njg4IDI2OC43Njk1MzEgIi8+CjxwYXRoIHN0eWxlPSIgc3Ryb2tlOm5vbmU7ZmlsbC1ydWxlOm5vbnplcm87ZmlsbDpyZ2IoMTAwJSwxMDAlLDEwMCUpO2ZpbGwtb3BhY2l0eToxOyIgZD0iTSA3Ny4xNDQ1MzEgMjY4Ljc2OTUzMSBMIDc1IDI2NS4wNTg1OTQgTCA3Mi44NTU0NjkgMjY4Ljc2OTUzMSBaIE0gNzcuMTQ0NTMxIDI2OC43Njk1MzEgIi8+CjxwYXRoIHN0eWxlPSIgc3Ryb2tlOm5vbmU7ZmlsbC1ydWxlOm5vbnplcm87ZmlsbDpyZ2IoMTAwJSwxMDAlLDEwMCUpO2ZpbGwtb3BhY2l0eToxOyIgZD0iTSA3OS4yODUxNTYgMjY1LjA1ODU5NCBMIDc3LjE0MDYyNSAyNjEuMzQ3NjU2IEwgNzQuOTk2MDk0IDI2NS4wNTg1OTQgWiBNIDc5LjI4NTE1NiAyNjUuMDU4NTk0ICIvPgo8cGF0aCBzdHlsZT0iIHN0cm9rZTpub25lO2ZpbGwtcnVsZTpub256ZXJvO2ZpbGw6cmdiKDEwMCUsMTAwJSwxMDAlKTtmaWxsLW9wYWNpdHk6MTsiIGQ9Ik0gNzIuODU1NDY5IDI2OC43Njk1MzEgTCA3MC43MTA5MzggMjY1LjA1ODU5NCBMIDY4LjU2NjQwNiAyNjguNzY5NTMxIFogTSA3Mi44NTU0NjkgMjY4Ljc2OTUzMSAiLz4KPHBhdGggc3R5bGU9IiBzdHJva2U6bm9uZTtmaWxsLXJ1bGU6bm9uemVybztmaWxsOnJnYigxMDAlLDEwMCUsMTAwJSk7ZmlsbC1vcGFjaXR5OjE7IiBkPSJNIDY4LjU3MDMxMiAyNjguNzY5NTMxIEwgNjYuNDI1NzgxIDI2NS4wNTg1OTQgTCA2NC4yODEyNSAyNjguNzY5NTMxIFogTSA2OC41NzAzMTIgMjY4Ljc2OTUzMSAiLz4KPHBhdGggc3R5bGU9IiBzdHJva2U6bm9uZTtmaWxsLXJ1bGU6bm9uemVybztmaWxsOnJnYigxMDAlLDEwMCUsMTAwJSk7ZmlsbC1vcGFjaXR5OjE7IiBkPSJNIDcwLjcxNDg0NCAyNjUuMDU4NTk0IEwgNjguNTcwMzEyIDI2MS4zNDc2NTYgTCA2Ni40MjU3ODEgMjY1LjA1ODU5NCBaIE0gNzAuNzE0ODQ0IDI2NS4wNTg1OTQgIi8+CjxwYXRoIHN0eWxlPSIgc3Ryb2tlOm5vbmU7ZmlsbC1ydWxlOm5vbnplcm87ZmlsbDpyZ2IoMTAwJSwxMDAlLDEwMCUpO2ZpbGwtb3BhY2l0eToxOyIgZD0iTSA3Ny4xNDQ1MzEgMjYxLjM0NzY1NiBMIDc1IDI1Ny42MzY3MTkgTCA3Mi44NTU0NjkgMjYxLjM0NzY1NiBaIE0gNzcuMTQ0NTMxIDI2MS4zNDc2NTYgIi8+CjxwYXRoIHN0eWxlPSIgc3Ryb2tlOm5vbmU7ZmlsbC1ydWxlOm5vbnplcm87ZmlsbDpyZ2IoMTAwJSwxMDAlLDEwMCUpO2ZpbGwtb3BhY2l0eToxOyIgZD0iTSA3Mi44NTU0NjkgMjYxLjM0NzY1NiBMIDcwLjcxMDkzOCAyNTcuNjM2NzE5IEwgNjguNTY2NDA2IDI2MS4zNDc2NTYgWiBNIDcyLjg1NTQ2OSAyNjEuMzQ3NjU2ICIvPgo8cGF0aCBzdHlsZT0iIHN0cm9rZTpub25lO2ZpbGwtcnVsZTpub256ZXJvO2ZpbGw6cmdiKDEwMCUsMTAwJSwxMDAlKTtmaWxsLW9wYWNpdHk6MTsiIGQ9Ik0gNzUgMjU3LjYzMjgxMiBMIDcyLjg1NTQ2OSAyNTMuOTIxODc1IEwgNzAuNzEwOTM4IDI1Ny42MzI4MTIgWiBNIDc1IDI1Ny42MzI4MTIgIi8+CjxwYXRoIHN0eWxlPSIgc3Ryb2tlOm5vbmU7ZmlsbC1ydWxlOm5vbnplcm87ZmlsbDpyZ2IoMTAwJSwxMDAlLDEwMCUpO2ZpbGwtb3BhY2l0eToxOyIgZD0iTSA2NC4yODUxNTYgMjY4Ljc2OTUzMSBMIDYyLjE0MDYyNSAyNjUuMDU4NTk0IEwgNTkuOTk2MDk0IDI2OC43Njk1MzEgWiBNIDY0LjI4NTE1NiAyNjguNzY5NTMxICIvPgo8cGF0aCBzdHlsZT0iIHN0cm9rZTpub25lO2ZpbGwtcnVsZTpub256ZXJvO2ZpbGw6cmdiKDEwMCUsMTAwJSwxMDAlKTtmaWxsLW9wYWNpdHk6MTsiIGQ9Ik0gNjAgMjY4Ljc2OTUzMSBMIDU3Ljg1NTQ2OSAyNjUuMDU4NTk0IEwgNTUuNzEwOTM4IDI2OC43Njk1MzEgWiBNIDYwIDI2OC43Njk1MzEgIi8+CjxwYXRoIHN0eWxlPSIgc3Ryb2tlOm5vbmU7ZmlsbC1ydWxlOm5vbnplcm87ZmlsbDpyZ2IoMTAwJSwxMDAlLDEwMCUpO2ZpbGwtb3BhY2l0eToxOyIgZD0iTSA2Mi4xNDQ1MzEgMjY1LjA1ODU5NCBMIDYwIDI2MS4zNDc2NTYgTCA1Ny44NTU0NjkgMjY1LjA1ODU5NCBaIE0gNjIuMTQ0NTMxIDI2NS4wNTg1OTQgIi8+CjxwYXRoIHN0eWxlPSIgc3Ryb2tlOm5vbmU7ZmlsbC1ydWxlOm5vbnplcm87ZmlsbDpyZ2IoMTAwJSwxMDAlLDEwMCUpO2ZpbGwtb3BhY2l0eToxOyIgZD0iTSA1NS43MTQ4NDQgMjY4Ljc2OTUzMSBMIDUzLjU3MDMxMiAyNjUuMDU4NTk0IEwgNTEuNDI1NzgxIDI2OC43Njk1MzEgWiBNIDU1LjcxNDg0NCAyNjguNzY5NTMxICIvPgo8cGF0aCBzdHlsZT0iIHN0cm9rZTpub25lO2ZpbGwtcnVsZTpub256ZXJvO2ZpbGw6cmdiKDEwMCUsMTAwJSwxMDAlKTtmaWxsLW9wYWNpdHk6MTsiIGQ9Ik0gNTEuNDI5Njg4IDI2OC43Njk1MzEgTCA0OS4yODUxNTYgMjY1LjA1ODU5NCBMIDQ3LjE0MDYyNSAyNjguNzY5NTMxIFogTSA1MS40Mjk2ODggMjY4Ljc2OTUzMSAiLz4KPHBhdGggc3R5bGU9IiBzdHJva2U6bm9uZTtmaWxsLXJ1bGU6bm9uemVybztmaWxsOnJnYigxMDAlLDEwMCUsMTAwJSk7ZmlsbC1vcGFjaXR5OjE7IiBkPSJNIDUzLjU3MDMxMiAyNjUuMDU4NTk0IEwgNTEuNDI1NzgxIDI2MS4zNDc2NTYgTCA0OS4yODEyNSAyNjUuMDU4NTk0IFogTSA1My41NzAzMTIgMjY1LjA1ODU5NCAiLz4KPHBhdGggc3R5bGU9IiBzdHJva2U6bm9uZTtmaWxsLXJ1bGU6bm9uemVybztmaWxsOnJnYigxMDAlLDEwMCUsMTAwJSk7ZmlsbC1vcGFjaXR5OjE7IiBkPSJNIDYwIDI2MS4zNDc2NTYgTCA1Ny44NTU0NjkgMjU3LjYzNjcxOSBMIDU1LjcxMDkzOCAyNjEuMzQ3NjU2IFogTSA2MCAyNjEuMzQ3NjU2ICIvPgo8cGF0aCBzdHlsZT0iIHN0cm9rZTpub25lO2ZpbGwtcnVsZTpub256ZXJvO2ZpbGw6cmdiKDEwMCUsMTAwJSwxMDAlKTtmaWxsLW9wYWNpdHk6MTsiIGQ9Ik0gNTUuNzE0ODQ0IDI2MS4zNDc2NTYgTCA1My41NzAzMTIgMjU3LjYzNjcxOSBMIDUxLjQyNTc4MSAyNjEuMzQ3NjU2IFogTSA1NS43MTQ4NDQgMjYxLjM0NzY1NiAiLz4KPHBhdGggc3R5bGU9IiBzdHJva2U6bm9uZTtmaWxsLXJ1bGU6bm9uemVybztmaWxsOnJnYigxMDAlLDEwMCUsMTAwJSk7ZmlsbC1vcGFjaXR5OjE7IiBkPSJNIDU3Ljg1NTQ2OSAyNTcuNjMyODEyIEwgNTUuNzEwOTM4IDI1My45MjE4NzUgTCA1My41NjY0MDYgMjU3LjYzMjgxMiBaIE0gNTcuODU1NDY5IDI1Ny42MzI4MTIgIi8+CjxwYXRoIHN0eWxlPSIgc3Ryb2tlOm5vbmU7ZmlsbC1ydWxlOm5vbnplcm87ZmlsbDpyZ2IoMTAwJSwxMDAlLDEwMCUpO2ZpbGwtb3BhY2l0eToxOyIgZD0iTSA3Mi44NTU0NjkgMjUzLjkyMTg3NSBMIDcwLjcxMDkzOCAyNTAuMjEwOTM4IEwgNjguNTY2NDA2IDI1My45MjE4NzUgWiBNIDcyLjg1NTQ2OSAyNTMuOTIxODc1ICIvPgo8cGF0aCBzdHlsZT0iIHN0cm9rZTpub25lO2ZpbGwtcnVsZTpub256ZXJvO2ZpbGw6cmdiKDEwMCUsMTAwJSwxMDAlKTtmaWxsLW9wYWNpdHk6MTsiIGQ9Ik0gNjguNTcwMzEyIDI1My45MjE4NzUgTCA2Ni40MjU3ODEgMjUwLjIxMDkzOCBMIDY0LjI4MTI1IDI1My45MjE4NzUgWiBNIDY4LjU3MDMxMiAyNTMuOTIxODc1ICIvPgo8cGF0aCBzdHlsZT0iIHN0cm9rZTpub25lO2ZpbGwtcnVsZTpub256ZXJvO2ZpbGw6cmdiKDEwMCUsMTAwJSwxMDAlKTtmaWxsLW9wYWNpdHk6MTsiIGQ9Ik0gNzAuNzE0ODQ0IDI1MC4yMTA5MzggTCA2OC41NzAzMTIgMjQ2LjUgTCA2Ni40MjU3ODEgMjUwLjIxMDkzOCBaIE0gNzAuNzE0ODQ0IDI1MC4yMTA5MzggIi8+CjxwYXRoIHN0eWxlPSIgc3Ryb2tlOm5vbmU7ZmlsbC1ydWxlOm5vbnplcm87ZmlsbDpyZ2IoMTAwJSwxMDAlLDEwMCUpO2ZpbGwtb3BhY2l0eToxOyIgZD0iTSA2NC4yODUxNTYgMjUzLjkyMTg3NSBMIDYyLjE0MDYyNSAyNTAuMjEwOTM4IEwgNTkuOTk2MDk0IDI1My45MjE4NzUgWiBNIDY0LjI4NTE1NiAyNTMuOTIxODc1ICIvPgo8cGF0aCBzdHlsZT0iIHN0cm9rZTpub25lO2ZpbGwtcnVsZTpub256ZXJvO2ZpbGw6cmdiKDEwMCUsMTAwJSwxMDAlKTtmaWxsLW9wYWNpdHk6MTsiIGQ9Ik0gNjAgMjUzLjkyMTg3NSBMIDU3Ljg1NTQ2OSAyNTAuMjEwOTM4IEwgNTUuNzEwOTM4IDI1My45MjE4NzUgWiBNIDYwIDI1My45MjE4NzUgIi8+CjxwYXRoIHN0eWxlPSIgc3Ryb2tlOm5vbmU7ZmlsbC1ydWxlOm5vbnplcm87ZmlsbDpyZ2IoMTAwJSwxMDAlLDEwMCUpO2ZpbGwtb3BhY2l0eToxOyIgZD0iTSA2Mi4xNDQ1MzEgMjUwLjIxMDkzOCBMIDYwIDI0Ni41IEwgNTcuODU1NDY5IDI1MC4yMTA5MzggWiBNIDYyLjE0NDUzMSAyNTAuMjEwOTM4ICIvPgo8cGF0aCBzdHlsZT0iIHN0cm9rZTpub25lO2ZpbGwtcnVsZTpub256ZXJvO2ZpbGw6cmdiKDEwMCUsMTAwJSwxMDAlKTtmaWxsLW9wYWNpdHk6MTsiIGQ9Ik0gNjguNTcwMzEyIDI0Ni41IEwgNjYuNDI1NzgxIDI0Mi43ODkwNjIgTCA2NC4yODEyNSAyNDYuNSBaIE0gNjguNTcwMzEyIDI0Ni41ICIvPgo8cGF0aCBzdHlsZT0iIHN0cm9rZTpub25lO2ZpbGwtcnVsZTpub256ZXJvO2ZpbGw6cmdiKDEwMCUsMTAwJSwxMDAlKTtmaWxsLW9wYWNpdHk6MTsiIGQ9Ik0gNjQuMjg1MTU2IDI0Ni41IEwgNjIuMTQwNjI1IDI0Mi43ODkwNjIgTCA1OS45OTYwOTQgMjQ2LjUgWiBNIDY0LjI4NTE1NiAyNDYuNSAiLz4KPHBhdGggc3R5bGU9IiBzdHJva2U6bm9uZTtmaWxsLXJ1bGU6bm9uemVybztmaWxsOnJnYigxMDAlLDEwMCUsMTAwJSk7ZmlsbC1vcGFjaXR5OjE7IiBkPSJNIDY2LjQyOTY4OCAyNDIuNzg5MDYyIEwgNjQuMjg1MTU2IDIzOS4wNzgxMjUgTCA2Mi4xNDA2MjUgMjQyLjc4OTA2MiBaIE0gNjYuNDI5Njg4IDI0Mi43ODkwNjIgIi8+CjxwYXRoIHN0eWxlPSIgc3Ryb2tlOm5vbmU7ZmlsbC1ydWxlOm5vbnplcm87ZmlsbDpyZ2IoMTAwJSwxMDAlLDEwMCUpO2ZpbGwtb3BhY2l0eToxOyIgZD0iTSA0Ny4xNDQ1MzEgMjY4Ljc2OTUzMSBMIDQ1IDI2NS4wNTg1OTQgTCA0Mi44NTU0NjkgMjY4Ljc2OTUzMSBaIE0gNDcuMTQ0NTMxIDI2OC43Njk1MzEgIi8+CjxwYXRoIHN0eWxlPSIgc3Ryb2tlOm5vbmU7ZmlsbC1ydWxlOm5vbnplcm87ZmlsbDpyZ2IoMTAwJSwxMDAlLDEwMCUpO2ZpbGwtb3BhY2l0eToxOyIgZD0iTSA0Mi44NTU0NjkgMjY4Ljc2OTUzMSBMIDQwLjcxMDkzOCAyNjUuMDU4NTk0IEwgMzguNTY2NDA2IDI2OC43Njk1MzEgWiBNIDQyLjg1NTQ2OSAyNjguNzY5NTMxICIvPgo8cGF0aCBzdHlsZT0iIHN0cm9rZTpub25lO2ZpbGwtcnVsZTpub256ZXJvO2ZpbGw6cmdiKDEwMCUsMTAwJSwxMDAlKTtmaWxsLW9wYWNpdHk6MTsiIGQ9Ik0gNDUgMjY1LjA1ODU5NCBMIDQyLjg1NTQ2OSAyNjEuMzQ3NjU2IEwgNDAuNzEwOTM4IDI2NS4wNTg1OTQgWiBNIDQ1IDI2NS4wNTg1OTQgIi8+CjxwYXRoIHN0eWxlPSIgc3Ryb2tlOm5vbmU7ZmlsbC1ydWxlOm5vbnplcm87ZmlsbDpyZ2IoMTAwJSwxMDAlLDEwMCUpO2ZpbGwtb3BhY2l0eToxOyIgZD0iTSAzOC41NzAzMTIgMjY4Ljc2OTUzMSBMIDM2LjQyNTc4MSAyNjUuMDU4NTk0IEwgMzQuMjgxMjUgMjY4Ljc2OTUzMSBaIE0gMzguNTcwMzEyIDI2OC43Njk1MzEgIi8+CjxwYXRoIHN0eWxlPSIgc3Ryb2tlOm5vbmU7ZmlsbC1ydWxlOm5vbnplcm87ZmlsbDpyZ2IoMTAwJSwxMDAlLDEwMCUpO2ZpbGwtb3BhY2l0eToxOyIgZD0iTSAzNC4yODUxNTYgMjY4Ljc2OTUzMSBMIDMyLjE0MDYyNSAyNjUuMDU4NTk0IEwgMjkuOTk2MDk0IDI2OC43Njk1MzEgWiBNIDM0LjI4NTE1NiAyNjguNzY5NTMxICIvPgo8cGF0aCBzdHlsZT0iIHN0cm9rZTpub25lO2ZpbGwtcnVsZTpub256ZXJvO2ZpbGw6cmdiKDEwMCUsMTAwJSwxMDAlKTtmaWxsLW9wYWNpdHk6MTsiIGQ9Ik0gMzYuNDI5Njg4IDI2NS4wNTg1OTQgTCAzNC4yODUxNTYgMjYxLjM0NzY1NiBMIDMyLjE0MDYyNSAyNjUuMDU4NTk0IFogTSAzNi40Mjk2ODggMjY1LjA1ODU5NCAiLz4KPHBhdGggc3R5bGU9IiBzdHJva2U6bm9uZTtmaWxsLXJ1bGU6bm9uemVybztmaWxsOnJnYigxMDAlLDEwMCUsMTAwJSk7ZmlsbC1vcGFjaXR5OjE7IiBkPSJNIDQyLjg1NTQ2OSAyNjEuMzQ3NjU2IEwgNDAuNzEwOTM4IDI1Ny42MzY3MTkgTCAzOC41NjY0MDYgMjYxLjM0NzY1NiBaIE0gNDIuODU1NDY5IDI2MS4zNDc2NTYgIi8+CjxwYXRoIHN0eWxlPSIgc3Ryb2tlOm5vbmU7ZmlsbC1ydWxlOm5vbnplcm87ZmlsbDpyZ2IoMTAwJSwxMDAlLDEwMCUpO2ZpbGwtb3BhY2l0eToxOyIgZD0iTSAzOC41NzAzMTIgMjYxLjM0NzY1NiBMIDM2LjQyNTc4MSAyNTcuNjM2NzE5IEwgMzQuMjgxMjUgMjYxLjM0NzY1NiBaIE0gMzguNTcwMzEyIDI2MS4zNDc2NTYgIi8+CjxwYXRoIHN0eWxlPSIgc3Ryb2tlOm5vbmU7ZmlsbC1ydWxlOm5vbnplcm87ZmlsbDpyZ2IoMTAwJSwxMDAlLDEwMCUpO2ZpbGwtb3BhY2l0eToxOyIgZD0iTSA0MC43MTQ4NDQgMjU3LjYzMjgxMiBMIDM4LjU3MDMxMiAyNTMuOTIxODc1IEwgMzYuNDI1NzgxIDI1Ny42MzI4MTIgWiBNIDQwLjcxNDg0NCAyNTcuNjMyODEyICIvPgo8cGF0aCBzdHlsZT0iIHN0cm9rZTpub25lO2ZpbGwtcnVsZTpub256ZXJvO2ZpbGw6cmdiKDEwMCUsMTAwJSwxMDAlKTtmaWxsLW9wYWNpdHk6MTsiIGQ9Ik0gMzAgMjY4Ljc2OTUzMSBMIDI3Ljg1NTQ2OSAyNjUuMDU4NTk0IEwgMjUuNzEwOTM4IDI2OC43Njk1MzEgWiBNIDMwIDI2OC43Njk1MzEgIi8+CjxwYXRoIHN0eWxlPSIgc3Ryb2tlOm5vbmU7ZmlsbC1ydWxlOm5vbnplcm87ZmlsbDpyZ2IoMTAwJSwxMDAlLDEwMCUpO2ZpbGwtb3BhY2l0eToxOyIgZD0iTSAyNS43MTQ4NDQgMjY4Ljc2OTUzMSBMIDIzLjU3MDMxMiAyNjUuMDU4NTk0IEwgMjEuNDI1NzgxIDI2OC43Njk1MzEgWiBNIDI1LjcxNDg0NCAyNjguNzY5NTMxICIvPgo8cGF0aCBzdHlsZT0iIHN0cm9rZTpub25lO2ZpbGwtcnVsZTpub256ZXJvO2ZpbGw6cmdiKDEwMCUsMTAwJSwxMDAlKTtmaWxsLW9wYWNpdHk6MTsiIGQ9Ik0gMjcuODU1NDY5IDI2NS4wNTg1OTQgTCAyNS43MTA5MzggMjYxLjM0NzY1NiBMIDIzLjU2NjQwNiAyNjUuMDU4NTk0IFogTSAyNy44NTU0NjkgMjY1LjA1ODU5NCAiLz4KPHBhdGggc3R5bGU9IiBzdHJva2U6bm9uZTtmaWxsLXJ1bGU6bm9uemVybztmaWxsOnJnYigxMDAlLDEwMCUsMTAwJSk7ZmlsbC1vcGFjaXR5OjE7IiBkPSJNIDIxLjQyOTY4OCAyNjguNzY5NTMxIEwgMTkuMjg1MTU2IDI2NS4wNTg1OTQgTCAxNy4xNDA2MjUgMjY4Ljc2OTUzMSBaIE0gMjEuNDI5Njg4IDI2OC43Njk1MzEgIi8+CjxwYXRoIHN0eWxlPSIgc3Ryb2tlOm5vbmU7ZmlsbC1ydWxlOm5vbnplcm87ZmlsbDpyZ2IoMTAwJSwxMDAlLDEwMCUpO2ZpbGwtb3BhY2l0eToxOyIgZD0iTSAxNy4xNDQ1MzEgMjY4Ljc2OTUzMSBMIDE1IDI2NS4wNTg1OTQgTCAxMi44NTU0NjkgMjY4Ljc2OTUzMSBaIE0gMTcuMTQ0NTMxIDI2OC43Njk1MzEgIi8+CjxwYXRoIHN0eWxlPSIgc3Ryb2tlOm5vbmU7ZmlsbC1ydWxlOm5vbnplcm87ZmlsbDpyZ2IoMTAwJSwxMDAlLDEwMCUpO2ZpbGwtb3BhY2l0eToxOyIgZD0iTSAxOS4yODUxNTYgMjY1LjA1ODU5NCBMIDE3LjE0MDYyNSAyNjEuMzQ3NjU2IEwgMTQuOTk2MDk0IDI2NS4wNTg1OTQgWiBNIDE5LjI4NTE1NiAyNjUuMDU4NTk0ICIvPgo8cGF0aCBzdHlsZT0iIHN0cm9rZTpub25lO2ZpbGwtcnVsZTpub256ZXJvO2ZpbGw6cmdiKDEwMCUsMTAwJSwxMDAlKTtmaWxsLW9wYWNpdHk6MTsiIGQ9Ik0gMjUuNzE0ODQ0IDI2MS4zNDc2NTYgTCAyMy41NzAzMTIgMjU3LjYzNjcxOSBMIDIxLjQyNTc4MSAyNjEuMzQ3NjU2IFogTSAyNS43MTQ4NDQgMjYxLjM0NzY1NiAiLz4KPHBhdGggc3R5bGU9IiBzdHJva2U6bm9uZTtmaWxsLXJ1bGU6bm9uemVybztmaWxsOnJnYigxMDAlLDEwMCUsMTAwJSk7ZmlsbC1vcGFjaXR5OjE7IiBkPSJNIDIxLjQyOTY4OCAyNjEuMzQ3NjU2IEwgMTkuMjg1MTU2IDI1Ny42MzY3MTkgTCAxNy4xNDA2MjUgMjYxLjM0NzY1NiBaIE0gMjEuNDI5Njg4IDI2MS4zNDc2NTYgIi8+CjxwYXRoIHN0eWxlPSIgc3Ryb2tlOm5vbmU7ZmlsbC1ydWxlOm5vbnplcm87ZmlsbDpyZ2IoMTAwJSwxMDAlLDEwMCUpO2ZpbGwtb3BhY2l0eToxOyIgZD0iTSAyMy41NzAzMTIgMjU3LjYzMjgxMiBMIDIxLjQyNTc4MSAyNTMuOTIxODc1IEwgMTkuMjgxMjUgMjU3LjYzMjgxMiBaIE0gMjMuNTcwMzEyIDI1Ny42MzI4MTIgIi8+CjxwYXRoIHN0eWxlPSIgc3Ryb2tlOm5vbmU7ZmlsbC1ydWxlOm5vbnplcm87ZmlsbDpyZ2IoMTAwJSwxMDAlLDEwMCUpO2ZpbGwtb3BhY2l0eToxOyIgZD0iTSAzOC41NzAzMTIgMjUzLjkyMTg3NSBMIDM2LjQyNTc4MSAyNTAuMjEwOTM4IEwgMzQuMjgxMjUgMjUzLjkyMTg3NSBaIE0gMzguNTcwMzEyIDI1My45MjE4NzUgIi8+CjxwYXRoIHN0eWxlPSIgc3Ryb2tlOm5vbmU7ZmlsbC1ydWxlOm5vbnplcm87ZmlsbDpyZ2IoMTAwJSwxMDAlLDEwMCUpO2ZpbGwtb3BhY2l0eToxOyIgZD0iTSAzNC4yODUxNTYgMjUzLjkyMTg3NSBMIDMyLjE0MDYyNSAyNTAuMjEwOTM4IEwgMjkuOTk2MDk0IDI1My45MjE4NzUgWiBNIDM0LjI4NTE1NiAyNTMuOTIxODc1ICIvPgo8cGF0aCBzdHlsZT0iIHN0cm9rZTpub25lO2ZpbGwtcnVsZTpub256ZXJvO2ZpbGw6cmdiKDEwMCUsMTAwJSwxMDAlKTtmaWxsLW9wYWNpdHk6MTsiIGQ9Ik0gMzYuNDI5Njg4IDI1MC4yMTA5MzggTCAzNC4yODUxNTYgMjQ2LjUgTCAzMi4xNDA2MjUgMjUwLjIxMDkzOCBaIE0gMzYuNDI5Njg4IDI1MC4yMTA5MzggIi8+CjxwYXRoIHN0eWxlPSIgc3Ryb2tlOm5vbmU7ZmlsbC1ydWxlOm5vbnplcm87ZmlsbDpyZ2IoMTAwJSwxMDAlLDEwMCUpO2ZpbGwtb3BhY2l0eToxOyIgZD0iTSAzMCAyNTMuOTIxODc1IEwgMjcuODU1NDY5IDI1MC4yMTA5MzggTCAyNS43MTA5MzggMjUzLjkyMTg3NSBaIE0gMzAgMjUzLjkyMTg3NSAiLz4KPHBhdGggc3R5bGU9IiBzdHJva2U6bm9uZTtmaWxsLXJ1bGU6bm9uemVybztmaWxsOnJnYigxMDAlLDEwMCUsMTAwJSk7ZmlsbC1vcGFjaXR5OjE7IiBkPSJNIDI1LjcxNDg0NCAyNTMuOTIxODc1IEwgMjMuNTcwMzEyIDI1MC4yMTA5MzggTCAyMS40MjU3ODEgMjUzLjkyMTg3NSBaIE0gMjUuNzE0ODQ0IDI1My45MjE4NzUgIi8+CjxwYXRoIHN0eWxlPSIgc3Ryb2tlOm5vbmU7ZmlsbC1ydWxlOm5vbnplcm87ZmlsbDpyZ2IoMTAwJSwxMDAlLDEwMCUpO2ZpbGwtb3BhY2l0eToxOyIgZD0iTSAyNy44NTU0NjkgMjUwLjIxMDkzOCBMIDI1LjcxMDkzOCAyNDYuNSBMIDIzLjU2NjQwNiAyNTAuMjEwOTM4IFogTSAyNy44NTU0NjkgMjUwLjIxMDkzOCAiLz4KPHBhdGggc3R5bGU9IiBzdHJva2U6bm9uZTtmaWxsLXJ1bGU6bm9uemVybztmaWxsOnJnYigxMDAlLDEwMCUsMTAwJSk7ZmlsbC1vcGFjaXR5OjE7IiBkPSJNIDM0LjI4NTE1NiAyNDYuNSBMIDMyLjE0MDYyNSAyNDIuNzg5MDYyIEwgMjkuOTk2MDk0IDI0Ni41IFogTSAzNC4yODUxNTYgMjQ2LjUgIi8+CjxwYXRoIHN0eWxlPSIgc3Ryb2tlOm5vbmU7ZmlsbC1ydWxlOm5vbnplcm87ZmlsbDpyZ2IoMTAwJSwxMDAlLDEwMCUpO2ZpbGwtb3BhY2l0eToxOyIgZD0iTSAzMCAyNDYuNSBMIDI3Ljg1NTQ2OSAyNDIuNzg5MDYyIEwgMjUuNzEwOTM4IDI0Ni41IFogTSAzMCAyNDYuNSAiLz4KPHBhdGggc3R5bGU9IiBzdHJva2U6bm9uZTtmaWxsLXJ1bGU6bm9uemVybztmaWxsOnJnYigxMDAlLDEwMCUsMTAwJSk7ZmlsbC1vcGFjaXR5OjE7IiBkPSJNIDMyLjE0NDUzMSAyNDIuNzg5MDYyIEwgMzAgMjM5LjA3ODEyNSBMIDI3Ljg1NTQ2OSAyNDIuNzg5MDYyIFogTSAzMi4xNDQ1MzEgMjQyLjc4OTA2MiAiLz4KPHBhdGggc3R5bGU9IiBzdHJva2U6bm9uZTtmaWxsLXJ1bGU6bm9uemVybztmaWxsOnJnYigxMDAlLDEwMCUsMTAwJSk7ZmlsbC1vcGFjaXR5OjE7IiBkPSJNIDY0LjI4NTE1NiAyMzkuMDc4MTI1IEwgNjIuMTQwNjI1IDIzNS4zNjcxODggTCA1OS45OTYwOTQgMjM5LjA3ODEyNSBaIE0gNjQuMjg1MTU2IDIzOS4wNzgxMjUgIi8+CjxwYXRoIHN0eWxlPSIgc3Ryb2tlOm5vbmU7ZmlsbC1ydWxlOm5vbnplcm87ZmlsbDpyZ2IoMTAwJSwxMDAlLDEwMCUpO2ZpbGwtb3BhY2l0eToxOyIgZD0iTSA2MCAyMzkuMDc4MTI1IEwgNTcuODU1NDY5IDIzNS4zNjcxODggTCA1NS43MTA5MzggMjM5LjA3ODEyNSBaIE0gNjAgMjM5LjA3ODEyNSAiLz4KPHBhdGggc3R5bGU9IiBzdHJva2U6bm9uZTtmaWxsLXJ1bGU6bm9uemVybztmaWxsOnJnYigxMDAlLDEwMCUsMTAwJSk7ZmlsbC1vcGFjaXR5OjE7IiBkPSJNIDYyLjE0NDUzMSAyMzUuMzY3MTg4IEwgNjAgMjMxLjY1NjI1IEwgNTcuODU1NDY5IDIzNS4zNjcxODggWiBNIDYyLjE0NDUzMSAyMzUuMzY3MTg4ICIvPgo8cGF0aCBzdHlsZT0iIHN0cm9rZTpub25lO2ZpbGwtcnVsZTpub256ZXJvO2ZpbGw6cmdiKDEwMCUsMTAwJSwxMDAlKTtmaWxsLW9wYWNpdHk6MTsiIGQ9Ik0gNTUuNzE0ODQ0IDIzOS4wNzgxMjUgTCA1My41NzAzMTIgMjM1LjM2NzE4OCBMIDUxLjQyNTc4MSAyMzkuMDc4MTI1IFogTSA1NS43MTQ4NDQgMjM5LjA3ODEyNSAiLz4KPHBhdGggc3R5bGU9IiBzdHJva2U6bm9uZTtmaWxsLXJ1bGU6bm9uemVybztmaWxsOnJnYigxMDAlLDEwMCUsMTAwJSk7ZmlsbC1vcGFjaXR5OjE7IiBkPSJNIDUxLjQyOTY4OCAyMzkuMDc4MTI1IEwgNDkuMjg1MTU2IDIzNS4zNjcxODggTCA0Ny4xNDA2MjUgMjM5LjA3ODEyNSBaIE0gNTEuNDI5Njg4IDIzOS4wNzgxMjUgIi8+CjxwYXRoIHN0eWxlPSIgc3Ryb2tlOm5vbmU7ZmlsbC1ydWxlOm5vbnplcm87ZmlsbDpyZ2IoMTAwJSwxMDAlLDEwMCUpO2ZpbGwtb3BhY2l0eToxOyIgZD0iTSA1My41NzAzMTIgMjM1LjM2NzE4OCBMIDUxLjQyNTc4MSAyMzEuNjU2MjUgTCA0OS4yODEyNSAyMzUuMzY3MTg4IFogTSA1My41NzAzMTIgMjM1LjM2NzE4OCAiLz4KPHBhdGggc3R5bGU9IiBzdHJva2U6bm9uZTtmaWxsLXJ1bGU6bm9uemVybztmaWxsOnJnYigxMDAlLDEwMCUsMTAwJSk7ZmlsbC1vcGFjaXR5OjE7IiBkPSJNIDYwIDIzMS42NTIzNDQgTCA1Ny44NTU0NjkgMjI3Ljk0MTQwNiBMIDU1LjcxMDkzOCAyMzEuNjUyMzQ0IFogTSA2MCAyMzEuNjUyMzQ0ICIvPgo8cGF0aCBzdHlsZT0iIHN0cm9rZTpub25lO2ZpbGwtcnVsZTpub256ZXJvO2ZpbGw6cmdiKDEwMCUsMTAwJSwxMDAlKTtmaWxsLW9wYWNpdHk6MTsiIGQ9Ik0gNTUuNzE0ODQ0IDIzMS42NTIzNDQgTCA1My41NzAzMTIgMjI3Ljk0MTQwNiBMIDUxLjQyNTc4MSAyMzEuNjUyMzQ0IFogTSA1NS43MTQ4NDQgMjMxLjY1MjM0NCAiLz4KPHBhdGggc3R5bGU9IiBzdHJva2U6bm9uZTtmaWxsLXJ1bGU6bm9uemVybztmaWxsOnJnYigxMDAlLDEwMCUsMTAwJSk7ZmlsbC1vcGFjaXR5OjE7IiBkPSJNIDU3Ljg1NTQ2OSAyMjcuOTQxNDA2IEwgNTUuNzEwOTM4IDIyNC4yMzA0NjkgTCA1My41NjY0MDYgMjI3Ljk0MTQwNiBaIE0gNTcuODU1NDY5IDIyNy45NDE0MDYgIi8+CjxwYXRoIHN0eWxlPSIgc3Ryb2tlOm5vbmU7ZmlsbC1ydWxlOm5vbnplcm87ZmlsbDpyZ2IoMTAwJSwxMDAlLDEwMCUpO2ZpbGwtb3BhY2l0eToxOyIgZD0iTSA0Ny4xNDQ1MzEgMjM5LjA3ODEyNSBMIDQ1IDIzNS4zNjcxODggTCA0Mi44NTU0NjkgMjM5LjA3ODEyNSBaIE0gNDcuMTQ0NTMxIDIzOS4wNzgxMjUgIi8+CjxwYXRoIHN0eWxlPSIgc3Ryb2tlOm5vbmU7ZmlsbC1ydWxlOm5vbnplcm87ZmlsbDpyZ2IoMTAwJSwxMDAlLDEwMCUpO2ZpbGwtb3BhY2l0eToxOyIgZD0iTSA0Mi44NTU0NjkgMjM5LjA3ODEyNSBMIDQwLjcxMDkzOCAyMzUuMzY3MTg4IEwgMzguNTY2NDA2IDIzOS4wNzgxMjUgWiBNIDQyLjg1NTQ2OSAyMzkuMDc4MTI1ICIvPgo8cGF0aCBzdHlsZT0iIHN0cm9rZTpub25lO2ZpbGwtcnVsZTpub256ZXJvO2ZpbGw6cmdiKDEwMCUsMTAwJSwxMDAlKTtmaWxsLW9wYWNpdHk6MTsiIGQ9Ik0gNDUgMjM1LjM2NzE4OCBMIDQyLjg1NTQ2OSAyMzEuNjU2MjUgTCA0MC43MTA5MzggMjM1LjM2NzE4OCBaIE0gNDUgMjM1LjM2NzE4OCAiLz4KPHBhdGggc3R5bGU9IiBzdHJva2U6bm9uZTtmaWxsLXJ1bGU6bm9uemVybztmaWxsOnJnYigxMDAlLDEwMCUsMTAwJSk7ZmlsbC1vcGFjaXR5OjE7IiBkPSJNIDM4LjU3MDMxMiAyMzkuMDc4MTI1IEwgMzYuNDI1NzgxIDIzNS4zNjcxODggTCAzNC4yODEyNSAyMzkuMDc4MTI1IFogTSAzOC41NzAzMTIgMjM5LjA3ODEyNSAiLz4KPHBhdGggc3R5bGU9IiBzdHJva2U6bm9uZTtmaWxsLXJ1bGU6bm9uemVybztmaWxsOnJnYigxMDAlLDEwMCUsMTAwJSk7ZmlsbC1vcGFjaXR5OjE7IiBkPSJNIDM0LjI4NTE1NiAyMzkuMDc4MTI1IEwgMzIuMTQwNjI1IDIzNS4zNjcxODggTCAyOS45OTYwOTQgMjM5LjA3ODEyNSBaIE0gMzQuMjg1MTU2IDIzOS4wNzgxMjUgIi8+CjxwYXRoIHN0eWxlPSIgc3Ryb2tlOm5vbmU7ZmlsbC1ydWxlOm5vbnplcm87ZmlsbDpyZ2IoMTAwJSwxMDAlLDEwMCUpO2ZpbGwtb3BhY2l0eToxOyIgZD0iTSAzNi40Mjk2ODggMjM1LjM2NzE4OCBMIDM0LjI4NTE1NiAyMzEuNjU2MjUgTCAzMi4xNDA2MjUgMjM1LjM2NzE4OCBaIE0gMzYuNDI5Njg4IDIzNS4zNjcxODggIi8+CjxwYXRoIHN0eWxlPSIgc3Ryb2tlOm5vbmU7ZmlsbC1ydWxlOm5vbnplcm87ZmlsbDpyZ2IoMTAwJSwxMDAlLDEwMCUpO2ZpbGwtb3BhY2l0eToxOyIgZD0iTSA0Mi44NTU0NjkgMjMxLjY1MjM0NCBMIDQwLjcxMDkzOCAyMjcuOTQxNDA2IEwgMzguNTY2NDA2IDIzMS42NTIzNDQgWiBNIDQyLjg1NTQ2OSAyMzEuNjUyMzQ0ICIvPgo8cGF0aCBzdHlsZT0iIHN0cm9rZTpub25lO2ZpbGwtcnVsZTpub256ZXJvO2ZpbGw6cmdiKDEwMCUsMTAwJSwxMDAlKTtmaWxsLW9wYWNpdHk6MTsiIGQ9Ik0gMzguNTcwMzEyIDIzMS42NTIzNDQgTCAzNi40MjU3ODEgMjI3Ljk0MTQwNiBMIDM0LjI4MTI1IDIzMS42NTIzNDQgWiBNIDM4LjU3MDMxMiAyMzEuNjUyMzQ0ICIvPgo8cGF0aCBzdHlsZT0iIHN0cm9rZTpub25lO2ZpbGwtcnVsZTpub256ZXJvO2ZpbGw6cmdiKDEwMCUsMTAwJSwxMDAlKTtmaWxsLW9wYWNpdHk6MTsiIGQ9Ik0gNDAuNzE0ODQ0IDIyNy45NDE0MDYgTCAzOC41NzAzMTIgMjI0LjIzMDQ2OSBMIDM2LjQyNTc4MSAyMjcuOTQxNDA2IFogTSA0MC43MTQ4NDQgMjI3Ljk0MTQwNiAiLz4KPHBhdGggc3R5bGU9IiBzdHJva2U6bm9uZTtmaWxsLXJ1bGU6bm9uemVybztmaWxsOnJnYigxMDAlLDEwMCUsMTAwJSk7ZmlsbC1vcGFjaXR5OjE7IiBkPSJNIDU1LjcxNDg0NCAyMjQuMjMwNDY5IEwgNTMuNTcwMzEyIDIyMC41MTk1MzEgTCA1MS40MjU3ODEgMjI0LjIzMDQ2OSBaIE0gNTUuNzE0ODQ0IDIyNC4yMzA0NjkgIi8+CjxwYXRoIHN0eWxlPSIgc3Ryb2tlOm5vbmU7ZmlsbC1ydWxlOm5vbnplcm87ZmlsbDpyZ2IoMTAwJSwxMDAlLDEwMCUpO2ZpbGwtb3BhY2l0eToxOyIgZD0iTSA1MS40Mjk2ODggMjI0LjIzMDQ2OSBMIDQ5LjI4NTE1NiAyMjAuNTE5NTMxIEwgNDcuMTQwNjI1IDIyNC4yMzA0NjkgWiBNIDUxLjQyOTY4OCAyMjQuMjMwNDY5ICIvPgo8cGF0aCBzdHlsZT0iIHN0cm9rZTpub25lO2ZpbGwtcnVsZTpub256ZXJvO2ZpbGw6cmdiKDEwMCUsMTAwJSwxMDAlKTtmaWxsLW9wYWNpdHk6MTsiIGQ9Ik0gNTMuNTcwMzEyIDIyMC41MTk1MzEgTCA1MS40MjU3ODEgMjE2LjgwODU5NCBMIDQ5LjI4MTI1IDIyMC41MTk1MzEgWiBNIDUzLjU3MDMxMiAyMjAuNTE5NTMxICIvPgo8cGF0aCBzdHlsZT0iIHN0cm9rZTpub25lO2ZpbGwtcnVsZTpub256ZXJvO2ZpbGw6cmdiKDEwMCUsMTAwJSwxMDAlKTtmaWxsLW9wYWNpdHk6MTsiIGQ9Ik0gNDcuMTQ0NTMxIDIyNC4yMzA0NjkgTCA0NSAyMjAuNTE5NTMxIEwgNDIuODU1NDY5IDIyNC4yMzA0NjkgWiBNIDQ3LjE0NDUzMSAyMjQuMjMwNDY5ICIvPgo8cGF0aCBzdHlsZT0iIHN0cm9rZTpub25lO2ZpbGwtcnVsZTpub256ZXJvO2ZpbGw6cmdiKDEwMCUsMTAwJSwxMDAlKTtmaWxsLW9wYWNpdHk6MTsiIGQ9Ik0gNDIuODU1NDY5IDIyNC4yMzA0NjkgTCA0MC43MTA5MzggMjIwLjUxOTUzMSBMIDM4LjU2NjQwNiAyMjQuMjMwNDY5IFogTSA0Mi44NTU0NjkgMjI0LjIzMDQ2OSAiLz4KPHBhdGggc3R5bGU9IiBzdHJva2U6bm9uZTtmaWxsLXJ1bGU6bm9uemVybztmaWxsOnJnYigxMDAlLDEwMCUsMTAwJSk7ZmlsbC1vcGFjaXR5OjE7IiBkPSJNIDQ1IDIyMC41MTk1MzEgTCA0Mi44NTU0NjkgMjE2LjgwODU5NCBMIDQwLjcxMDkzOCAyMjAuNTE5NTMxIFogTSA0NSAyMjAuNTE5NTMxICIvPgo8cGF0aCBzdHlsZT0iIHN0cm9rZTpub25lO2ZpbGwtcnVsZTpub256ZXJvO2ZpbGw6cmdiKDEwMCUsMTAwJSwxMDAlKTtmaWxsLW9wYWNpdHk6MTsiIGQ9Ik0gNTEuNDI5Njg4IDIxNi44MDg1OTQgTCA0OS4yODUxNTYgMjEzLjA5NzY1NiBMIDQ3LjE0MDYyNSAyMTYuODA4NTk0IFogTSA1MS40Mjk2ODggMjE2LjgwODU5NCAiLz4KPHBhdGggc3R5bGU9IiBzdHJva2U6bm9uZTtmaWxsLXJ1bGU6bm9uemVybztmaWxsOnJnYigxMDAlLDEwMCUsMTAwJSk7ZmlsbC1vcGFjaXR5OjE7IiBkPSJNIDQ3LjE0NDUzMSAyMTYuODA4NTk0IEwgNDUgMjEzLjA5NzY1NiBMIDQyLjg1NTQ2OSAyMTYuODA4NTk0IFogTSA0Ny4xNDQ1MzEgMjE2LjgwODU5NCAiLz4KPHBhdGggc3R5bGU9IiBzdHJva2U6bm9uZTtmaWxsLXJ1bGU6bm9uemVybztmaWxsOnJnYigxMDAlLDEwMCUsMTAwJSk7ZmlsbC1vcGFjaXR5OjE7IiBkPSJNIDQ5LjI4NTE1NiAyMTMuMDk3NjU2IEwgNDcuMTQwNjI1IDIwOS4zODY3MTkgTCA0NC45OTYwOTQgMjEzLjA5NzY1NiBaIE0gNDkuMjg1MTU2IDIxMy4wOTc2NTYgIi8+CjxwYXRoIHN0eWxlPSIgc3Ryb2tlOm5vbmU7ZmlsbC1ydWxlOm5vbnplcm87ZmlsbDpyZ2IoMTAwJSwxMDAlLDEwMCUpO2ZpbGwtb3BhY2l0eToxOyIgZD0iTSAxMTUuNzE0ODQ0IDIwOS4zODI4MTIgTCAxMTMuNTcwMzEyIDIwNS42NzE4NzUgTCAxMTEuNDI1NzgxIDIwOS4zODI4MTIgWiBNIDExNS43MTQ4NDQgMjA5LjM4MjgxMiAiLz4KPHBhdGggc3R5bGU9IiBzdHJva2U6bm9uZTtmaWxsLXJ1bGU6bm9uemVybztmaWxsOnJnYigxMDAlLDEwMCUsMTAwJSk7ZmlsbC1vcGFjaXR5OjE7IiBkPSJNIDExMS40Mjk2ODggMjA5LjM4MjgxMiBMIDEwOS4yODUxNTYgMjA1LjY3MTg3NSBMIDEwNy4xNDA2MjUgMjA5LjM4MjgxMiBaIE0gMTExLjQyOTY4OCAyMDkuMzgyODEyICIvPgo8cGF0aCBzdHlsZT0iIHN0cm9rZTpub25lO2ZpbGwtcnVsZTpub256ZXJvO2ZpbGw6cmdiKDEwMCUsMTAwJSwxMDAlKTtmaWxsLW9wYWNpdHk6MTsiIGQ9Ik0gMTEzLjU3MDMxMiAyMDUuNjcxODc1IEwgMTExLjQyNTc4MSAyMDEuOTYwOTM4IEwgMTA5LjI4MTI1IDIwNS42NzE4NzUgWiBNIDExMy41NzAzMTIgMjA1LjY3MTg3NSAiLz4KPHBhdGggc3R5bGU9IiBzdHJva2U6bm9uZTtmaWxsLXJ1bGU6bm9uemVybztmaWxsOnJnYigxMDAlLDEwMCUsMTAwJSk7ZmlsbC1vcGFjaXR5OjE7IiBkPSJNIDEwNy4xNDQ1MzEgMjA5LjM4MjgxMiBMIDEwNSAyMDUuNjcxODc1IEwgMTAyLjg1NTQ2OSAyMDkuMzgyODEyIFogTSAxMDcuMTQ0NTMxIDIwOS4zODI4MTIgIi8+CjxwYXRoIHN0eWxlPSIgc3Ryb2tlOm5vbmU7ZmlsbC1ydWxlOm5vbnplcm87ZmlsbDpyZ2IoMTAwJSwxMDAlLDEwMCUpO2ZpbGwtb3BhY2l0eToxOyIgZD0iTSAxMDIuODU1NDY5IDIwOS4zODI4MTIgTCAxMDAuNzEwOTM4IDIwNS42NzE4NzUgTCA5OC41NjY0MDYgMjA5LjM4MjgxMiBaIE0gMTAyLjg1NTQ2OSAyMDkuMzgyODEyICIvPgo8cGF0aCBzdHlsZT0iIHN0cm9rZTpub25lO2ZpbGwtcnVsZTpub256ZXJvO2ZpbGw6cmdiKDEwMCUsMTAwJSwxMDAlKTtmaWxsLW9wYWNpdHk6MTsiIGQ9Ik0gMTA1IDIwNS42NzE4NzUgTCAxMDIuODU1NDY5IDIwMS45NjA5MzggTCAxMDAuNzEwOTM4IDIwNS42NzE4NzUgWiBNIDEwNSAyMDUuNjcxODc1ICIvPgo8cGF0aCBzdHlsZT0iIHN0cm9rZTpub25lO2ZpbGwtcnVsZTpub256ZXJvO2ZpbGw6cmdiKDEwMCUsMTAwJSwxMDAlKTtmaWxsLW9wYWNpdHk6MTsiIGQ9Ik0gMTExLjQyOTY4OCAyMDEuOTYwOTM4IEwgMTA5LjI4NTE1NiAxOTguMjUgTCAxMDcuMTQwNjI1IDIwMS45NjA5MzggWiBNIDExMS40Mjk2ODggMjAxLjk2MDkzOCAiLz4KPHBhdGggc3R5bGU9IiBzdHJva2U6bm9uZTtmaWxsLXJ1bGU6bm9uemVybztmaWxsOnJnYigxMDAlLDEwMCUsMTAwJSk7ZmlsbC1vcGFjaXR5OjE7IiBkPSJNIDEwNy4xNDQ1MzEgMjAxLjk2MDkzOCBMIDEwNSAxOTguMjUgTCAxMDIuODU1NDY5IDIwMS45NjA5MzggWiBNIDEwNy4xNDQ1MzEgMjAxLjk2MDkzOCAiLz4KPHBhdGggc3R5bGU9IiBzdHJva2U6bm9uZTtmaWxsLXJ1bGU6bm9uemVybztmaWxsOnJnYigxMDAlLDEwMCUsMTAwJSk7ZmlsbC1vcGFjaXR5OjE7IiBkPSJNIDEwOS4yODUxNTYgMTk4LjI1IEwgMTA3LjE0MDYyNSAxOTQuNTM5MDYyIEwgMTA0Ljk5NjA5NCAxOTguMjUgWiBNIDEwOS4yODUxNTYgMTk4LjI1ICIvPgo8cGF0aCBzdHlsZT0iIHN0cm9rZTpub25lO2ZpbGwtcnVsZTpub256ZXJvO2ZpbGw6cmdiKDEwMCUsMTAwJSwxMDAlKTtmaWxsLW9wYWNpdHk6MTsiIGQ9Ik0gOTguNTcwMzEyIDIwOS4zODI4MTIgTCA5Ni40MjU3ODEgMjA1LjY3MTg3NSBMIDk0LjI4MTI1IDIwOS4zODI4MTIgWiBNIDk4LjU3MDMxMiAyMDkuMzgyODEyICIvPgo8cGF0aCBzdHlsZT0iIHN0cm9rZTpub25lO2ZpbGwtcnVsZTpub256ZXJvO2ZpbGw6cmdiKDEwMCUsMTAwJSwxMDAlKTtmaWxsLW9wYWNpdHk6MTsiIGQ9Ik0gOTQuMjg1MTU2IDIwOS4zODI4MTIgTCA5Mi4xNDA2MjUgMjA1LjY3MTg3NSBMIDg5Ljk5NjA5NCAyMDkuMzgyODEyIFogTSA5NC4yODUxNTYgMjA5LjM4MjgxMiAiLz4KPHBhdGggc3R5bGU9IiBzdHJva2U6bm9uZTtmaWxsLXJ1bGU6bm9uemVybztmaWxsOnJnYigxMDAlLDEwMCUsMTAwJSk7ZmlsbC1vcGFjaXR5OjE7IiBkPSJNIDk2LjQyOTY4OCAyMDUuNjcxODc1IEwgOTQuMjg1MTU2IDIwMS45NjA5MzggTCA5Mi4xNDA2MjUgMjA1LjY3MTg3NSBaIE0gOTYuNDI5Njg4IDIwNS42NzE4NzUgIi8+CjxwYXRoIHN0eWxlPSIgc3Ryb2tlOm5vbmU7ZmlsbC1ydWxlOm5vbnplcm87ZmlsbDpyZ2IoMTAwJSwxMDAlLDEwMCUpO2ZpbGwtb3BhY2l0eToxOyIgZD0iTSA5MCAyMDkuMzgyODEyIEwgODcuODU1NDY5IDIwNS42NzE4NzUgTCA4NS43MTA5MzggMjA5LjM4MjgxMiBaIE0gOTAgMjA5LjM4MjgxMiAiLz4KPHBhdGggc3R5bGU9IiBzdHJva2U6bm9uZTtmaWxsLXJ1bGU6bm9uemVybztmaWxsOnJnYigxMDAlLDEwMCUsMTAwJSk7ZmlsbC1vcGFjaXR5OjE7IiBkPSJNIDg1LjcxNDg0NCAyMDkuMzgyODEyIEwgODMuNTcwMzEyIDIwNS42NzE4NzUgTCA4MS40MjU3ODEgMjA5LjM4MjgxMiBaIE0gODUuNzE0ODQ0IDIwOS4zODI4MTIgIi8+CjxwYXRoIHN0eWxlPSIgc3Ryb2tlOm5vbmU7ZmlsbC1ydWxlOm5vbnplcm87ZmlsbDpyZ2IoMTAwJSwxMDAlLDEwMCUpO2ZpbGwtb3BhY2l0eToxOyIgZD0iTSA4Ny44NTU0NjkgMjA1LjY3MTg3NSBMIDg1LjcxMDkzOCAyMDEuOTYwOTM4IEwgODMuNTY2NDA2IDIwNS42NzE4NzUgWiBNIDg3Ljg1NTQ2OSAyMDUuNjcxODc1ICIvPgo8cGF0aCBzdHlsZT0iIHN0cm9rZTpub25lO2ZpbGwtcnVsZTpub256ZXJvO2ZpbGw6cmdiKDEwMCUsMTAwJSwxMDAlKTtmaWxsLW9wYWNpdHk6MTsiIGQ9Ik0gOTQuMjg1MTU2IDIwMS45NjA5MzggTCA5Mi4xNDA2MjUgMTk4LjI1IEwgODkuOTk2MDk0IDIwMS45NjA5MzggWiBNIDk0LjI4NTE1NiAyMDEuOTYwOTM4ICIvPgo8cGF0aCBzdHlsZT0iIHN0cm9rZTpub25lO2ZpbGwtcnVsZTpub256ZXJvO2ZpbGw6cmdiKDEwMCUsMTAwJSwxMDAlKTtmaWxsLW9wYWNpdHk6MTsiIGQ9Ik0gOTAgMjAxLjk2MDkzOCBMIDg3Ljg1NTQ2OSAxOTguMjUgTCA4NS43MTA5MzggMjAxLjk2MDkzOCBaIE0gOTAgMjAxLjk2MDkzOCAiLz4KPHBhdGggc3R5bGU9IiBzdHJva2U6bm9uZTtmaWxsLXJ1bGU6bm9uemVybztmaWxsOnJnYigxMDAlLDEwMCUsMTAwJSk7ZmlsbC1vcGFjaXR5OjE7IiBkPSJNIDkyLjE0NDUzMSAxOTguMjUgTCA5MCAxOTQuNTM5MDYyIEwgODcuODU1NDY5IDE5OC4yNSBaIE0gOTIuMTQ0NTMxIDE5OC4yNSAiLz4KPHBhdGggc3R5bGU9IiBzdHJva2U6bm9uZTtmaWxsLXJ1bGU6bm9uemVybztmaWxsOnJnYigxMDAlLDEwMCUsMTAwJSk7ZmlsbC1vcGFjaXR5OjE7IiBkPSJNIDEwNy4xNDQ1MzEgMTk0LjUzOTA2MiBMIDEwNSAxOTAuODI4MTI1IEwgMTAyLjg1NTQ2OSAxOTQuNTM5MDYyIFogTSAxMDcuMTQ0NTMxIDE5NC41MzkwNjIgIi8+CjxwYXRoIHN0eWxlPSIgc3Ryb2tlOm5vbmU7ZmlsbC1ydWxlOm5vbnplcm87ZmlsbDpyZ2IoMTAwJSwxMDAlLDEwMCUpO2ZpbGwtb3BhY2l0eToxOyIgZD0iTSAxMDIuODU1NDY5IDE5NC41MzkwNjIgTCAxMDAuNzEwOTM4IDE5MC44MjgxMjUgTCA5OC41NjY0MDYgMTk0LjUzOTA2MiBaIE0gMTAyLjg1NTQ2OSAxOTQuNTM5MDYyICIvPgo8cGF0aCBzdHlsZT0iIHN0cm9rZTpub25lO2ZpbGwtcnVsZTpub256ZXJvO2ZpbGw6cmdiKDEwMCUsMTAwJSwxMDAlKTtmaWxsLW9wYWNpdHk6MTsiIGQ9Ik0gMTA1IDE5MC44MjgxMjUgTCAxMDIuODU1NDY5IDE4Ny4xMTcxODggTCAxMDAuNzEwOTM4IDE5MC44MjgxMjUgWiBNIDEwNSAxOTAuODI4MTI1ICIvPgo8cGF0aCBzdHlsZT0iIHN0cm9rZTpub25lO2ZpbGwtcnVsZTpub256ZXJvO2ZpbGw6cmdiKDEwMCUsMTAwJSwxMDAlKTtmaWxsLW9wYWNpdHk6MTsiIGQ9Ik0gOTguNTcwMzEyIDE5NC41MzkwNjIgTCA5Ni40MjU3ODEgMTkwLjgyODEyNSBMIDk0LjI4MTI1IDE5NC41MzkwNjIgWiBNIDk4LjU3MDMxMiAxOTQuNTM5MDYyICIvPgo8cGF0aCBzdHlsZT0iIHN0cm9rZTpub25lO2ZpbGwtcnVsZTpub256ZXJvO2ZpbGw6cmdiKDEwMCUsMTAwJSwxMDAlKTtmaWxsLW9wYWNpdHk6MTsiIGQ9Ik0gOTQuMjg1MTU2IDE5NC41MzkwNjIgTCA5Mi4xNDA2MjUgMTkwLjgyODEyNSBMIDg5Ljk5NjA5NCAxOTQuNTM5MDYyIFogTSA5NC4yODUxNTYgMTk0LjUzOTA2MiAiLz4KPHBhdGggc3R5bGU9IiBzdHJva2U6bm9uZTtmaWxsLXJ1bGU6bm9uemVybztmaWxsOnJnYigxMDAlLDEwMCUsMTAwJSk7ZmlsbC1vcGFjaXR5OjE7IiBkPSJNIDk2LjQyOTY4OCAxOTAuODI4MTI1IEwgOTQuMjg1MTU2IDE4Ny4xMTcxODggTCA5Mi4xNDA2MjUgMTkwLjgyODEyNSBaIE0gOTYuNDI5Njg4IDE5MC44MjgxMjUgIi8+CjxwYXRoIHN0eWxlPSIgc3Ryb2tlOm5vbmU7ZmlsbC1ydWxlOm5vbnplcm87ZmlsbDpyZ2IoMTAwJSwxMDAlLDEwMCUpO2ZpbGwtb3BhY2l0eToxOyIgZD0iTSAxMDIuODU1NDY5IDE4Ny4xMTcxODggTCAxMDAuNzEwOTM4IDE4My40MDYyNSBMIDk4LjU2NjQwNiAxODcuMTE3MTg4IFogTSAxMDIuODU1NDY5IDE4Ny4xMTcxODggIi8+CjxwYXRoIHN0eWxlPSIgc3Ryb2tlOm5vbmU7ZmlsbC1ydWxlOm5vbnplcm87ZmlsbDpyZ2IoMTAwJSwxMDAlLDEwMCUpO2ZpbGwtb3BhY2l0eToxOyIgZD0iTSA5OC41NzAzMTIgMTg3LjExNzE4OCBMIDk2LjQyNTc4MSAxODMuNDA2MjUgTCA5NC4yODEyNSAxODcuMTE3MTg4IFogTSA5OC41NzAzMTIgMTg3LjExNzE4OCAiLz4KPHBhdGggc3R5bGU9IiBzdHJva2U6bm9uZTtmaWxsLXJ1bGU6bm9uemVybztmaWxsOnJnYigxMDAlLDEwMCUsMTAwJSk7ZmlsbC1vcGFjaXR5OjE7IiBkPSJNIDEwMC43MTQ4NDQgMTgzLjQwMjM0NCBMIDk4LjU3MDMxMiAxNzkuNjkxNDA2IEwgOTYuNDI1NzgxIDE4My40MDIzNDQgWiBNIDEwMC43MTQ4NDQgMTgzLjQwMjM0NCAiLz4KPHBhdGggc3R5bGU9IiBzdHJva2U6bm9uZTtmaWxsLXJ1bGU6bm9uemVybztmaWxsOnJnYigxMDAlLDEwMCUsMTAwJSk7ZmlsbC1vcGFjaXR5OjE7IiBkPSJNIDgxLjQyOTY4OCAyMDkuMzgyODEyIEwgNzkuMjg1MTU2IDIwNS42NzE4NzUgTCA3Ny4xNDA2MjUgMjA5LjM4MjgxMiBaIE0gODEuNDI5Njg4IDIwOS4zODI4MTIgIi8+CjxwYXRoIHN0eWxlPSIgc3Ryb2tlOm5vbmU7ZmlsbC1ydWxlOm5vbnplcm87ZmlsbDpyZ2IoMTAwJSwxMDAlLDEwMCUpO2ZpbGwtb3BhY2l0eToxOyIgZD0iTSA3Ny4xNDQ1MzEgMjA5LjM4MjgxMiBMIDc1IDIwNS42NzE4NzUgTCA3Mi44NTU0NjkgMjA5LjM4MjgxMiBaIE0gNzcuMTQ0NTMxIDIwOS4zODI4MTIgIi8+CjxwYXRoIHN0eWxlPSIgc3Ryb2tlOm5vbmU7ZmlsbC1ydWxlOm5vbnplcm87ZmlsbDpyZ2IoMTAwJSwxMDAlLDEwMCUpO2ZpbGwtb3BhY2l0eToxOyIgZD0iTSA3OS4yODUxNTYgMjA1LjY3MTg3NSBMIDc3LjE0MDYyNSAyMDEuOTYwOTM4IEwgNzQuOTk2MDk0IDIwNS42NzE4NzUgWiBNIDc5LjI4NTE1NiAyMDUuNjcxODc1ICIvPgo8cGF0aCBzdHlsZT0iIHN0cm9rZTpub25lO2ZpbGwtcnVsZTpub256ZXJvO2ZpbGw6cmdiKDEwMCUsMTAwJSwxMDAlKTtmaWxsLW9wYWNpdHk6MTsiIGQ9Ik0gNzIuODU1NDY5IDIwOS4zODI4MTIgTCA3MC43MTA5MzggMjA1LjY3MTg3NSBMIDY4LjU2NjQwNiAyMDkuMzgyODEyIFogTSA3Mi44NTU0NjkgMjA5LjM4MjgxMiAiLz4KPHBhdGggc3R5bGU9IiBzdHJva2U6bm9uZTtmaWxsLXJ1bGU6bm9uemVybztmaWxsOnJnYigxMDAlLDEwMCUsMTAwJSk7ZmlsbC1vcGFjaXR5OjE7IiBkPSJNIDY4LjU3MDMxMiAyMDkuMzgyODEyIEwgNjYuNDI1NzgxIDIwNS42NzE4NzUgTCA2NC4yODEyNSAyMDkuMzgyODEyIFogTSA2OC41NzAzMTIgMjA5LjM4MjgxMiAiLz4KPHBhdGggc3R5bGU9IiBzdHJva2U6bm9uZTtmaWxsLXJ1bGU6bm9uemVybztmaWxsOnJnYigxMDAlLDEwMCUsMTAwJSk7ZmlsbC1vcGFjaXR5OjE7IiBkPSJNIDcwLjcxNDg0NCAyMDUuNjcxODc1IEwgNjguNTcwMzEyIDIwMS45NjA5MzggTCA2Ni40MjU3ODEgMjA1LjY3MTg3NSBaIE0gNzAuNzE0ODQ0IDIwNS42NzE4NzUgIi8+CjxwYXRoIHN0eWxlPSIgc3Ryb2tlOm5vbmU7ZmlsbC1ydWxlOm5vbnplcm87ZmlsbDpyZ2IoMTAwJSwxMDAlLDEwMCUpO2ZpbGwtb3BhY2l0eToxOyIgZD0iTSA3Ny4xNDQ1MzEgMjAxLjk2MDkzOCBMIDc1IDE5OC4yNSBMIDcyLjg1NTQ2OSAyMDEuOTYwOTM4IFogTSA3Ny4xNDQ1MzEgMjAxLjk2MDkzOCAiLz4KPHBhdGggc3R5bGU9IiBzdHJva2U6bm9uZTtmaWxsLXJ1bGU6bm9uemVybztmaWxsOnJnYigxMDAlLDEwMCUsMTAwJSk7ZmlsbC1vcGFjaXR5OjE7IiBkPSJNIDcyLjg1NTQ2OSAyMDEuOTYwOTM4IEwgNzAuNzEwOTM4IDE5OC4yNSBMIDY4LjU2NjQwNiAyMDEuOTYwOTM4IFogTSA3Mi44NTU0NjkgMjAxLjk2MDkzOCAiLz4KPHBhdGggc3R5bGU9IiBzdHJva2U6bm9uZTtmaWxsLXJ1bGU6bm9uemVybztmaWxsOnJnYigxMDAlLDEwMCUsMTAwJSk7ZmlsbC1vcGFjaXR5OjE7IiBkPSJNIDc1IDE5OC4yNSBMIDcyLjg1NTQ2OSAxOTQuNTM5MDYyIEwgNzAuNzEwOTM4IDE5OC4yNSBaIE0gNzUgMTk4LjI1ICIvPgo8cGF0aCBzdHlsZT0iIHN0cm9rZTpub25lO2ZpbGwtcnVsZTpub256ZXJvO2ZpbGw6cmdiKDEwMCUsMTAwJSwxMDAlKTtmaWxsLW9wYWNpdHk6MTsiIGQ9Ik0gNjQuMjg1MTU2IDIwOS4zODI4MTIgTCA2Mi4xNDA2MjUgMjA1LjY3MTg3NSBMIDU5Ljk5NjA5NCAyMDkuMzgyODEyIFogTSA2NC4yODUxNTYgMjA5LjM4MjgxMiAiLz4KPHBhdGggc3R5bGU9IiBzdHJva2U6bm9uZTtmaWxsLXJ1bGU6bm9uemVybztmaWxsOnJnYigxMDAlLDEwMCUsMTAwJSk7ZmlsbC1vcGFjaXR5OjE7IiBkPSJNIDYwIDIwOS4zODI4MTIgTCA1Ny44NTU0NjkgMjA1LjY3MTg3NSBMIDU1LjcxMDkzOCAyMDkuMzgyODEyIFogTSA2MCAyMDkuMzgyODEyICIvPgo8cGF0aCBzdHlsZT0iIHN0cm9rZTpub25lO2ZpbGwtcnVsZTpub256ZXJvO2ZpbGw6cmdiKDEwMCUsMTAwJSwxMDAlKTtmaWxsLW9wYWNpdHk6MTsiIGQ9Ik0gNjIuMTQ0NTMxIDIwNS42NzE4NzUgTCA2MCAyMDEuOTYwOTM4IEwgNTcuODU1NDY5IDIwNS42NzE4NzUgWiBNIDYyLjE0NDUzMSAyMDUuNjcxODc1ICIvPgo8cGF0aCBzdHlsZT0iIHN0cm9rZTpub25lO2ZpbGwtcnVsZTpub256ZXJvO2ZpbGw6cmdiKDEwMCUsMTAwJSwxMDAlKTtmaWxsLW9wYWNpdHk6MTsiIGQ9Ik0gNTUuNzE0ODQ0IDIwOS4zODI4MTIgTCA1My41NzAzMTIgMjA1LjY3MTg3NSBMIDUxLjQyNTc4MSAyMDkuMzgyODEyIFogTSA1NS43MTQ4NDQgMjA5LjM4MjgxMiAiLz4KPHBhdGggc3R5bGU9IiBzdHJva2U6bm9uZTtmaWxsLXJ1bGU6bm9uemVybztmaWxsOnJnYigxMDAlLDEwMCUsMTAwJSk7ZmlsbC1vcGFjaXR5OjE7IiBkPSJNIDUxLjQyOTY4OCAyMDkuMzgyODEyIEwgNDkuMjg1MTU2IDIwNS42NzE4NzUgTCA0Ny4xNDA2MjUgMjA5LjM4MjgxMiBaIE0gNTEuNDI5Njg4IDIwOS4zODI4MTIgIi8+CjxwYXRoIHN0eWxlPSIgc3Ryb2tlOm5vbmU7ZmlsbC1ydWxlOm5vbnplcm87ZmlsbDpyZ2IoMTAwJSwxMDAlLDEwMCUpO2ZpbGwtb3BhY2l0eToxOyIgZD0iTSA1My41NzAzMTIgMjA1LjY3MTg3NSBMIDUxLjQyNTc4MSAyMDEuOTYwOTM4IEwgNDkuMjgxMjUgMjA1LjY3MTg3NSBaIE0gNTMuNTcwMzEyIDIwNS42NzE4NzUgIi8+CjxwYXRoIHN0eWxlPSIgc3Ryb2tlOm5vbmU7ZmlsbC1ydWxlOm5vbnplcm87ZmlsbDpyZ2IoMTAwJSwxMDAlLDEwMCUpO2ZpbGwtb3BhY2l0eToxOyIgZD0iTSA2MCAyMDEuOTYwOTM4IEwgNTcuODU1NDY5IDE5OC4yNSBMIDU1LjcxMDkzOCAyMDEuOTYwOTM4IFogTSA2MCAyMDEuOTYwOTM4ICIvPgo8cGF0aCBzdHlsZT0iIHN0cm9rZTpub25lO2ZpbGwtcnVsZTpub256ZXJvO2ZpbGw6cmdiKDEwMCUsMTAwJSwxMDAlKTtmaWxsLW9wYWNpdHk6MTsiIGQ9Ik0gNTUuNzE0ODQ0IDIwMS45NjA5MzggTCA1My41NzAzMTIgMTk4LjI1IEwgNTEuNDI1NzgxIDIwMS45NjA5MzggWiBNIDU1LjcxNDg0NCAyMDEuOTYwOTM4ICIvPgo8cGF0aCBzdHlsZT0iIHN0cm9rZTpub25lO2ZpbGwtcnVsZTpub256ZXJvO2ZpbGw6cmdiKDEwMCUsMTAwJSwxMDAlKTtmaWxsLW9wYWNpdHk6MTsiIGQ9Ik0gNTcuODU1NDY5IDE5OC4yNSBMIDU1LjcxMDkzOCAxOTQuNTM5MDYyIEwgNTMuNTY2NDA2IDE5OC4yNSBaIE0gNTcuODU1NDY5IDE5OC4yNSAiLz4KPHBhdGggc3R5bGU9IiBzdHJva2U6bm9uZTtmaWxsLXJ1bGU6bm9uemVybztmaWxsOnJnYigxMDAlLDEwMCUsMTAwJSk7ZmlsbC1vcGFjaXR5OjE7IiBkPSJNIDcyLjg1NTQ2OSAxOTQuNTM5MDYyIEwgNzAuNzEwOTM4IDE5MC44MjgxMjUgTCA2OC41NjY0MDYgMTk0LjUzOTA2MiBaIE0gNzIuODU1NDY5IDE5NC41MzkwNjIgIi8+CjxwYXRoIHN0eWxlPSIgc3Ryb2tlOm5vbmU7ZmlsbC1ydWxlOm5vbnplcm87ZmlsbDpyZ2IoMTAwJSwxMDAlLDEwMCUpO2ZpbGwtb3BhY2l0eToxOyIgZD0iTSA2OC41NzAzMTIgMTk0LjUzOTA2MiBMIDY2LjQyNTc4MSAxOTAuODI4MTI1IEwgNjQuMjgxMjUgMTk0LjUzOTA2MiBaIE0gNjguNTcwMzEyIDE5NC41MzkwNjIgIi8+CjxwYXRoIHN0eWxlPSIgc3Ryb2tlOm5vbmU7ZmlsbC1ydWxlOm5vbnplcm87ZmlsbDpyZ2IoMTAwJSwxMDAlLDEwMCUpO2ZpbGwtb3BhY2l0eToxOyIgZD0iTSA3MC43MTQ4NDQgMTkwLjgyODEyNSBMIDY4LjU3MDMxMiAxODcuMTE3MTg4IEwgNjYuNDI1NzgxIDE5MC44MjgxMjUgWiBNIDcwLjcxNDg0NCAxOTAuODI4MTI1ICIvPgo8cGF0aCBzdHlsZT0iIHN0cm9rZTpub25lO2ZpbGwtcnVsZTpub256ZXJvO2ZpbGw6cmdiKDEwMCUsMTAwJSwxMDAlKTtmaWxsLW9wYWNpdHk6MTsiIGQ9Ik0gNjQuMjg1MTU2IDE5NC41MzkwNjIgTCA2Mi4xNDA2MjUgMTkwLjgyODEyNSBMIDU5Ljk5NjA5NCAxOTQuNTM5MDYyIFogTSA2NC4yODUxNTYgMTk0LjUzOTA2MiAiLz4KPHBhdGggc3R5bGU9IiBzdHJva2U6bm9uZTtmaWxsLXJ1bGU6bm9uemVybztmaWxsOnJnYigxMDAlLDEwMCUsMTAwJSk7ZmlsbC1vcGFjaXR5OjE7IiBkPSJNIDYwIDE5NC41MzkwNjIgTCA1Ny44NTU0NjkgMTkwLjgyODEyNSBMIDU1LjcxMDkzOCAxOTQuNTM5MDYyIFogTSA2MCAxOTQuNTM5MDYyICIvPgo8cGF0aCBzdHlsZT0iIHN0cm9rZTpub25lO2ZpbGwtcnVsZTpub256ZXJvO2ZpbGw6cmdiKDEwMCUsMTAwJSwxMDAlKTtmaWxsLW9wYWNpdHk6MTsiIGQ9Ik0gNjIuMTQ0NTMxIDE5MC44MjgxMjUgTCA2MCAxODcuMTE3MTg4IEwgNTcuODU1NDY5IDE5MC44MjgxMjUgWiBNIDYyLjE0NDUzMSAxOTAuODI4MTI1ICIvPgo8cGF0aCBzdHlsZT0iIHN0cm9rZTpub25lO2ZpbGwtcnVsZTpub256ZXJvO2ZpbGw6cmdiKDEwMCUsMTAwJSwxMDAlKTtmaWxsLW9wYWNpdHk6MTsiIGQ9Ik0gNjguNTcwMzEyIDE4Ny4xMTcxODggTCA2Ni40MjU3ODEgMTgzLjQwNjI1IEwgNjQuMjgxMjUgMTg3LjExNzE4OCBaIE0gNjguNTcwMzEyIDE4Ny4xMTcxODggIi8+CjxwYXRoIHN0eWxlPSIgc3Ryb2tlOm5vbmU7ZmlsbC1ydWxlOm5vbnplcm87ZmlsbDpyZ2IoMTAwJSwxMDAlLDEwMCUpO2ZpbGwtb3BhY2l0eToxOyIgZD0iTSA2NC4yODUxNTYgMTg3LjExNzE4OCBMIDYyLjE0MDYyNSAxODMuNDA2MjUgTCA1OS45OTYwOTQgMTg3LjExNzE4OCBaIE0gNjQuMjg1MTU2IDE4Ny4xMTcxODggIi8+CjxwYXRoIHN0eWxlPSIgc3Ryb2tlOm5vbmU7ZmlsbC1ydWxlOm5vbnplcm87ZmlsbDpyZ2IoMTAwJSwxMDAlLDEwMCUpO2ZpbGwtb3BhY2l0eToxOyIgZD0iTSA2Ni40Mjk2ODggMTgzLjQwMjM0NCBMIDY0LjI4NTE1NiAxNzkuNjkxNDA2IEwgNjIuMTQwNjI1IDE4My40MDIzNDQgWiBNIDY2LjQyOTY4OCAxODMuNDAyMzQ0ICIvPgo8cGF0aCBzdHlsZT0iIHN0cm9rZTpub25lO2ZpbGwtcnVsZTpub256ZXJvO2ZpbGw6cmdiKDEwMCUsMTAwJSwxMDAlKTtmaWxsLW9wYWNpdHk6MTsiIGQ9Ik0gOTguNTcwMzEyIDE3OS42OTE0MDYgTCA5Ni40MjU3ODEgMTc1Ljk4MDQ2OSBMIDk0LjI4MTI1IDE3OS42OTE0MDYgWiBNIDk4LjU3MDMxMiAxNzkuNjkxNDA2ICIvPgo8cGF0aCBzdHlsZT0iIHN0cm9rZTpub25lO2ZpbGwtcnVsZTpub256ZXJvO2ZpbGw6cmdiKDEwMCUsMTAwJSwxMDAlKTtmaWxsLW9wYWNpdHk6MTsiIGQ9Ik0gOTQuMjg1MTU2IDE3OS42OTE0MDYgTCA5Mi4xNDA2MjUgMTc1Ljk4MDQ2OSBMIDg5Ljk5NjA5NCAxNzkuNjkxNDA2IFogTSA5NC4yODUxNTYgMTc5LjY5MTQwNiAiLz4KPHBhdGggc3R5bGU9IiBzdHJva2U6bm9uZTtmaWxsLXJ1bGU6bm9uemVybztmaWxsOnJnYigxMDAlLDEwMCUsMTAwJSk7ZmlsbC1vcGFjaXR5OjE7IiBkPSJNIDk2LjQyOTY4OCAxNzUuOTgwNDY5IEwgOTQuMjg1MTU2IDE3Mi4yNjk1MzEgTCA5Mi4xNDA2MjUgMTc1Ljk4MDQ2OSBaIE0gOTYuNDI5Njg4IDE3NS45ODA0NjkgIi8+CjxwYXRoIHN0eWxlPSIgc3Ryb2tlOm5vbmU7ZmlsbC1ydWxlOm5vbnplcm87ZmlsbDpyZ2IoMTAwJSwxMDAlLDEwMCUpO2ZpbGwtb3BhY2l0eToxOyIgZD0iTSA5MCAxNzkuNjkxNDA2IEwgODcuODU1NDY5IDE3NS45ODA0NjkgTCA4NS43MTA5MzggMTc5LjY5MTQwNiBaIE0gOTAgMTc5LjY5MTQwNiAiLz4KPHBhdGggc3R5bGU9IiBzdHJva2U6bm9uZTtmaWxsLXJ1bGU6bm9uemVybztmaWxsOnJnYigxMDAlLDEwMCUsMTAwJSk7ZmlsbC1vcGFjaXR5OjE7IiBkPSJNIDg1LjcxNDg0NCAxNzkuNjkxNDA2IEwgODMuNTcwMzEyIDE3NS45ODA0NjkgTCA4MS40MjU3ODEgMTc5LjY5MTQwNiBaIE0gODUuNzE0ODQ0IDE3OS42OTE0MDYgIi8+CjxwYXRoIHN0eWxlPSIgc3Ryb2tlOm5vbmU7ZmlsbC1ydWxlOm5vbnplcm87ZmlsbDpyZ2IoMTAwJSwxMDAlLDEwMCUpO2ZpbGwtb3BhY2l0eToxOyIgZD0iTSA4Ny44NTU0NjkgMTc1Ljk4MDQ2OSBMIDg1LjcxMDkzOCAxNzIuMjY5NTMxIEwgODMuNTY2NDA2IDE3NS45ODA0NjkgWiBNIDg3Ljg1NTQ2OSAxNzUuOTgwNDY5ICIvPgo8cGF0aCBzdHlsZT0iIHN0cm9rZTpub25lO2ZpbGwtcnVsZTpub256ZXJvO2ZpbGw6cmdiKDEwMCUsMTAwJSwxMDAlKTtmaWxsLW9wYWNpdHk6MTsiIGQ9Ik0gOTQuMjg1MTU2IDE3Mi4yNjk1MzEgTCA5Mi4xNDA2MjUgMTY4LjU1ODU5NCBMIDg5Ljk5NjA5NCAxNzIuMjY5NTMxIFogTSA5NC4yODUxNTYgMTcyLjI2OTUzMSAiLz4KPHBhdGggc3R5bGU9IiBzdHJva2U6bm9uZTtmaWxsLXJ1bGU6bm9uemVybztmaWxsOnJnYigxMDAlLDEwMCUsMTAwJSk7ZmlsbC1vcGFjaXR5OjE7IiBkPSJNIDkwIDE3Mi4yNjk1MzEgTCA4Ny44NTU0NjkgMTY4LjU1ODU5NCBMIDg1LjcxMDkzOCAxNzIuMjY5NTMxIFogTSA5MCAxNzIuMjY5NTMxICIvPgo8cGF0aCBzdHlsZT0iIHN0cm9rZTpub25lO2ZpbGwtcnVsZTpub256ZXJvO2ZpbGw6cmdiKDEwMCUsMTAwJSwxMDAlKTtmaWxsLW9wYWNpdHk6MTsiIGQ9Ik0gOTIuMTQ0NTMxIDE2OC41NTg1OTQgTCA5MCAxNjQuODQ3NjU2IEwgODcuODU1NDY5IDE2OC41NTg1OTQgWiBNIDkyLjE0NDUzMSAxNjguNTU4NTk0ICIvPgo8cGF0aCBzdHlsZT0iIHN0cm9rZTpub25lO2ZpbGwtcnVsZTpub256ZXJvO2ZpbGw6cmdiKDEwMCUsMTAwJSwxMDAlKTtmaWxsLW9wYWNpdHk6MTsiIGQ9Ik0gODEuNDI5Njg4IDE3OS42OTE0MDYgTCA3OS4yODUxNTYgMTc1Ljk4MDQ2OSBMIDc3LjE0MDYyNSAxNzkuNjkxNDA2IFogTSA4MS40Mjk2ODggMTc5LjY5MTQwNiAiLz4KPHBhdGggc3R5bGU9IiBzdHJva2U6bm9uZTtmaWxsLXJ1bGU6bm9uemVybztmaWxsOnJnYigxMDAlLDEwMCUsMTAwJSk7ZmlsbC1vcGFjaXR5OjE7IiBkPSJNIDc3LjE0NDUzMSAxNzkuNjkxNDA2IEwgNzUgMTc1Ljk4MDQ2OSBMIDcyLjg1NTQ2OSAxNzkuNjkxNDA2IFogTSA3Ny4xNDQ1MzEgMTc5LjY5MTQwNiAiLz4KPHBhdGggc3R5bGU9IiBzdHJva2U6bm9uZTtmaWxsLXJ1bGU6bm9uemVybztmaWxsOnJnYigxMDAlLDEwMCUsMTAwJSk7ZmlsbC1vcGFjaXR5OjE7IiBkPSJNIDc5LjI4NTE1NiAxNzUuOTgwNDY5IEwgNzcuMTQwNjI1IDE3Mi4yNjk1MzEgTCA3NC45OTYwOTQgMTc1Ljk4MDQ2OSBaIE0gNzkuMjg1MTU2IDE3NS45ODA0NjkgIi8+CjxwYXRoIHN0eWxlPSIgc3Ryb2tlOm5vbmU7ZmlsbC1ydWxlOm5vbnplcm87ZmlsbDpyZ2IoMTAwJSwxMDAlLDEwMCUpO2ZpbGwtb3BhY2l0eToxOyIgZD0iTSA3Mi44NTU0NjkgMTc5LjY5MTQwNiBMIDcwLjcxMDkzOCAxNzUuOTgwNDY5IEwgNjguNTY2NDA2IDE3OS42OTE0MDYgWiBNIDcyLjg1NTQ2OSAxNzkuNjkxNDA2ICIvPgo8cGF0aCBzdHlsZT0iIHN0cm9rZTpub25lO2ZpbGwtcnVsZTpub256ZXJvO2ZpbGw6cmdiKDEwMCUsMTAwJSwxMDAlKTtmaWxsLW9wYWNpdHk6MTsiIGQ9Ik0gNjguNTcwMzEyIDE3OS42OTE0MDYgTCA2Ni40MjU3ODEgMTc1Ljk4MDQ2OSBMIDY0LjI4MTI1IDE3OS42OTE0MDYgWiBNIDY4LjU3MDMxMiAxNzkuNjkxNDA2ICIvPgo8cGF0aCBzdHlsZT0iIHN0cm9rZTpub25lO2ZpbGwtcnVsZTpub256ZXJvO2ZpbGw6cmdiKDEwMCUsMTAwJSwxMDAlKTtmaWxsLW9wYWNpdHk6MTsiIGQ9Ik0gNzAuNzE0ODQ0IDE3NS45ODA0NjkgTCA2OC41NzAzMTIgMTcyLjI2OTUzMSBMIDY2LjQyNTc4MSAxNzUuOTgwNDY5IFogTSA3MC43MTQ4NDQgMTc1Ljk4MDQ2OSAiLz4KPHBhdGggc3R5bGU9IiBzdHJva2U6bm9uZTtmaWxsLXJ1bGU6bm9uemVybztmaWxsOnJnYigxMDAlLDEwMCUsMTAwJSk7ZmlsbC1vcGFjaXR5OjE7IiBkPSJNIDc3LjE0NDUzMSAxNzIuMjY5NTMxIEwgNzUgMTY4LjU1ODU5NCBMIDcyLjg1NTQ2OSAxNzIuMjY5NTMxIFogTSA3Ny4xNDQ1MzEgMTcyLjI2OTUzMSAiLz4KPHBhdGggc3R5bGU9IiBzdHJva2U6bm9uZTtmaWxsLXJ1bGU6bm9uemVybztmaWxsOnJnYigxMDAlLDEwMCUsMTAwJSk7ZmlsbC1vcGFjaXR5OjE7IiBkPSJNIDcyLjg1NTQ2OSAxNzIuMjY5NTMxIEwgNzAuNzEwOTM4IDE2OC41NTg1OTQgTCA2OC41NjY0MDYgMTcyLjI2OTUzMSBaIE0gNzIuODU1NDY5IDE3Mi4yNjk1MzEgIi8+CjxwYXRoIHN0eWxlPSIgc3Ryb2tlOm5vbmU7ZmlsbC1ydWxlOm5vbnplcm87ZmlsbDpyZ2IoMTAwJSwxMDAlLDEwMCUpO2ZpbGwtb3BhY2l0eToxOyIgZD0iTSA3NSAxNjguNTU4NTk0IEwgNzIuODU1NDY5IDE2NC44NDc2NTYgTCA3MC43MTA5MzggMTY4LjU1ODU5NCBaIE0gNzUgMTY4LjU1ODU5NCAiLz4KPHBhdGggc3R5bGU9IiBzdHJva2U6bm9uZTtmaWxsLXJ1bGU6bm9uemVybztmaWxsOnJnYigxMDAlLDEwMCUsMTAwJSk7ZmlsbC1vcGFjaXR5OjE7IiBkPSJNIDkwIDE2NC44NDc2NTYgTCA4Ny44NTU0NjkgMTYxLjEzNjcxOSBMIDg1LjcxMDkzOCAxNjQuODQ3NjU2IFogTSA5MCAxNjQuODQ3NjU2ICIvPgo8cGF0aCBzdHlsZT0iIHN0cm9rZTpub25lO2ZpbGwtcnVsZTpub256ZXJvO2ZpbGw6cmdiKDEwMCUsMTAwJSwxMDAlKTtmaWxsLW9wYWNpdHk6MTsiIGQ9Ik0gODUuNzE0ODQ0IDE2NC44NDc2NTYgTCA4My41NzAzMTIgMTYxLjEzNjcxOSBMIDgxLjQyNTc4MSAxNjQuODQ3NjU2IFogTSA4NS43MTQ4NDQgMTY0Ljg0NzY1NiAiLz4KPHBhdGggc3R5bGU9IiBzdHJva2U6bm9uZTtmaWxsLXJ1bGU6bm9uemVybztmaWxsOnJnYigxMDAlLDEwMCUsMTAwJSk7ZmlsbC1vcGFjaXR5OjE7IiBkPSJNIDg3Ljg1NTQ2OSAxNjEuMTMyODEyIEwgODUuNzEwOTM4IDE1Ny40MjE4NzUgTCA4My41NjY0MDYgMTYxLjEzMjgxMiBaIE0gODcuODU1NDY5IDE2MS4xMzI4MTIgIi8+CjxwYXRoIHN0eWxlPSIgc3Ryb2tlOm5vbmU7ZmlsbC1ydWxlOm5vbnplcm87ZmlsbDpyZ2IoMTAwJSwxMDAlLDEwMCUpO2ZpbGwtb3BhY2l0eToxOyIgZD0iTSA4MS40Mjk2ODggMTY0Ljg0NzY1NiBMIDc5LjI4NTE1NiAxNjEuMTM2NzE5IEwgNzcuMTQwNjI1IDE2NC44NDc2NTYgWiBNIDgxLjQyOTY4OCAxNjQuODQ3NjU2ICIvPgo8cGF0aCBzdHlsZT0iIHN0cm9rZTpub25lO2ZpbGwtcnVsZTpub256ZXJvO2ZpbGw6cmdiKDEwMCUsMTAwJSwxMDAlKTtmaWxsLW9wYWNpdHk6MTsiIGQ9Ik0gNzcuMTQ0NTMxIDE2NC44NDc2NTYgTCA3NSAxNjEuMTM2NzE5IEwgNzIuODU1NDY5IDE2NC44NDc2NTYgWiBNIDc3LjE0NDUzMSAxNjQuODQ3NjU2ICIvPgo8cGF0aCBzdHlsZT0iIHN0cm9rZTpub25lO2ZpbGwtcnVsZTpub256ZXJvO2ZpbGw6cmdiKDEwMCUsMTAwJSwxMDAlKTtmaWxsLW9wYWNpdHk6MTsiIGQ9Ik0gNzkuMjg1MTU2IDE2MS4xMzI4MTIgTCA3Ny4xNDA2MjUgMTU3LjQyMTg3NSBMIDc0Ljk5NjA5NCAxNjEuMTMyODEyIFogTSA3OS4yODUxNTYgMTYxLjEzMjgxMiAiLz4KPHBhdGggc3R5bGU9IiBzdHJva2U6bm9uZTtmaWxsLXJ1bGU6bm9uemVybztmaWxsOnJnYigxMDAlLDEwMCUsMTAwJSk7ZmlsbC1vcGFjaXR5OjE7IiBkPSJNIDg1LjcxNDg0NCAxNTcuNDIxODc1IEwgODMuNTcwMzEyIDE1My43MTA5MzggTCA4MS40MjU3ODEgMTU3LjQyMTg3NSBaIE0gODUuNzE0ODQ0IDE1Ny40MjE4NzUgIi8+CjxwYXRoIHN0eWxlPSIgc3Ryb2tlOm5vbmU7ZmlsbC1ydWxlOm5vbnplcm87ZmlsbDpyZ2IoMTAwJSwxMDAlLDEwMCUpO2ZpbGwtb3BhY2l0eToxOyIgZD0iTSA4MS40Mjk2ODggMTU3LjQyMTg3NSBMIDc5LjI4NTE1NiAxNTMuNzEwOTM4IEwgNzcuMTQwNjI1IDE1Ny40MjE4NzUgWiBNIDgxLjQyOTY4OCAxNTcuNDIxODc1ICIvPgo8cGF0aCBzdHlsZT0iIHN0cm9rZTpub25lO2ZpbGwtcnVsZTpub256ZXJvO2ZpbGw6cmdiKDEwMCUsMTAwJSwxMDAlKTtmaWxsLW9wYWNpdHk6MTsiIGQ9Ik0gODMuNTcwMzEyIDE1My43MTA5MzggTCA4MS40MjU3ODEgMTUwIEwgNzkuMjgxMjUgMTUzLjcxMDkzOCBaIE0gODMuNTcwMzEyIDE1My43MTA5MzggIi8+CjxwYXRoIHN0eWxlPSIgc3Ryb2tlOm5vbmU7ZmlsbC1ydWxlOm5vbnplcm87ZmlsbDpyZ2IoMTAwJSwxMDAlLDEwMCUpO2ZpbGwtb3BhY2l0eToxOyIgZD0iTSAyMTguNTcwMzEyIDE1MCBMIDIxNi40MjU3ODEgMTQ2LjI4OTA2MiBMIDIxNC4yODEyNSAxNTAgWiBNIDIxOC41NzAzMTIgMTUwICIvPgo8cGF0aCBzdHlsZT0iIHN0cm9rZTpub25lO2ZpbGwtcnVsZTpub256ZXJvO2ZpbGw6cmdiKDEwMCUsMTAwJSwxMDAlKTtmaWxsLW9wYWNpdHk6MTsiIGQ9Ik0gMjE0LjI4NTE1NiAxNTAgTCAyMTIuMTQwNjI1IDE0Ni4yODkwNjIgTCAyMDkuOTk2MDk0IDE1MCBaIE0gMjE0LjI4NTE1NiAxNTAgIi8+CjxwYXRoIHN0eWxlPSIgc3Ryb2tlOm5vbmU7ZmlsbC1ydWxlOm5vbnplcm87ZmlsbDpyZ2IoMTAwJSwxMDAlLDEwMCUpO2ZpbGwtb3BhY2l0eToxOyIgZD0iTSAyMTYuNDI5Njg4IDE0Ni4yODkwNjIgTCAyMTQuMjg1MTU2IDE0Mi41NzgxMjUgTCAyMTIuMTQwNjI1IDE0Ni4yODkwNjIgWiBNIDIxNi40Mjk2ODggMTQ2LjI4OTA2MiAiLz4KPHBhdGggc3R5bGU9IiBzdHJva2U6bm9uZTtmaWxsLXJ1bGU6bm9uemVybztmaWxsOnJnYigxMDAlLDEwMCUsMTAwJSk7ZmlsbC1vcGFjaXR5OjE7IiBkPSJNIDIxMCAxNTAgTCAyMDcuODU1NDY5IDE0Ni4yODkwNjIgTCAyMDUuNzEwOTM4IDE1MCBaIE0gMjEwIDE1MCAiLz4KPHBhdGggc3R5bGU9IiBzdHJva2U6bm9uZTtmaWxsLXJ1bGU6bm9uemVybztmaWxsOnJnYigxMDAlLDEwMCUsMTAwJSk7ZmlsbC1vcGFjaXR5OjE7IiBkPSJNIDIwNS43MTQ4NDQgMTUwIEwgMjAzLjU3MDMxMiAxNDYuMjg5MDYyIEwgMjAxLjQyNTc4MSAxNTAgWiBNIDIwNS43MTQ4NDQgMTUwICIvPgo8cGF0aCBzdHlsZT0iIHN0cm9rZTpub25lO2ZpbGwtcnVsZTpub256ZXJvO2ZpbGw6cmdiKDEwMCUsMTAwJSwxMDAlKTtmaWxsLW9wYWNpdHk6MTsiIGQ9Ik0gMjA3Ljg1NTQ2OSAxNDYuMjg5MDYyIEwgMjA1LjcxMDkzOCAxNDIuNTc4MTI1IEwgMjAzLjU2NjQwNiAxNDYuMjg5MDYyIFogTSAyMDcuODU1NDY5IDE0Ni4yODkwNjIgIi8+CjxwYXRoIHN0eWxlPSIgc3Ryb2tlOm5vbmU7ZmlsbC1ydWxlOm5vbnplcm87ZmlsbDpyZ2IoMTAwJSwxMDAlLDEwMCUpO2ZpbGwtb3BhY2l0eToxOyIgZD0iTSAyMTQuMjg1MTU2IDE0Mi41NzgxMjUgTCAyMTIuMTQwNjI1IDEzOC44NjcxODggTCAyMDkuOTk2MDk0IDE0Mi41NzgxMjUgWiBNIDIxNC4yODUxNTYgMTQyLjU3ODEyNSAiLz4KPHBhdGggc3R5bGU9IiBzdHJva2U6bm9uZTtmaWxsLXJ1bGU6bm9uemVybztmaWxsOnJnYigxMDAlLDEwMCUsMTAwJSk7ZmlsbC1vcGFjaXR5OjE7IiBkPSJNIDIxMCAxNDIuNTc4MTI1IEwgMjA3Ljg1NTQ2OSAxMzguODY3MTg4IEwgMjA1LjcxMDkzOCAxNDIuNTc4MTI1IFogTSAyMTAgMTQyLjU3ODEyNSAiLz4KPHBhdGggc3R5bGU9IiBzdHJva2U6bm9uZTtmaWxsLXJ1bGU6bm9uemVybztmaWxsOnJnYigxMDAlLDEwMCUsMTAwJSk7ZmlsbC1vcGFjaXR5OjE7IiBkPSJNIDIxMi4xNDQ1MzEgMTM4Ljg2NzE4OCBMIDIxMCAxMzUuMTU2MjUgTCAyMDcuODU1NDY5IDEzOC44NjcxODggWiBNIDIxMi4xNDQ1MzEgMTM4Ljg2NzE4OCAiLz4KPHBhdGggc3R5bGU9IiBzdHJva2U6bm9uZTtmaWxsLXJ1bGU6bm9uemVybztmaWxsOnJnYigxMDAlLDEwMCUsMTAwJSk7ZmlsbC1vcGFjaXR5OjE7IiBkPSJNIDIwMS40Mjk2ODggMTUwIEwgMTk5LjI4NTE1NiAxNDYuMjg5MDYyIEwgMTk3LjE0MDYyNSAxNTAgWiBNIDIwMS40Mjk2ODggMTUwICIvPgo8cGF0aCBzdHlsZT0iIHN0cm9rZTpub25lO2ZpbGwtcnVsZTpub256ZXJvO2ZpbGw6cmdiKDEwMCUsMTAwJSwxMDAlKTtmaWxsLW9wYWNpdHk6MTsiIGQ9Ik0gMTk3LjE0NDUzMSAxNTAgTCAxOTUgMTQ2LjI4OTA2MiBMIDE5Mi44NTU0NjkgMTUwIFogTSAxOTcuMTQ0NTMxIDE1MCAiLz4KPHBhdGggc3R5bGU9IiBzdHJva2U6bm9uZTtmaWxsLXJ1bGU6bm9uemVybztmaWxsOnJnYigxMDAlLDEwMCUsMTAwJSk7ZmlsbC1vcGFjaXR5OjE7IiBkPSJNIDE5OS4yODUxNTYgMTQ2LjI4OTA2MiBMIDE5Ny4xNDA2MjUgMTQyLjU3ODEyNSBMIDE5NC45OTYwOTQgMTQ2LjI4OTA2MiBaIE0gMTk5LjI4NTE1NiAxNDYuMjg5MDYyICIvPgo8cGF0aCBzdHlsZT0iIHN0cm9rZTpub25lO2ZpbGwtcnVsZTpub256ZXJvO2ZpbGw6cmdiKDEwMCUsMTAwJSwxMDAlKTtmaWxsLW9wYWNpdHk6MTsiIGQ9Ik0gMTkyLjg1NTQ2OSAxNTAgTCAxOTAuNzEwOTM4IDE0Ni4yODkwNjIgTCAxODguNTY2NDA2IDE1MCBaIE0gMTkyLjg1NTQ2OSAxNTAgIi8+CjxwYXRoIHN0eWxlPSIgc3Ryb2tlOm5vbmU7ZmlsbC1ydWxlOm5vbnplcm87ZmlsbDpyZ2IoMTAwJSwxMDAlLDEwMCUpO2ZpbGwtb3BhY2l0eToxOyIgZD0iTSAxODguNTcwMzEyIDE1MCBMIDE4Ni40MjU3ODEgMTQ2LjI4OTA2MiBMIDE4NC4yODEyNSAxNTAgWiBNIDE4OC41NzAzMTIgMTUwICIvPgo8cGF0aCBzdHlsZT0iIHN0cm9rZTpub25lO2ZpbGwtcnVsZTpub256ZXJvO2ZpbGw6cmdiKDEwMCUsMTAwJSwxMDAlKTtmaWxsLW9wYWNpdHk6MTsiIGQ9Ik0gMTkwLjcxNDg0NCAxNDYuMjg5MDYyIEwgMTg4LjU3MDMxMiAxNDIuNTc4MTI1IEwgMTg2LjQyNTc4MSAxNDYuMjg5MDYyIFogTSAxOTAuNzE0ODQ0IDE0Ni4yODkwNjIgIi8+CjxwYXRoIHN0eWxlPSIgc3Ryb2tlOm5vbmU7ZmlsbC1ydWxlOm5vbnplcm87ZmlsbDpyZ2IoMTAwJSwxMDAlLDEwMCUpO2ZpbGwtb3BhY2l0eToxOyIgZD0iTSAxOTcuMTQ0NTMxIDE0Mi41NzgxMjUgTCAxOTUgMTM4Ljg2NzE4OCBMIDE5Mi44NTU0NjkgMTQyLjU3ODEyNSBaIE0gMTk3LjE0NDUzMSAxNDIuNTc4MTI1ICIvPgo8cGF0aCBzdHlsZT0iIHN0cm9rZTpub25lO2ZpbGwtcnVsZTpub256ZXJvO2ZpbGw6cmdiKDEwMCUsMTAwJSwxMDAlKTtmaWxsLW9wYWNpdHk6MTsiIGQ9Ik0gMTkyLjg1NTQ2OSAxNDIuNTc4MTI1IEwgMTkwLjcxMDkzOCAxMzguODY3MTg4IEwgMTg4LjU2NjQwNiAxNDIuNTc4MTI1IFogTSAxOTIuODU1NDY5IDE0Mi41NzgxMjUgIi8+CjxwYXRoIHN0eWxlPSIgc3Ryb2tlOm5vbmU7ZmlsbC1ydWxlOm5vbnplcm87ZmlsbDpyZ2IoMTAwJSwxMDAlLDEwMCUpO2ZpbGwtb3BhY2l0eToxOyIgZD0iTSAxOTUgMTM4Ljg2NzE4OCBMIDE5Mi44NTU0NjkgMTM1LjE1NjI1IEwgMTkwLjcxMDkzOCAxMzguODY3MTg4IFogTSAxOTUgMTM4Ljg2NzE4OCAiLz4KPHBhdGggc3R5bGU9IiBzdHJva2U6bm9uZTtmaWxsLXJ1bGU6bm9uemVybztmaWxsOnJnYigxMDAlLDEwMCUsMTAwJSk7ZmlsbC1vcGFjaXR5OjE7IiBkPSJNIDIxMCAxMzUuMTUyMzQ0IEwgMjA3Ljg1NTQ2OSAxMzEuNDQxNDA2IEwgMjA1LjcxMDkzOCAxMzUuMTUyMzQ0IFogTSAyMTAgMTM1LjE1MjM0NCAiLz4KPHBhdGggc3R5bGU9IiBzdHJva2U6bm9uZTtmaWxsLXJ1bGU6bm9uemVybztmaWxsOnJnYigxMDAlLDEwMCUsMTAwJSk7ZmlsbC1vcGFjaXR5OjE7IiBkPSJNIDIwNS43MTQ4NDQgMTM1LjE1MjM0NCBMIDIwMy41NzAzMTIgMTMxLjQ0MTQwNiBMIDIwMS40MjU3ODEgMTM1LjE1MjM0NCBaIE0gMjA1LjcxNDg0NCAxMzUuMTUyMzQ0ICIvPgo8cGF0aCBzdHlsZT0iIHN0cm9rZTpub25lO2ZpbGwtcnVsZTpub256ZXJvO2ZpbGw6cmdiKDEwMCUsMTAwJSwxMDAlKTtmaWxsLW9wYWNpdHk6MTsiIGQ9Ik0gMjA3Ljg1NTQ2OSAxMzEuNDQxNDA2IEwgMjA1LjcxMDkzOCAxMjcuNzMwNDY5IEwgMjAzLjU2NjQwNiAxMzEuNDQxNDA2IFogTSAyMDcuODU1NDY5IDEzMS40NDE0MDYgIi8+CjxwYXRoIHN0eWxlPSIgc3Ryb2tlOm5vbmU7ZmlsbC1ydWxlOm5vbnplcm87ZmlsbDpyZ2IoMTAwJSwxMDAlLDEwMCUpO2ZpbGwtb3BhY2l0eToxOyIgZD0iTSAyMDEuNDI5Njg4IDEzNS4xNTIzNDQgTCAxOTkuMjg1MTU2IDEzMS40NDE0MDYgTCAxOTcuMTQwNjI1IDEzNS4xNTIzNDQgWiBNIDIwMS40Mjk2ODggMTM1LjE1MjM0NCAiLz4KPHBhdGggc3R5bGU9IiBzdHJva2U6bm9uZTtmaWxsLXJ1bGU6bm9uemVybztmaWxsOnJnYigxMDAlLDEwMCUsMTAwJSk7ZmlsbC1vcGFjaXR5OjE7IiBkPSJNIDE5Ny4xNDQ1MzEgMTM1LjE1MjM0NCBMIDE5NSAxMzEuNDQxNDA2IEwgMTkyLjg1NTQ2OSAxMzUuMTUyMzQ0IFogTSAxOTcuMTQ0NTMxIDEzNS4xNTIzNDQgIi8+CjxwYXRoIHN0eWxlPSIgc3Ryb2tlOm5vbmU7ZmlsbC1ydWxlOm5vbnplcm87ZmlsbDpyZ2IoMTAwJSwxMDAlLDEwMCUpO2ZpbGwtb3BhY2l0eToxOyIgZD0iTSAxOTkuMjg1MTU2IDEzMS40NDE0MDYgTCAxOTcuMTQwNjI1IDEyNy43MzA0NjkgTCAxOTQuOTk2MDk0IDEzMS40NDE0MDYgWiBNIDE5OS4yODUxNTYgMTMxLjQ0MTQwNiAiLz4KPHBhdGggc3R5bGU9IiBzdHJva2U6bm9uZTtmaWxsLXJ1bGU6bm9uemVybztmaWxsOnJnYigxMDAlLDEwMCUsMTAwJSk7ZmlsbC1vcGFjaXR5OjE7IiBkPSJNIDIwNS43MTQ4NDQgMTI3LjczMDQ2OSBMIDIwMy41NzAzMTIgMTI0LjAxOTUzMSBMIDIwMS40MjU3ODEgMTI3LjczMDQ2OSBaIE0gMjA1LjcxNDg0NCAxMjcuNzMwNDY5ICIvPgo8cGF0aCBzdHlsZT0iIHN0cm9rZTpub25lO2ZpbGwtcnVsZTpub256ZXJvO2ZpbGw6cmdiKDEwMCUsMTAwJSwxMDAlKTtmaWxsLW9wYWNpdHk6MTsiIGQ9Ik0gMjAxLjQyOTY4OCAxMjcuNzMwNDY5IEwgMTk5LjI4NTE1NiAxMjQuMDE5NTMxIEwgMTk3LjE0MDYyNSAxMjcuNzMwNDY5IFogTSAyMDEuNDI5Njg4IDEyNy43MzA0NjkgIi8+CjxwYXRoIHN0eWxlPSIgc3Ryb2tlOm5vbmU7ZmlsbC1ydWxlOm5vbnplcm87ZmlsbDpyZ2IoMTAwJSwxMDAlLDEwMCUpO2ZpbGwtb3BhY2l0eToxOyIgZD0iTSAyMDMuNTcwMzEyIDEyNC4wMTk1MzEgTCAyMDEuNDI1NzgxIDEyMC4zMDg1OTQgTCAxOTkuMjgxMjUgMTI0LjAxOTUzMSBaIE0gMjAzLjU3MDMxMiAxMjQuMDE5NTMxICIvPgo8cGF0aCBzdHlsZT0iIHN0cm9rZTpub25lO2ZpbGwtcnVsZTpub256ZXJvO2ZpbGw6cmdiKDEwMCUsMTAwJSwxMDAlKTtmaWxsLW9wYWNpdHk6MTsiIGQ9Ik0gMTg0LjI4NTE1NiAxNTAgTCAxODIuMTQwNjI1IDE0Ni4yODkwNjIgTCAxNzkuOTk2MDk0IDE1MCBaIE0gMTg0LjI4NTE1NiAxNTAgIi8+CjxwYXRoIHN0eWxlPSIgc3Ryb2tlOm5vbmU7ZmlsbC1ydWxlOm5vbnplcm87ZmlsbDpyZ2IoMTAwJSwxMDAlLDEwMCUpO2ZpbGwtb3BhY2l0eToxOyIgZD0iTSAxODAgMTUwIEwgMTc3Ljg1NTQ2OSAxNDYuMjg5MDYyIEwgMTc1LjcxMDkzOCAxNTAgWiBNIDE4MCAxNTAgIi8+CjxwYXRoIHN0eWxlPSIgc3Ryb2tlOm5vbmU7ZmlsbC1ydWxlOm5vbnplcm87ZmlsbDpyZ2IoMTAwJSwxMDAlLDEwMCUpO2ZpbGwtb3BhY2l0eToxOyIgZD0iTSAxODIuMTQ0NTMxIDE0Ni4yODkwNjIgTCAxODAgMTQyLjU3ODEyNSBMIDE3Ny44NTU0NjkgMTQ2LjI4OTA2MiBaIE0gMTgyLjE0NDUzMSAxNDYuMjg5MDYyICIvPgo8cGF0aCBzdHlsZT0iIHN0cm9rZTpub25lO2ZpbGwtcnVsZTpub256ZXJvO2ZpbGw6cmdiKDEwMCUsMTAwJSwxMDAlKTtmaWxsLW9wYWNpdHk6MTsiIGQ9Ik0gMTc1LjcxNDg0NCAxNTAgTCAxNzMuNTcwMzEyIDE0Ni4yODkwNjIgTCAxNzEuNDI1NzgxIDE1MCBaIE0gMTc1LjcxNDg0NCAxNTAgIi8+CjxwYXRoIHN0eWxlPSIgc3Ryb2tlOm5vbmU7ZmlsbC1ydWxlOm5vbnplcm87ZmlsbDpyZ2IoMTAwJSwxMDAlLDEwMCUpO2ZpbGwtb3BhY2l0eToxOyIgZD0iTSAxNzEuNDI5Njg4IDE1MCBMIDE2OS4yODUxNTYgMTQ2LjI4OTA2MiBMIDE2Ny4xNDA2MjUgMTUwIFogTSAxNzEuNDI5Njg4IDE1MCAiLz4KPHBhdGggc3R5bGU9IiBzdHJva2U6bm9uZTtmaWxsLXJ1bGU6bm9uemVybztmaWxsOnJnYigxMDAlLDEwMCUsMTAwJSk7ZmlsbC1vcGFjaXR5OjE7IiBkPSJNIDE3My41NzAzMTIgMTQ2LjI4OTA2MiBMIDE3MS40MjU3ODEgMTQyLjU3ODEyNSBMIDE2OS4yODEyNSAxNDYuMjg5MDYyIFogTSAxNzMuNTcwMzEyIDE0Ni4yODkwNjIgIi8+CjxwYXRoIHN0eWxlPSIgc3Ryb2tlOm5vbmU7ZmlsbC1ydWxlOm5vbnplcm87ZmlsbDpyZ2IoMTAwJSwxMDAlLDEwMCUpO2ZpbGwtb3BhY2l0eToxOyIgZD0iTSAxODAgMTQyLjU3ODEyNSBMIDE3Ny44NTU0NjkgMTM4Ljg2NzE4OCBMIDE3NS43MTA5MzggMTQyLjU3ODEyNSBaIE0gMTgwIDE0Mi41NzgxMjUgIi8+CjxwYXRoIHN0eWxlPSIgc3Ryb2tlOm5vbmU7ZmlsbC1ydWxlOm5vbnplcm87ZmlsbDpyZ2IoMTAwJSwxMDAlLDEwMCUpO2ZpbGwtb3BhY2l0eToxOyIgZD0iTSAxNzUuNzE0ODQ0IDE0Mi41NzgxMjUgTCAxNzMuNTcwMzEyIDEzOC44NjcxODggTCAxNzEuNDI1NzgxIDE0Mi41NzgxMjUgWiBNIDE3NS43MTQ4NDQgMTQyLjU3ODEyNSAiLz4KPHBhdGggc3R5bGU9IiBzdHJva2U6bm9uZTtmaWxsLXJ1bGU6bm9uemVybztmaWxsOnJnYigxMDAlLDEwMCUsMTAwJSk7ZmlsbC1vcGFjaXR5OjE7IiBkPSJNIDE3Ny44NTU0NjkgMTM4Ljg2NzE4OCBMIDE3NS43MTA5MzggMTM1LjE1NjI1IEwgMTczLjU2NjQwNiAxMzguODY3MTg4IFogTSAxNzcuODU1NDY5IDEzOC44NjcxODggIi8+CjxwYXRoIHN0eWxlPSIgc3Ryb2tlOm5vbmU7ZmlsbC1ydWxlOm5vbnplcm87ZmlsbDpyZ2IoMTAwJSwxMDAlLDEwMCUpO2ZpbGwtb3BhY2l0eToxOyIgZD0iTSAxNjcuMTQ0NTMxIDE1MCBMIDE2NSAxNDYuMjg5MDYyIEwgMTYyLjg1NTQ2OSAxNTAgWiBNIDE2Ny4xNDQ1MzEgMTUwICIvPgo8cGF0aCBzdHlsZT0iIHN0cm9rZTpub25lO2ZpbGwtcnVsZTpub256ZXJvO2ZpbGw6cmdiKDEwMCUsMTAwJSwxMDAlKTtmaWxsLW9wYWNpdHk6MTsiIGQ9Ik0gMTYyLjg1NTQ2OSAxNTAgTCAxNjAuNzEwOTM4IDE0Ni4yODkwNjIgTCAxNTguNTY2NDA2IDE1MCBaIE0gMTYyLjg1NTQ2OSAxNTAgIi8+CjxwYXRoIHN0eWxlPSIgc3Ryb2tlOm5vbmU7ZmlsbC1ydWxlOm5vbnplcm87ZmlsbDpyZ2IoMTAwJSwxMDAlLDEwMCUpO2ZpbGwtb3BhY2l0eToxOyIgZD0iTSAxNjUgMTQ2LjI4OTA2MiBMIDE2Mi44NTU0NjkgMTQyLjU3ODEyNSBMIDE2MC43MTA5MzggMTQ2LjI4OTA2MiBaIE0gMTY1IDE0Ni4yODkwNjIgIi8+CjxwYXRoIHN0eWxlPSIgc3Ryb2tlOm5vbmU7ZmlsbC1ydWxlOm5vbnplcm87ZmlsbDpyZ2IoMTAwJSwxMDAlLDEwMCUpO2ZpbGwtb3BhY2l0eToxOyIgZD0iTSAxNTguNTcwMzEyIDE1MCBMIDE1Ni40MjU3ODEgMTQ2LjI4OTA2MiBMIDE1NC4yODEyNSAxNTAgWiBNIDE1OC41NzAzMTIgMTUwICIvPgo8cGF0aCBzdHlsZT0iIHN0cm9rZTpub25lO2ZpbGwtcnVsZTpub256ZXJvO2ZpbGw6cmdiKDEwMCUsMTAwJSwxMDAlKTtmaWxsLW9wYWNpdHk6MTsiIGQ9Ik0gMTU0LjI4NTE1NiAxNTAgTCAxNTIuMTQwNjI1IDE0Ni4yODkwNjIgTCAxNDkuOTk2MDk0IDE1MCBaIE0gMTU0LjI4NTE1NiAxNTAgIi8+CjxwYXRoIHN0eWxlPSIgc3Ryb2tlOm5vbmU7ZmlsbC1ydWxlOm5vbnplcm87ZmlsbDpyZ2IoMTAwJSwxMDAlLDEwMCUpO2ZpbGwtb3BhY2l0eToxOyIgZD0iTSAxNTYuNDI5Njg4IDE0Ni4yODkwNjIgTCAxNTQuMjg1MTU2IDE0Mi41NzgxMjUgTCAxNTIuMTQwNjI1IDE0Ni4yODkwNjIgWiBNIDE1Ni40Mjk2ODggMTQ2LjI4OTA2MiAiLz4KPHBhdGggc3R5bGU9IiBzdHJva2U6bm9uZTtmaWxsLXJ1bGU6bm9uemVybztmaWxsOnJnYigxMDAlLDEwMCUsMTAwJSk7ZmlsbC1vcGFjaXR5OjE7IiBkPSJNIDE2Mi44NTU0NjkgMTQyLjU3ODEyNSBMIDE2MC43MTA5MzggMTM4Ljg2NzE4OCBMIDE1OC41NjY0MDYgMTQyLjU3ODEyNSBaIE0gMTYyLjg1NTQ2OSAxNDIuNTc4MTI1ICIvPgo8cGF0aCBzdHlsZT0iIHN0cm9rZTpub25lO2ZpbGwtcnVsZTpub256ZXJvO2ZpbGw6cmdiKDEwMCUsMTAwJSwxMDAlKTtmaWxsLW9wYWNpdHk6MTsiIGQ9Ik0gMTU4LjU3MDMxMiAxNDIuNTc4MTI1IEwgMTU2LjQyNTc4MSAxMzguODY3MTg4IEwgMTU0LjI4MTI1IDE0Mi41NzgxMjUgWiBNIDE1OC41NzAzMTIgMTQyLjU3ODEyNSAiLz4KPHBhdGggc3R5bGU9IiBzdHJva2U6bm9uZTtmaWxsLXJ1bGU6bm9uemVybztmaWxsOnJnYigxMDAlLDEwMCUsMTAwJSk7ZmlsbC1vcGFjaXR5OjE7IiBkPSJNIDE2MC43MTQ4NDQgMTM4Ljg2NzE4OCBMIDE1OC41NzAzMTIgMTM1LjE1NjI1IEwgMTU2LjQyNTc4MSAxMzguODY3MTg4IFogTSAxNjAuNzE0ODQ0IDEzOC44NjcxODggIi8+CjxwYXRoIHN0eWxlPSIgc3Ryb2tlOm5vbmU7ZmlsbC1ydWxlOm5vbnplcm87ZmlsbDpyZ2IoMTAwJSwxMDAlLDEwMCUpO2ZpbGwtb3BhY2l0eToxOyIgZD0iTSAxNzUuNzE0ODQ0IDEzNS4xNTIzNDQgTCAxNzMuNTcwMzEyIDEzMS40NDE0MDYgTCAxNzEuNDI1NzgxIDEzNS4xNTIzNDQgWiBNIDE3NS43MTQ4NDQgMTM1LjE1MjM0NCAiLz4KPHBhdGggc3R5bGU9IiBzdHJva2U6bm9uZTtmaWxsLXJ1bGU6bm9uemVybztmaWxsOnJnYigxMDAlLDEwMCUsMTAwJSk7ZmlsbC1vcGFjaXR5OjE7IiBkPSJNIDE3MS40Mjk2ODggMTM1LjE1MjM0NCBMIDE2OS4yODUxNTYgMTMxLjQ0MTQwNiBMIDE2Ny4xNDA2MjUgMTM1LjE1MjM0NCBaIE0gMTcxLjQyOTY4OCAxMzUuMTUyMzQ0ICIvPgo8cGF0aCBzdHlsZT0iIHN0cm9rZTpub25lO2ZpbGwtcnVsZTpub256ZXJvO2ZpbGw6cmdiKDEwMCUsMTAwJSwxMDAlKTtmaWxsLW9wYWNpdHk6MTsiIGQ9Ik0gMTczLjU3MDMxMiAxMzEuNDQxNDA2IEwgMTcxLjQyNTc4MSAxMjcuNzMwNDY5IEwgMTY5LjI4MTI1IDEzMS40NDE0MDYgWiBNIDE3My41NzAzMTIgMTMxLjQ0MTQwNiAiLz4KPHBhdGggc3R5bGU9IiBzdHJva2U6bm9uZTtmaWxsLXJ1bGU6bm9uemVybztmaWxsOnJnYigxMDAlLDEwMCUsMTAwJSk7ZmlsbC1vcGFjaXR5OjE7IiBkPSJNIDE2Ny4xNDQ1MzEgMTM1LjE1MjM0NCBMIDE2NSAxMzEuNDQxNDA2IEwgMTYyLjg1NTQ2OSAxMzUuMTUyMzQ0IFogTSAxNjcuMTQ0NTMxIDEzNS4xNTIzNDQgIi8+CjxwYXRoIHN0eWxlPSIgc3Ryb2tlOm5vbmU7ZmlsbC1ydWxlOm5vbnplcm87ZmlsbDpyZ2IoMTAwJSwxMDAlLDEwMCUpO2ZpbGwtb3BhY2l0eToxOyIgZD0iTSAxNjIuODU1NDY5IDEzNS4xNTIzNDQgTCAxNjAuNzEwOTM4IDEzMS40NDE0MDYgTCAxNTguNTY2NDA2IDEzNS4xNTIzNDQgWiBNIDE2Mi44NTU0NjkgMTM1LjE1MjM0NCAiLz4KPHBhdGggc3R5bGU9IiBzdHJva2U6bm9uZTtmaWxsLXJ1bGU6bm9uemVybztmaWxsOnJnYigxMDAlLDEwMCUsMTAwJSk7ZmlsbC1vcGFjaXR5OjE7IiBkPSJNIDE2NSAxMzEuNDQxNDA2IEwgMTYyLjg1NTQ2OSAxMjcuNzMwNDY5IEwgMTYwLjcxMDkzOCAxMzEuNDQxNDA2IFogTSAxNjUgMTMxLjQ0MTQwNiAiLz4KPHBhdGggc3R5bGU9IiBzdHJva2U6bm9uZTtmaWxsLXJ1bGU6bm9uemVybztmaWxsOnJnYigxMDAlLDEwMCUsMTAwJSk7ZmlsbC1vcGFjaXR5OjE7IiBkPSJNIDE3MS40Mjk2ODggMTI3LjczMDQ2OSBMIDE2OS4yODUxNTYgMTI0LjAxOTUzMSBMIDE2Ny4xNDA2MjUgMTI3LjczMDQ2OSBaIE0gMTcxLjQyOTY4OCAxMjcuNzMwNDY5ICIvPgo8cGF0aCBzdHlsZT0iIHN0cm9rZTpub25lO2ZpbGwtcnVsZTpub256ZXJvO2ZpbGw6cmdiKDEwMCUsMTAwJSwxMDAlKTtmaWxsLW9wYWNpdHk6MTsiIGQ9Ik0gMTY3LjE0NDUzMSAxMjcuNzMwNDY5IEwgMTY1IDEyNC4wMTk1MzEgTCAxNjIuODU1NDY5IDEyNy43MzA0NjkgWiBNIDE2Ny4xNDQ1MzEgMTI3LjczMDQ2OSAiLz4KPHBhdGggc3R5bGU9IiBzdHJva2U6bm9uZTtmaWxsLXJ1bGU6bm9uemVybztmaWxsOnJnYigxMDAlLDEwMCUsMTAwJSk7ZmlsbC1vcGFjaXR5OjE7IiBkPSJNIDE2OS4yODUxNTYgMTI0LjAxOTUzMSBMIDE2Ny4xNDA2MjUgMTIwLjMwODU5NCBMIDE2NC45OTYwOTQgMTI0LjAxOTUzMSBaIE0gMTY5LjI4NTE1NiAxMjQuMDE5NTMxICIvPgo8cGF0aCBzdHlsZT0iIHN0cm9rZTpub25lO2ZpbGwtcnVsZTpub256ZXJvO2ZpbGw6cmdiKDEwMCUsMTAwJSwxMDAlKTtmaWxsLW9wYWNpdHk6MTsiIGQ9Ik0gMjAxLjQyOTY4OCAxMjAuMzA4NTk0IEwgMTk5LjI4NTE1NiAxMTYuNTk3NjU2IEwgMTk3LjE0MDYyNSAxMjAuMzA4NTk0IFogTSAyMDEuNDI5Njg4IDEyMC4zMDg1OTQgIi8+CjxwYXRoIHN0eWxlPSIgc3Ryb2tlOm5vbmU7ZmlsbC1ydWxlOm5vbnplcm87ZmlsbDpyZ2IoMTAwJSwxMDAlLDEwMCUpO2ZpbGwtb3BhY2l0eToxOyIgZD0iTSAxOTcuMTQ0NTMxIDEyMC4zMDg1OTQgTCAxOTUgMTE2LjU5NzY1NiBMIDE5Mi44NTU0NjkgMTIwLjMwODU5NCBaIE0gMTk3LjE0NDUzMSAxMjAuMzA4NTk0ICIvPgo8cGF0aCBzdHlsZT0iIHN0cm9rZTpub25lO2ZpbGwtcnVsZTpub256ZXJvO2ZpbGw6cmdiKDEwMCUsMTAwJSwxMDAlKTtmaWxsLW9wYWNpdHk6MTsiIGQ9Ik0gMTk5LjI4NTE1NiAxMTYuNTk3NjU2IEwgMTk3LjE0MDYyNSAxMTIuODg2NzE5IEwgMTk0Ljk5NjA5NCAxMTYuNTk3NjU2IFogTSAxOTkuMjg1MTU2IDExNi41OTc2NTYgIi8+CjxwYXRoIHN0eWxlPSIgc3Ryb2tlOm5vbmU7ZmlsbC1ydWxlOm5vbnplcm87ZmlsbDpyZ2IoMTAwJSwxMDAlLDEwMCUpO2ZpbGwtb3BhY2l0eToxOyIgZD0iTSAxOTIuODU1NDY5IDEyMC4zMDg1OTQgTCAxOTAuNzEwOTM4IDExNi41OTc2NTYgTCAxODguNTY2NDA2IDEyMC4zMDg1OTQgWiBNIDE5Mi44NTU0NjkgMTIwLjMwODU5NCAiLz4KPHBhdGggc3R5bGU9IiBzdHJva2U6bm9uZTtmaWxsLXJ1bGU6bm9uemVybztmaWxsOnJnYigxMDAlLDEwMCUsMTAwJSk7ZmlsbC1vcGFjaXR5OjE7IiBkPSJNIDE4OC41NzAzMTIgMTIwLjMwODU5NCBMIDE4Ni40MjU3ODEgMTE2LjU5NzY1NiBMIDE4NC4yODEyNSAxMjAuMzA4NTk0IFogTSAxODguNTcwMzEyIDEyMC4zMDg1OTQgIi8+CjxwYXRoIHN0eWxlPSIgc3Ryb2tlOm5vbmU7ZmlsbC1ydWxlOm5vbnplcm87ZmlsbDpyZ2IoMTAwJSwxMDAlLDEwMCUpO2ZpbGwtb3BhY2l0eToxOyIgZD0iTSAxOTAuNzE0ODQ0IDExNi41OTc2NTYgTCAxODguNTcwMzEyIDExMi44ODY3MTkgTCAxODYuNDI1NzgxIDExNi41OTc2NTYgWiBNIDE5MC43MTQ4NDQgMTE2LjU5NzY1NiAiLz4KPHBhdGggc3R5bGU9IiBzdHJva2U6bm9uZTtmaWxsLXJ1bGU6bm9uemVybztmaWxsOnJnYigxMDAlLDEwMCUsMTAwJSk7ZmlsbC1vcGFjaXR5OjE7IiBkPSJNIDE5Ny4xNDQ1MzEgMTEyLjg4MjgxMiBMIDE5NSAxMDkuMTcxODc1IEwgMTkyLjg1NTQ2OSAxMTIuODgyODEyIFogTSAxOTcuMTQ0NTMxIDExMi44ODI4MTIgIi8+CjxwYXRoIHN0eWxlPSIgc3Ryb2tlOm5vbmU7ZmlsbC1ydWxlOm5vbnplcm87ZmlsbDpyZ2IoMTAwJSwxMDAlLDEwMCUpO2ZpbGwtb3BhY2l0eToxOyIgZD0iTSAxOTIuODU1NDY5IDExMi44ODI4MTIgTCAxOTAuNzEwOTM4IDEwOS4xNzE4NzUgTCAxODguNTY2NDA2IDExMi44ODI4MTIgWiBNIDE5Mi44NTU0NjkgMTEyLjg4MjgxMiAiLz4KPHBhdGggc3R5bGU9IiBzdHJva2U6bm9uZTtmaWxsLXJ1bGU6bm9uemVybztmaWxsOnJnYigxMDAlLDEwMCUsMTAwJSk7ZmlsbC1vcGFjaXR5OjE7IiBkPSJNIDE5NSAxMDkuMTcxODc1IEwgMTkyLjg1NTQ2OSAxMDUuNDYwOTM4IEwgMTkwLjcxMDkzOCAxMDkuMTcxODc1IFogTSAxOTUgMTA5LjE3MTg3NSAiLz4KPHBhdGggc3R5bGU9IiBzdHJva2U6bm9uZTtmaWxsLXJ1bGU6bm9uemVybztmaWxsOnJnYigxMDAlLDEwMCUsMTAwJSk7ZmlsbC1vcGFjaXR5OjE7IiBkPSJNIDE4NC4yODUxNTYgMTIwLjMwODU5NCBMIDE4Mi4xNDA2MjUgMTE2LjU5NzY1NiBMIDE3OS45OTYwOTQgMTIwLjMwODU5NCBaIE0gMTg0LjI4NTE1NiAxMjAuMzA4NTk0ICIvPgo8cGF0aCBzdHlsZT0iIHN0cm9rZTpub25lO2ZpbGwtcnVsZTpub256ZXJvO2ZpbGw6cmdiKDEwMCUsMTAwJSwxMDAlKTtmaWxsLW9wYWNpdHk6MTsiIGQ9Ik0gMTgwIDEyMC4zMDg1OTQgTCAxNzcuODU1NDY5IDExNi41OTc2NTYgTCAxNzUuNzEwOTM4IDEyMC4zMDg1OTQgWiBNIDE4MCAxMjAuMzA4NTk0ICIvPgo8cGF0aCBzdHlsZT0iIHN0cm9rZTpub25lO2ZpbGwtcnVsZTpub256ZXJvO2ZpbGw6cmdiKDEwMCUsMTAwJSwxMDAlKTtmaWxsLW9wYWNpdHk6MTsiIGQ9Ik0gMTgyLjE0NDUzMSAxMTYuNTk3NjU2IEwgMTgwIDExMi44ODY3MTkgTCAxNzcuODU1NDY5IDExNi41OTc2NTYgWiBNIDE4Mi4xNDQ1MzEgMTE2LjU5NzY1NiAiLz4KPHBhdGggc3R5bGU9IiBzdHJva2U6bm9uZTtmaWxsLXJ1bGU6bm9uemVybztmaWxsOnJnYigxMDAlLDEwMCUsMTAwJSk7ZmlsbC1vcGFjaXR5OjE7IiBkPSJNIDE3NS43MTQ4NDQgMTIwLjMwODU5NCBMIDE3My41NzAzMTIgMTE2LjU5NzY1NiBMIDE3MS40MjU3ODEgMTIwLjMwODU5NCBaIE0gMTc1LjcxNDg0NCAxMjAuMzA4NTk0ICIvPgo8cGF0aCBzdHlsZT0iIHN0cm9rZTpub25lO2ZpbGwtcnVsZTpub256ZXJvO2ZpbGw6cmdiKDEwMCUsMTAwJSwxMDAlKTtmaWxsLW9wYWNpdHk6MTsiIGQ9Ik0gMTcxLjQyOTY4OCAxMjAuMzA4NTk0IEwgMTY5LjI4NTE1NiAxMTYuNTk3NjU2IEwgMTY3LjE0MDYyNSAxMjAuMzA4NTk0IFogTSAxNzEuNDI5Njg4IDEyMC4zMDg1OTQgIi8+CjxwYXRoIHN0eWxlPSIgc3Ryb2tlOm5vbmU7ZmlsbC1ydWxlOm5vbnplcm87ZmlsbDpyZ2IoMTAwJSwxMDAlLDEwMCUpO2ZpbGwtb3BhY2l0eToxOyIgZD0iTSAxNzMuNTcwMzEyIDExNi41OTc2NTYgTCAxNzEuNDI1NzgxIDExMi44ODY3MTkgTCAxNjkuMjgxMjUgMTE2LjU5NzY1NiBaIE0gMTczLjU3MDMxMiAxMTYuNTk3NjU2ICIvPgo8cGF0aCBzdHlsZT0iIHN0cm9rZTpub25lO2ZpbGwtcnVsZTpub256ZXJvO2ZpbGw6cmdiKDEwMCUsMTAwJSwxMDAlKTtmaWxsLW9wYWNpdHk6MTsiIGQ9Ik0gMTgwIDExMi44ODI4MTIgTCAxNzcuODU1NDY5IDEwOS4xNzE4NzUgTCAxNzUuNzEwOTM4IDExMi44ODI4MTIgWiBNIDE4MCAxMTIuODgyODEyICIvPgo8cGF0aCBzdHlsZT0iIHN0cm9rZTpub25lO2ZpbGwtcnVsZTpub256ZXJvO2ZpbGw6cmdiKDEwMCUsMTAwJSwxMDAlKTtmaWxsLW9wYWNpdHk6MTsiIGQ9Ik0gMTc1LjcxNDg0NCAxMTIuODgyODEyIEwgMTczLjU3MDMxMiAxMDkuMTcxODc1IEwgMTcxLjQyNTc4MSAxMTIuODgyODEyIFogTSAxNzUuNzE0ODQ0IDExMi44ODI4MTIgIi8+CjxwYXRoIHN0eWxlPSIgc3Ryb2tlOm5vbmU7ZmlsbC1ydWxlOm5vbnplcm87ZmlsbDpyZ2IoMTAwJSwxMDAlLDEwMCUpO2ZpbGwtb3BhY2l0eToxOyIgZD0iTSAxNzcuODU1NDY5IDEwOS4xNzE4NzUgTCAxNzUuNzEwOTM4IDEwNS40NjA5MzggTCAxNzMuNTY2NDA2IDEwOS4xNzE4NzUgWiBNIDE3Ny44NTU0NjkgMTA5LjE3MTg3NSAiLz4KPHBhdGggc3R5bGU9IiBzdHJva2U6bm9uZTtmaWxsLXJ1bGU6bm9uemVybztmaWxsOnJnYigxMDAlLDEwMCUsMTAwJSk7ZmlsbC1vcGFjaXR5OjE7IiBkPSJNIDE5Mi44NTU0NjkgMTA1LjQ2MDkzOCBMIDE5MC43MTA5MzggMTAxLjc1IEwgMTg4LjU2NjQwNiAxMDUuNDYwOTM4IFogTSAxOTIuODU1NDY5IDEwNS40NjA5MzggIi8+CjxwYXRoIHN0eWxlPSIgc3Ryb2tlOm5vbmU7ZmlsbC1ydWxlOm5vbnplcm87ZmlsbDpyZ2IoMTAwJSwxMDAlLDEwMCUpO2ZpbGwtb3BhY2l0eToxOyIgZD0iTSAxODguNTcwMzEyIDEwNS40NjA5MzggTCAxODYuNDI1NzgxIDEwMS43NSBMIDE4NC4yODEyNSAxMDUuNDYwOTM4IFogTSAxODguNTcwMzEyIDEwNS40NjA5MzggIi8+CjxwYXRoIHN0eWxlPSIgc3Ryb2tlOm5vbmU7ZmlsbC1ydWxlOm5vbnplcm87ZmlsbDpyZ2IoMTAwJSwxMDAlLDEwMCUpO2ZpbGwtb3BhY2l0eToxOyIgZD0iTSAxOTAuNzE0ODQ0IDEwMS43NSBMIDE4OC41NzAzMTIgOTguMDM5MDYyIEwgMTg2LjQyNTc4MSAxMDEuNzUgWiBNIDE5MC43MTQ4NDQgMTAxLjc1ICIvPgo8cGF0aCBzdHlsZT0iIHN0cm9rZTpub25lO2ZpbGwtcnVsZTpub256ZXJvO2ZpbGw6cmdiKDEwMCUsMTAwJSwxMDAlKTtmaWxsLW9wYWNpdHk6MTsiIGQ9Ik0gMTg0LjI4NTE1NiAxMDUuNDYwOTM4IEwgMTgyLjE0MDYyNSAxMDEuNzUgTCAxNzkuOTk2MDk0IDEwNS40NjA5MzggWiBNIDE4NC4yODUxNTYgMTA1LjQ2MDkzOCAiLz4KPHBhdGggc3R5bGU9IiBzdHJva2U6bm9uZTtmaWxsLXJ1bGU6bm9uemVybztmaWxsOnJnYigxMDAlLDEwMCUsMTAwJSk7ZmlsbC1vcGFjaXR5OjE7IiBkPSJNIDE4MCAxMDUuNDYwOTM4IEwgMTc3Ljg1NTQ2OSAxMDEuNzUgTCAxNzUuNzEwOTM4IDEwNS40NjA5MzggWiBNIDE4MCAxMDUuNDYwOTM4ICIvPgo8cGF0aCBzdHlsZT0iIHN0cm9rZTpub25lO2ZpbGwtcnVsZTpub256ZXJvO2ZpbGw6cmdiKDEwMCUsMTAwJSwxMDAlKTtmaWxsLW9wYWNpdHk6MTsiIGQ9Ik0gMTgyLjE0NDUzMSAxMDEuNzUgTCAxODAgOTguMDM5MDYyIEwgMTc3Ljg1NTQ2OSAxMDEuNzUgWiBNIDE4Mi4xNDQ1MzEgMTAxLjc1ICIvPgo8cGF0aCBzdHlsZT0iIHN0cm9rZTpub25lO2ZpbGwtcnVsZTpub256ZXJvO2ZpbGw6cmdiKDEwMCUsMTAwJSwxMDAlKTtmaWxsLW9wYWNpdHk6MTsiIGQ9Ik0gMTg4LjU3MDMxMiA5OC4wMzkwNjIgTCAxODYuNDI1NzgxIDk0LjMyODEyNSBMIDE4NC4yODEyNSA5OC4wMzkwNjIgWiBNIDE4OC41NzAzMTIgOTguMDM5MDYyICIvPgo8cGF0aCBzdHlsZT0iIHN0cm9rZTpub25lO2ZpbGwtcnVsZTpub256ZXJvO2ZpbGw6cmdiKDEwMCUsMTAwJSwxMDAlKTtmaWxsLW9wYWNpdHk6MTsiIGQ9Ik0gMTg0LjI4NTE1NiA5OC4wMzkwNjIgTCAxODIuMTQwNjI1IDk0LjMyODEyNSBMIDE3OS45OTYwOTQgOTguMDM5MDYyIFogTSAxODQuMjg1MTU2IDk4LjAzOTA2MiAiLz4KPHBhdGggc3R5bGU9IiBzdHJva2U6bm9uZTtmaWxsLXJ1bGU6bm9uemVybztmaWxsOnJnYigxMDAlLDEwMCUsMTAwJSk7ZmlsbC1vcGFjaXR5OjE7IiBkPSJNIDE4Ni40Mjk2ODggOTQuMzI4MTI1IEwgMTg0LjI4NTE1NiA5MC42MTcxODggTCAxODIuMTQwNjI1IDk0LjMyODEyNSBaIE0gMTg2LjQyOTY4OCA5NC4zMjgxMjUgIi8+CjxwYXRoIHN0eWxlPSIgc3Ryb2tlOm5vbmU7ZmlsbC1ydWxlOm5vbnplcm87ZmlsbDpyZ2IoMTAwJSwxMDAlLDEwMCUpO2ZpbGwtb3BhY2l0eToxOyIgZD0iTSAxNTAgMTUwIEwgMTQ3Ljg1NTQ2OSAxNDYuMjg5MDYyIEwgMTQ1LjcxMDkzOCAxNTAgWiBNIDE1MCAxNTAgIi8+CjxwYXRoIHN0eWxlPSIgc3Ryb2tlOm5vbmU7ZmlsbC1ydWxlOm5vbnplcm87ZmlsbDpyZ2IoMTAwJSwxMDAlLDEwMCUpO2ZpbGwtb3BhY2l0eToxOyIgZD0iTSAxNDUuNzE0ODQ0IDE1MCBMIDE0My41NzAzMTIgMTQ2LjI4OTA2MiBMIDE0MS40MjU3ODEgMTUwIFogTSAxNDUuNzE0ODQ0IDE1MCAiLz4KPHBhdGggc3R5bGU9IiBzdHJva2U6bm9uZTtmaWxsLXJ1bGU6bm9uemVybztmaWxsOnJnYigxMDAlLDEwMCUsMTAwJSk7ZmlsbC1vcGFjaXR5OjE7IiBkPSJNIDE0Ny44NTU0NjkgMTQ2LjI4OTA2MiBMIDE0NS43MTA5MzggMTQyLjU3ODEyNSBMIDE0My41NjY0MDYgMTQ2LjI4OTA2MiBaIE0gMTQ3Ljg1NTQ2OSAxNDYuMjg5MDYyICIvPgo8cGF0aCBzdHlsZT0iIHN0cm9rZTpub25lO2ZpbGwtcnVsZTpub256ZXJvO2ZpbGw6cmdiKDEwMCUsMTAwJSwxMDAlKTtmaWxsLW9wYWNpdHk6MTsiIGQ9Ik0gMTQxLjQyOTY4OCAxNTAgTCAxMzkuMjg1MTU2IDE0Ni4yODkwNjIgTCAxMzcuMTQwNjI1IDE1MCBaIE0gMTQxLjQyOTY4OCAxNTAgIi8+CjxwYXRoIHN0eWxlPSIgc3Ryb2tlOm5vbmU7ZmlsbC1ydWxlOm5vbnplcm87ZmlsbDpyZ2IoMTAwJSwxMDAlLDEwMCUpO2ZpbGwtb3BhY2l0eToxOyIgZD0iTSAxMzcuMTQ0NTMxIDE1MCBMIDEzNSAxNDYuMjg5MDYyIEwgMTMyLjg1NTQ2OSAxNTAgWiBNIDEzNy4xNDQ1MzEgMTUwICIvPgo8cGF0aCBzdHlsZT0iIHN0cm9rZTpub25lO2ZpbGwtcnVsZTpub256ZXJvO2ZpbGw6cmdiKDEwMCUsMTAwJSwxMDAlKTtmaWxsLW9wYWNpdHk6MTsiIGQ9Ik0gMTM5LjI4NTE1NiAxNDYuMjg5MDYyIEwgMTM3LjE0MDYyNSAxNDIuNTc4MTI1IEwgMTM0Ljk5NjA5NCAxNDYuMjg5MDYyIFogTSAxMzkuMjg1MTU2IDE0Ni4yODkwNjIgIi8+CjxwYXRoIHN0eWxlPSIgc3Ryb2tlOm5vbmU7ZmlsbC1ydWxlOm5vbnplcm87ZmlsbDpyZ2IoMTAwJSwxMDAlLDEwMCUpO2ZpbGwtb3BhY2l0eToxOyIgZD0iTSAxNDUuNzE0ODQ0IDE0Mi41NzgxMjUgTCAxNDMuNTcwMzEyIDEzOC44NjcxODggTCAxNDEuNDI1NzgxIDE0Mi41NzgxMjUgWiBNIDE0NS43MTQ4NDQgMTQyLjU3ODEyNSAiLz4KPHBhdGggc3R5bGU9IiBzdHJva2U6bm9uZTtmaWxsLXJ1bGU6bm9uemVybztmaWxsOnJnYigxMDAlLDEwMCUsMTAwJSk7ZmlsbC1vcGFjaXR5OjE7IiBkPSJNIDE0MS40Mjk2ODggMTQyLjU3ODEyNSBMIDEzOS4yODUxNTYgMTM4Ljg2NzE4OCBMIDEzNy4xNDA2MjUgMTQyLjU3ODEyNSBaIE0gMTQxLjQyOTY4OCAxNDIuNTc4MTI1ICIvPgo8cGF0aCBzdHlsZT0iIHN0cm9rZTpub25lO2ZpbGwtcnVsZTpub256ZXJvO2ZpbGw6cmdiKDEwMCUsMTAwJSwxMDAlKTtmaWxsLW9wYWNpdHk6MTsiIGQ9Ik0gMTQzLjU3MDMxMiAxMzguODY3MTg4IEwgMTQxLjQyNTc4MSAxMzUuMTU2MjUgTCAxMzkuMjgxMjUgMTM4Ljg2NzE4OCBaIE0gMTQzLjU3MDMxMiAxMzguODY3MTg4ICIvPgo8cGF0aCBzdHlsZT0iIHN0cm9rZTpub25lO2ZpbGwtcnVsZTpub256ZXJvO2ZpbGw6cmdiKDEwMCUsMTAwJSwxMDAlKTtmaWxsLW9wYWNpdHk6MTsiIGQ9Ik0gMTMyLjg1NTQ2OSAxNTAgTCAxMzAuNzEwOTM4IDE0Ni4yODkwNjIgTCAxMjguNTY2NDA2IDE1MCBaIE0gMTMyLjg1NTQ2OSAxNTAgIi8+CjxwYXRoIHN0eWxlPSIgc3Ryb2tlOm5vbmU7ZmlsbC1ydWxlOm5vbnplcm87ZmlsbDpyZ2IoMTAwJSwxMDAlLDEwMCUpO2ZpbGwtb3BhY2l0eToxOyIgZD0iTSAxMjguNTcwMzEyIDE1MCBMIDEyNi40MjU3ODEgMTQ2LjI4OTA2MiBMIDEyNC4yODEyNSAxNTAgWiBNIDEyOC41NzAzMTIgMTUwICIvPgo8cGF0aCBzdHlsZT0iIHN0cm9rZTpub25lO2ZpbGwtcnVsZTpub256ZXJvO2ZpbGw6cmdiKDEwMCUsMTAwJSwxMDAlKTtmaWxsLW9wYWNpdHk6MTsiIGQ9Ik0gMTMwLjcxNDg0NCAxNDYuMjg5MDYyIEwgMTI4LjU3MDMxMiAxNDIuNTc4MTI1IEwgMTI2LjQyNTc4MSAxNDYuMjg5MDYyIFogTSAxMzAuNzE0ODQ0IDE0Ni4yODkwNjIgIi8+CjxwYXRoIHN0eWxlPSIgc3Ryb2tlOm5vbmU7ZmlsbC1ydWxlOm5vbnplcm87ZmlsbDpyZ2IoMTAwJSwxMDAlLDEwMCUpO2ZpbGwtb3BhY2l0eToxOyIgZD0iTSAxMjQuMjg1MTU2IDE1MCBMIDEyMi4xNDA2MjUgMTQ2LjI4OTA2MiBMIDExOS45OTYwOTQgMTUwIFogTSAxMjQuMjg1MTU2IDE1MCAiLz4KPHBhdGggc3R5bGU9IiBzdHJva2U6bm9uZTtmaWxsLXJ1bGU6bm9uemVybztmaWxsOnJnYigxMDAlLDEwMCUsMTAwJSk7ZmlsbC1vcGFjaXR5OjE7IiBkPSJNIDEyMCAxNTAgTCAxMTcuODU1NDY5IDE0Ni4yODkwNjIgTCAxMTUuNzEwOTM4IDE1MCBaIE0gMTIwIDE1MCAiLz4KPHBhdGggc3R5bGU9IiBzdHJva2U6bm9uZTtmaWxsLXJ1bGU6bm9uemVybztmaWxsOnJnYigxMDAlLDEwMCUsMTAwJSk7ZmlsbC1vcGFjaXR5OjE7IiBkPSJNIDEyMi4xNDQ1MzEgMTQ2LjI4OTA2MiBMIDEyMCAxNDIuNTc4MTI1IEwgMTE3Ljg1NTQ2OSAxNDYuMjg5MDYyIFogTSAxMjIuMTQ0NTMxIDE0Ni4yODkwNjIgIi8+CjxwYXRoIHN0eWxlPSIgc3Ryb2tlOm5vbmU7ZmlsbC1ydWxlOm5vbnplcm87ZmlsbDpyZ2IoMTAwJSwxMDAlLDEwMCUpO2ZpbGwtb3BhY2l0eToxOyIgZD0iTSAxMjguNTcwMzEyIDE0Mi41NzgxMjUgTCAxMjYuNDI1NzgxIDEzOC44NjcxODggTCAxMjQuMjgxMjUgMTQyLjU3ODEyNSBaIE0gMTI4LjU3MDMxMiAxNDIuNTc4MTI1ICIvPgo8cGF0aCBzdHlsZT0iIHN0cm9rZTpub25lO2ZpbGwtcnVsZTpub256ZXJvO2ZpbGw6cmdiKDEwMCUsMTAwJSwxMDAlKTtmaWxsLW9wYWNpdHk6MTsiIGQ9Ik0gMTI0LjI4NTE1NiAxNDIuNTc4MTI1IEwgMTIyLjE0MDYyNSAxMzguODY3MTg4IEwgMTE5Ljk5NjA5NCAxNDIuNTc4MTI1IFogTSAxMjQuMjg1MTU2IDE0Mi41NzgxMjUgIi8+CjxwYXRoIHN0eWxlPSIgc3Ryb2tlOm5vbmU7ZmlsbC1ydWxlOm5vbnplcm87ZmlsbDpyZ2IoMTAwJSwxMDAlLDEwMCUpO2ZpbGwtb3BhY2l0eToxOyIgZD0iTSAxMjYuNDI5Njg4IDEzOC44NjcxODggTCAxMjQuMjg1MTU2IDEzNS4xNTYyNSBMIDEyMi4xNDA2MjUgMTM4Ljg2NzE4OCBaIE0gMTI2LjQyOTY4OCAxMzguODY3MTg4ICIvPgo8cGF0aCBzdHlsZT0iIHN0cm9rZTpub25lO2ZpbGwtcnVsZTpub256ZXJvO2ZpbGw6cmdiKDEwMCUsMTAwJSwxMDAlKTtmaWxsLW9wYWNpdHk6MTsiIGQ9Ik0gMTQxLjQyOTY4OCAxMzUuMTUyMzQ0IEwgMTM5LjI4NTE1NiAxMzEuNDQxNDA2IEwgMTM3LjE0MDYyNSAxMzUuMTUyMzQ0IFogTSAxNDEuNDI5Njg4IDEzNS4xNTIzNDQgIi8+CjxwYXRoIHN0eWxlPSIgc3Ryb2tlOm5vbmU7ZmlsbC1ydWxlOm5vbnplcm87ZmlsbDpyZ2IoMTAwJSwxMDAlLDEwMCUpO2ZpbGwtb3BhY2l0eToxOyIgZD0iTSAxMzcuMTQ0NTMxIDEzNS4xNTIzNDQgTCAxMzUgMTMxLjQ0MTQwNiBMIDEzMi44NTU0NjkgMTM1LjE1MjM0NCBaIE0gMTM3LjE0NDUzMSAxMzUuMTUyMzQ0ICIvPgo8cGF0aCBzdHlsZT0iIHN0cm9rZTpub25lO2ZpbGwtcnVsZTpub256ZXJvO2ZpbGw6cmdiKDEwMCUsMTAwJSwxMDAlKTtmaWxsLW9wYWNpdHk6MTsiIGQ9Ik0gMTM5LjI4NTE1NiAxMzEuNDQxNDA2IEwgMTM3LjE0MDYyNSAxMjcuNzMwNDY5IEwgMTM0Ljk5NjA5NCAxMzEuNDQxNDA2IFogTSAxMzkuMjg1MTU2IDEzMS40NDE0MDYgIi8+CjxwYXRoIHN0eWxlPSIgc3Ryb2tlOm5vbmU7ZmlsbC1ydWxlOm5vbnplcm87ZmlsbDpyZ2IoMTAwJSwxMDAlLDEwMCUpO2ZpbGwtb3BhY2l0eToxOyIgZD0iTSAxMzIuODU1NDY5IDEzNS4xNTIzNDQgTCAxMzAuNzEwOTM4IDEzMS40NDE0MDYgTCAxMjguNTY2NDA2IDEzNS4xNTIzNDQgWiBNIDEzMi44NTU0NjkgMTM1LjE1MjM0NCAiLz4KPHBhdGggc3R5bGU9IiBzdHJva2U6bm9uZTtmaWxsLXJ1bGU6bm9uemVybztmaWxsOnJnYigxMDAlLDEwMCUsMTAwJSk7ZmlsbC1vcGFjaXR5OjE7IiBkPSJNIDEyOC41NzAzMTIgMTM1LjE1MjM0NCBMIDEyNi40MjU3ODEgMTMxLjQ0MTQwNiBMIDEyNC4yODEyNSAxMzUuMTUyMzQ0IFogTSAxMjguNTcwMzEyIDEzNS4xNTIzNDQgIi8+CjxwYXRoIHN0eWxlPSIgc3Ryb2tlOm5vbmU7ZmlsbC1ydWxlOm5vbnplcm87ZmlsbDpyZ2IoMTAwJSwxMDAlLDEwMCUpO2ZpbGwtb3BhY2l0eToxOyIgZD0iTSAxMzAuNzE0ODQ0IDEzMS40NDE0MDYgTCAxMjguNTcwMzEyIDEyNy43MzA0NjkgTCAxMjYuNDI1NzgxIDEzMS40NDE0MDYgWiBNIDEzMC43MTQ4NDQgMTMxLjQ0MTQwNiAiLz4KPHBhdGggc3R5bGU9IiBzdHJva2U6bm9uZTtmaWxsLXJ1bGU6bm9uemVybztmaWxsOnJnYigxMDAlLDEwMCUsMTAwJSk7ZmlsbC1vcGFjaXR5OjE7IiBkPSJNIDEzNy4xNDQ1MzEgMTI3LjczMDQ2OSBMIDEzNSAxMjQuMDE5NTMxIEwgMTMyLjg1NTQ2OSAxMjcuNzMwNDY5IFogTSAxMzcuMTQ0NTMxIDEyNy43MzA0NjkgIi8+CjxwYXRoIHN0eWxlPSIgc3Ryb2tlOm5vbmU7ZmlsbC1ydWxlOm5vbnplcm87ZmlsbDpyZ2IoMTAwJSwxMDAlLDEwMCUpO2ZpbGwtb3BhY2l0eToxOyIgZD0iTSAxMzIuODU1NDY5IDEyNy43MzA0NjkgTCAxMzAuNzEwOTM4IDEyNC4wMTk1MzEgTCAxMjguNTY2NDA2IDEyNy43MzA0NjkgWiBNIDEzMi44NTU0NjkgMTI3LjczMDQ2OSAiLz4KPHBhdGggc3R5bGU9IiBzdHJva2U6bm9uZTtmaWxsLXJ1bGU6bm9uemVybztmaWxsOnJnYigxMDAlLDEwMCUsMTAwJSk7ZmlsbC1vcGFjaXR5OjE7IiBkPSJNIDEzNSAxMjQuMDE5NTMxIEwgMTMyLjg1NTQ2OSAxMjAuMzA4NTk0IEwgMTMwLjcxMDkzOCAxMjQuMDE5NTMxIFogTSAxMzUgMTI0LjAxOTUzMSAiLz4KPHBhdGggc3R5bGU9IiBzdHJva2U6bm9uZTtmaWxsLXJ1bGU6bm9uemVybztmaWxsOnJnYigxMDAlLDEwMCUsMTAwJSk7ZmlsbC1vcGFjaXR5OjE7IiBkPSJNIDExNS43MTQ4NDQgMTUwIEwgMTEzLjU3MDMxMiAxNDYuMjg5MDYyIEwgMTExLjQyNTc4MSAxNTAgWiBNIDExNS43MTQ4NDQgMTUwICIvPgo8cGF0aCBzdHlsZT0iIHN0cm9rZTpub25lO2ZpbGwtcnVsZTpub256ZXJvO2ZpbGw6cmdiKDEwMCUsMTAwJSwxMDAlKTtmaWxsLW9wYWNpdHk6MTsiIGQ9Ik0gMTExLjQyOTY4OCAxNTAgTCAxMDkuMjg1MTU2IDE0Ni4yODkwNjIgTCAxMDcuMTQwNjI1IDE1MCBaIE0gMTExLjQyOTY4OCAxNTAgIi8+CjxwYXRoIHN0eWxlPSIgc3Ryb2tlOm5vbmU7ZmlsbC1ydWxlOm5vbnplcm87ZmlsbDpyZ2IoMTAwJSwxMDAlLDEwMCUpO2ZpbGwtb3BhY2l0eToxOyIgZD0iTSAxMTMuNTcwMzEyIDE0Ni4yODkwNjIgTCAxMTEuNDI1NzgxIDE0Mi41NzgxMjUgTCAxMDkuMjgxMjUgMTQ2LjI4OTA2MiBaIE0gMTEzLjU3MDMxMiAxNDYuMjg5MDYyICIvPgo8cGF0aCBzdHlsZT0iIHN0cm9rZTpub25lO2ZpbGwtcnVsZTpub256ZXJvO2ZpbGw6cmdiKDEwMCUsMTAwJSwxMDAlKTtmaWxsLW9wYWNpdHk6MTsiIGQ9Ik0gMTA3LjE0NDUzMSAxNTAgTCAxMDUgMTQ2LjI4OTA2MiBMIDEwMi44NTU0NjkgMTUwIFogTSAxMDcuMTQ0NTMxIDE1MCAiLz4KPHBhdGggc3R5bGU9IiBzdHJva2U6bm9uZTtmaWxsLXJ1bGU6bm9uemVybztmaWxsOnJnYigxMDAlLDEwMCUsMTAwJSk7ZmlsbC1vcGFjaXR5OjE7IiBkPSJNIDEwMi44NTU0NjkgMTUwIEwgMTAwLjcxMDkzOCAxNDYuMjg5MDYyIEwgOTguNTY2NDA2IDE1MCBaIE0gMTAyLjg1NTQ2OSAxNTAgIi8+CjxwYXRoIHN0eWxlPSIgc3Ryb2tlOm5vbmU7ZmlsbC1ydWxlOm5vbnplcm87ZmlsbDpyZ2IoMTAwJSwxMDAlLDEwMCUpO2ZpbGwtb3BhY2l0eToxOyIgZD0iTSAxMDUgMTQ2LjI4OTA2MiBMIDEwMi44NTU0NjkgMTQyLjU3ODEyNSBMIDEwMC43MTA5MzggMTQ2LjI4OTA2MiBaIE0gMTA1IDE0Ni4yODkwNjIgIi8+CjxwYXRoIHN0eWxlPSIgc3Ryb2tlOm5vbmU7ZmlsbC1ydWxlOm5vbnplcm87ZmlsbDpyZ2IoMTAwJSwxMDAlLDEwMCUpO2ZpbGwtb3BhY2l0eToxOyIgZD0iTSAxMTEuNDI5Njg4IDE0Mi41NzgxMjUgTCAxMDkuMjg1MTU2IDEzOC44NjcxODggTCAxMDcuMTQwNjI1IDE0Mi41NzgxMjUgWiBNIDExMS40Mjk2ODggMTQyLjU3ODEyNSAiLz4KPHBhdGggc3R5bGU9IiBzdHJva2U6bm9uZTtmaWxsLXJ1bGU6bm9uemVybztmaWxsOnJnYigxMDAlLDEwMCUsMTAwJSk7ZmlsbC1vcGFjaXR5OjE7IiBkPSJNIDEwNy4xNDQ1MzEgMTQyLjU3ODEyNSBMIDEwNSAxMzguODY3MTg4IEwgMTAyLjg1NTQ2OSAxNDIuNTc4MTI1IFogTSAxMDcuMTQ0NTMxIDE0Mi41NzgxMjUgIi8+CjxwYXRoIHN0eWxlPSIgc3Ryb2tlOm5vbmU7ZmlsbC1ydWxlOm5vbnplcm87ZmlsbDpyZ2IoMTAwJSwxMDAlLDEwMCUpO2ZpbGwtb3BhY2l0eToxOyIgZD0iTSAxMDkuMjg1MTU2IDEzOC44NjcxODggTCAxMDcuMTQwNjI1IDEzNS4xNTYyNSBMIDEwNC45OTYwOTQgMTM4Ljg2NzE4OCBaIE0gMTA5LjI4NTE1NiAxMzguODY3MTg4ICIvPgo8cGF0aCBzdHlsZT0iIHN0cm9rZTpub25lO2ZpbGwtcnVsZTpub256ZXJvO2ZpbGw6cmdiKDEwMCUsMTAwJSwxMDAlKTtmaWxsLW9wYWNpdHk6MTsiIGQ9Ik0gOTguNTcwMzEyIDE1MCBMIDk2LjQyNTc4MSAxNDYuMjg5MDYyIEwgOTQuMjgxMjUgMTUwIFogTSA5OC41NzAzMTIgMTUwICIvPgo8cGF0aCBzdHlsZT0iIHN0cm9rZTpub25lO2ZpbGwtcnVsZTpub256ZXJvO2ZpbGw6cmdiKDEwMCUsMTAwJSwxMDAlKTtmaWxsLW9wYWNpdHk6MTsiIGQ9Ik0gOTQuMjg1MTU2IDE1MCBMIDkyLjE0MDYyNSAxNDYuMjg5MDYyIEwgODkuOTk2MDk0IDE1MCBaIE0gOTQuMjg1MTU2IDE1MCAiLz4KPHBhdGggc3R5bGU9IiBzdHJva2U6bm9uZTtmaWxsLXJ1bGU6bm9uemVybztmaWxsOnJnYigxMDAlLDEwMCUsMTAwJSk7ZmlsbC1vcGFjaXR5OjE7IiBkPSJNIDk2LjQyOTY4OCAxNDYuMjg5MDYyIEwgOTQuMjg1MTU2IDE0Mi41NzgxMjUgTCA5Mi4xNDA2MjUgMTQ2LjI4OTA2MiBaIE0gOTYuNDI5Njg4IDE0Ni4yODkwNjIgIi8+CjxwYXRoIHN0eWxlPSIgc3Ryb2tlOm5vbmU7ZmlsbC1ydWxlOm5vbnplcm87ZmlsbDpyZ2IoMTAwJSwxMDAlLDEwMCUpO2ZpbGwtb3BhY2l0eToxOyIgZD0iTSA5MCAxNTAgTCA4Ny44NTU0NjkgMTQ2LjI4OTA2MiBMIDg1LjcxMDkzOCAxNTAgWiBNIDkwIDE1MCAiLz4KPHBhdGggc3R5bGU9IiBzdHJva2U6bm9uZTtmaWxsLXJ1bGU6bm9uemVybztmaWxsOnJnYigxMDAlLDEwMCUsMTAwJSk7ZmlsbC1vcGFjaXR5OjE7IiBkPSJNIDg1LjcxNDg0NCAxNTAgTCA4My41NzAzMTIgMTQ2LjI4OTA2MiBMIDgxLjQyNTc4MSAxNTAgWiBNIDg1LjcxNDg0NCAxNTAgIi8+CjxwYXRoIHN0eWxlPSIgc3Ryb2tlOm5vbmU7ZmlsbC1ydWxlOm5vbnplcm87ZmlsbDpyZ2IoMTAwJSwxMDAlLDEwMCUpO2ZpbGwtb3BhY2l0eToxOyIgZD0iTSA4Ny44NTU0NjkgMTQ2LjI4OTA2MiBMIDg1LjcxMDkzOCAxNDIuNTc4MTI1IEwgODMuNTY2NDA2IDE0Ni4yODkwNjIgWiBNIDg3Ljg1NTQ2OSAxNDYuMjg5MDYyICIvPgo8cGF0aCBzdHlsZT0iIHN0cm9rZTpub25lO2ZpbGwtcnVsZTpub256ZXJvO2ZpbGw6cmdiKDEwMCUsMTAwJSwxMDAlKTtmaWxsLW9wYWNpdHk6MTsiIGQ9Ik0gOTQuMjg1MTU2IDE0Mi41NzgxMjUgTCA5Mi4xNDA2MjUgMTM4Ljg2NzE4OCBMIDg5Ljk5NjA5NCAxNDIuNTc4MTI1IFogTSA5NC4yODUxNTYgMTQyLjU3ODEyNSAiLz4KPHBhdGggc3R5bGU9IiBzdHJva2U6bm9uZTtmaWxsLXJ1bGU6bm9uemVybztmaWxsOnJnYigxMDAlLDEwMCUsMTAwJSk7ZmlsbC1vcGFjaXR5OjE7IiBkPSJNIDkwIDE0Mi41NzgxMjUgTCA4Ny44NTU0NjkgMTM4Ljg2NzE4OCBMIDg1LjcxMDkzOCAxNDIuNTc4MTI1IFogTSA5MCAxNDIuNTc4MTI1ICIvPgo8cGF0aCBzdHlsZT0iIHN0cm9rZTpub25lO2ZpbGwtcnVsZTpub256ZXJvO2ZpbGw6cmdiKDEwMCUsMTAwJSwxMDAlKTtmaWxsLW9wYWNpdHk6MTsiIGQ9Ik0gOTIuMTQ0NTMxIDEzOC44NjcxODggTCA5MCAxMzUuMTU2MjUgTCA4Ny44NTU0NjkgMTM4Ljg2NzE4OCBaIE0gOTIuMTQ0NTMxIDEzOC44NjcxODggIi8+CjxwYXRoIHN0eWxlPSIgc3Ryb2tlOm5vbmU7ZmlsbC1ydWxlOm5vbnplcm87ZmlsbDpyZ2IoMTAwJSwxMDAlLDEwMCUpO2ZpbGwtb3BhY2l0eToxOyIgZD0iTSAxMDcuMTQ0NTMxIDEzNS4xNTIzNDQgTCAxMDUgMTMxLjQ0MTQwNiBMIDEwMi44NTU0NjkgMTM1LjE1MjM0NCBaIE0gMTA3LjE0NDUzMSAxMzUuMTUyMzQ0ICIvPgo8cGF0aCBzdHlsZT0iIHN0cm9rZTpub25lO2ZpbGwtcnVsZTpub256ZXJvO2ZpbGw6cmdiKDEwMCUsMTAwJSwxMDAlKTtmaWxsLW9wYWNpdHk6MTsiIGQ9Ik0gMTAyLjg1NTQ2OSAxMzUuMTUyMzQ0IEwgMTAwLjcxMDkzOCAxMzEuNDQxNDA2IEwgOTguNTY2NDA2IDEzNS4xNTIzNDQgWiBNIDEwMi44NTU0NjkgMTM1LjE1MjM0NCAiLz4KPHBhdGggc3R5bGU9IiBzdHJva2U6bm9uZTtmaWxsLXJ1bGU6bm9uemVybztmaWxsOnJnYigxMDAlLDEwMCUsMTAwJSk7ZmlsbC1vcGFjaXR5OjE7IiBkPSJNIDEwNSAxMzEuNDQxNDA2IEwgMTAyLjg1NTQ2OSAxMjcuNzMwNDY5IEwgMTAwLjcxMDkzOCAxMzEuNDQxNDA2IFogTSAxMDUgMTMxLjQ0MTQwNiAiLz4KPHBhdGggc3R5bGU9IiBzdHJva2U6bm9uZTtmaWxsLXJ1bGU6bm9uemVybztmaWxsOnJnYigxMDAlLDEwMCUsMTAwJSk7ZmlsbC1vcGFjaXR5OjE7IiBkPSJNIDk4LjU3MDMxMiAxMzUuMTUyMzQ0IEwgOTYuNDI1NzgxIDEzMS40NDE0MDYgTCA5NC4yODEyNSAxMzUuMTUyMzQ0IFogTSA5OC41NzAzMTIgMTM1LjE1MjM0NCAiLz4KPHBhdGggc3R5bGU9IiBzdHJva2U6bm9uZTtmaWxsLXJ1bGU6bm9uemVybztmaWxsOnJnYigxMDAlLDEwMCUsMTAwJSk7ZmlsbC1vcGFjaXR5OjE7IiBkPSJNIDk0LjI4NTE1NiAxMzUuMTUyMzQ0IEwgOTIuMTQwNjI1IDEzMS40NDE0MDYgTCA4OS45OTYwOTQgMTM1LjE1MjM0NCBaIE0gOTQuMjg1MTU2IDEzNS4xNTIzNDQgIi8+CjxwYXRoIHN0eWxlPSIgc3Ryb2tlOm5vbmU7ZmlsbC1ydWxlOm5vbnplcm87ZmlsbDpyZ2IoMTAwJSwxMDAlLDEwMCUpO2ZpbGwtb3BhY2l0eToxOyIgZD0iTSA5Ni40Mjk2ODggMTMxLjQ0MTQwNiBMIDk0LjI4NTE1NiAxMjcuNzMwNDY5IEwgOTIuMTQwNjI1IDEzMS40NDE0MDYgWiBNIDk2LjQyOTY4OCAxMzEuNDQxNDA2ICIvPgo8cGF0aCBzdHlsZT0iIHN0cm9rZTpub25lO2ZpbGwtcnVsZTpub256ZXJvO2ZpbGw6cmdiKDEwMCUsMTAwJSwxMDAlKTtmaWxsLW9wYWNpdHk6MTsiIGQ9Ik0gMTAyLjg1NTQ2OSAxMjcuNzMwNDY5IEwgMTAwLjcxMDkzOCAxMjQuMDE5NTMxIEwgOTguNTY2NDA2IDEyNy43MzA0NjkgWiBNIDEwMi44NTU0NjkgMTI3LjczMDQ2OSAiLz4KPHBhdGggc3R5bGU9IiBzdHJva2U6bm9uZTtmaWxsLXJ1bGU6bm9uemVybztmaWxsOnJnYigxMDAlLDEwMCUsMTAwJSk7ZmlsbC1vcGFjaXR5OjE7IiBkPSJNIDk4LjU3MDMxMiAxMjcuNzMwNDY5IEwgOTYuNDI1NzgxIDEyNC4wMTk1MzEgTCA5NC4yODEyNSAxMjcuNzMwNDY5IFogTSA5OC41NzAzMTIgMTI3LjczMDQ2OSAiLz4KPHBhdGggc3R5bGU9IiBzdHJva2U6bm9uZTtmaWxsLXJ1bGU6bm9uemVybztmaWxsOnJnYigxMDAlLDEwMCUsMTAwJSk7ZmlsbC1vcGFjaXR5OjE7IiBkPSJNIDEwMC43MTQ4NDQgMTI0LjAxOTUzMSBMIDk4LjU3MDMxMiAxMjAuMzA4NTk0IEwgOTYuNDI1NzgxIDEyNC4wMTk1MzEgWiBNIDEwMC43MTQ4NDQgMTI0LjAxOTUzMSAiLz4KPHBhdGggc3R5bGU9IiBzdHJva2U6bm9uZTtmaWxsLXJ1bGU6bm9uemVybztmaWxsOnJnYigxMDAlLDEwMCUsMTAwJSk7ZmlsbC1vcGFjaXR5OjE7IiBkPSJNIDEzMi44NTU0NjkgMTIwLjMwODU5NCBMIDEzMC43MTA5MzggMTE2LjU5NzY1NiBMIDEyOC41NjY0MDYgMTIwLjMwODU5NCBaIE0gMTMyLjg1NTQ2OSAxMjAuMzA4NTk0ICIvPgo8cGF0aCBzdHlsZT0iIHN0cm9rZTpub25lO2ZpbGwtcnVsZTpub256ZXJvO2ZpbGw6cmdiKDEwMCUsMTAwJSwxMDAlKTtmaWxsLW9wYWNpdHk6MTsiIGQ9Ik0gMTI4LjU3MDMxMiAxMjAuMzA4NTk0IEwgMTI2LjQyNTc4MSAxMTYuNTk3NjU2IEwgMTI0LjI4MTI1IDEyMC4zMDg1OTQgWiBNIDEyOC41NzAzMTIgMTIwLjMwODU5NCAiLz4KPHBhdGggc3R5bGU9IiBzdHJva2U6bm9uZTtmaWxsLXJ1bGU6bm9uemVybztmaWxsOnJnYigxMDAlLDEwMCUsMTAwJSk7ZmlsbC1vcGFjaXR5OjE7IiBkPSJNIDEzMC43MTQ4NDQgMTE2LjU5NzY1NiBMIDEyOC41NzAzMTIgMTEyLjg4NjcxOSBMIDEyNi40MjU3ODEgMTE2LjU5NzY1NiBaIE0gMTMwLjcxNDg0NCAxMTYuNTk3NjU2ICIvPgo8cGF0aCBzdHlsZT0iIHN0cm9rZTpub25lO2ZpbGwtcnVsZTpub256ZXJvO2ZpbGw6cmdiKDEwMCUsMTAwJSwxMDAlKTtmaWxsLW9wYWNpdHk6MTsiIGQ9Ik0gMTI0LjI4NTE1NiAxMjAuMzA4NTk0IEwgMTIyLjE0MDYyNSAxMTYuNTk3NjU2IEwgMTE5Ljk5NjA5NCAxMjAuMzA4NTk0IFogTSAxMjQuMjg1MTU2IDEyMC4zMDg1OTQgIi8+CjxwYXRoIHN0eWxlPSIgc3Ryb2tlOm5vbmU7ZmlsbC1ydWxlOm5vbnplcm87ZmlsbDpyZ2IoMTAwJSwxMDAlLDEwMCUpO2ZpbGwtb3BhY2l0eToxOyIgZD0iTSAxMjAgMTIwLjMwODU5NCBMIDExNy44NTU0NjkgMTE2LjU5NzY1NiBMIDExNS43MTA5MzggMTIwLjMwODU5NCBaIE0gMTIwIDEyMC4zMDg1OTQgIi8+CjxwYXRoIHN0eWxlPSIgc3Ryb2tlOm5vbmU7ZmlsbC1ydWxlOm5vbnplcm87ZmlsbDpyZ2IoMTAwJSwxMDAlLDEwMCUpO2ZpbGwtb3BhY2l0eToxOyIgZD0iTSAxMjIuMTQ0NTMxIDExNi41OTc2NTYgTCAxMjAgMTEyLjg4NjcxOSBMIDExNy44NTU0NjkgMTE2LjU5NzY1NiBaIE0gMTIyLjE0NDUzMSAxMTYuNTk3NjU2ICIvPgo8cGF0aCBzdHlsZT0iIHN0cm9rZTpub25lO2ZpbGwtcnVsZTpub256ZXJvO2ZpbGw6cmdiKDEwMCUsMTAwJSwxMDAlKTtmaWxsLW9wYWNpdHk6MTsiIGQ9Ik0gMTI4LjU3MDMxMiAxMTIuODgyODEyIEwgMTI2LjQyNTc4MSAxMDkuMTcxODc1IEwgMTI0LjI4MTI1IDExMi44ODI4MTIgWiBNIDEyOC41NzAzMTIgMTEyLjg4MjgxMiAiLz4KPHBhdGggc3R5bGU9IiBzdHJva2U6bm9uZTtmaWxsLXJ1bGU6bm9uemVybztmaWxsOnJnYigxMDAlLDEwMCUsMTAwJSk7ZmlsbC1vcGFjaXR5OjE7IiBkPSJNIDEyNC4yODUxNTYgMTEyLjg4MjgxMiBMIDEyMi4xNDA2MjUgMTA5LjE3MTg3NSBMIDExOS45OTYwOTQgMTEyLjg4MjgxMiBaIE0gMTI0LjI4NTE1NiAxMTIuODgyODEyICIvPgo8cGF0aCBzdHlsZT0iIHN0cm9rZTpub25lO2ZpbGwtcnVsZTpub256ZXJvO2ZpbGw6cmdiKDEwMCUsMTAwJSwxMDAlKTtmaWxsLW9wYWNpdHk6MTsiIGQ9Ik0gMTI2LjQyOTY4OCAxMDkuMTcxODc1IEwgMTI0LjI4NTE1NiAxMDUuNDYwOTM4IEwgMTIyLjE0MDYyNSAxMDkuMTcxODc1IFogTSAxMjYuNDI5Njg4IDEwOS4xNzE4NzUgIi8+CjxwYXRoIHN0eWxlPSIgc3Ryb2tlOm5vbmU7ZmlsbC1ydWxlOm5vbnplcm87ZmlsbDpyZ2IoMTAwJSwxMDAlLDEwMCUpO2ZpbGwtb3BhY2l0eToxOyIgZD0iTSAxMTUuNzE0ODQ0IDEyMC4zMDg1OTQgTCAxMTMuNTcwMzEyIDExNi41OTc2NTYgTCAxMTEuNDI1NzgxIDEyMC4zMDg1OTQgWiBNIDExNS43MTQ4NDQgMTIwLjMwODU5NCAiLz4KPHBhdGggc3R5bGU9IiBzdHJva2U6bm9uZTtmaWxsLXJ1bGU6bm9uemVybztmaWxsOnJnYigxMDAlLDEwMCUsMTAwJSk7ZmlsbC1vcGFjaXR5OjE7IiBkPSJNIDExMS40Mjk2ODggMTIwLjMwODU5NCBMIDEwOS4yODUxNTYgMTE2LjU5NzY1NiBMIDEwNy4xNDA2MjUgMTIwLjMwODU5NCBaIE0gMTExLjQyOTY4OCAxMjAuMzA4NTk0ICIvPgo8cGF0aCBzdHlsZT0iIHN0cm9rZTpub25lO2ZpbGwtcnVsZTpub256ZXJvO2ZpbGw6cmdiKDEwMCUsMTAwJSwxMDAlKTtmaWxsLW9wYWNpdHk6MTsiIGQ9Ik0gMTEzLjU3MDMxMiAxMTYuNTk3NjU2IEwgMTExLjQyNTc4MSAxMTIuODg2NzE5IEwgMTA5LjI4MTI1IDExNi41OTc2NTYgWiBNIDExMy41NzAzMTIgMTE2LjU5NzY1NiAiLz4KPHBhdGggc3R5bGU9IiBzdHJva2U6bm9uZTtmaWxsLXJ1bGU6bm9uemVybztmaWxsOnJnYigxMDAlLDEwMCUsMTAwJSk7ZmlsbC1vcGFjaXR5OjE7IiBkPSJNIDEwNy4xNDQ1MzEgMTIwLjMwODU5NCBMIDEwNSAxMTYuNTk3NjU2IEwgMTAyLjg1NTQ2OSAxMjAuMzA4NTk0IFogTSAxMDcuMTQ0NTMxIDEyMC4zMDg1OTQgIi8+CjxwYXRoIHN0eWxlPSIgc3Ryb2tlOm5vbmU7ZmlsbC1ydWxlOm5vbnplcm87ZmlsbDpyZ2IoMTAwJSwxMDAlLDEwMCUpO2ZpbGwtb3BhY2l0eToxOyIgZD0iTSAxMDIuODU1NDY5IDEyMC4zMDg1OTQgTCAxMDAuNzEwOTM4IDExNi41OTc2NTYgTCA5OC41NjY0MDYgMTIwLjMwODU5NCBaIE0gMTAyLjg1NTQ2OSAxMjAuMzA4NTk0ICIvPgo8cGF0aCBzdHlsZT0iIHN0cm9rZTpub25lO2ZpbGwtcnVsZTpub256ZXJvO2ZpbGw6cmdiKDEwMCUsMTAwJSwxMDAlKTtmaWxsLW9wYWNpdHk6MTsiIGQ9Ik0gMTA1IDExNi41OTc2NTYgTCAxMDIuODU1NDY5IDExMi44ODY3MTkgTCAxMDAuNzEwOTM4IDExNi41OTc2NTYgWiBNIDEwNSAxMTYuNTk3NjU2ICIvPgo8cGF0aCBzdHlsZT0iIHN0cm9rZTpub25lO2ZpbGwtcnVsZTpub256ZXJvO2ZpbGw6cmdiKDEwMCUsMTAwJSwxMDAlKTtmaWxsLW9wYWNpdHk6MTsiIGQ9Ik0gMTExLjQyOTY4OCAxMTIuODgyODEyIEwgMTA5LjI4NTE1NiAxMDkuMTcxODc1IEwgMTA3LjE0MDYyNSAxMTIuODgyODEyIFogTSAxMTEuNDI5Njg4IDExMi44ODI4MTIgIi8+CjxwYXRoIHN0eWxlPSIgc3Ryb2tlOm5vbmU7ZmlsbC1ydWxlOm5vbnplcm87ZmlsbDpyZ2IoMTAwJSwxMDAlLDEwMCUpO2ZpbGwtb3BhY2l0eToxOyIgZD0iTSAxMDcuMTQ0NTMxIDExMi44ODI4MTIgTCAxMDUgMTA5LjE3MTg3NSBMIDEwMi44NTU0NjkgMTEyLjg4MjgxMiBaIE0gMTA3LjE0NDUzMSAxMTIuODgyODEyICIvPgo8cGF0aCBzdHlsZT0iIHN0cm9rZTpub25lO2ZpbGwtcnVsZTpub256ZXJvO2ZpbGw6cmdiKDEwMCUsMTAwJSwxMDAlKTtmaWxsLW9wYWNpdHk6MTsiIGQ9Ik0gMTA5LjI4NTE1NiAxMDkuMTcxODc1IEwgMTA3LjE0MDYyNSAxMDUuNDYwOTM4IEwgMTA0Ljk5NjA5NCAxMDkuMTcxODc1IFogTSAxMDkuMjg1MTU2IDEwOS4xNzE4NzUgIi8+CjxwYXRoIHN0eWxlPSIgc3Ryb2tlOm5vbmU7ZmlsbC1ydWxlOm5vbnplcm87ZmlsbDpyZ2IoMTAwJSwxMDAlLDEwMCUpO2ZpbGwtb3BhY2l0eToxOyIgZD0iTSAxMjQuMjg1MTU2IDEwNS40NjA5MzggTCAxMjIuMTQwNjI1IDEwMS43NSBMIDExOS45OTYwOTQgMTA1LjQ2MDkzOCBaIE0gMTI0LjI4NTE1NiAxMDUuNDYwOTM4ICIvPgo8cGF0aCBzdHlsZT0iIHN0cm9rZTpub25lO2ZpbGwtcnVsZTpub256ZXJvO2ZpbGw6cmdiKDEwMCUsMTAwJSwxMDAlKTtmaWxsLW9wYWNpdHk6MTsiIGQ9Ik0gMTIwIDEwNS40NjA5MzggTCAxMTcuODU1NDY5IDEwMS43NSBMIDExNS43MTA5MzggMTA1LjQ2MDkzOCBaIE0gMTIwIDEwNS40NjA5MzggIi8+CjxwYXRoIHN0eWxlPSIgc3Ryb2tlOm5vbmU7ZmlsbC1ydWxlOm5vbnplcm87ZmlsbDpyZ2IoMTAwJSwxMDAlLDEwMCUpO2ZpbGwtb3BhY2l0eToxOyIgZD0iTSAxMjIuMTQ0NTMxIDEwMS43NSBMIDEyMCA5OC4wMzkwNjIgTCAxMTcuODU1NDY5IDEwMS43NSBaIE0gMTIyLjE0NDUzMSAxMDEuNzUgIi8+CjxwYXRoIHN0eWxlPSIgc3Ryb2tlOm5vbmU7ZmlsbC1ydWxlOm5vbnplcm87ZmlsbDpyZ2IoMTAwJSwxMDAlLDEwMCUpO2ZpbGwtb3BhY2l0eToxOyIgZD0iTSAxMTUuNzE0ODQ0IDEwNS40NjA5MzggTCAxMTMuNTcwMzEyIDEwMS43NSBMIDExMS40MjU3ODEgMTA1LjQ2MDkzOCBaIE0gMTE1LjcxNDg0NCAxMDUuNDYwOTM4ICIvPgo8cGF0aCBzdHlsZT0iIHN0cm9rZTpub25lO2ZpbGwtcnVsZTpub256ZXJvO2ZpbGw6cmdiKDEwMCUsMTAwJSwxMDAlKTtmaWxsLW9wYWNpdHk6MTsiIGQ9Ik0gMTExLjQyOTY4OCAxMDUuNDYwOTM4IEwgMTA5LjI4NTE1NiAxMDEuNzUgTCAxMDcuMTQwNjI1IDEwNS40NjA5MzggWiBNIDExMS40Mjk2ODggMTA1LjQ2MDkzOCAiLz4KPHBhdGggc3R5bGU9IiBzdHJva2U6bm9uZTtmaWxsLXJ1bGU6bm9uemVybztmaWxsOnJnYigxMDAlLDEwMCUsMTAwJSk7ZmlsbC1vcGFjaXR5OjE7IiBkPSJNIDExMy41NzAzMTIgMTAxLjc1IEwgMTExLjQyNTc4MSA5OC4wMzkwNjIgTCAxMDkuMjgxMjUgMTAxLjc1IFogTSAxMTMuNTcwMzEyIDEwMS43NSAiLz4KPHBhdGggc3R5bGU9IiBzdHJva2U6bm9uZTtmaWxsLXJ1bGU6bm9uemVybztmaWxsOnJnYigxMDAlLDEwMCUsMTAwJSk7ZmlsbC1vcGFjaXR5OjE7IiBkPSJNIDEyMCA5OC4wMzkwNjIgTCAxMTcuODU1NDY5IDk0LjMyODEyNSBMIDExNS43MTA5MzggOTguMDM5MDYyIFogTSAxMjAgOTguMDM5MDYyICIvPgo8cGF0aCBzdHlsZT0iIHN0cm9rZTpub25lO2ZpbGwtcnVsZTpub256ZXJvO2ZpbGw6cmdiKDEwMCUsMTAwJSwxMDAlKTtmaWxsLW9wYWNpdHk6MTsiIGQ9Ik0gMTE1LjcxNDg0NCA5OC4wMzkwNjIgTCAxMTMuNTcwMzEyIDk0LjMyODEyNSBMIDExMS40MjU3ODEgOTguMDM5MDYyIFogTSAxMTUuNzE0ODQ0IDk4LjAzOTA2MiAiLz4KPHBhdGggc3R5bGU9IiBzdHJva2U6bm9uZTtmaWxsLXJ1bGU6bm9uemVybztmaWxsOnJnYigxMDAlLDEwMCUsMTAwJSk7ZmlsbC1vcGFjaXR5OjE7IiBkPSJNIDExNy44NTU0NjkgOTQuMzI4MTI1IEwgMTE1LjcxMDkzOCA5MC42MTcxODggTCAxMTMuNTY2NDA2IDk0LjMyODEyNSBaIE0gMTE3Ljg1NTQ2OSA5NC4zMjgxMjUgIi8+CjxwYXRoIHN0eWxlPSIgc3Ryb2tlOm5vbmU7ZmlsbC1ydWxlOm5vbnplcm87ZmlsbDpyZ2IoMTAwJSwxMDAlLDEwMCUpO2ZpbGwtb3BhY2l0eToxOyIgZD0iTSAxODQuMjg1MTU2IDkwLjYxNzE4OCBMIDE4Mi4xNDA2MjUgODYuOTA2MjUgTCAxNzkuOTk2MDk0IDkwLjYxNzE4OCBaIE0gMTg0LjI4NTE1NiA5MC42MTcxODggIi8+CjxwYXRoIHN0eWxlPSIgc3Ryb2tlOm5vbmU7ZmlsbC1ydWxlOm5vbnplcm87ZmlsbDpyZ2IoMTAwJSwxMDAlLDEwMCUpO2ZpbGwtb3BhY2l0eToxOyIgZD0iTSAxODAgOTAuNjE3MTg4IEwgMTc3Ljg1NTQ2OSA4Ni45MDYyNSBMIDE3NS43MTA5MzggOTAuNjE3MTg4IFogTSAxODAgOTAuNjE3MTg4ICIvPgo8cGF0aCBzdHlsZT0iIHN0cm9rZTpub25lO2ZpbGwtcnVsZTpub256ZXJvO2ZpbGw6cmdiKDEwMCUsMTAwJSwxMDAlKTtmaWxsLW9wYWNpdHk6MTsiIGQ9Ik0gMTgyLjE0NDUzMSA4Ni45MDIzNDQgTCAxODAgODMuMTkxNDA2IEwgMTc3Ljg1NTQ2OSA4Ni45MDIzNDQgWiBNIDE4Mi4xNDQ1MzEgODYuOTAyMzQ0ICIvPgo8cGF0aCBzdHlsZT0iIHN0cm9rZTpub25lO2ZpbGwtcnVsZTpub256ZXJvO2ZpbGw6cmdiKDEwMCUsMTAwJSwxMDAlKTtmaWxsLW9wYWNpdHk6MTsiIGQ9Ik0gMTc1LjcxNDg0NCA5MC42MTcxODggTCAxNzMuNTcwMzEyIDg2LjkwNjI1IEwgMTcxLjQyNTc4MSA5MC42MTcxODggWiBNIDE3NS43MTQ4NDQgOTAuNjE3MTg4ICIvPgo8cGF0aCBzdHlsZT0iIHN0cm9rZTpub25lO2ZpbGwtcnVsZTpub256ZXJvO2ZpbGw6cmdiKDEwMCUsMTAwJSwxMDAlKTtmaWxsLW9wYWNpdHk6MTsiIGQ9Ik0gMTcxLjQyOTY4OCA5MC42MTcxODggTCAxNjkuMjg1MTU2IDg2LjkwNjI1IEwgMTY3LjE0MDYyNSA5MC42MTcxODggWiBNIDE3MS40Mjk2ODggOTAuNjE3MTg4ICIvPgo8cGF0aCBzdHlsZT0iIHN0cm9rZTpub25lO2ZpbGwtcnVsZTpub256ZXJvO2ZpbGw6cmdiKDEwMCUsMTAwJSwxMDAlKTtmaWxsLW9wYWNpdHk6MTsiIGQ9Ik0gMTczLjU3MDMxMiA4Ni45MDIzNDQgTCAxNzEuNDI1NzgxIDgzLjE5MTQwNiBMIDE2OS4yODEyNSA4Ni45MDIzNDQgWiBNIDE3My41NzAzMTIgODYuOTAyMzQ0ICIvPgo8cGF0aCBzdHlsZT0iIHN0cm9rZTpub25lO2ZpbGwtcnVsZTpub256ZXJvO2ZpbGw6cmdiKDEwMCUsMTAwJSwxMDAlKTtmaWxsLW9wYWNpdHk6MTsiIGQ9Ik0gMTgwIDgzLjE5MTQwNiBMIDE3Ny44NTU0NjkgNzkuNDgwNDY5IEwgMTc1LjcxMDkzOCA4My4xOTE0MDYgWiBNIDE4MCA4My4xOTE0MDYgIi8+CjxwYXRoIHN0eWxlPSIgc3Ryb2tlOm5vbmU7ZmlsbC1ydWxlOm5vbnplcm87ZmlsbDpyZ2IoMTAwJSwxMDAlLDEwMCUpO2ZpbGwtb3BhY2l0eToxOyIgZD0iTSAxNzUuNzE0ODQ0IDgzLjE5MTQwNiBMIDE3My41NzAzMTIgNzkuNDgwNDY5IEwgMTcxLjQyNTc4MSA4My4xOTE0MDYgWiBNIDE3NS43MTQ4NDQgODMuMTkxNDA2ICIvPgo8cGF0aCBzdHlsZT0iIHN0cm9rZTpub25lO2ZpbGwtcnVsZTpub256ZXJvO2ZpbGw6cmdiKDEwMCUsMTAwJSwxMDAlKTtmaWxsLW9wYWNpdHk6MTsiIGQ9Ik0gMTc3Ljg1NTQ2OSA3OS40ODA0NjkgTCAxNzUuNzEwOTM4IDc1Ljc2OTUzMSBMIDE3My41NjY0MDYgNzkuNDgwNDY5IFogTSAxNzcuODU1NDY5IDc5LjQ4MDQ2OSAiLz4KPHBhdGggc3R5bGU9IiBzdHJva2U6bm9uZTtmaWxsLXJ1bGU6bm9uemVybztmaWxsOnJnYigxMDAlLDEwMCUsMTAwJSk7ZmlsbC1vcGFjaXR5OjE7IiBkPSJNIDE2Ny4xNDQ1MzEgOTAuNjE3MTg4IEwgMTY1IDg2LjkwNjI1IEwgMTYyLjg1NTQ2OSA5MC42MTcxODggWiBNIDE2Ny4xNDQ1MzEgOTAuNjE3MTg4ICIvPgo8cGF0aCBzdHlsZT0iIHN0cm9rZTpub25lO2ZpbGwtcnVsZTpub256ZXJvO2ZpbGw6cmdiKDEwMCUsMTAwJSwxMDAlKTtmaWxsLW9wYWNpdHk6MTsiIGQ9Ik0gMTYyLjg1NTQ2OSA5MC42MTcxODggTCAxNjAuNzEwOTM4IDg2LjkwNjI1IEwgMTU4LjU2NjQwNiA5MC42MTcxODggWiBNIDE2Mi44NTU0NjkgOTAuNjE3MTg4ICIvPgo8cGF0aCBzdHlsZT0iIHN0cm9rZTpub25lO2ZpbGwtcnVsZTpub256ZXJvO2ZpbGw6cmdiKDEwMCUsMTAwJSwxMDAlKTtmaWxsLW9wYWNpdHk6MTsiIGQ9Ik0gMTY1IDg2LjkwMjM0NCBMIDE2Mi44NTU0NjkgODMuMTkxNDA2IEwgMTYwLjcxMDkzOCA4Ni45MDIzNDQgWiBNIDE2NSA4Ni45MDIzNDQgIi8+CjxwYXRoIHN0eWxlPSIgc3Ryb2tlOm5vbmU7ZmlsbC1ydWxlOm5vbnplcm87ZmlsbDpyZ2IoMTAwJSwxMDAlLDEwMCUpO2ZpbGwtb3BhY2l0eToxOyIgZD0iTSAxNTguNTcwMzEyIDkwLjYxNzE4OCBMIDE1Ni40MjU3ODEgODYuOTA2MjUgTCAxNTQuMjgxMjUgOTAuNjE3MTg4IFogTSAxNTguNTcwMzEyIDkwLjYxNzE4OCAiLz4KPHBhdGggc3R5bGU9IiBzdHJva2U6bm9uZTtmaWxsLXJ1bGU6bm9uemVybztmaWxsOnJnYigxMDAlLDEwMCUsMTAwJSk7ZmlsbC1vcGFjaXR5OjE7IiBkPSJNIDE1NC4yODUxNTYgOTAuNjE3MTg4IEwgMTUyLjE0MDYyNSA4Ni45MDYyNSBMIDE0OS45OTYwOTQgOTAuNjE3MTg4IFogTSAxNTQuMjg1MTU2IDkwLjYxNzE4OCAiLz4KPHBhdGggc3R5bGU9IiBzdHJva2U6bm9uZTtmaWxsLXJ1bGU6bm9uemVybztmaWxsOnJnYigxMDAlLDEwMCUsMTAwJSk7ZmlsbC1vcGFjaXR5OjE7IiBkPSJNIDE1Ni40Mjk2ODggODYuOTAyMzQ0IEwgMTU0LjI4NTE1NiA4My4xOTE0MDYgTCAxNTIuMTQwNjI1IDg2LjkwMjM0NCBaIE0gMTU2LjQyOTY4OCA4Ni45MDIzNDQgIi8+CjxwYXRoIHN0eWxlPSIgc3Ryb2tlOm5vbmU7ZmlsbC1ydWxlOm5vbnplcm87ZmlsbDpyZ2IoMTAwJSwxMDAlLDEwMCUpO2ZpbGwtb3BhY2l0eToxOyIgZD0iTSAxNjIuODU1NDY5IDgzLjE5MTQwNiBMIDE2MC43MTA5MzggNzkuNDgwNDY5IEwgMTU4LjU2NjQwNiA4My4xOTE0MDYgWiBNIDE2Mi44NTU0NjkgODMuMTkxNDA2ICIvPgo8cGF0aCBzdHlsZT0iIHN0cm9rZTpub25lO2ZpbGwtcnVsZTpub256ZXJvO2ZpbGw6cmdiKDEwMCUsMTAwJSwxMDAlKTtmaWxsLW9wYWNpdHk6MTsiIGQ9Ik0gMTU4LjU3MDMxMiA4My4xOTE0MDYgTCAxNTYuNDI1NzgxIDc5LjQ4MDQ2OSBMIDE1NC4yODEyNSA4My4xOTE0MDYgWiBNIDE1OC41NzAzMTIgODMuMTkxNDA2ICIvPgo8cGF0aCBzdHlsZT0iIHN0cm9rZTpub25lO2ZpbGwtcnVsZTpub256ZXJvO2ZpbGw6cmdiKDEwMCUsMTAwJSwxMDAlKTtmaWxsLW9wYWNpdHk6MTsiIGQ9Ik0gMTYwLjcxNDg0NCA3OS40ODA0NjkgTCAxNTguNTcwMzEyIDc1Ljc2OTUzMSBMIDE1Ni40MjU3ODEgNzkuNDgwNDY5IFogTSAxNjAuNzE0ODQ0IDc5LjQ4MDQ2OSAiLz4KPHBhdGggc3R5bGU9IiBzdHJva2U6bm9uZTtmaWxsLXJ1bGU6bm9uemVybztmaWxsOnJnYigxMDAlLDEwMCUsMTAwJSk7ZmlsbC1vcGFjaXR5OjE7IiBkPSJNIDE3NS43MTQ4NDQgNzUuNzY5NTMxIEwgMTczLjU3MDMxMiA3Mi4wNTg1OTQgTCAxNzEuNDI1NzgxIDc1Ljc2OTUzMSBaIE0gMTc1LjcxNDg0NCA3NS43Njk1MzEgIi8+CjxwYXRoIHN0eWxlPSIgc3Ryb2tlOm5vbmU7ZmlsbC1ydWxlOm5vbnplcm87ZmlsbDpyZ2IoMTAwJSwxMDAlLDEwMCUpO2ZpbGwtb3BhY2l0eToxOyIgZD0iTSAxNzEuNDI5Njg4IDc1Ljc2OTUzMSBMIDE2OS4yODUxNTYgNzIuMDU4NTk0IEwgMTY3LjE0MDYyNSA3NS43Njk1MzEgWiBNIDE3MS40Mjk2ODggNzUuNzY5NTMxICIvPgo8cGF0aCBzdHlsZT0iIHN0cm9rZTpub25lO2ZpbGwtcnVsZTpub256ZXJvO2ZpbGw6cmdiKDEwMCUsMTAwJSwxMDAlKTtmaWxsLW9wYWNpdHk6MTsiIGQ9Ik0gMTczLjU3MDMxMiA3Mi4wNTg1OTQgTCAxNzEuNDI1NzgxIDY4LjM0NzY1NiBMIDE2OS4yODEyNSA3Mi4wNTg1OTQgWiBNIDE3My41NzAzMTIgNzIuMDU4NTk0ICIvPgo8cGF0aCBzdHlsZT0iIHN0cm9rZTpub25lO2ZpbGwtcnVsZTpub256ZXJvO2ZpbGw6cmdiKDEwMCUsMTAwJSwxMDAlKTtmaWxsLW9wYWNpdHk6MTsiIGQ9Ik0gMTY3LjE0NDUzMSA3NS43Njk1MzEgTCAxNjUgNzIuMDU4NTk0IEwgMTYyLjg1NTQ2OSA3NS43Njk1MzEgWiBNIDE2Ny4xNDQ1MzEgNzUuNzY5NTMxICIvPgo8cGF0aCBzdHlsZT0iIHN0cm9rZTpub25lO2ZpbGwtcnVsZTpub256ZXJvO2ZpbGw6cmdiKDEwMCUsMTAwJSwxMDAlKTtmaWxsLW9wYWNpdHk6MTsiIGQ9Ik0gMTYyLjg1NTQ2OSA3NS43Njk1MzEgTCAxNjAuNzEwOTM4IDcyLjA1ODU5NCBMIDE1OC41NjY0MDYgNzUuNzY5NTMxIFogTSAxNjIuODU1NDY5IDc1Ljc2OTUzMSAiLz4KPHBhdGggc3R5bGU9IiBzdHJva2U6bm9uZTtmaWxsLXJ1bGU6bm9uemVybztmaWxsOnJnYigxMDAlLDEwMCUsMTAwJSk7ZmlsbC1vcGFjaXR5OjE7IiBkPSJNIDE2NSA3Mi4wNTg1OTQgTCAxNjIuODU1NDY5IDY4LjM0NzY1NiBMIDE2MC43MTA5MzggNzIuMDU4NTk0IFogTSAxNjUgNzIuMDU4NTk0ICIvPgo8cGF0aCBzdHlsZT0iIHN0cm9rZTpub25lO2ZpbGwtcnVsZTpub256ZXJvO2ZpbGw6cmdiKDEwMCUsMTAwJSwxMDAlKTtmaWxsLW9wYWNpdHk6MTsiIGQ9Ik0gMTcxLjQyOTY4OCA2OC4zNDc2NTYgTCAxNjkuMjg1MTU2IDY0LjYzNjcxOSBMIDE2Ny4xNDA2MjUgNjguMzQ3NjU2IFogTSAxNzEuNDI5Njg4IDY4LjM0NzY1NiAiLz4KPHBhdGggc3R5bGU9IiBzdHJva2U6bm9uZTtmaWxsLXJ1bGU6bm9uemVybztmaWxsOnJnYigxMDAlLDEwMCUsMTAwJSk7ZmlsbC1vcGFjaXR5OjE7IiBkPSJNIDE2Ny4xNDQ1MzEgNjguMzQ3NjU2IEwgMTY1IDY0LjYzNjcxOSBMIDE2Mi44NTU0NjkgNjguMzQ3NjU2IFogTSAxNjcuMTQ0NTMxIDY4LjM0NzY1NiAiLz4KPHBhdGggc3R5bGU9IiBzdHJva2U6bm9uZTtmaWxsLXJ1bGU6bm9uemVybztmaWxsOnJnYigxMDAlLDEwMCUsMTAwJSk7ZmlsbC1vcGFjaXR5OjE7IiBkPSJNIDE2OS4yODUxNTYgNjQuNjMyODEyIEwgMTY3LjE0MDYyNSA2MC45MjE4NzUgTCAxNjQuOTk2MDk0IDY0LjYzMjgxMiBaIE0gMTY5LjI4NTE1NiA2NC42MzI4MTIgIi8+CjxwYXRoIHN0eWxlPSIgc3Ryb2tlOm5vbmU7ZmlsbC1ydWxlOm5vbnplcm87ZmlsbDpyZ2IoMTAwJSwxMDAlLDEwMCUpO2ZpbGwtb3BhY2l0eToxOyIgZD0iTSAxNTAgOTAuNjE3MTg4IEwgMTQ3Ljg1NTQ2OSA4Ni45MDYyNSBMIDE0NS43MTA5MzggOTAuNjE3MTg4IFogTSAxNTAgOTAuNjE3MTg4ICIvPgo8cGF0aCBzdHlsZT0iIHN0cm9rZTpub25lO2ZpbGwtcnVsZTpub256ZXJvO2ZpbGw6cmdiKDEwMCUsMTAwJSwxMDAlKTtmaWxsLW9wYWNpdHk6MTsiIGQ9Ik0gMTQ1LjcxNDg0NCA5MC42MTcxODggTCAxNDMuNTcwMzEyIDg2LjkwNjI1IEwgMTQxLjQyNTc4MSA5MC42MTcxODggWiBNIDE0NS43MTQ4NDQgOTAuNjE3MTg4ICIvPgo8cGF0aCBzdHlsZT0iIHN0cm9rZTpub25lO2ZpbGwtcnVsZTpub256ZXJvO2ZpbGw6cmdiKDEwMCUsMTAwJSwxMDAlKTtmaWxsLW9wYWNpdHk6MTsiIGQ9Ik0gMTQ3Ljg1NTQ2OSA4Ni45MDIzNDQgTCAxNDUuNzEwOTM4IDgzLjE5MTQwNiBMIDE0My41NjY0MDYgODYuOTAyMzQ0IFogTSAxNDcuODU1NDY5IDg2LjkwMjM0NCAiLz4KPHBhdGggc3R5bGU9IiBzdHJva2U6bm9uZTtmaWxsLXJ1bGU6bm9uemVybztmaWxsOnJnYigxMDAlLDEwMCUsMTAwJSk7ZmlsbC1vcGFjaXR5OjE7IiBkPSJNIDE0MS40Mjk2ODggOTAuNjE3MTg4IEwgMTM5LjI4NTE1NiA4Ni45MDYyNSBMIDEzNy4xNDA2MjUgOTAuNjE3MTg4IFogTSAxNDEuNDI5Njg4IDkwLjYxNzE4OCAiLz4KPHBhdGggc3R5bGU9IiBzdHJva2U6bm9uZTtmaWxsLXJ1bGU6bm9uemVybztmaWxsOnJnYigxMDAlLDEwMCUsMTAwJSk7ZmlsbC1vcGFjaXR5OjE7IiBkPSJNIDEzNy4xNDQ1MzEgOTAuNjE3MTg4IEwgMTM1IDg2LjkwNjI1IEwgMTMyLjg1NTQ2OSA5MC42MTcxODggWiBNIDEzNy4xNDQ1MzEgOTAuNjE3MTg4ICIvPgo8cGF0aCBzdHlsZT0iIHN0cm9rZTpub25lO2ZpbGwtcnVsZTpub256ZXJvO2ZpbGw6cmdiKDEwMCUsMTAwJSwxMDAlKTtmaWxsLW9wYWNpdHk6MTsiIGQ9Ik0gMTM5LjI4NTE1NiA4Ni45MDIzNDQgTCAxMzcuMTQwNjI1IDgzLjE5MTQwNiBMIDEzNC45OTYwOTQgODYuOTAyMzQ0IFogTSAxMzkuMjg1MTU2IDg2LjkwMjM0NCAiLz4KPHBhdGggc3R5bGU9IiBzdHJva2U6bm9uZTtmaWxsLXJ1bGU6bm9uemVybztmaWxsOnJnYigxMDAlLDEwMCUsMTAwJSk7ZmlsbC1vcGFjaXR5OjE7IiBkPSJNIDE0NS43MTQ4NDQgODMuMTkxNDA2IEwgMTQzLjU3MDMxMiA3OS40ODA0NjkgTCAxNDEuNDI1NzgxIDgzLjE5MTQwNiBaIE0gMTQ1LjcxNDg0NCA4My4xOTE0MDYgIi8+CjxwYXRoIHN0eWxlPSIgc3Ryb2tlOm5vbmU7ZmlsbC1ydWxlOm5vbnplcm87ZmlsbDpyZ2IoMTAwJSwxMDAlLDEwMCUpO2ZpbGwtb3BhY2l0eToxOyIgZD0iTSAxNDEuNDI5Njg4IDgzLjE5MTQwNiBMIDEzOS4yODUxNTYgNzkuNDgwNDY5IEwgMTM3LjE0MDYyNSA4My4xOTE0MDYgWiBNIDE0MS40Mjk2ODggODMuMTkxNDA2ICIvPgo8cGF0aCBzdHlsZT0iIHN0cm9rZTpub25lO2ZpbGwtcnVsZTpub256ZXJvO2ZpbGw6cmdiKDEwMCUsMTAwJSwxMDAlKTtmaWxsLW9wYWNpdHk6MTsiIGQ9Ik0gMTQzLjU3MDMxMiA3OS40ODA0NjkgTCAxNDEuNDI1NzgxIDc1Ljc2OTUzMSBMIDEzOS4yODEyNSA3OS40ODA0NjkgWiBNIDE0My41NzAzMTIgNzkuNDgwNDY5ICIvPgo8cGF0aCBzdHlsZT0iIHN0cm9rZTpub25lO2ZpbGwtcnVsZTpub256ZXJvO2ZpbGw6cmdiKDEwMCUsMTAwJSwxMDAlKTtmaWxsLW9wYWNpdHk6MTsiIGQ9Ik0gMTMyLjg1NTQ2OSA5MC42MTcxODggTCAxMzAuNzEwOTM4IDg2LjkwNjI1IEwgMTI4LjU2NjQwNiA5MC42MTcxODggWiBNIDEzMi44NTU0NjkgOTAuNjE3MTg4ICIvPgo8cGF0aCBzdHlsZT0iIHN0cm9rZTpub25lO2ZpbGwtcnVsZTpub256ZXJvO2ZpbGw6cmdiKDEwMCUsMTAwJSwxMDAlKTtmaWxsLW9wYWNpdHk6MTsiIGQ9Ik0gMTI4LjU3MDMxMiA5MC42MTcxODggTCAxMjYuNDI1NzgxIDg2LjkwNjI1IEwgMTI0LjI4MTI1IDkwLjYxNzE4OCBaIE0gMTI4LjU3MDMxMiA5MC42MTcxODggIi8+CjxwYXRoIHN0eWxlPSIgc3Ryb2tlOm5vbmU7ZmlsbC1ydWxlOm5vbnplcm87ZmlsbDpyZ2IoMTAwJSwxMDAlLDEwMCUpO2ZpbGwtb3BhY2l0eToxOyIgZD0iTSAxMzAuNzE0ODQ0IDg2LjkwMjM0NCBMIDEyOC41NzAzMTIgODMuMTkxNDA2IEwgMTI2LjQyNTc4MSA4Ni45MDIzNDQgWiBNIDEzMC43MTQ4NDQgODYuOTAyMzQ0ICIvPgo8cGF0aCBzdHlsZT0iIHN0cm9rZTpub25lO2ZpbGwtcnVsZTpub256ZXJvO2ZpbGw6cmdiKDEwMCUsMTAwJSwxMDAlKTtmaWxsLW9wYWNpdHk6MTsiIGQ9Ik0gMTI0LjI4NTE1NiA5MC42MTcxODggTCAxMjIuMTQwNjI1IDg2LjkwNjI1IEwgMTE5Ljk5NjA5NCA5MC42MTcxODggWiBNIDEyNC4yODUxNTYgOTAuNjE3MTg4ICIvPgo8cGF0aCBzdHlsZT0iIHN0cm9rZTpub25lO2ZpbGwtcnVsZTpub256ZXJvO2ZpbGw6cmdiKDEwMCUsMTAwJSwxMDAlKTtmaWxsLW9wYWNpdHk6MTsiIGQ9Ik0gMTIwIDkwLjYxNzE4OCBMIDExNy44NTU0NjkgODYuOTA2MjUgTCAxMTUuNzEwOTM4IDkwLjYxNzE4OCBaIE0gMTIwIDkwLjYxNzE4OCAiLz4KPHBhdGggc3R5bGU9IiBzdHJva2U6bm9uZTtmaWxsLXJ1bGU6bm9uemVybztmaWxsOnJnYigxMDAlLDEwMCUsMTAwJSk7ZmlsbC1vcGFjaXR5OjE7IiBkPSJNIDEyMi4xNDQ1MzEgODYuOTAyMzQ0IEwgMTIwIDgzLjE5MTQwNiBMIDExNy44NTU0NjkgODYuOTAyMzQ0IFogTSAxMjIuMTQ0NTMxIDg2LjkwMjM0NCAiLz4KPHBhdGggc3R5bGU9IiBzdHJva2U6bm9uZTtmaWxsLXJ1bGU6bm9uemVybztmaWxsOnJnYigxMDAlLDEwMCUsMTAwJSk7ZmlsbC1vcGFjaXR5OjE7IiBkPSJNIDEyOC41NzAzMTIgODMuMTkxNDA2IEwgMTI2LjQyNTc4MSA3OS40ODA0NjkgTCAxMjQuMjgxMjUgODMuMTkxNDA2IFogTSAxMjguNTcwMzEyIDgzLjE5MTQwNiAiLz4KPHBhdGggc3R5bGU9IiBzdHJva2U6bm9uZTtmaWxsLXJ1bGU6bm9uemVybztmaWxsOnJnYigxMDAlLDEwMCUsMTAwJSk7ZmlsbC1vcGFjaXR5OjE7IiBkPSJNIDEyNC4yODUxNTYgODMuMTkxNDA2IEwgMTIyLjE0MDYyNSA3OS40ODA0NjkgTCAxMTkuOTk2MDk0IDgzLjE5MTQwNiBaIE0gMTI0LjI4NTE1NiA4My4xOTE0MDYgIi8+CjxwYXRoIHN0eWxlPSIgc3Ryb2tlOm5vbmU7ZmlsbC1ydWxlOm5vbnplcm87ZmlsbDpyZ2IoMTAwJSwxMDAlLDEwMCUpO2ZpbGwtb3BhY2l0eToxOyIgZD0iTSAxMjYuNDI5Njg4IDc5LjQ4MDQ2OSBMIDEyNC4yODUxNTYgNzUuNzY5NTMxIEwgMTIyLjE0MDYyNSA3OS40ODA0NjkgWiBNIDEyNi40Mjk2ODggNzkuNDgwNDY5ICIvPgo8cGF0aCBzdHlsZT0iIHN0cm9rZTpub25lO2ZpbGwtcnVsZTpub256ZXJvO2ZpbGw6cmdiKDEwMCUsMTAwJSwxMDAlKTtmaWxsLW9wYWNpdHk6MTsiIGQ9Ik0gMTQxLjQyOTY4OCA3NS43Njk1MzEgTCAxMzkuMjg1MTU2IDcyLjA1ODU5NCBMIDEzNy4xNDA2MjUgNzUuNzY5NTMxIFogTSAxNDEuNDI5Njg4IDc1Ljc2OTUzMSAiLz4KPHBhdGggc3R5bGU9IiBzdHJva2U6bm9uZTtmaWxsLXJ1bGU6bm9uemVybztmaWxsOnJnYigxMDAlLDEwMCUsMTAwJSk7ZmlsbC1vcGFjaXR5OjE7IiBkPSJNIDEzNy4xNDQ1MzEgNzUuNzY5NTMxIEwgMTM1IDcyLjA1ODU5NCBMIDEzMi44NTU0NjkgNzUuNzY5NTMxIFogTSAxMzcuMTQ0NTMxIDc1Ljc2OTUzMSAiLz4KPHBhdGggc3R5bGU9IiBzdHJva2U6bm9uZTtmaWxsLXJ1bGU6bm9uemVybztmaWxsOnJnYigxMDAlLDEwMCUsMTAwJSk7ZmlsbC1vcGFjaXR5OjE7IiBkPSJNIDEzOS4yODUxNTYgNzIuMDU4NTk0IEwgMTM3LjE0MDYyNSA2OC4zNDc2NTYgTCAxMzQuOTk2MDk0IDcyLjA1ODU5NCBaIE0gMTM5LjI4NTE1NiA3Mi4wNTg1OTQgIi8+CjxwYXRoIHN0eWxlPSIgc3Ryb2tlOm5vbmU7ZmlsbC1ydWxlOm5vbnplcm87ZmlsbDpyZ2IoMTAwJSwxMDAlLDEwMCUpO2ZpbGwtb3BhY2l0eToxOyIgZD0iTSAxMzIuODU1NDY5IDc1Ljc2OTUzMSBMIDEzMC43MTA5MzggNzIuMDU4NTk0IEwgMTI4LjU2NjQwNiA3NS43Njk1MzEgWiBNIDEzMi44NTU0NjkgNzUuNzY5NTMxICIvPgo8cGF0aCBzdHlsZT0iIHN0cm9rZTpub25lO2ZpbGwtcnVsZTpub256ZXJvO2ZpbGw6cmdiKDEwMCUsMTAwJSwxMDAlKTtmaWxsLW9wYWNpdHk6MTsiIGQ9Ik0gMTI4LjU3MDMxMiA3NS43Njk1MzEgTCAxMjYuNDI1NzgxIDcyLjA1ODU5NCBMIDEyNC4yODEyNSA3NS43Njk1MzEgWiBNIDEyOC41NzAzMTIgNzUuNzY5NTMxICIvPgo8cGF0aCBzdHlsZT0iIHN0cm9rZTpub25lO2ZpbGwtcnVsZTpub256ZXJvO2ZpbGw6cmdiKDEwMCUsMTAwJSwxMDAlKTtmaWxsLW9wYWNpdHk6MTsiIGQ9Ik0gMTMwLjcxNDg0NCA3Mi4wNTg1OTQgTCAxMjguNTcwMzEyIDY4LjM0NzY1NiBMIDEyNi40MjU3ODEgNzIuMDU4NTk0IFogTSAxMzAuNzE0ODQ0IDcyLjA1ODU5NCAiLz4KPHBhdGggc3R5bGU9IiBzdHJva2U6bm9uZTtmaWxsLXJ1bGU6bm9uemVybztmaWxsOnJnYigxMDAlLDEwMCUsMTAwJSk7ZmlsbC1vcGFjaXR5OjE7IiBkPSJNIDEzNy4xNDQ1MzEgNjguMzQ3NjU2IEwgMTM1IDY0LjYzNjcxOSBMIDEzMi44NTU0NjkgNjguMzQ3NjU2IFogTSAxMzcuMTQ0NTMxIDY4LjM0NzY1NiAiLz4KPHBhdGggc3R5bGU9IiBzdHJva2U6bm9uZTtmaWxsLXJ1bGU6bm9uemVybztmaWxsOnJnYigxMDAlLDEwMCUsMTAwJSk7ZmlsbC1vcGFjaXR5OjE7IiBkPSJNIDEzMi44NTU0NjkgNjguMzQ3NjU2IEwgMTMwLjcxMDkzOCA2NC42MzY3MTkgTCAxMjguNTY2NDA2IDY4LjM0NzY1NiBaIE0gMTMyLjg1NTQ2OSA2OC4zNDc2NTYgIi8+CjxwYXRoIHN0eWxlPSIgc3Ryb2tlOm5vbmU7ZmlsbC1ydWxlOm5vbnplcm87ZmlsbDpyZ2IoMTAwJSwxMDAlLDEwMCUpO2ZpbGwtb3BhY2l0eToxOyIgZD0iTSAxMzUgNjQuNjMyODEyIEwgMTMyLjg1NTQ2OSA2MC45MjE4NzUgTCAxMzAuNzEwOTM4IDY0LjYzMjgxMiBaIE0gMTM1IDY0LjYzMjgxMiAiLz4KPHBhdGggc3R5bGU9IiBzdHJva2U6bm9uZTtmaWxsLXJ1bGU6bm9uemVybztmaWxsOnJnYigxMDAlLDEwMCUsMTAwJSk7ZmlsbC1vcGFjaXR5OjE7IiBkPSJNIDE2Ny4xNDQ1MzEgNjAuOTIxODc1IEwgMTY1IDU3LjIxMDkzOCBMIDE2Mi44NTU0NjkgNjAuOTIxODc1IFogTSAxNjcuMTQ0NTMxIDYwLjkyMTg3NSAiLz4KPHBhdGggc3R5bGU9IiBzdHJva2U6bm9uZTtmaWxsLXJ1bGU6bm9uemVybztmaWxsOnJnYigxMDAlLDEwMCUsMTAwJSk7ZmlsbC1vcGFjaXR5OjE7IiBkPSJNIDE2Mi44NTU0NjkgNjAuOTIxODc1IEwgMTYwLjcxMDkzOCA1Ny4yMTA5MzggTCAxNTguNTY2NDA2IDYwLjkyMTg3NSBaIE0gMTYyLjg1NTQ2OSA2MC45MjE4NzUgIi8+CjxwYXRoIHN0eWxlPSIgc3Ryb2tlOm5vbmU7ZmlsbC1ydWxlOm5vbnplcm87ZmlsbDpyZ2IoMTAwJSwxMDAlLDEwMCUpO2ZpbGwtb3BhY2l0eToxOyIgZD0iTSAxNjUgNTcuMjEwOTM4IEwgMTYyLjg1NTQ2OSA1My41IEwgMTYwLjcxMDkzOCA1Ny4yMTA5MzggWiBNIDE2NSA1Ny4yMTA5MzggIi8+CjxwYXRoIHN0eWxlPSIgc3Ryb2tlOm5vbmU7ZmlsbC1ydWxlOm5vbnplcm87ZmlsbDpyZ2IoMTAwJSwxMDAlLDEwMCUpO2ZpbGwtb3BhY2l0eToxOyIgZD0iTSAxNTguNTcwMzEyIDYwLjkyMTg3NSBMIDE1Ni40MjU3ODEgNTcuMjEwOTM4IEwgMTU0LjI4MTI1IDYwLjkyMTg3NSBaIE0gMTU4LjU3MDMxMiA2MC45MjE4NzUgIi8+CjxwYXRoIHN0eWxlPSIgc3Ryb2tlOm5vbmU7ZmlsbC1ydWxlOm5vbnplcm87ZmlsbDpyZ2IoMTAwJSwxMDAlLDEwMCUpO2ZpbGwtb3BhY2l0eToxOyIgZD0iTSAxNTQuMjg1MTU2IDYwLjkyMTg3NSBMIDE1Mi4xNDA2MjUgNTcuMjEwOTM4IEwgMTQ5Ljk5NjA5NCA2MC45MjE4NzUgWiBNIDE1NC4yODUxNTYgNjAuOTIxODc1ICIvPgo8cGF0aCBzdHlsZT0iIHN0cm9rZTpub25lO2ZpbGwtcnVsZTpub256ZXJvO2ZpbGw6cmdiKDEwMCUsMTAwJSwxMDAlKTtmaWxsLW9wYWNpdHk6MTsiIGQ9Ik0gMTU2LjQyOTY4OCA1Ny4yMTA5MzggTCAxNTQuMjg1MTU2IDUzLjUgTCAxNTIuMTQwNjI1IDU3LjIxMDkzOCBaIE0gMTU2LjQyOTY4OCA1Ny4yMTA5MzggIi8+CjxwYXRoIHN0eWxlPSIgc3Ryb2tlOm5vbmU7ZmlsbC1ydWxlOm5vbnplcm87ZmlsbDpyZ2IoMTAwJSwxMDAlLDEwMCUpO2ZpbGwtb3BhY2l0eToxOyIgZD0iTSAxNjIuODU1NDY5IDUzLjUgTCAxNjAuNzEwOTM4IDQ5Ljc4OTA2MiBMIDE1OC41NjY0MDYgNTMuNSBaIE0gMTYyLjg1NTQ2OSA1My41ICIvPgo8cGF0aCBzdHlsZT0iIHN0cm9rZTpub25lO2ZpbGwtcnVsZTpub256ZXJvO2ZpbGw6cmdiKDEwMCUsMTAwJSwxMDAlKTtmaWxsLW9wYWNpdHk6MTsiIGQ9Ik0gMTU4LjU3MDMxMiA1My41IEwgMTU2LjQyNTc4MSA0OS43ODkwNjIgTCAxNTQuMjgxMjUgNTMuNSBaIE0gMTU4LjU3MDMxMiA1My41ICIvPgo8cGF0aCBzdHlsZT0iIHN0cm9rZTpub25lO2ZpbGwtcnVsZTpub256ZXJvO2ZpbGw6cmdiKDEwMCUsMTAwJSwxMDAlKTtmaWxsLW9wYWNpdHk6MTsiIGQ9Ik0gMTYwLjcxNDg0NCA0OS43ODkwNjIgTCAxNTguNTcwMzEyIDQ2LjA3ODEyNSBMIDE1Ni40MjU3ODEgNDkuNzg5MDYyIFogTSAxNjAuNzE0ODQ0IDQ5Ljc4OTA2MiAiLz4KPHBhdGggc3R5bGU9IiBzdHJva2U6bm9uZTtmaWxsLXJ1bGU6bm9uemVybztmaWxsOnJnYigxMDAlLDEwMCUsMTAwJSk7ZmlsbC1vcGFjaXR5OjE7IiBkPSJNIDE1MCA2MC45MjE4NzUgTCAxNDcuODU1NDY5IDU3LjIxMDkzOCBMIDE0NS43MTA5MzggNjAuOTIxODc1IFogTSAxNTAgNjAuOTIxODc1ICIvPgo8cGF0aCBzdHlsZT0iIHN0cm9rZTpub25lO2ZpbGwtcnVsZTpub256ZXJvO2ZpbGw6cmdiKDEwMCUsMTAwJSwxMDAlKTtmaWxsLW9wYWNpdHk6MTsiIGQ9Ik0gMTQ1LjcxNDg0NCA2MC45MjE4NzUgTCAxNDMuNTcwMzEyIDU3LjIxMDkzOCBMIDE0MS40MjU3ODEgNjAuOTIxODc1IFogTSAxNDUuNzE0ODQ0IDYwLjkyMTg3NSAiLz4KPHBhdGggc3R5bGU9IiBzdHJva2U6bm9uZTtmaWxsLXJ1bGU6bm9uemVybztmaWxsOnJnYigxMDAlLDEwMCUsMTAwJSk7ZmlsbC1vcGFjaXR5OjE7IiBkPSJNIDE0Ny44NTU0NjkgNTcuMjEwOTM4IEwgMTQ1LjcxMDkzOCA1My41IEwgMTQzLjU2NjQwNiA1Ny4yMTA5MzggWiBNIDE0Ny44NTU0NjkgNTcuMjEwOTM4ICIvPgo8cGF0aCBzdHlsZT0iIHN0cm9rZTpub25lO2ZpbGwtcnVsZTpub256ZXJvO2ZpbGw6cmdiKDEwMCUsMTAwJSwxMDAlKTtmaWxsLW9wYWNpdHk6MTsiIGQ9Ik0gMTQxLjQyOTY4OCA2MC45MjE4NzUgTCAxMzkuMjg1MTU2IDU3LjIxMDkzOCBMIDEzNy4xNDA2MjUgNjAuOTIxODc1IFogTSAxNDEuNDI5Njg4IDYwLjkyMTg3NSAiLz4KPHBhdGggc3R5bGU9IiBzdHJva2U6bm9uZTtmaWxsLXJ1bGU6bm9uemVybztmaWxsOnJnYigxMDAlLDEwMCUsMTAwJSk7ZmlsbC1vcGFjaXR5OjE7IiBkPSJNIDEzNy4xNDQ1MzEgNjAuOTIxODc1IEwgMTM1IDU3LjIxMDkzOCBMIDEzMi44NTU0NjkgNjAuOTIxODc1IFogTSAxMzcuMTQ0NTMxIDYwLjkyMTg3NSAiLz4KPHBhdGggc3R5bGU9IiBzdHJva2U6bm9uZTtmaWxsLXJ1bGU6bm9uemVybztmaWxsOnJnYigxMDAlLDEwMCUsMTAwJSk7ZmlsbC1vcGFjaXR5OjE7IiBkPSJNIDEzOS4yODUxNTYgNTcuMjEwOTM4IEwgMTM3LjE0MDYyNSA1My41IEwgMTM0Ljk5NjA5NCA1Ny4yMTA5MzggWiBNIDEzOS4yODUxNTYgNTcuMjEwOTM4ICIvPgo8cGF0aCBzdHlsZT0iIHN0cm9rZTpub25lO2ZpbGwtcnVsZTpub256ZXJvO2ZpbGw6cmdiKDEwMCUsMTAwJSwxMDAlKTtmaWxsLW9wYWNpdHk6MTsiIGQ9Ik0gMTQ1LjcxNDg0NCA1My41IEwgMTQzLjU3MDMxMiA0OS43ODkwNjIgTCAxNDEuNDI1NzgxIDUzLjUgWiBNIDE0NS43MTQ4NDQgNTMuNSAiLz4KPHBhdGggc3R5bGU9IiBzdHJva2U6bm9uZTtmaWxsLXJ1bGU6bm9uemVybztmaWxsOnJnYigxMDAlLDEwMCUsMTAwJSk7ZmlsbC1vcGFjaXR5OjE7IiBkPSJNIDE0MS40Mjk2ODggNTMuNSBMIDEzOS4yODUxNTYgNDkuNzg5MDYyIEwgMTM3LjE0MDYyNSA1My41IFogTSAxNDEuNDI5Njg4IDUzLjUgIi8+CjxwYXRoIHN0eWxlPSIgc3Ryb2tlOm5vbmU7ZmlsbC1ydWxlOm5vbnplcm87ZmlsbDpyZ2IoMTAwJSwxMDAlLDEwMCUpO2ZpbGwtb3BhY2l0eToxOyIgZD0iTSAxNDMuNTcwMzEyIDQ5Ljc4OTA2MiBMIDE0MS40MjU3ODEgNDYuMDc4MTI1IEwgMTM5LjI4MTI1IDQ5Ljc4OTA2MiBaIE0gMTQzLjU3MDMxMiA0OS43ODkwNjIgIi8+CjxwYXRoIHN0eWxlPSIgc3Ryb2tlOm5vbmU7ZmlsbC1ydWxlOm5vbnplcm87ZmlsbDpyZ2IoMTAwJSwxMDAlLDEwMCUpO2ZpbGwtb3BhY2l0eToxOyIgZD0iTSAxNTguNTcwMzEyIDQ2LjA3ODEyNSBMIDE1Ni40MjU3ODEgNDIuMzY3MTg4IEwgMTU0LjI4MTI1IDQ2LjA3ODEyNSBaIE0gMTU4LjU3MDMxMiA0Ni4wNzgxMjUgIi8+CjxwYXRoIHN0eWxlPSIgc3Ryb2tlOm5vbmU7ZmlsbC1ydWxlOm5vbnplcm87ZmlsbDpyZ2IoMTAwJSwxMDAlLDEwMCUpO2ZpbGwtb3BhY2l0eToxOyIgZD0iTSAxNTQuMjg1MTU2IDQ2LjA3ODEyNSBMIDE1Mi4xNDA2MjUgNDIuMzY3MTg4IEwgMTQ5Ljk5NjA5NCA0Ni4wNzgxMjUgWiBNIDE1NC4yODUxNTYgNDYuMDc4MTI1ICIvPgo8cGF0aCBzdHlsZT0iIHN0cm9rZTpub25lO2ZpbGwtcnVsZTpub256ZXJvO2ZpbGw6cmdiKDEwMCUsMTAwJSwxMDAlKTtmaWxsLW9wYWNpdHk6MTsiIGQ9Ik0gMTU2LjQyOTY4OCA0Mi4zNjcxODggTCAxNTQuMjg1MTU2IDM4LjY1NjI1IEwgMTUyLjE0MDYyNSA0Mi4zNjcxODggWiBNIDE1Ni40Mjk2ODggNDIuMzY3MTg4ICIvPgo8cGF0aCBzdHlsZT0iIHN0cm9rZTpub25lO2ZpbGwtcnVsZTpub256ZXJvO2ZpbGw6cmdiKDEwMCUsMTAwJSwxMDAlKTtmaWxsLW9wYWNpdHk6MTsiIGQ9Ik0gMTUwIDQ2LjA3ODEyNSBMIDE0Ny44NTU0NjkgNDIuMzY3MTg4IEwgMTQ1LjcxMDkzOCA0Ni4wNzgxMjUgWiBNIDE1MCA0Ni4wNzgxMjUgIi8+CjxwYXRoIHN0eWxlPSIgc3Ryb2tlOm5vbmU7ZmlsbC1ydWxlOm5vbnplcm87ZmlsbDpyZ2IoMTAwJSwxMDAlLDEwMCUpO2ZpbGwtb3BhY2l0eToxOyIgZD0iTSAxNDUuNzE0ODQ0IDQ2LjA3ODEyNSBMIDE0My41NzAzMTIgNDIuMzY3MTg4IEwgMTQxLjQyNTc4MSA0Ni4wNzgxMjUgWiBNIDE0NS43MTQ4NDQgNDYuMDc4MTI1ICIvPgo8cGF0aCBzdHlsZT0iIHN0cm9rZTpub25lO2ZpbGwtcnVsZTpub256ZXJvO2ZpbGw6cmdiKDEwMCUsMTAwJSwxMDAlKTtmaWxsLW9wYWNpdHk6MTsiIGQ9Ik0gMTQ3Ljg1NTQ2OSA0Mi4zNjcxODggTCAxNDUuNzEwOTM4IDM4LjY1NjI1IEwgMTQzLjU2NjQwNiA0Mi4zNjcxODggWiBNIDE0Ny44NTU0NjkgNDIuMzY3MTg4ICIvPgo8cGF0aCBzdHlsZT0iIHN0cm9rZTpub25lO2ZpbGwtcnVsZTpub256ZXJvO2ZpbGw6cmdiKDEwMCUsMTAwJSwxMDAlKTtmaWxsLW9wYWNpdHk6MTsiIGQ9Ik0gMTU0LjI4NTE1NiAzOC42NTIzNDQgTCAxNTIuMTQwNjI1IDM0Ljk0MTQwNiBMIDE0OS45OTYwOTQgMzguNjUyMzQ0IFogTSAxNTQuMjg1MTU2IDM4LjY1MjM0NCAiLz4KPHBhdGggc3R5bGU9IiBzdHJva2U6bm9uZTtmaWxsLXJ1bGU6bm9uemVybztmaWxsOnJnYigxMDAlLDEwMCUsMTAwJSk7ZmlsbC1vcGFjaXR5OjE7IiBkPSJNIDE1MCAzOC42NTIzNDQgTCAxNDcuODU1NDY5IDM0Ljk0MTQwNiBMIDE0NS43MTA5MzggMzguNjUyMzQ0IFogTSAxNTAgMzguNjUyMzQ0ICIvPgo8cGF0aCBzdHlsZT0iIHN0cm9rZTpub25lO2ZpbGwtcnVsZTpub256ZXJvO2ZpbGw6cmdiKDEwMCUsMTAwJSwxMDAlKTtmaWxsLW9wYWNpdHk6MTsiIGQ9Ik0gMTUyLjE0NDUzMSAzNC45NDE0MDYgTCAxNTAgMzEuMjMwNDY5IEwgMTQ3Ljg1NTQ2OSAzNC45NDE0MDYgWiBNIDE1Mi4xNDQ1MzEgMzQuOTQxNDA2ICIvPgo8L2c+Cjwvc3ZnPgo=\"/>"
      ]
     },
     "metadata": {},
     "output_type": "display_data"
    }
   ],
   "source": [
    ":extension NoMonomorphismRestriction\n",
    "import Diagrams.Prelude\n",
    "\n",
    "sierpinski 1 = eqTriangle 1\n",
    "sierpinski n =     s\n",
    "                  ===\n",
    "               (s ||| s) # centerX\n",
    "  where s = sierpinski (n-1)\n",
    "\n",
    "diagram $ sierpinski 7 # centerXY # lw none # fc white\n",
    "                  `atop` square 70 # fc darkslategray"
   ]
  },
  {
   "cell_type": "markdown",
   "metadata": {},
   "source": [
    "#### HTML canvas"
   ]
  },
  {
   "cell_type": "code",
   "execution_count": 23,
   "metadata": {
    "collapsed": false
   },
   "outputs": [
    {
     "data": {
      "text/html": [
       "<style>/*\n",
       "Custom IHaskell CSS.\n",
       "*/\n",
       "\n",
       "/* Styles used for the Hoogle display in the pager */\n",
       ".hoogle-doc {\n",
       "    display: block;\n",
       "    padding-bottom: 1.3em;\n",
       "    padding-left: 0.4em;\n",
       "}\n",
       ".hoogle-code {\n",
       "    display: block;\n",
       "    font-family: monospace;\n",
       "    white-space: pre;\n",
       "}\n",
       ".hoogle-text {\n",
       "    display: block;\n",
       "}\n",
       ".hoogle-name {\n",
       "    color: green;\n",
       "    font-weight: bold;\n",
       "}\n",
       ".hoogle-head {\n",
       "    font-weight: bold;\n",
       "}\n",
       ".hoogle-sub {\n",
       "    display: block;\n",
       "    margin-left: 0.4em;\n",
       "}\n",
       ".hoogle-package {\n",
       "    font-weight: bold;\n",
       "    font-style: italic;\n",
       "}\n",
       ".hoogle-module {\n",
       "    font-weight: bold;\n",
       "}\n",
       ".hoogle-class {\n",
       "    font-weight: bold;\n",
       "}\n",
       "\n",
       "/* Styles used for basic displays */\n",
       ".get-type {\n",
       "    color: green;\n",
       "    font-weight: bold;\n",
       "    font-family: monospace;\n",
       "    display: block;\n",
       "    white-space: pre;\n",
       "}\n",
       "\n",
       ".show-type {\n",
       "    color: green;\n",
       "    font-weight: bold;\n",
       "    font-family: monospace;\n",
       "    margin-left: 1em;\n",
       "}\n",
       "\n",
       ".mono {\n",
       "    font-family: monospace;\n",
       "    display: block;\n",
       "}\n",
       "\n",
       ".err-msg {\n",
       "    color: red;\n",
       "    font-style: italic;\n",
       "    font-family: monospace;\n",
       "    white-space: pre;\n",
       "    display: block;\n",
       "}\n",
       "\n",
       "#unshowable {\n",
       "    color: red;\n",
       "    font-weight: bold;\n",
       "}\n",
       "\n",
       ".err-msg.in.collapse {\n",
       "  padding-top: 0.7em;\n",
       "}\n",
       "\n",
       "/* Code that will get highlighted before it is highlighted */\n",
       ".highlight-code {\n",
       "    white-space: pre;\n",
       "    font-family: monospace;\n",
       "}\n",
       "\n",
       "/* Hlint styles */\n",
       ".suggestion-warning { \n",
       "    font-weight: bold;\n",
       "    color: rgb(200, 130, 0);\n",
       "}\n",
       ".suggestion-error { \n",
       "    font-weight: bold;\n",
       "    color: red;\n",
       "}\n",
       ".suggestion-name {\n",
       "    font-weight: bold;\n",
       "}\n",
       "</style><canvas id=\"ihaskellStaticCanvasUniqueID0StaticCanvas\" width=\"1000\" height=\"200\"></canvas><script>(function () {var canvas = document.getElementById('ihaskellStaticCanvasUniqueID0StaticCanvas');var ihaskellStaticCanvasUniqueID0Ctx = canvas.getContext('2d');ihaskellStaticCanvasUniqueID0Ctx.font = ('italic 60pt Calibri');ihaskellStaticCanvasUniqueID0Ctx.lineWidth = (6.0000);ihaskellStaticCanvasUniqueID0Ctx.strokeStyle = ('rgb(0,0,255)');ihaskellStaticCanvasUniqueID0Ctx.fillStyle = ('rgb(218,165,32)');ihaskellStaticCanvasUniqueID0Ctx.textBaseline = ('middle');ihaskellStaticCanvasUniqueID0Ctx.strokeText('Hello',150.0000,100.0000);ihaskellStaticCanvasUniqueID0Ctx.fillText('Hello World!',150.0000,100.0000);}());</script>"
      ]
     },
     "metadata": {},
     "output_type": "display_data"
    }
   ],
   "source": [
    "{-# LANGUAGE OverloadedStrings #-}\n",
    "\n",
    "import qualified Graphics.Static as S\n",
    "import qualified Graphics.Static.ColorNames as C\n",
    "\n",
    "canvasExample :: Canvas\n",
    "canvasExample = Canvas 1000 200 $ do\n",
    "  S.font \"italic 60pt Calibri\"\n",
    "  S.lineWidth 6\n",
    "  S.strokeStyle C.blue\n",
    "  S.fillStyle C.goldenrod\n",
    "  S.textBaseline S.TextBaselineMiddle\n",
    "  S.strokeText \"Hello\" 150 100 \n",
    "  S.fillText \"Hello World!\" 150 100\n",
    "  \n",
    "canvasExample"
   ]
  },
  {
   "cell_type": "markdown",
   "metadata": {},
   "source": [
    "### Let's display a tree better"
   ]
  },
  {
   "cell_type": "markdown",
   "metadata": {},
   "source": [
    "There is a standard generic `Tree` type: each tree is a node containing a value and a list of subtrees.\n",
    "\n",
    "But the `Show` instance of `Tree a` is not great for reading:"
   ]
  },
  {
   "cell_type": "code",
   "execution_count": 24,
   "metadata": {
    "collapsed": false
   },
   "outputs": [
    {
     "data": {
      "text/plain": [
       "Node {rootLabel = \"A\", subForest = [Node {rootLabel = \"B\", subForest = [Node {rootLabel = \"C\", subForest = []},Node {rootLabel = \"D\", subForest = []}]},Node {rootLabel = \"E\", subForest = [Node {rootLabel = \"F\", subForest = []}]}]}"
      ]
     },
     "metadata": {},
     "output_type": "display_data"
    }
   ],
   "source": [
    "import Data.Tree\n",
    "\n",
    "myTree :: Tree String\n",
    "myTree = Node \"A\" [ Node \"B\" [ Node \"C\" []\n",
    "                             , Node \"D\" []\n",
    "                             ]\n",
    "                  , Node \"E\" [ Node \"F\" [] ]\n",
    "                  ]\n",
    "\n",
    "print myTree"
   ]
  },
  {
   "cell_type": "markdown",
   "metadata": {},
   "source": [
    "But `drawTree` in the API is helpful:"
   ]
  },
  {
   "cell_type": "code",
   "execution_count": 25,
   "metadata": {
    "collapsed": false
   },
   "outputs": [
    {
     "data": {
      "text/plain": [
       "A\n",
       "|\n",
       "+- B\n",
       "|  |\n",
       "|  +- C\n",
       "|  |\n",
       "|  `- D\n",
       "|\n",
       "`- E\n",
       "   |\n",
       "   `- F"
      ]
     },
     "metadata": {},
     "output_type": "display_data"
    }
   ],
   "source": [
    "putStr $ drawTree myTree"
   ]
  },
  {
   "cell_type": "markdown",
   "metadata": {},
   "source": [
    "We can (and perhaps should) define a fancy graphical display of the standard `Tree` data type, but for now, let's just use this ASCII-art version."
   ]
  },
  {
   "cell_type": "code",
   "execution_count": 26,
   "metadata": {
    "collapsed": false
   },
   "outputs": [],
   "source": [
    ":ext FlexibleInstances\n",
    "\n",
    "instance IHaskellDisplay (Tree String) where\n",
    "  display tree = return $ Display [plain $ drawTree tree]\n"
   ]
  },
  {
   "cell_type": "markdown",
   "metadata": {},
   "source": [
    "Now we can visualize trees better."
   ]
  },
  {
   "cell_type": "code",
   "execution_count": 27,
   "metadata": {
    "collapsed": false
   },
   "outputs": [
    {
     "data": {
      "text/plain": [
       "A\n",
       "|\n",
       "+- B\n",
       "|  |\n",
       "|  +- C\n",
       "|  |\n",
       "|  `- D\n",
       "|\n",
       "`- E\n",
       "   |\n",
       "   `- F"
      ]
     },
     "metadata": {},
     "output_type": "display_data"
    }
   ],
   "source": [
    "myTree"
   ]
  },
  {
   "cell_type": "code",
   "execution_count": 28,
   "metadata": {
    "collapsed": false
   },
   "outputs": [
    {
     "data": {
      "text/plain": [
       "B\n",
       "|\n",
       "+- C\n",
       "|\n",
       "`- D"
      ]
     },
     "metadata": {},
     "output_type": "display_data"
    }
   ],
   "source": [
    "firstSubtree :: Tree a -> Tree a\n",
    "firstSubtree (Node _ (subTree:_)) = subTree\n",
    "                 \n",
    "firstSubtree myTree"
   ]
  },
  {
   "cell_type": "markdown",
   "metadata": {},
   "source": [
    "### Design tradeoffs when writing displays"
   ]
  },
  {
   "cell_type": "markdown",
   "metadata": {},
   "source": [
    "It is not necessarily wise to write a display instance for a data type, because you can have only one instance for the data type. What if you want to sometimes display something one way, and sometimes display it another?\n",
    "\n",
    "There are two options:\n",
    "- Use Haskell's `newtype` as a hack to define a synonym for a type that can be treated as a separate type so you can define an instance for it.\n",
    "- Just explicitly call a display function rather than using `display` of the `IHaskellDisplay` type class."
   ]
  },
  {
   "cell_type": "markdown",
   "metadata": {},
   "source": [
    "#### ASCII diagram"
   ]
  },
  {
   "cell_type": "markdown",
   "metadata": {},
   "source": [
    "There is an amusing library called [`asciidiagram`](https://hackage.haskell.org/package/asciidiagram) that parses a text representation of a diagram into valid SVG."
   ]
  },
  {
   "cell_type": "markdown",
   "metadata": {},
   "source": [
    "##### Example text"
   ]
  },
  {
   "cell_type": "code",
   "execution_count": 29,
   "metadata": {
    "collapsed": false,
    "scrolled": true
   },
   "outputs": [
    {
     "data": {
      "text/plain": [
       "                /---------+\n",
       "+---------+     |         |\n",
       "|  ASCII  +---->| Diagram |\n",
       "+---------+     |         |\n",
       "|{flat}   |     +--+------/\n",
       "\\---*-----/<=======/\n",
       "::: .flat { fill: #DDD; }"
      ]
     },
     "metadata": {},
     "output_type": "display_data"
    }
   ],
   "source": [
    "{-# LANGUAGE OverloadedStrings #-}\n",
    "\n",
    "import qualified Text.AsciiDiagram as AsciiDiagram\n",
    "import qualified Data.Text as Text\n",
    "import qualified Graphics.Svg as Svg\n",
    "import qualified Text.XML.Light as XML\n",
    "\n",
    "-- | Major shame that Haskell does not have multiline or raw\n",
    "-- string literals!\n",
    "thing :: Text.Text\n",
    "thing = Text.unlines [ \"                /---------+\"\n",
    "                     , \"+---------+     |         |\"\n",
    "                     , \"|  ASCII  +---->| Diagram |\"\n",
    "                     , \"+---------+     |         |\"\n",
    "                     , \"|{flat}   |     +--+------/\"\n",
    "                     ,\"\\\\---*-----/<=======/\"\n",
    "                     , \"::: .flat { fill: #DDD; }\"\n",
    "                     ]\n",
    "\n",
    "thing"
   ]
  },
  {
   "cell_type": "markdown",
   "metadata": {},
   "source": [
    "##### What if we want to display as SVG?"
   ]
  },
  {
   "cell_type": "markdown",
   "metadata": {},
   "source": [
    "Since IHaskell can display SVG, all we need to do is transform the SVG data (represented in a type) into valid XML (represented in a type) into a string that is finally interpreted by IHaskell using the `svg` function."
   ]
  },
  {
   "cell_type": "code",
   "execution_count": 30,
   "metadata": {
    "collapsed": false
   },
   "outputs": [
    {
     "data": {
      "text/html": [
       "<img src=\"data:image/svg+xml;base64,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\"/>"
      ]
     },
     "metadata": {},
     "output_type": "display_data"
    }
   ],
   "source": [
    "asciiTextToSVGString :: Text.Text -> String\n",
    "asciiTextToSVGString = XML.showTopElement\n",
    "                       . Svg.xmlOfDocument\n",
    "                       . AsciiDiagram.svgOfDiagram\n",
    "                       . AsciiDiagram.parseAsciiDiagram\n",
    "\n",
    "svg $ asciiTextToSVGString thing"
   ]
  },
  {
   "cell_type": "markdown",
   "metadata": {},
   "source": [
    "##### Automatic display another way"
   ]
  },
  {
   "cell_type": "markdown",
   "metadata": {},
   "source": [
    "What if we wanted to display automatically without calling `svg` and our helper function `asciiTextToXMLString`?\n",
    "\n",
    "We can use the `newtype` trick to define an instance of `IHaskellDisplay` for a wrapper type `AsciiDisplay` and then wrap the text when we want it to be displayed as an SVG diagram."
   ]
  },
  {
   "cell_type": "code",
   "execution_count": 31,
   "metadata": {
    "collapsed": false
   },
   "outputs": [
    {
     "data": {
      "text/html": [
       "<img src=\"data:image/svg+xml;base64,PD94bWwgdmVyc2lvbj0nMS4wJyA/PjxzdmcgeG1sbnM9Imh0dHA6Ly93d3cudzMub3JnLzIwMDAvc3ZnIiB4bWxuczp4bGluaz0iaHR0cDovL3d3dy53My5vcmcvMTk5OS94bGluayIgdmVyc2lvbj0iMS4xIiB3aWR0aD0iMjg1LjAiIGhlaWdodD0iMTAzLjAiPjxzdHlsZSB0eXBlPSJ0ZXh0L2NzcyI+dGV4dCB7CiAgZm9udC1mYW1pbHk6IENvbnNvbGFzICwgJnF1b3Q7RGVqYVZ1IFNhbnMgTW9ubyZxdW90OyAsIG1vbm9zcGFjZTsKICBmb250LXNpemU6IDE2LjBweDsKfQouZGFzaGVkX2VsZW0gewogIHN0cm9rZS1kYXNoYXJyYXk6IDQuMCAsIDMuMDsKfQouZmlsbGVkX3NoYXBlIHsKICBmaWxsOiB1cmwoI3NoYXBlX2xpZ2h0KTsKfQouYnVsbGV0IHsKICBzdHJva2Utd2lkdGg6IDEuMHB4OwogIGZpbGw6ICNGRkZGRkY7CiAgc3Ryb2tlOiAjMDAwMDAwOwp9Ci5mbGF0IHsKICBmaWxsOiAjREREREREOwp9Cjwvc3R5bGU+PGRlZnM+PGxpbmVhckdyYWRpZW50IGlkPSJzaGFwZV9saWdodCIgeDI9IjAlIiB5Mj0iMTAwJSI+PHN0b3Agb2Zmc2V0PSIwJSIgc3RvcC1jb2xvcj0iI0Y1RjVGNSIgLz48c3RvcCBvZmZzZXQ9IjEwMCUiIHN0b3AtY29sb3I9IiNEOEQ4RDgiIC8+PC9saW5lYXJHcmFkaWVudD48L2RlZnM+PHBhdGggc3Ryb2tlLXdpZHRoPSIxLjAiIHN0cm9rZT0iIzAwMDAwMCIgY2xhc3M9ImZpbGxlZF9zaGFwZSIgZD0iTTExLjUsNDIuMCBMMTEuNSw0Mi4wIEwxMS41LDU0LjUgTDEwMC4wLDU0LjUgTDEwOC41LDU0LjUgTDEwOC41LDQyLjAgTDEwOC41LDI5LjUgTDIwLjAsMjkuNSBMMTEuNSwyOS41IFoiIC8+PGcgc3Ryb2tlLXdpZHRoPSIxLjAiIHN0cm9rZT0iIzAwMDAwMCIgY2xhc3M9ImZpbGxlZF9zaGFwZSI+PHBhdGggY2xhc3M9ImZsYXQiIGQ9Ik0xMS41LDcwLjAgTDExLjUsNzAuMCBTMTAuMCw4NC4wIDIwLjAsODIuNSBMNDAuMCw4Mi41IEw1MC4wLDgyLjUgTDEwMC4wLDgyLjUgUzExMC4wLDg0LjAgMTA4LjUsNzAuMCBMMTA4LjUsNzAuMCBMMTA4LjUsNTcuNSBMMjAuMCw1Ny41IEwxMS41LDU3LjUgWiIgLz48Y2lyY2xlIGNsYXNzPSJidWxsZXQiIGN4PSI1MC4wIiBjeT0iODIuNSIgcj0iMy4wIiAvPjwvZz48cGF0aCBzdHJva2Utd2lkdGg9IjEuMCIgc3Ryb2tlPSIjMDAwMDAwIiBjbGFzcz0iZmlsbGVkX3NoYXBlIiBkPSJNMTcxLjUsMjguMCBMMTcxLjUsNTYuMCBMMTcxLjUsNjguNSBMMTkwLjAsNjguNSBMMjAwLjAsNjguNSBMMjYwLjAsNjguNSBTMjcwLjAsNzAuMCAyNjguNSw1Ni4wIEwyNjguNSwyOC4wIEwyNjguNSwxNS41IEwxODAuMCwxNS41IFMxNzAuMCwxNC4wIDE3MS41LDI4LjAgWiIgLz48ZyBzdHJva2Utd2lkdGg9IjEuMCIgc3Ryb2tlPSIjMDAwMDAwIiBmaWxsPSJub25lIiBjbGFzcz0ibGluZV9lbGVtZW50Ij48cGF0aCBjbGFzcz0iIiBkPSJNMTYwLjAsNDIuMCBMMTYwLjAsNDIuMCBMMTIwLjAsNDIuMCBMMTEwLjAsNDIuMCIgLz48cGF0aCBzdHJva2Utd2lkdGg9IjAuMCIgc3Ryb2tlPSJub25lIiBmaWxsPSIjMDAwMDAwIiBjbGFzcz0iIiBkPSJNMTYwLjAsMzUuMCBMMTcwLjAsNDIuMCBMMTYwLjAsNDkuMCBaIiAvPjwvZz48cGF0aCBzdHJva2Utd2lkdGg9IjEuMCIgc3Ryb2tlPSIjMDAwMDAwIiBmaWxsPSJub25lIiBjbGFzcz0ibGluZV9lbGVtZW50IiBkPSJNMjAwLjAsNzAuMCBMMjAwLjAsNzAuMCIgLz48ZyBzdHJva2Utd2lkdGg9IjEuMCIgc3Ryb2tlPSIjMDAwMDAwIiBmaWxsPSJub25lIiBjbGFzcz0ibGluZV9lbGVtZW50Ij48cGF0aCBjbGFzcz0iZGFzaGVkX2VsZW0iIGQ9Ik0yMDAuMCw3MC4wIEwyMDAuMCw3MC4wIFMyMDAuMCw4NC4wIDE5MC4wLDg0LjAgTDEzMC4wLDg0LjAgTDEyMC4wLDg0LjAiIC8+PHBhdGggc3Ryb2tlLXdpZHRoPSIwLjAiIHN0cm9rZT0ibm9uZSIgZmlsbD0iIzAwMDAwMCIgY2xhc3M9IiIgZD0iTTEyMC4wLDc3LjAgTDExMC4wLDg0LjAgTDEyMC4wLDkxLjAgWiIgLz48L2c+PHRleHQgY2xhc3M9IiIgeD0iMzUuNSIgeT0iNDkuNSI+QVNDSUkgPC90ZXh0Pjx0ZXh0IGNsYXNzPSIiIHg9IjE4NS41IiB5PSI0OS41Ij5EaWFncmFtIDwvdGV4dD48dGV4dCBjbGFzcz0iIiB4PSI4NS41IiB5PSI3Ny41Ij48L3RleHQ+PC9zdmc+\"/>"
      ],
      "text/plain": [
       "\"                /---------+\\n+---------+     |         |\\n|  ASCII  +---->| Diagram |\\n+---------+     |         |\\n|{flat}   |     +--+------/\\n\\\\---*-----/<=======/\\n::: .flat { fill: #DDD; }\\n\""
      ]
     },
     "metadata": {},
     "output_type": "display_data"
    }
   ],
   "source": [
    "newtype AsciiDisplay = AsciiDisplay Text.Text\n",
    "\n",
    "instance IHaskellDisplay AsciiDisplay where\n",
    "  display (AsciiDisplay t) = return $ Display [ plain $ show $ Text.unpack t\n",
    "                                              , svg $ asciiTextToSVGString t\n",
    "                                              ]\n",
    "  \n",
    "AsciiDisplay thing"
   ]
  },
  {
   "cell_type": "markdown",
   "metadata": {},
   "source": [
    "#### Improving the ASCII tree display"
   ]
  },
  {
   "cell_type": "markdown",
   "metadata": {},
   "source": [
    "Let's reuse the ASCII diagram generator to turn the tree ASCII display into a diagram!"
   ]
  },
  {
   "cell_type": "code",
   "execution_count": 32,
   "metadata": {
    "collapsed": false
   },
   "outputs": [
    {
     "data": {
      "text/html": [
       "<img src=\"data:image/svg+xml;base64,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\"/>"
      ]
     },
     "metadata": {},
     "output_type": "display_data"
    }
   ],
   "source": [
    "treeToSVGString :: Tree String -> String\n",
    "treeToSVGString = asciiTextToSVGString\n",
    "                  . Text.pack\n",
    "                  . map replaceBackQuote\n",
    "                  . drawTree\n",
    "\n",
    "-- | Because asciidiagram wants + not `\n",
    "replaceBackQuote :: Char -> Char\n",
    "replaceBackQuote '`' = '+'\n",
    "replaceBackQuote c = c\n",
    "\n",
    "svg $ treeToSVGString myTree\n",
    "\n"
   ]
  },
  {
   "cell_type": "code",
   "execution_count": null,
   "metadata": {
    "collapsed": true
   },
   "outputs": [],
   "source": []
  }
 ],
 "metadata": {
  "kernelspec": {
   "display_name": "Haskell",
   "language": "haskell",
   "name": "haskell"
  },
  "language_info": {
   "name": "haskell",
   "version": "7.8.4"
  }
 },
 "nbformat": 4,
 "nbformat_minor": 0
}
